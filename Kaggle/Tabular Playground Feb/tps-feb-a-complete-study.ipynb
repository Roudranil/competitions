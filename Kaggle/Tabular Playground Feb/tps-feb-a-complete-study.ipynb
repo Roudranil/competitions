{
 "cells": [
  {
   "cell_type": "code",
   "execution_count": 1,
   "metadata": {
    "_kg_hide-input": true,
    "execution": {
     "iopub.execute_input": "2021-02-14T01:01:49.256382Z",
     "iopub.status.busy": "2021-02-14T01:01:49.255693Z",
     "iopub.status.idle": "2021-02-14T01:01:57.261149Z",
     "shell.execute_reply": "2021-02-14T01:01:57.260211Z"
    },
    "papermill": {
     "duration": 8.045628,
     "end_time": "2021-02-14T01:01:57.261332",
     "exception": false,
     "start_time": "2021-02-14T01:01:49.215704",
     "status": "completed"
    },
    "tags": []
   },
   "outputs": [
    {
     "data": {
      "text/html": [
       "<style type='text/css'>\n",
       ".datatable table.frame { margin-bottom: 0; }\n",
       ".datatable table.frame thead { border-bottom: none; }\n",
       ".datatable table.frame tr.coltypes td {  color: #FFFFFF;  line-height: 6px;  padding: 0 0.5em;}\n",
       ".datatable .bool    { background: #DDDD99; }\n",
       ".datatable .object  { background: #565656; }\n",
       ".datatable .int     { background: #5D9E5D; }\n",
       ".datatable .float   { background: #4040CC; }\n",
       ".datatable .str     { background: #CC4040; }\n",
       ".datatable .row_index {  background: var(--jp-border-color3);  border-right: 1px solid var(--jp-border-color0);  color: var(--jp-ui-font-color3);  font-size: 9px;}\n",
       ".datatable .frame tr.coltypes .row_index {  background: var(--jp-border-color0);}\n",
       ".datatable th:nth-child(2) { padding-left: 12px; }\n",
       ".datatable .hellipsis {  color: var(--jp-cell-editor-border-color);}\n",
       ".datatable .vellipsis {  background: var(--jp-layout-color0);  color: var(--jp-cell-editor-border-color);}\n",
       ".datatable .na {  color: var(--jp-cell-editor-border-color);  font-size: 80%;}\n",
       ".datatable .footer { font-size: 9px; }\n",
       ".datatable .frame_dimensions {  background: var(--jp-border-color3);  border-top: 1px solid var(--jp-border-color0);  color: var(--jp-ui-font-color3);  display: inline-block;  opacity: 0.6;  padding: 1px 10px 1px 5px;}\n",
       "</style>\n"
      ],
      "text/plain": [
       "<IPython.core.display.HTML object>"
      ]
     },
     "metadata": {},
     "output_type": "display_data"
    }
   ],
   "source": [
    "import plotly.express as px\n",
    "import plotly.graph_objects as go\n",
    "import plotly.figure_factory as ff\n",
    "from plotly.subplots import make_subplots\n",
    "import matplotlib.pyplot as plt\n",
    "from colorama import Fore\n",
    "\n",
    "from pandas_profiling import ProfileReport\n",
    "import seaborn as sns\n",
    "from sklearn import metrics\n",
    "from scipy import stats\n",
    "import math\n",
    "\n",
    "from tqdm.notebook import tqdm\n",
    "from copy import deepcopy\n",
    "\n",
    "from sklearn.ensemble import RandomForestRegressor\n",
    "from xgboost import XGBRegressor\n",
    "from lightgbm import LGBMRegressor\n",
    "import lightgbm as lgb\n",
    "\n",
    "from sklearn.preprocessing import LabelEncoder\n",
    "from sklearn.model_selection import GridSearchCV\n",
    "from sklearn.model_selection import KFold\n",
    "from sklearn.model_selection import cross_val_score\n",
    "\n",
    "import optuna\n",
    "from optuna import Trial, visualization\n",
    "\n",
    "from sklearn.model_selection import train_test_split\n",
    "from sklearn.metrics import f1_score,confusion_matrix\n",
    "from sklearn.metrics import accuracy_score, mean_squared_error"
   ]
  },
  {
   "cell_type": "code",
   "execution_count": 2,
   "metadata": {
    "_cell_guid": "b1076dfc-b9ad-4769-8c92-a6c4dae69d19",
    "_kg_hide-input": true,
    "_kg_hide-output": true,
    "_uuid": "8f2839f25d086af736a60e9eeb907d3b93b6e0e5",
    "execution": {
     "iopub.execute_input": "2021-02-14T01:01:57.331353Z",
     "iopub.status.busy": "2021-02-14T01:01:57.330517Z",
     "iopub.status.idle": "2021-02-14T01:01:57.337596Z",
     "shell.execute_reply": "2021-02-14T01:01:57.337969Z"
    },
    "papermill": {
     "duration": 0.04588,
     "end_time": "2021-02-14T01:01:57.338110",
     "exception": false,
     "start_time": "2021-02-14T01:01:57.292230",
     "status": "completed"
    },
    "tags": []
   },
   "outputs": [
    {
     "name": "stdout",
     "output_type": "stream",
     "text": [
      "/kaggle/input/tabular-playground-series-feb-2021/sample_submission.csv\n",
      "/kaggle/input/tabular-playground-series-feb-2021/train.csv\n",
      "/kaggle/input/tabular-playground-series-feb-2021/test.csv\n"
     ]
    }
   ],
   "source": [
    "# This Python 3 environment comes with many helpful analytics libraries installed\n",
    "# It is defined by the kaggle/python Docker image: https://github.com/kaggle/docker-python\n",
    "# For example, here's several helpful packages to load\n",
    "\n",
    "import numpy as np # linear algebra\n",
    "import pandas as pd # data processing, CSV file I/O (e.g. pd.read_csv)\n",
    "\n",
    "# Input data files are available in the read-only \"../input/\" directory\n",
    "# For example, running this (by clicking run or pressing Shift+Enter) will list all files under the input directory\n",
    "\n",
    "import os\n",
    "for dirname, _, filenames in os.walk('/kaggle/input'):\n",
    "    for filename in filenames:\n",
    "        print(os.path.join(dirname, filename))\n",
    "\n",
    "# You can write up to 20GB to the current directory (/kaggle/working/) that gets preserved as output when you create a version using \"Save & Run All\" \n",
    "# You can also write temporary files to /kaggle/temp/, but they won't be saved outside of the current session"
   ]
  },
  {
   "attachments": {
    "kaggle-python.png": {
     "image/png": "[encoded data removed]"
    }
   },
   "cell_type": "markdown",
   "metadata": {
    "papermill": {
     "duration": 0.029955,
     "end_time": "2021-02-14T01:01:57.398336",
     "exception": false,
     "start_time": "2021-02-14T01:01:57.368381",
     "status": "completed"
    },
    "tags": []
   },
   "source": [
    "# <p style=\"background-color:skyblue; font-family:newtimeroman; font-size:180%; text-align:center\">Tabular Playground Series 📚 - Feb 2021 📈</p>\n",
    "\n",
    "![kaggle-python.png](attachment:kaggle-python.png)"
   ]
  },
  {
   "cell_type": "markdown",
   "metadata": {
    "papermill": {
     "duration": 0.030077,
     "end_time": "2021-02-14T01:01:57.458853",
     "exception": false,
     "start_time": "2021-02-14T01:01:57.428776",
     "status": "completed"
    },
    "tags": []
   },
   "source": [
    "## <p style=\"background-color:skyblue; font-family:newtimeroman; font-size:120%; text-align:center\">Table of Content</p>\n",
    "\n",
    "* [1. Data visualization 📊](#1)\n",
    "    * [1.1 Target](#1.1)\n",
    "    * [1.2 Numerical Columns](#1.2)\n",
    "    * [1.3 Categorical Columns](#1.3)\n",
    "* [2. Feature Engineering 🔧](#2)\n",
    "* [3. Base Model ⚙️](#3)\n",
    "    * [3.1 XGBoost](#3.1)\n",
    "    * [3.2 LGBM](#3.2)\n",
    "    * [3.3 LGBM: Cross-Validation](#3.3)\n",
    "* [4. Optuna Optimization: LGBM ⚙️](#4)\n",
    "    * [4.1 Study Visualization 📈](#4.1)\n",
    "    * [4.2 Optuna Submission 📝](#4.2)\n",
    "* [5. H2O AutoML 🧮](#5)\n",
    "    * [5.1 H2O AutoML Submission 📝](#5.1)\n",
    "* [6. LGBM Optimized CrossValidatied](#6)\n",
    "* [7. Fianl Submission](#7)"
   ]
  },
  {
   "cell_type": "code",
   "execution_count": 3,
   "metadata": {
    "execution": {
     "iopub.execute_input": "2021-02-14T01:01:57.524328Z",
     "iopub.status.busy": "2021-02-14T01:01:57.523534Z",
     "iopub.status.idle": "2021-02-14T01:02:00.827990Z",
     "shell.execute_reply": "2021-02-14T01:02:00.827284Z"
    },
    "papermill": {
     "duration": 3.338867,
     "end_time": "2021-02-14T01:02:00.828139",
     "exception": false,
     "start_time": "2021-02-14T01:01:57.489272",
     "status": "completed"
    },
    "tags": []
   },
   "outputs": [
    {
     "data": {
      "text/html": [
       "<div>\n",
       "<style scoped>\n",
       "    .dataframe tbody tr th:only-of-type {\n",
       "        vertical-align: middle;\n",
       "    }\n",
       "\n",
       "    .dataframe tbody tr th {\n",
       "        vertical-align: top;\n",
       "    }\n",
       "\n",
       "    .dataframe thead th {\n",
       "        text-align: right;\n",
       "    }\n",
       "</style>\n",
       "<table border=\"1\" class=\"dataframe\">\n",
       "  <thead>\n",
       "    <tr style=\"text-align: right;\">\n",
       "      <th></th>\n",
       "      <th>id</th>\n",
       "      <th>cat0</th>\n",
       "      <th>cat1</th>\n",
       "      <th>cat2</th>\n",
       "      <th>cat3</th>\n",
       "      <th>cat4</th>\n",
       "      <th>cat5</th>\n",
       "      <th>cat6</th>\n",
       "      <th>cat7</th>\n",
       "      <th>cat8</th>\n",
       "      <th>...</th>\n",
       "      <th>cont5</th>\n",
       "      <th>cont6</th>\n",
       "      <th>cont7</th>\n",
       "      <th>cont8</th>\n",
       "      <th>cont9</th>\n",
       "      <th>cont10</th>\n",
       "      <th>cont11</th>\n",
       "      <th>cont12</th>\n",
       "      <th>cont13</th>\n",
       "      <th>target</th>\n",
       "    </tr>\n",
       "  </thead>\n",
       "  <tbody>\n",
       "    <tr>\n",
       "      <th>0</th>\n",
       "      <td>1</td>\n",
       "      <td>A</td>\n",
       "      <td>B</td>\n",
       "      <td>A</td>\n",
       "      <td>A</td>\n",
       "      <td>B</td>\n",
       "      <td>D</td>\n",
       "      <td>A</td>\n",
       "      <td>E</td>\n",
       "      <td>C</td>\n",
       "      <td>...</td>\n",
       "      <td>0.881122</td>\n",
       "      <td>0.421650</td>\n",
       "      <td>0.741413</td>\n",
       "      <td>0.895799</td>\n",
       "      <td>0.802461</td>\n",
       "      <td>0.724417</td>\n",
       "      <td>0.701915</td>\n",
       "      <td>0.877618</td>\n",
       "      <td>0.719903</td>\n",
       "      <td>6.994023</td>\n",
       "    </tr>\n",
       "    <tr>\n",
       "      <th>1</th>\n",
       "      <td>2</td>\n",
       "      <td>B</td>\n",
       "      <td>A</td>\n",
       "      <td>A</td>\n",
       "      <td>A</td>\n",
       "      <td>B</td>\n",
       "      <td>B</td>\n",
       "      <td>A</td>\n",
       "      <td>E</td>\n",
       "      <td>A</td>\n",
       "      <td>...</td>\n",
       "      <td>0.440011</td>\n",
       "      <td>0.346230</td>\n",
       "      <td>0.278495</td>\n",
       "      <td>0.593413</td>\n",
       "      <td>0.546056</td>\n",
       "      <td>0.613252</td>\n",
       "      <td>0.741289</td>\n",
       "      <td>0.326679</td>\n",
       "      <td>0.808464</td>\n",
       "      <td>8.071256</td>\n",
       "    </tr>\n",
       "    <tr>\n",
       "      <th>2</th>\n",
       "      <td>3</td>\n",
       "      <td>A</td>\n",
       "      <td>A</td>\n",
       "      <td>A</td>\n",
       "      <td>C</td>\n",
       "      <td>B</td>\n",
       "      <td>D</td>\n",
       "      <td>A</td>\n",
       "      <td>B</td>\n",
       "      <td>C</td>\n",
       "      <td>...</td>\n",
       "      <td>0.914155</td>\n",
       "      <td>0.369602</td>\n",
       "      <td>0.832564</td>\n",
       "      <td>0.865620</td>\n",
       "      <td>0.825251</td>\n",
       "      <td>0.264104</td>\n",
       "      <td>0.695561</td>\n",
       "      <td>0.869133</td>\n",
       "      <td>0.828352</td>\n",
       "      <td>5.760456</td>\n",
       "    </tr>\n",
       "    <tr>\n",
       "      <th>3</th>\n",
       "      <td>4</td>\n",
       "      <td>A</td>\n",
       "      <td>A</td>\n",
       "      <td>A</td>\n",
       "      <td>C</td>\n",
       "      <td>B</td>\n",
       "      <td>D</td>\n",
       "      <td>A</td>\n",
       "      <td>E</td>\n",
       "      <td>G</td>\n",
       "      <td>...</td>\n",
       "      <td>0.934138</td>\n",
       "      <td>0.578930</td>\n",
       "      <td>0.407313</td>\n",
       "      <td>0.868099</td>\n",
       "      <td>0.794402</td>\n",
       "      <td>0.494269</td>\n",
       "      <td>0.698125</td>\n",
       "      <td>0.809799</td>\n",
       "      <td>0.614766</td>\n",
       "      <td>7.806457</td>\n",
       "    </tr>\n",
       "    <tr>\n",
       "      <th>4</th>\n",
       "      <td>6</td>\n",
       "      <td>A</td>\n",
       "      <td>B</td>\n",
       "      <td>A</td>\n",
       "      <td>A</td>\n",
       "      <td>B</td>\n",
       "      <td>B</td>\n",
       "      <td>A</td>\n",
       "      <td>E</td>\n",
       "      <td>C</td>\n",
       "      <td>...</td>\n",
       "      <td>0.382600</td>\n",
       "      <td>0.705940</td>\n",
       "      <td>0.325193</td>\n",
       "      <td>0.440967</td>\n",
       "      <td>0.462146</td>\n",
       "      <td>0.724447</td>\n",
       "      <td>0.683073</td>\n",
       "      <td>0.343457</td>\n",
       "      <td>0.297743</td>\n",
       "      <td>6.868974</td>\n",
       "    </tr>\n",
       "  </tbody>\n",
       "</table>\n",
       "<p>5 rows × 26 columns</p>\n",
       "</div>"
      ],
      "text/plain": [
       "   id cat0 cat1 cat2 cat3 cat4 cat5 cat6 cat7 cat8  ...     cont5     cont6  \\\n",
       "0   1    A    B    A    A    B    D    A    E    C  ...  0.881122  0.421650   \n",
       "1   2    B    A    A    A    B    B    A    E    A  ...  0.440011  0.346230   \n",
       "2   3    A    A    A    C    B    D    A    B    C  ...  0.914155  0.369602   \n",
       "3   4    A    A    A    C    B    D    A    E    G  ...  0.934138  0.578930   \n",
       "4   6    A    B    A    A    B    B    A    E    C  ...  0.382600  0.705940   \n",
       "\n",
       "      cont7     cont8     cont9    cont10    cont11    cont12    cont13  \\\n",
       "0  0.741413  0.895799  0.802461  0.724417  0.701915  0.877618  0.719903   \n",
       "1  0.278495  0.593413  0.546056  0.613252  0.741289  0.326679  0.808464   \n",
       "2  0.832564  0.865620  0.825251  0.264104  0.695561  0.869133  0.828352   \n",
       "3  0.407313  0.868099  0.794402  0.494269  0.698125  0.809799  0.614766   \n",
       "4  0.325193  0.440967  0.462146  0.724447  0.683073  0.343457  0.297743   \n",
       "\n",
       "     target  \n",
       "0  6.994023  \n",
       "1  8.071256  \n",
       "2  5.760456  \n",
       "3  7.806457  \n",
       "4  6.868974  \n",
       "\n",
       "[5 rows x 26 columns]"
      ]
     },
     "execution_count": 3,
     "metadata": {},
     "output_type": "execute_result"
    }
   ],
   "source": [
    "train_df = pd.read_csv('/kaggle/input/tabular-playground-series-feb-2021/train.csv')\n",
    "test_df = pd.read_csv('/kaggle/input/tabular-playground-series-feb-2021/test.csv')\n",
    "sub_df = pd.read_csv('/kaggle/input/tabular-playground-series-feb-2021/sample_submission.csv')\n",
    "\n",
    "train_df.head()"
   ]
  },
  {
   "cell_type": "code",
   "execution_count": 4,
   "metadata": {
    "execution": {
     "iopub.execute_input": "2021-02-14T01:02:00.899073Z",
     "iopub.status.busy": "2021-02-14T01:02:00.897922Z",
     "iopub.status.idle": "2021-02-14T01:02:01.041275Z",
     "shell.execute_reply": "2021-02-14T01:02:01.040796Z"
    },
    "papermill": {
     "duration": 0.180842,
     "end_time": "2021-02-14T01:02:01.041422",
     "exception": false,
     "start_time": "2021-02-14T01:02:00.860580",
     "status": "completed"
    },
    "tags": []
   },
   "outputs": [],
   "source": [
    "feature_cols = train_df.drop(['id', 'target'], axis=1).columns\n",
    "\n",
    "## Getting all the data that are not of \"object\" type. \n",
    "numerical_columns = train_df[feature_cols].select_dtypes(include=['int64','float64']).columns\n",
    "categorical_columns = train_df[feature_cols].select_dtypes(exclude=['int64','float64']).columns"
   ]
  },
  {
   "cell_type": "code",
   "execution_count": 5,
   "metadata": {
    "_kg_hide-input": true,
    "execution": {
     "iopub.execute_input": "2021-02-14T01:02:01.111030Z",
     "iopub.status.busy": "2021-02-14T01:02:01.110043Z",
     "iopub.status.idle": "2021-02-14T01:02:01.385150Z",
     "shell.execute_reply": "2021-02-14T01:02:01.384685Z"
    },
    "papermill": {
     "duration": 0.312317,
     "end_time": "2021-02-14T01:02:01.385284",
     "exception": false,
     "start_time": "2021-02-14T01:02:01.072967",
     "status": "completed"
    },
    "tags": []
   },
   "outputs": [],
   "source": [
    "## Join train and test datasets in order to obtain the same number of features during categorical conversion\n",
    "train_indexs = train_df.index\n",
    "test_indexs = test_df.index\n",
    "\n",
    "df =  pd.concat(objs=[train_df, test_df], axis=0).reset_index(drop=True)\n",
    "df = df.drop('id', axis=1)"
   ]
  },
  {
   "cell_type": "markdown",
   "metadata": {
    "papermill": {
     "duration": 0.030672,
     "end_time": "2021-02-14T01:02:01.456049",
     "exception": false,
     "start_time": "2021-02-14T01:02:01.425377",
     "status": "completed"
    },
    "tags": []
   },
   "source": [
    "<a id='1'></a>\n",
    "# <p style=\"background-color:skyblue; font-family:newtimeroman; font-size:150%; text-align:center\">1. Data visualization 📊</p>"
   ]
  },
  {
   "cell_type": "code",
   "execution_count": 6,
   "metadata": {
    "_kg_hide-output": true,
    "execution": {
     "iopub.execute_input": "2021-02-14T01:02:01.925010Z",
     "iopub.status.busy": "2021-02-14T01:02:01.923764Z",
     "iopub.status.idle": "2021-02-14T01:02:01.965143Z",
     "shell.execute_reply": "2021-02-14T01:02:01.965801Z"
    },
    "papermill": {
     "duration": 0.479095,
     "end_time": "2021-02-14T01:02:01.965967",
     "exception": false,
     "start_time": "2021-02-14T01:02:01.486872",
     "status": "completed"
    },
    "tags": []
   },
   "outputs": [
    {
     "name": "stdout",
     "output_type": "stream",
     "text": [
      "<class 'pandas.core.frame.DataFrame'>\n",
      "RangeIndex: 500000 entries, 0 to 499999\n",
      "Data columns (total 25 columns):\n",
      " #   Column  Non-Null Count   Dtype  \n",
      "---  ------  --------------   -----  \n",
      " 0   cat0    500000 non-null  object \n",
      " 1   cat1    500000 non-null  object \n",
      " 2   cat2    500000 non-null  object \n",
      " 3   cat3    500000 non-null  object \n",
      " 4   cat4    500000 non-null  object \n",
      " 5   cat5    500000 non-null  object \n",
      " 6   cat6    500000 non-null  object \n",
      " 7   cat7    500000 non-null  object \n",
      " 8   cat8    500000 non-null  object \n",
      " 9   cat9    500000 non-null  object \n",
      " 10  cont0   500000 non-null  float64\n",
      " 11  cont1   500000 non-null  float64\n",
      " 12  cont2   500000 non-null  float64\n",
      " 13  cont3   500000 non-null  float64\n",
      " 14  cont4   500000 non-null  float64\n",
      " 15  cont5   500000 non-null  float64\n",
      " 16  cont6   500000 non-null  float64\n",
      " 17  cont7   500000 non-null  float64\n",
      " 18  cont8   500000 non-null  float64\n",
      " 19  cont9   500000 non-null  float64\n",
      " 20  cont10  500000 non-null  float64\n",
      " 21  cont11  500000 non-null  float64\n",
      " 22  cont12  500000 non-null  float64\n",
      " 23  cont13  500000 non-null  float64\n",
      " 24  target  300000 non-null  float64\n",
      "dtypes: float64(15), object(10)\n",
      "memory usage: 95.4+ MB\n"
     ]
    }
   ],
   "source": [
    "df.info()"
   ]
  },
  {
   "cell_type": "markdown",
   "metadata": {
    "papermill": {
     "duration": 0.031164,
     "end_time": "2021-02-14T01:02:02.029458",
     "exception": false,
     "start_time": "2021-02-14T01:02:01.998294",
     "status": "completed"
    },
    "tags": []
   },
   "source": [
    "<a id='1.1'></a>\n",
    "## <p style=\"background-color:skyblue; font-family:newtimeroman; font-size:120%; text-align:center\">1.1 Target Variable</p>"
   ]
  },
  {
   "cell_type": "code",
   "execution_count": 7,
   "metadata": {
    "_kg_hide-input": true,
    "execution": {
     "iopub.execute_input": "2021-02-14T01:02:02.112048Z",
     "iopub.status.busy": "2021-02-14T01:02:02.111349Z",
     "iopub.status.idle": "2021-02-14T01:02:03.691599Z",
     "shell.execute_reply": "2021-02-14T01:02:03.691152Z"
    },
    "papermill": {
     "duration": 1.630439,
     "end_time": "2021-02-14T01:02:03.691725",
     "exception": false,
     "start_time": "2021-02-14T01:02:02.061286",
     "status": "completed"
    },
    "tags": []
   },
   "outputs": [
    {
     "data": {
      "image/png": "[encoded data removed]",
      "text/plain": [
       "<Figure size 864x864 with 3 Axes>"
      ]
     },
     "metadata": {},
     "output_type": "display_data"
    }
   ],
   "source": [
    "f, axes = plt.subplots(nrows=3, ncols=1, figsize=(12, 12))\n",
    "\n",
    "f.suptitle('Target', fontsize=16)\n",
    "g = sns.kdeplot(train_df['target'], shade=True, label=\"%.2f\"%(train_df['target'].skew()), ax=axes[0])\n",
    "g = g.legend(loc=\"best\")\n",
    "stats.probplot(train_df['target'], plot=axes[1])\n",
    "sns.boxplot(x='target', data=train_df, orient='h', ax=axes[2]);\n",
    "\n",
    "plt.tight_layout()\n",
    "plt.show()"
   ]
  },
  {
   "cell_type": "markdown",
   "metadata": {
    "papermill": {
     "duration": 0.032948,
     "end_time": "2021-02-14T01:02:03.757902",
     "exception": false,
     "start_time": "2021-02-14T01:02:03.724954",
     "status": "completed"
    },
    "tags": []
   },
   "source": [
    "<a id='1.2'></a>\n",
    "## <p style=\"background-color:skyblue; font-family:newtimeroman; font-size:120%; text-align:center\">1.2 Numerical Variables</p>"
   ]
  },
  {
   "cell_type": "code",
   "execution_count": 8,
   "metadata": {
    "_kg_hide-input": true,
    "execution": {
     "iopub.execute_input": "2021-02-14T01:02:03.845871Z",
     "iopub.status.busy": "2021-02-14T01:02:03.844850Z",
     "iopub.status.idle": "2021-02-14T01:02:14.612826Z",
     "shell.execute_reply": "2021-02-14T01:02:14.613230Z"
    },
    "papermill": {
     "duration": 10.822584,
     "end_time": "2021-02-14T01:02:14.613377",
     "exception": false,
     "start_time": "2021-02-14T01:02:03.790793",
     "status": "completed"
    },
    "tags": []
   },
   "outputs": [
    {
     "data": {
      "image/png": "[encoded data removed]",
      "text/plain": [
       "<Figure size 864x864 with 14 Axes>"
      ]
     },
     "metadata": {},
     "output_type": "display_data"
    }
   ],
   "source": [
    "num_rows, num_cols = 4,4\n",
    "f, axes = plt.subplots(nrows=num_rows, ncols=num_cols, figsize=(12, 12))\n",
    "f.suptitle('Distribution of Features', fontsize=16)\n",
    "\n",
    "for index, column in enumerate(df[numerical_columns].columns):\n",
    "    i,j = (index // num_cols, index % num_cols)\n",
    "    g = sns.kdeplot(train_df[column], color=\"m\", shade=True, label=\"%.2f\"%(train_df[column].skew()), ax=axes[i,j])\n",
    "    g = g.legend(loc=\"best\")\n",
    "\n",
    "f.delaxes(axes[3, 2])\n",
    "f.delaxes(axes[3, 3])\n",
    "plt.tight_layout()\n",
    "plt.show()"
   ]
  },
  {
   "cell_type": "code",
   "execution_count": 9,
   "metadata": {
    "execution": {
     "iopub.execute_input": "2021-02-14T01:02:14.711246Z",
     "iopub.status.busy": "2021-02-14T01:02:14.710022Z",
     "iopub.status.idle": "2021-02-14T01:02:16.058260Z",
     "shell.execute_reply": "2021-02-14T01:02:16.057292Z"
    },
    "papermill": {
     "duration": 1.408949,
     "end_time": "2021-02-14T01:02:16.058392",
     "exception": false,
     "start_time": "2021-02-14T01:02:14.649443",
     "status": "completed"
    },
    "tags": []
   },
   "outputs": [
    {
     "data": {
      "image/png": "[encoded data removed]",
      "text/plain": [
       "<Figure size 1008x1008 with 2 Axes>"
      ]
     },
     "metadata": {},
     "output_type": "display_data"
    }
   ],
   "source": [
    "corr = df[numerical_columns].corr().abs()\n",
    "mask = np.triu(np.ones_like(corr, dtype=np.bool))\n",
    "\n",
    "fig, ax = plt.subplots(figsize=(14, 14))\n",
    "\n",
    "# plot heatmap\n",
    "sns.heatmap(corr, mask=mask, annot=True, fmt=\".2f\", cmap='coolwarm',\n",
    "            cbar_kws={\"shrink\": .8}, vmin=0, vmax=1)\n",
    "# yticks\n",
    "plt.yticks(rotation=0)\n",
    "plt.show()"
   ]
  },
  {
   "cell_type": "markdown",
   "metadata": {
    "papermill": {
     "duration": 0.039471,
     "end_time": "2021-02-14T01:02:16.136869",
     "exception": false,
     "start_time": "2021-02-14T01:02:16.097398",
     "status": "completed"
    },
    "tags": []
   },
   "source": [
    "As we can see, there is no high correlation between variables"
   ]
  },
  {
   "cell_type": "markdown",
   "metadata": {
    "papermill": {
     "duration": 0.03819,
     "end_time": "2021-02-14T01:02:16.213506",
     "exception": false,
     "start_time": "2021-02-14T01:02:16.175316",
     "status": "completed"
    },
    "tags": []
   },
   "source": [
    "<a id='1.3'></a>\n",
    "## <p style=\"background-color:skyblue; font-family:newtimeroman; font-size:120%; text-align:center\">1.3 Categorical Variables</p>"
   ]
  },
  {
   "cell_type": "code",
   "execution_count": 10,
   "metadata": {
    "execution": {
     "iopub.execute_input": "2021-02-14T01:02:16.311646Z",
     "iopub.status.busy": "2021-02-14T01:02:16.310680Z",
     "iopub.status.idle": "2021-02-14T01:02:22.226805Z",
     "shell.execute_reply": "2021-02-14T01:02:22.226368Z"
    },
    "papermill": {
     "duration": 5.974822,
     "end_time": "2021-02-14T01:02:22.226929",
     "exception": false,
     "start_time": "2021-02-14T01:02:16.252107",
     "status": "completed"
    },
    "tags": []
   },
   "outputs": [
    {
     "data": {
      "image/png": "[encoded data removed]",
      "text/plain": [
       "<Figure size 864x864 with 10 Axes>"
      ]
     },
     "metadata": {},
     "output_type": "display_data"
    }
   ],
   "source": [
    "num_rows, num_cols = 3,4\n",
    "f, axes = plt.subplots(nrows=num_rows, ncols=num_cols, figsize=(12, 12))\n",
    "#f.suptitle('Distribution of Features', fontsize=16)\n",
    "\n",
    "for index, column in enumerate(df[categorical_columns].columns):\n",
    "    i,j = (index // num_cols, index % num_cols)\n",
    "    sns.histplot(x=column, data=df, ax=axes[i,j])\n",
    "\n",
    "f.delaxes(axes[2, 2])\n",
    "f.delaxes(axes[2, 3])\n",
    "plt.tight_layout()\n",
    "plt.show()"
   ]
  },
  {
   "cell_type": "markdown",
   "metadata": {
    "papermill": {
     "duration": 0.041457,
     "end_time": "2021-02-14T01:02:22.308505",
     "exception": false,
     "start_time": "2021-02-14T01:02:22.267048",
     "status": "completed"
    },
    "tags": []
   },
   "source": [
    "<a id='2'></a>\n",
    "# <p style=\"background-color:skyblue; font-family:newtimeroman; font-size:150%; text-align:center\">2. Feature Engineering 🔧</p>"
   ]
  },
  {
   "attachments": {
    "LabelEncoder.png": {
     "image/png": "[encoded data removed]"
    }
   },
   "cell_type": "markdown",
   "metadata": {
    "papermill": {
     "duration": 0.064478,
     "end_time": "2021-02-14T01:02:22.417533",
     "exception": false,
     "start_time": "2021-02-14T01:02:22.353055",
     "status": "completed"
    },
    "tags": []
   },
   "source": [
    "### Label Encoder\n",
    "![LabelEncoder.png](attachment:LabelEncoder.png)"
   ]
  },
  {
   "cell_type": "code",
   "execution_count": 11,
   "metadata": {
    "execution": {
     "iopub.execute_input": "2021-02-14T01:02:22.574007Z",
     "iopub.status.busy": "2021-02-14T01:02:22.573202Z",
     "iopub.status.idle": "2021-02-14T01:02:24.231143Z",
     "shell.execute_reply": "2021-02-14T01:02:24.230588Z"
    },
    "papermill": {
     "duration": 1.738603,
     "end_time": "2021-02-14T01:02:24.231285",
     "exception": false,
     "start_time": "2021-02-14T01:02:22.492682",
     "status": "completed"
    },
    "tags": []
   },
   "outputs": [],
   "source": [
    "for feature in categorical_columns:\n",
    "    le = LabelEncoder()\n",
    "    le.fit(train_df[feature])\n",
    "    train_df[feature] = le.transform(train_df[feature])\n",
    "    test_df[feature] = le.transform(test_df[feature])"
   ]
  },
  {
   "cell_type": "markdown",
   "metadata": {
    "papermill": {
     "duration": 0.041971,
     "end_time": "2021-02-14T01:02:24.318005",
     "exception": false,
     "start_time": "2021-02-14T01:02:24.276034",
     "status": "completed"
    },
    "tags": []
   },
   "source": [
    "<a id='3'></a>\n",
    "# <p style=\"background-color:skyblue; font-family:newtimeroman; font-size:150%; text-align:center\">3. Base Model ⚙️</p>"
   ]
  },
  {
   "cell_type": "code",
   "execution_count": 12,
   "metadata": {
    "execution": {
     "iopub.execute_input": "2021-02-14T01:02:24.407601Z",
     "iopub.status.busy": "2021-02-14T01:02:24.406046Z",
     "iopub.status.idle": "2021-02-14T01:02:24.528661Z",
     "shell.execute_reply": "2021-02-14T01:02:24.528184Z"
    },
    "papermill": {
     "duration": 0.169898,
     "end_time": "2021-02-14T01:02:24.528897",
     "exception": false,
     "start_time": "2021-02-14T01:02:24.358999",
     "status": "completed"
    },
    "tags": []
   },
   "outputs": [],
   "source": [
    "x = train_df[feature_cols]\n",
    "y = train_df['target']\n",
    "\n",
    "x_train, x_test, y_train, y_test = train_test_split(x, y, test_size=0.3, random_state=42)"
   ]
  },
  {
   "cell_type": "markdown",
   "metadata": {
    "papermill": {
     "duration": 0.042444,
     "end_time": "2021-02-14T01:02:24.614158",
     "exception": false,
     "start_time": "2021-02-14T01:02:24.571714",
     "status": "completed"
    },
    "tags": []
   },
   "source": [
    "<a id='3.1'></a>\n",
    "## <p style=\"background-color:skyblue; font-family:newtimeroman; font-size:120%; text-align:center\">3.1 Base XGBoost</p>"
   ]
  },
  {
   "cell_type": "code",
   "execution_count": 13,
   "metadata": {
    "execution": {
     "iopub.execute_input": "2021-02-14T01:02:24.705655Z",
     "iopub.status.busy": "2021-02-14T01:02:24.704367Z",
     "iopub.status.idle": "2021-02-14T01:02:26.109778Z",
     "shell.execute_reply": "2021-02-14T01:02:26.110533Z"
    },
    "papermill": {
     "duration": 1.453624,
     "end_time": "2021-02-14T01:02:26.110705",
     "exception": false,
     "start_time": "2021-02-14T01:02:24.657081",
     "status": "completed"
    },
    "tags": []
   },
   "outputs": [
    {
     "data": {
      "text/plain": [
       "XGBRegressor(base_score=0.5, booster='gbtree', colsample_bylevel=1,\n",
       "             colsample_bynode=1, colsample_bytree=1, gamma=0, gpu_id=0,\n",
       "             importance_type='gain', interaction_constraints='',\n",
       "             learning_rate=0.300000012, max_delta_step=0, max_depth=6,\n",
       "             min_child_weight=1, missing=nan, monotone_constraints='()',\n",
       "             n_estimators=100, n_jobs=2, num_parallel_tree=1, random_state=42,\n",
       "             reg_alpha=0, reg_lambda=1, scale_pos_weight=1, subsample=1,\n",
       "             tree_method='gpu_hist', validate_parameters=1, verbosity=None)"
      ]
     },
     "execution_count": 13,
     "metadata": {},
     "output_type": "execute_result"
    }
   ],
   "source": [
    "# Instantiate model with 100 decision trees\n",
    "clf = XGBRegressor(random_state=42, tree_method='gpu_hist')\n",
    "\n",
    "clf.fit(x_train, y_train)"
   ]
  },
  {
   "cell_type": "code",
   "execution_count": 14,
   "metadata": {
    "execution": {
     "iopub.execute_input": "2021-02-14T01:02:26.202939Z",
     "iopub.status.busy": "2021-02-14T01:02:26.201751Z",
     "iopub.status.idle": "2021-02-14T01:02:26.389339Z",
     "shell.execute_reply": "2021-02-14T01:02:26.390132Z"
    },
    "papermill": {
     "duration": 0.237218,
     "end_time": "2021-02-14T01:02:26.390309",
     "exception": false,
     "start_time": "2021-02-14T01:02:26.153091",
     "status": "completed"
    },
    "tags": []
   },
   "outputs": [
    {
     "name": "stdout",
     "output_type": "stream",
     "text": [
      "\u001b[32mBase XGBoost RMSE: 0.8513526629620365\n"
     ]
    }
   ],
   "source": [
    "# Use the forest's predict method on the test data\n",
    "predictions = clf.predict(x_test)\n",
    "\n",
    "score_rmse = math.sqrt(mean_squared_error(y_test, predictions))\n",
    "print(Fore.GREEN + 'Base XGBoost RMSE: {}'.format(score_rmse))"
   ]
  },
  {
   "cell_type": "code",
   "execution_count": 15,
   "metadata": {
    "execution": {
     "iopub.execute_input": "2021-02-14T01:02:26.548294Z",
     "iopub.status.busy": "2021-02-14T01:02:26.547158Z",
     "iopub.status.idle": "2021-02-14T01:02:27.220356Z",
     "shell.execute_reply": "2021-02-14T01:02:27.221267Z"
    },
    "papermill": {
     "duration": 0.759577,
     "end_time": "2021-02-14T01:02:27.221489",
     "exception": false,
     "start_time": "2021-02-14T01:02:26.461912",
     "status": "completed"
    },
    "tags": []
   },
   "outputs": [],
   "source": [
    "sub_xgb_base = clf.predict(test_df[feature_cols])"
   ]
  },
  {
   "cell_type": "markdown",
   "metadata": {
    "papermill": {
     "duration": 0.047043,
     "end_time": "2021-02-14T01:02:27.313294",
     "exception": false,
     "start_time": "2021-02-14T01:02:27.266251",
     "status": "completed"
    },
    "tags": []
   },
   "source": [
    "<a id='3.2'></a>\n",
    "## <p style=\"background-color:skyblue; font-family:newtimeroman; font-size:120%; text-align:center\">3.2 Base LGBM</p>"
   ]
  },
  {
   "cell_type": "code",
   "execution_count": 16,
   "metadata": {
    "execution": {
     "iopub.execute_input": "2021-02-14T01:02:27.405586Z",
     "iopub.status.busy": "2021-02-14T01:02:27.403777Z",
     "iopub.status.idle": "2021-02-14T01:02:34.902681Z",
     "shell.execute_reply": "2021-02-14T01:02:34.903621Z"
    },
    "papermill": {
     "duration": 7.548352,
     "end_time": "2021-02-14T01:02:34.903814",
     "exception": false,
     "start_time": "2021-02-14T01:02:27.355462",
     "status": "completed"
    },
    "tags": []
   },
   "outputs": [
    {
     "data": {
      "text/plain": [
       "LGBMRegressor(device='gpu', random_state=42)"
      ]
     },
     "execution_count": 16,
     "metadata": {},
     "output_type": "execute_result"
    }
   ],
   "source": [
    "# Instantiate model with 100 decision trees\n",
    "clf = LGBMRegressor(random_state=42, device='gpu')\n",
    "\n",
    "clf.fit(x_train, y_train)"
   ]
  },
  {
   "cell_type": "code",
   "execution_count": 17,
   "metadata": {
    "execution": {
     "iopub.execute_input": "2021-02-14T01:02:34.995577Z",
     "iopub.status.busy": "2021-02-14T01:02:34.994657Z",
     "iopub.status.idle": "2021-02-14T01:02:35.492866Z",
     "shell.execute_reply": "2021-02-14T01:02:35.493646Z"
    },
    "papermill": {
     "duration": 0.545956,
     "end_time": "2021-02-14T01:02:35.493837",
     "exception": false,
     "start_time": "2021-02-14T01:02:34.947881",
     "status": "completed"
    },
    "tags": []
   },
   "outputs": [
    {
     "name": "stdout",
     "output_type": "stream",
     "text": [
      "\u001b[32mBase LGBM RMSE: 0.8475616976181732\n"
     ]
    }
   ],
   "source": [
    "# Use the forest's predict method on the test data\n",
    "predictions = clf.predict(x_test)\n",
    "\n",
    "score_rmse = math.sqrt(mean_squared_error(y_test, predictions))\n",
    "print(Fore.GREEN + 'Base LGBM RMSE: {}'.format(score_rmse))"
   ]
  },
  {
   "cell_type": "markdown",
   "metadata": {
    "papermill": {
     "duration": 0.041852,
     "end_time": "2021-02-14T01:02:35.579477",
     "exception": false,
     "start_time": "2021-02-14T01:02:35.537625",
     "status": "completed"
    },
    "tags": []
   },
   "source": [
    "<a id='3.3'></a>\n",
    "## <p style=\"background-color:skyblue; font-family:newtimeroman; font-size:120%; text-align:center\">3.2 Base LGBM Cross Validation</p>"
   ]
  },
  {
   "cell_type": "code",
   "execution_count": 18,
   "metadata": {
    "execution": {
     "iopub.execute_input": "2021-02-14T01:02:35.671107Z",
     "iopub.status.busy": "2021-02-14T01:02:35.670151Z",
     "iopub.status.idle": "2021-02-14T01:02:35.675021Z",
     "shell.execute_reply": "2021-02-14T01:02:35.674549Z"
    },
    "papermill": {
     "duration": 0.053032,
     "end_time": "2021-02-14T01:02:35.675139",
     "exception": false,
     "start_time": "2021-02-14T01:02:35.622107",
     "status": "completed"
    },
    "tags": []
   },
   "outputs": [
    {
     "data": {
      "text/plain": [
       "(300000,)"
      ]
     },
     "execution_count": 18,
     "metadata": {},
     "output_type": "execute_result"
    }
   ],
   "source": [
    "train_oof = np.zeros((300000,))\n",
    "test_preds = 0\n",
    "train_oof.shape"
   ]
  },
  {
   "cell_type": "code",
   "execution_count": 19,
   "metadata": {
    "execution": {
     "iopub.execute_input": "2021-02-14T01:02:35.773865Z",
     "iopub.status.busy": "2021-02-14T01:02:35.773030Z",
     "iopub.status.idle": "2021-02-14T01:02:58.160996Z",
     "shell.execute_reply": "2021-02-14T01:02:58.161571Z"
    },
    "papermill": {
     "duration": 22.444058,
     "end_time": "2021-02-14T01:02:58.161742",
     "exception": false,
     "start_time": "2021-02-14T01:02:35.717684",
     "status": "completed"
    },
    "tags": []
   },
   "outputs": [
    {
     "data": {
      "application/vnd.jupyter.widget-view+json": {
       "model_id": "acec58c279c645bea41454be66615be7",
       "version_major": 2,
       "version_minor": 0
      },
      "text/plain": [
       "|          | 0/? [00:00<?, ?it/s]"
      ]
     },
     "metadata": {},
     "output_type": "display_data"
    },
    {
     "name": "stdout",
     "output_type": "stream",
     "text": [
      "0.8471018103979598\n",
      "0.8449124899822527\n",
      "0.847207061528795\n",
      "0.8450652144221356\n",
      "0.8480787750475173\n"
     ]
    }
   ],
   "source": [
    "NUM_FOLDS = 5\n",
    "kf = KFold(n_splits=NUM_FOLDS, shuffle=True, random_state=0)\n",
    "\n",
    "for f, (train_ind, val_ind) in tqdm(enumerate(kf.split(x, y))):\n",
    "        tmp_train_df, tmp_val_df = x.iloc[train_ind][feature_cols], x.iloc[val_ind][feature_cols]\n",
    "        train_target, val_target = y[train_ind], y[val_ind]\n",
    "        \n",
    "        model = LGBMRegressor(random_state=42, device='gpu')\n",
    "        model.fit(tmp_train_df, train_target, eval_set=[(tmp_val_df, val_target)], verbose=False)\n",
    "        temp_oof = model.predict(tmp_val_df)\n",
    "        temp_test = model.predict(test_df[feature_cols])\n",
    "\n",
    "        train_oof[val_ind] = temp_oof\n",
    "        test_preds += temp_test/NUM_FOLDS\n",
    "        \n",
    "        print(mean_squared_error(temp_oof, val_target, squared=False))"
   ]
  },
  {
   "cell_type": "code",
   "execution_count": 20,
   "metadata": {
    "execution": {
     "iopub.execute_input": "2021-02-14T01:02:58.256544Z",
     "iopub.status.busy": "2021-02-14T01:02:58.255771Z",
     "iopub.status.idle": "2021-02-14T01:02:59.060913Z",
     "shell.execute_reply": "2021-02-14T01:02:59.060127Z"
    },
    "papermill": {
     "duration": 0.854142,
     "end_time": "2021-02-14T01:02:59.061045",
     "exception": false,
     "start_time": "2021-02-14T01:02:58.206903",
     "status": "completed"
    },
    "tags": []
   },
   "outputs": [],
   "source": [
    "sub_df['target'] = test_preds\n",
    "sub_df.to_csv('submission_lgbm_cv.csv', index=False)\n",
    "sub_df.head()\n",
    "\n",
    "sub_lgbm_cv = test_preds"
   ]
  },
  {
   "cell_type": "markdown",
   "metadata": {
    "papermill": {
     "duration": 0.043453,
     "end_time": "2021-02-14T01:02:59.148969",
     "exception": false,
     "start_time": "2021-02-14T01:02:59.105516",
     "status": "completed"
    },
    "tags": []
   },
   "source": [
    "<a id='4'></a>\n",
    "# <p style=\"background-color:skyblue; font-family:newtimeroman; font-size:150%; text-align:center\">4. Optuna Optimization: LGBM ⚙️</p>"
   ]
  },
  {
   "cell_type": "code",
   "execution_count": 21,
   "metadata": {
    "execution": {
     "iopub.execute_input": "2021-02-14T01:02:59.245898Z",
     "iopub.status.busy": "2021-02-14T01:02:59.245074Z",
     "iopub.status.idle": "2021-02-14T01:02:59.248958Z",
     "shell.execute_reply": "2021-02-14T01:02:59.248557Z"
    },
    "papermill": {
     "duration": 0.056809,
     "end_time": "2021-02-14T01:02:59.249072",
     "exception": false,
     "start_time": "2021-02-14T01:02:59.192263",
     "status": "completed"
    },
    "tags": []
   },
   "outputs": [],
   "source": [
    "def objective(trial,data=x,target=y):\n",
    "    \n",
    "    train_x, test_x, train_y, test_y = train_test_split(data, target, test_size=0.15,random_state=42)\n",
    "    \n",
    "    # To select which parameters to optimize, please look at the XGBoost documentation:\n",
    "    # https://xgboost.readthedocs.io/en/latest/parameter.html\n",
    "    param = {\n",
    "        'device':'gpu',  # Use GPU acceleration\n",
    "        'metric': 'rmse',\n",
    "        'random_state': 42,\n",
    "        'reg_lambda': trial.suggest_loguniform(\n",
    "            'reg_lambda', 1e-3, 10.0\n",
    "        ),\n",
    "        'reg_alpha': trial.suggest_loguniform(\n",
    "            'reg_alpha', 1e-3, 10.0\n",
    "        ),\n",
    "        'colsample_bytree': trial.suggest_categorical(\n",
    "            'colsample_bytree', [0.3,0.5,0.6,0.7,0.8,0.9,1.0]\n",
    "        ),\n",
    "        'subsample': trial.suggest_categorical(\n",
    "            'subsample', [0.6,0.7,0.8,1.0]\n",
    "        ),\n",
    "        'learning_rate': trial.suggest_categorical(\n",
    "            'learning_rate', [0.008,0.009,0.01,0.012,0.014,0.016,0.018, 0.02]\n",
    "        ),\n",
    "        'n_estimators': trial.suggest_categorical(\n",
    "            \"n_estimators\", [150, 200, 300, 3000]\n",
    "        ),\n",
    "        'max_depth': trial.suggest_categorical(\n",
    "            'max_depth', [4,5,7,9,11,13,15,17,20]\n",
    "        ),\n",
    "        'min_child_samples': trial.suggest_int(\n",
    "            'min_child_samples', 1, 300\n",
    "        ),\n",
    "        'num_leaves': trial.suggest_int(\n",
    "            'num_leaves', 15, 120\n",
    "        ),\n",
    "    }\n",
    "    model = LGBMRegressor(**param)  \n",
    "    \n",
    "    model.fit(train_x,train_y,eval_set=[(test_x,test_y)], early_stopping_rounds=300, verbose=False)\n",
    "    \n",
    "    preds = model.predict(test_x)\n",
    "    \n",
    "    rmse = mean_squared_error(test_y, preds,squared=False)\n",
    "    \n",
    "    return rmse"
   ]
  },
  {
   "cell_type": "code",
   "execution_count": 22,
   "metadata": {
    "execution": {
     "iopub.execute_input": "2021-02-14T01:02:59.343250Z",
     "iopub.status.busy": "2021-02-14T01:02:59.342701Z",
     "iopub.status.idle": "2021-02-14T01:05:46.083954Z",
     "shell.execute_reply": "2021-02-14T01:05:46.084431Z"
    },
    "papermill": {
     "duration": 166.791718,
     "end_time": "2021-02-14T01:05:46.084620",
     "exception": false,
     "start_time": "2021-02-14T01:02:59.292902",
     "status": "completed"
    },
    "tags": []
   },
   "outputs": [
    {
     "name": "stderr",
     "output_type": "stream",
     "text": [
      "\u001b[32m[I 2021-02-14 01:02:59,341]\u001b[0m A new study created in memory with name: no-name-13ad59bf-57bf-4000-b672-60c6605e494c\u001b[0m\n",
      "\u001b[32m[I 2021-02-14 01:03:07,650]\u001b[0m Trial 0 finished with value: 0.850845900671783 and parameters: {'reg_lambda': 2.826111099439424, 'reg_alpha': 1.9288685965484509, 'colsample_bytree': 0.8, 'subsample': 1.0, 'learning_rate': 0.02, 'n_estimators': 200, 'max_depth': 15, 'min_child_samples': 271, 'num_leaves': 94}. Best is trial 0 with value: 0.850845900671783.\u001b[0m\n",
      "\u001b[32m[I 2021-02-14 01:03:16,650]\u001b[0m Trial 1 finished with value: 0.8565337146262167 and parameters: {'reg_lambda': 0.03972353539444539, 'reg_alpha': 0.0019222846780563325, 'colsample_bytree': 0.6, 'subsample': 0.7, 'learning_rate': 0.009, 'n_estimators': 300, 'max_depth': 9, 'min_child_samples': 260, 'num_leaves': 54}. Best is trial 0 with value: 0.850845900671783.\u001b[0m\n",
      "\u001b[32m[I 2021-02-14 01:04:30,178]\u001b[0m Trial 2 finished with value: 0.8447451347050281 and parameters: {'reg_lambda': 0.18877864567974406, 'reg_alpha': 0.08107647880376018, 'colsample_bytree': 0.7, 'subsample': 0.6, 'learning_rate': 0.009, 'n_estimators': 3000, 'max_depth': 7, 'min_child_samples': 165, 'num_leaves': 87}. Best is trial 2 with value: 0.8447451347050281.\u001b[0m\n",
      "\u001b[32m[I 2021-02-14 01:05:42,063]\u001b[0m Trial 3 finished with value: 0.8444314588747558 and parameters: {'reg_lambda': 6.090064325463461, 'reg_alpha': 0.003411651495990647, 'colsample_bytree': 0.6, 'subsample': 0.7, 'learning_rate': 0.01, 'n_estimators': 3000, 'max_depth': 9, 'min_child_samples': 297, 'num_leaves': 93}. Best is trial 3 with value: 0.8444314588747558.\u001b[0m\n",
      "\u001b[32m[I 2021-02-14 01:05:46,072]\u001b[0m Trial 4 finished with value: 0.8687865180399774 and parameters: {'reg_lambda': 0.16949925371961366, 'reg_alpha': 0.26062730899316483, 'colsample_bytree': 1.0, 'subsample': 1.0, 'learning_rate': 0.009, 'n_estimators': 150, 'max_depth': 5, 'min_child_samples': 130, 'num_leaves': 38}. Best is trial 3 with value: 0.8444314588747558.\u001b[0m\n"
     ]
    },
    {
     "name": "stdout",
     "output_type": "stream",
     "text": [
      "Number of finished trials: 5\n",
      "Best trial: {'reg_lambda': 6.090064325463461, 'reg_alpha': 0.003411651495990647, 'colsample_bytree': 0.6, 'subsample': 0.7, 'learning_rate': 0.01, 'n_estimators': 3000, 'max_depth': 9, 'min_child_samples': 297, 'num_leaves': 93}\n"
     ]
    }
   ],
   "source": [
    "study = optuna.create_study(direction='minimize')\n",
    "study.optimize(objective, n_trials=5)\n",
    "print('Number of finished trials:', len(study.trials))\n",
    "print('Best trial:', study.best_trial.params)"
   ]
  },
  {
   "cell_type": "code",
   "execution_count": 23,
   "metadata": {
    "execution": {
     "iopub.execute_input": "2021-02-14T01:05:46.205664Z",
     "iopub.status.busy": "2021-02-14T01:05:46.204829Z",
     "iopub.status.idle": "2021-02-14T01:05:46.209078Z",
     "shell.execute_reply": "2021-02-14T01:05:46.209561Z"
    },
    "papermill": {
     "duration": 0.0772,
     "end_time": "2021-02-14T01:05:46.209724",
     "exception": false,
     "start_time": "2021-02-14T01:05:46.132524",
     "status": "completed"
    },
    "tags": []
   },
   "outputs": [
    {
     "data": {
      "text/html": [
       "<div>\n",
       "<style scoped>\n",
       "    .dataframe tbody tr th:only-of-type {\n",
       "        vertical-align: middle;\n",
       "    }\n",
       "\n",
       "    .dataframe tbody tr th {\n",
       "        vertical-align: top;\n",
       "    }\n",
       "\n",
       "    .dataframe thead th {\n",
       "        text-align: right;\n",
       "    }\n",
       "</style>\n",
       "<table border=\"1\" class=\"dataframe\">\n",
       "  <thead>\n",
       "    <tr style=\"text-align: right;\">\n",
       "      <th></th>\n",
       "      <th>number</th>\n",
       "      <th>value</th>\n",
       "      <th>datetime_start</th>\n",
       "      <th>datetime_complete</th>\n",
       "      <th>duration</th>\n",
       "      <th>params_colsample_bytree</th>\n",
       "      <th>params_learning_rate</th>\n",
       "      <th>params_max_depth</th>\n",
       "      <th>params_min_child_samples</th>\n",
       "      <th>params_n_estimators</th>\n",
       "      <th>params_num_leaves</th>\n",
       "      <th>params_reg_alpha</th>\n",
       "      <th>params_reg_lambda</th>\n",
       "      <th>params_subsample</th>\n",
       "      <th>state</th>\n",
       "    </tr>\n",
       "  </thead>\n",
       "  <tbody>\n",
       "    <tr>\n",
       "      <th>0</th>\n",
       "      <td>0</td>\n",
       "      <td>0.850846</td>\n",
       "      <td>2021-02-14 01:02:59.345204</td>\n",
       "      <td>2021-02-14 01:03:07.649341</td>\n",
       "      <td>0 days 00:00:08.304137</td>\n",
       "      <td>0.8</td>\n",
       "      <td>0.020</td>\n",
       "      <td>15</td>\n",
       "      <td>271</td>\n",
       "      <td>200</td>\n",
       "      <td>94</td>\n",
       "      <td>1.928869</td>\n",
       "      <td>2.826111</td>\n",
       "      <td>1.0</td>\n",
       "      <td>COMPLETE</td>\n",
       "    </tr>\n",
       "    <tr>\n",
       "      <th>1</th>\n",
       "      <td>1</td>\n",
       "      <td>0.856534</td>\n",
       "      <td>2021-02-14 01:03:07.651209</td>\n",
       "      <td>2021-02-14 01:03:16.649679</td>\n",
       "      <td>0 days 00:00:08.998470</td>\n",
       "      <td>0.6</td>\n",
       "      <td>0.009</td>\n",
       "      <td>9</td>\n",
       "      <td>260</td>\n",
       "      <td>300</td>\n",
       "      <td>54</td>\n",
       "      <td>0.001922</td>\n",
       "      <td>0.039724</td>\n",
       "      <td>0.7</td>\n",
       "      <td>COMPLETE</td>\n",
       "    </tr>\n",
       "    <tr>\n",
       "      <th>2</th>\n",
       "      <td>2</td>\n",
       "      <td>0.844745</td>\n",
       "      <td>2021-02-14 01:03:16.651579</td>\n",
       "      <td>2021-02-14 01:04:30.177372</td>\n",
       "      <td>0 days 00:01:13.525793</td>\n",
       "      <td>0.7</td>\n",
       "      <td>0.009</td>\n",
       "      <td>7</td>\n",
       "      <td>165</td>\n",
       "      <td>3000</td>\n",
       "      <td>87</td>\n",
       "      <td>0.081076</td>\n",
       "      <td>0.188779</td>\n",
       "      <td>0.6</td>\n",
       "      <td>COMPLETE</td>\n",
       "    </tr>\n",
       "    <tr>\n",
       "      <th>3</th>\n",
       "      <td>3</td>\n",
       "      <td>0.844431</td>\n",
       "      <td>2021-02-14 01:04:30.185667</td>\n",
       "      <td>2021-02-14 01:05:42.062598</td>\n",
       "      <td>0 days 00:01:11.876931</td>\n",
       "      <td>0.6</td>\n",
       "      <td>0.010</td>\n",
       "      <td>9</td>\n",
       "      <td>297</td>\n",
       "      <td>3000</td>\n",
       "      <td>93</td>\n",
       "      <td>0.003412</td>\n",
       "      <td>6.090064</td>\n",
       "      <td>0.7</td>\n",
       "      <td>COMPLETE</td>\n",
       "    </tr>\n",
       "    <tr>\n",
       "      <th>4</th>\n",
       "      <td>4</td>\n",
       "      <td>0.868787</td>\n",
       "      <td>2021-02-14 01:05:42.071496</td>\n",
       "      <td>2021-02-14 01:05:46.072213</td>\n",
       "      <td>0 days 00:00:04.000717</td>\n",
       "      <td>1.0</td>\n",
       "      <td>0.009</td>\n",
       "      <td>5</td>\n",
       "      <td>130</td>\n",
       "      <td>150</td>\n",
       "      <td>38</td>\n",
       "      <td>0.260627</td>\n",
       "      <td>0.169499</td>\n",
       "      <td>1.0</td>\n",
       "      <td>COMPLETE</td>\n",
       "    </tr>\n",
       "  </tbody>\n",
       "</table>\n",
       "</div>"
      ],
      "text/plain": [
       "   number     value             datetime_start          datetime_complete  \\\n",
       "0       0  0.850846 2021-02-14 01:02:59.345204 2021-02-14 01:03:07.649341   \n",
       "1       1  0.856534 2021-02-14 01:03:07.651209 2021-02-14 01:03:16.649679   \n",
       "2       2  0.844745 2021-02-14 01:03:16.651579 2021-02-14 01:04:30.177372   \n",
       "3       3  0.844431 2021-02-14 01:04:30.185667 2021-02-14 01:05:42.062598   \n",
       "4       4  0.868787 2021-02-14 01:05:42.071496 2021-02-14 01:05:46.072213   \n",
       "\n",
       "                duration  params_colsample_bytree  params_learning_rate  \\\n",
       "0 0 days 00:00:08.304137                      0.8                 0.020   \n",
       "1 0 days 00:00:08.998470                      0.6                 0.009   \n",
       "2 0 days 00:01:13.525793                      0.7                 0.009   \n",
       "3 0 days 00:01:11.876931                      0.6                 0.010   \n",
       "4 0 days 00:00:04.000717                      1.0                 0.009   \n",
       "\n",
       "   params_max_depth  params_min_child_samples  params_n_estimators  \\\n",
       "0                15                       271                  200   \n",
       "1                 9                       260                  300   \n",
       "2                 7                       165                 3000   \n",
       "3                 9                       297                 3000   \n",
       "4                 5                       130                  150   \n",
       "\n",
       "   params_num_leaves  params_reg_alpha  params_reg_lambda  params_subsample  \\\n",
       "0                 94          1.928869           2.826111               1.0   \n",
       "1                 54          0.001922           0.039724               0.7   \n",
       "2                 87          0.081076           0.188779               0.6   \n",
       "3                 93          0.003412           6.090064               0.7   \n",
       "4                 38          0.260627           0.169499               1.0   \n",
       "\n",
       "      state  \n",
       "0  COMPLETE  \n",
       "1  COMPLETE  \n",
       "2  COMPLETE  \n",
       "3  COMPLETE  \n",
       "4  COMPLETE  "
      ]
     },
     "execution_count": 23,
     "metadata": {},
     "output_type": "execute_result"
    }
   ],
   "source": [
    "study.trials_dataframe().head()"
   ]
  },
  {
   "cell_type": "markdown",
   "metadata": {
    "papermill": {
     "duration": 0.051633,
     "end_time": "2021-02-14T01:05:46.314715",
     "exception": false,
     "start_time": "2021-02-14T01:05:46.263082",
     "status": "completed"
    },
    "tags": []
   },
   "source": [
    "<a id='4.1'></a>\n",
    "## <p style=\"background-color:skyblue; font-family:newtimeroman; font-size:120%; text-align:center\">4.1 Study visualization 📈</p>"
   ]
  },
  {
   "cell_type": "code",
   "execution_count": 24,
   "metadata": {
    "execution": {
     "iopub.execute_input": "2021-02-14T01:05:46.420599Z",
     "iopub.status.busy": "2021-02-14T01:05:46.419974Z",
     "iopub.status.idle": "2021-02-14T01:05:46.535761Z",
     "shell.execute_reply": "2021-02-14T01:05:46.536132Z"
    },
    "papermill": {
     "duration": 0.170045,
     "end_time": "2021-02-14T01:05:46.536281",
     "exception": false,
     "start_time": "2021-02-14T01:05:46.366236",
     "status": "completed"
    },
    "tags": []
   },
   "outputs": [
    {
     "data": {
      "text/html": [
       "        <script type=\"text/javascript\">\n",
       "        window.PlotlyConfig = {MathJaxConfig: 'local'};\n",
       "        if (window.MathJax) {MathJax.Hub.Config({SVG: {font: \"STIX-Web\"}});}\n",
       "        if (typeof require !== 'undefined') {\n",
       "        require.undef(\"plotly\");\n",
       "        requirejs.config({\n",
       "            paths: {\n",
       "                'plotly': ['https://cdn.plot.ly/plotly-latest.min']\n",
       "            }\n",
       "        });\n",
       "        require(['plotly'], function(Plotly) {\n",
       "            window._Plotly = Plotly;\n",
       "        });\n",
       "        }\n",
       "        </script>\n",
       "        "
      ]
     },
     "metadata": {},
     "output_type": "display_data"
    },
    {
     "data": {
      "text/html": [
       "<div>                            <div id=\"fc7e57aa-1791-4ca2-b7c3-8282562798ca\" class=\"plotly-graph-div\" style=\"height:525px; width:100%;\"></div>            <script type=\"text/javascript\">                require([\"plotly\"], function(Plotly) {                    window.PLOTLYENV=window.PLOTLYENV || {};                                    if (document.getElementById(\"fc7e57aa-1791-4ca2-b7c3-8282562798ca\")) {                    Plotly.newPlot(                        \"fc7e57aa-1791-4ca2-b7c3-8282562798ca\",                        [{\"mode\": \"markers\", \"name\": \"Objective Value\", \"type\": \"scatter\", \"x\": [0, 1, 2, 3, 4], \"y\": [0.850845900671783, 0.8565337146262167, 0.8447451347050281, 0.8444314588747558, 0.8687865180399774]}, {\"name\": \"Best Value\", \"type\": \"scatter\", \"x\": [0, 1, 2, 3, 4], \"y\": [0.850845900671783, 0.850845900671783, 0.8447451347050281, 0.8444314588747558, 0.8444314588747558]}],                        {\"template\": {\"data\": {\"bar\": [{\"error_x\": {\"color\": \"#2a3f5f\"}, \"error_y\": {\"color\": \"#2a3f5f\"}, \"marker\": {\"line\": {\"color\": \"#E5ECF6\", \"width\": 0.5}}, \"type\": \"bar\"}], \"barpolar\": [{\"marker\": {\"line\": {\"color\": \"#E5ECF6\", \"width\": 0.5}}, \"type\": \"barpolar\"}], \"carpet\": [{\"aaxis\": {\"endlinecolor\": \"#2a3f5f\", \"gridcolor\": \"white\", \"linecolor\": \"white\", \"minorgridcolor\": \"white\", \"startlinecolor\": \"#2a3f5f\"}, \"baxis\": {\"endlinecolor\": \"#2a3f5f\", \"gridcolor\": \"white\", \"linecolor\": \"white\", \"minorgridcolor\": \"white\", \"startlinecolor\": \"#2a3f5f\"}, \"type\": \"carpet\"}], \"choropleth\": [{\"colorbar\": {\"outlinewidth\": 0, \"ticks\": \"\"}, \"type\": \"choropleth\"}], \"contour\": [{\"colorbar\": {\"outlinewidth\": 0, \"ticks\": \"\"}, \"colorscale\": [[0.0, \"#0d0887\"], [0.1111111111111111, \"#46039f\"], [0.2222222222222222, \"#7201a8\"], [0.3333333333333333, \"#9c179e\"], [0.4444444444444444, \"#bd3786\"], [0.5555555555555556, \"#d8576b\"], [0.6666666666666666, \"#ed7953\"], [0.7777777777777778, \"#fb9f3a\"], [0.8888888888888888, \"#fdca26\"], [1.0, \"#f0f921\"]], \"type\": \"contour\"}], \"contourcarpet\": [{\"colorbar\": {\"outlinewidth\": 0, \"ticks\": \"\"}, \"type\": \"contourcarpet\"}], \"heatmap\": [{\"colorbar\": {\"outlinewidth\": 0, \"ticks\": \"\"}, \"colorscale\": [[0.0, \"#0d0887\"], [0.1111111111111111, \"#46039f\"], [0.2222222222222222, \"#7201a8\"], [0.3333333333333333, \"#9c179e\"], [0.4444444444444444, \"#bd3786\"], [0.5555555555555556, \"#d8576b\"], [0.6666666666666666, \"#ed7953\"], [0.7777777777777778, \"#fb9f3a\"], [0.8888888888888888, \"#fdca26\"], [1.0, \"#f0f921\"]], \"type\": \"heatmap\"}], \"heatmapgl\": [{\"colorbar\": {\"outlinewidth\": 0, \"ticks\": \"\"}, \"colorscale\": [[0.0, \"#0d0887\"], [0.1111111111111111, \"#46039f\"], [0.2222222222222222, \"#7201a8\"], [0.3333333333333333, \"#9c179e\"], [0.4444444444444444, \"#bd3786\"], [0.5555555555555556, \"#d8576b\"], [0.6666666666666666, \"#ed7953\"], [0.7777777777777778, \"#fb9f3a\"], [0.8888888888888888, \"#fdca26\"], [1.0, \"#f0f921\"]], \"type\": \"heatmapgl\"}], \"histogram\": [{\"marker\": {\"colorbar\": {\"outlinewidth\": 0, \"ticks\": \"\"}}, \"type\": \"histogram\"}], \"histogram2d\": [{\"colorbar\": {\"outlinewidth\": 0, \"ticks\": \"\"}, \"colorscale\": [[0.0, \"#0d0887\"], [0.1111111111111111, \"#46039f\"], [0.2222222222222222, \"#7201a8\"], [0.3333333333333333, \"#9c179e\"], [0.4444444444444444, \"#bd3786\"], [0.5555555555555556, \"#d8576b\"], [0.6666666666666666, \"#ed7953\"], [0.7777777777777778, \"#fb9f3a\"], [0.8888888888888888, \"#fdca26\"], [1.0, \"#f0f921\"]], \"type\": \"histogram2d\"}], \"histogram2dcontour\": [{\"colorbar\": {\"outlinewidth\": 0, \"ticks\": \"\"}, \"colorscale\": [[0.0, \"#0d0887\"], [0.1111111111111111, \"#46039f\"], [0.2222222222222222, \"#7201a8\"], [0.3333333333333333, \"#9c179e\"], [0.4444444444444444, \"#bd3786\"], [0.5555555555555556, \"#d8576b\"], [0.6666666666666666, \"#ed7953\"], [0.7777777777777778, \"#fb9f3a\"], [0.8888888888888888, \"#fdca26\"], [1.0, \"#f0f921\"]], \"type\": \"histogram2dcontour\"}], \"mesh3d\": [{\"colorbar\": {\"outlinewidth\": 0, \"ticks\": \"\"}, \"type\": \"mesh3d\"}], \"parcoords\": [{\"line\": {\"colorbar\": {\"outlinewidth\": 0, \"ticks\": \"\"}}, \"type\": \"parcoords\"}], \"pie\": [{\"automargin\": true, \"type\": \"pie\"}], \"scatter\": [{\"marker\": {\"colorbar\": {\"outlinewidth\": 0, \"ticks\": \"\"}}, \"type\": \"scatter\"}], \"scatter3d\": [{\"line\": {\"colorbar\": {\"outlinewidth\": 0, \"ticks\": \"\"}}, \"marker\": {\"colorbar\": {\"outlinewidth\": 0, \"ticks\": \"\"}}, \"type\": \"scatter3d\"}], \"scattercarpet\": [{\"marker\": {\"colorbar\": {\"outlinewidth\": 0, \"ticks\": \"\"}}, \"type\": \"scattercarpet\"}], \"scattergeo\": [{\"marker\": {\"colorbar\": {\"outlinewidth\": 0, \"ticks\": \"\"}}, \"type\": \"scattergeo\"}], \"scattergl\": [{\"marker\": {\"colorbar\": {\"outlinewidth\": 0, \"ticks\": \"\"}}, \"type\": \"scattergl\"}], \"scattermapbox\": [{\"marker\": {\"colorbar\": {\"outlinewidth\": 0, \"ticks\": \"\"}}, \"type\": \"scattermapbox\"}], \"scatterpolar\": [{\"marker\": {\"colorbar\": {\"outlinewidth\": 0, \"ticks\": \"\"}}, \"type\": \"scatterpolar\"}], \"scatterpolargl\": [{\"marker\": {\"colorbar\": {\"outlinewidth\": 0, \"ticks\": \"\"}}, \"type\": \"scatterpolargl\"}], \"scatterternary\": [{\"marker\": {\"colorbar\": {\"outlinewidth\": 0, \"ticks\": \"\"}}, \"type\": \"scatterternary\"}], \"surface\": [{\"colorbar\": {\"outlinewidth\": 0, \"ticks\": \"\"}, \"colorscale\": [[0.0, \"#0d0887\"], [0.1111111111111111, \"#46039f\"], [0.2222222222222222, \"#7201a8\"], [0.3333333333333333, \"#9c179e\"], [0.4444444444444444, \"#bd3786\"], [0.5555555555555556, \"#d8576b\"], [0.6666666666666666, \"#ed7953\"], [0.7777777777777778, \"#fb9f3a\"], [0.8888888888888888, \"#fdca26\"], [1.0, \"#f0f921\"]], \"type\": \"surface\"}], \"table\": [{\"cells\": {\"fill\": {\"color\": \"#EBF0F8\"}, \"line\": {\"color\": \"white\"}}, \"header\": {\"fill\": {\"color\": \"#C8D4E3\"}, \"line\": {\"color\": \"white\"}}, \"type\": \"table\"}]}, \"layout\": {\"annotationdefaults\": {\"arrowcolor\": \"#2a3f5f\", \"arrowhead\": 0, \"arrowwidth\": 1}, \"autotypenumbers\": \"strict\", \"coloraxis\": {\"colorbar\": {\"outlinewidth\": 0, \"ticks\": \"\"}}, \"colorscale\": {\"diverging\": [[0, \"#8e0152\"], [0.1, \"#c51b7d\"], [0.2, \"#de77ae\"], [0.3, \"#f1b6da\"], [0.4, \"#fde0ef\"], [0.5, \"#f7f7f7\"], [0.6, \"#e6f5d0\"], [0.7, \"#b8e186\"], [0.8, \"#7fbc41\"], [0.9, \"#4d9221\"], [1, \"#276419\"]], \"sequential\": [[0.0, \"#0d0887\"], [0.1111111111111111, \"#46039f\"], [0.2222222222222222, \"#7201a8\"], [0.3333333333333333, \"#9c179e\"], [0.4444444444444444, \"#bd3786\"], [0.5555555555555556, \"#d8576b\"], [0.6666666666666666, \"#ed7953\"], [0.7777777777777778, \"#fb9f3a\"], [0.8888888888888888, \"#fdca26\"], [1.0, \"#f0f921\"]], \"sequentialminus\": [[0.0, \"#0d0887\"], [0.1111111111111111, \"#46039f\"], [0.2222222222222222, \"#7201a8\"], [0.3333333333333333, \"#9c179e\"], [0.4444444444444444, \"#bd3786\"], [0.5555555555555556, \"#d8576b\"], [0.6666666666666666, \"#ed7953\"], [0.7777777777777778, \"#fb9f3a\"], [0.8888888888888888, \"#fdca26\"], [1.0, \"#f0f921\"]]}, \"colorway\": [\"#636efa\", \"#EF553B\", \"#00cc96\", \"#ab63fa\", \"#FFA15A\", \"#19d3f3\", \"#FF6692\", \"#B6E880\", \"#FF97FF\", \"#FECB52\"], \"font\": {\"color\": \"#2a3f5f\"}, \"geo\": {\"bgcolor\": \"white\", \"lakecolor\": \"white\", \"landcolor\": \"#E5ECF6\", \"showlakes\": true, \"showland\": true, \"subunitcolor\": \"white\"}, \"hoverlabel\": {\"align\": \"left\"}, \"hovermode\": \"closest\", \"mapbox\": {\"style\": \"light\"}, \"paper_bgcolor\": \"white\", \"plot_bgcolor\": \"#E5ECF6\", \"polar\": {\"angularaxis\": {\"gridcolor\": \"white\", \"linecolor\": \"white\", \"ticks\": \"\"}, \"bgcolor\": \"#E5ECF6\", \"radialaxis\": {\"gridcolor\": \"white\", \"linecolor\": \"white\", \"ticks\": \"\"}}, \"scene\": {\"xaxis\": {\"backgroundcolor\": \"#E5ECF6\", \"gridcolor\": \"white\", \"gridwidth\": 2, \"linecolor\": \"white\", \"showbackground\": true, \"ticks\": \"\", \"zerolinecolor\": \"white\"}, \"yaxis\": {\"backgroundcolor\": \"#E5ECF6\", \"gridcolor\": \"white\", \"gridwidth\": 2, \"linecolor\": \"white\", \"showbackground\": true, \"ticks\": \"\", \"zerolinecolor\": \"white\"}, \"zaxis\": {\"backgroundcolor\": \"#E5ECF6\", \"gridcolor\": \"white\", \"gridwidth\": 2, \"linecolor\": \"white\", \"showbackground\": true, \"ticks\": \"\", \"zerolinecolor\": \"white\"}}, \"shapedefaults\": {\"line\": {\"color\": \"#2a3f5f\"}}, \"ternary\": {\"aaxis\": {\"gridcolor\": \"white\", \"linecolor\": \"white\", \"ticks\": \"\"}, \"baxis\": {\"gridcolor\": \"white\", \"linecolor\": \"white\", \"ticks\": \"\"}, \"bgcolor\": \"#E5ECF6\", \"caxis\": {\"gridcolor\": \"white\", \"linecolor\": \"white\", \"ticks\": \"\"}}, \"title\": {\"x\": 0.05}, \"xaxis\": {\"automargin\": true, \"gridcolor\": \"white\", \"linecolor\": \"white\", \"ticks\": \"\", \"title\": {\"standoff\": 15}, \"zerolinecolor\": \"white\", \"zerolinewidth\": 2}, \"yaxis\": {\"automargin\": true, \"gridcolor\": \"white\", \"linecolor\": \"white\", \"ticks\": \"\", \"title\": {\"standoff\": 15}, \"zerolinecolor\": \"white\", \"zerolinewidth\": 2}}}, \"title\": {\"text\": \"Optimization History Plot\"}, \"xaxis\": {\"title\": {\"text\": \"#Trials\"}}, \"yaxis\": {\"title\": {\"text\": \"Objective Value\"}}},                        {\"responsive\": true}                    ).then(function(){\n",
       "                            \n",
       "var gd = document.getElementById('fc7e57aa-1791-4ca2-b7c3-8282562798ca');\n",
       "var x = new MutationObserver(function (mutations, observer) {{\n",
       "        var display = window.getComputedStyle(gd).display;\n",
       "        if (!display || display === 'none') {{\n",
       "            console.log([gd, 'removed!']);\n",
       "            Plotly.purge(gd);\n",
       "            observer.disconnect();\n",
       "        }}\n",
       "}});\n",
       "\n",
       "// Listen for the removal of the full notebook cells\n",
       "var notebookContainer = gd.closest('#notebook-container');\n",
       "if (notebookContainer) {{\n",
       "    x.observe(notebookContainer, {childList: true});\n",
       "}}\n",
       "\n",
       "// Listen for the clearing of the current output cell\n",
       "var outputEl = gd.closest('.output');\n",
       "if (outputEl) {{\n",
       "    x.observe(outputEl, {childList: true});\n",
       "}}\n",
       "\n",
       "                        })                };                });            </script>        </div>"
      ]
     },
     "metadata": {},
     "output_type": "display_data"
    }
   ],
   "source": [
    "# plot_optimization_histor: shows the scores from all trials as well as the best score so far at each point.\n",
    "optuna.visualization.plot_optimization_history(study)"
   ]
  },
  {
   "cell_type": "code",
   "execution_count": 25,
   "metadata": {
    "execution": {
     "iopub.execute_input": "2021-02-14T01:05:46.641871Z",
     "iopub.status.busy": "2021-02-14T01:05:46.640943Z",
     "iopub.status.idle": "2021-02-14T01:05:47.033371Z",
     "shell.execute_reply": "2021-02-14T01:05:47.033843Z"
    },
    "papermill": {
     "duration": 0.447232,
     "end_time": "2021-02-14T01:05:47.034032",
     "exception": false,
     "start_time": "2021-02-14T01:05:46.586800",
     "status": "completed"
    },
    "tags": []
   },
   "outputs": [
    {
     "data": {
      "text/html": [
       "<div>                            <div id=\"caaf2e90-5c5c-473b-a0c1-70462849d80e\" class=\"plotly-graph-div\" style=\"height:525px; width:100%;\"></div>            <script type=\"text/javascript\">                require([\"plotly\"], function(Plotly) {                    window.PLOTLYENV=window.PLOTLYENV || {};                                    if (document.getElementById(\"caaf2e90-5c5c-473b-a0c1-70462849d80e\")) {                    Plotly.newPlot(                        \"caaf2e90-5c5c-473b-a0c1-70462849d80e\",                        [{\"cliponaxis\": false, \"hovertemplate\": [\"learning_rate (CategoricalDistribution): 0.0074577042457770965<extra></extra>\", \"subsample (CategoricalDistribution): 0.018484382913297598<extra></extra>\", \"max_depth (CategoricalDistribution): 0.03816565268351266<extra></extra>\", \"reg_alpha (LogUniformDistribution): 0.05540342664175732<extra></extra>\", \"colsample_bytree (CategoricalDistribution): 0.07453050191727034<extra></extra>\", \"reg_lambda (LogUniformDistribution): 0.11205996830259311<extra></extra>\", \"min_child_samples (IntUniformDistribution): 0.21209532310307155<extra></extra>\", \"num_leaves (IntUniformDistribution): 0.229317593970323<extra></extra>\", \"n_estimators (CategoricalDistribution): 0.25248544622239744<extra></extra>\"], \"marker\": {\"color\": [\"rgb(66,146,198)\", \"rgb(66,146,198)\", \"rgb(66,146,198)\", \"rgb(8,48,107)\", \"rgb(66,146,198)\", \"rgb(8,48,107)\", \"rgb(8,81,156)\", \"rgb(8,81,156)\", \"rgb(66,146,198)\"]}, \"orientation\": \"h\", \"text\": [\"0.0074577042457770965\", \"0.018484382913297598\", \"0.03816565268351266\", \"0.05540342664175732\", \"0.07453050191727034\", \"0.11205996830259311\", \"0.21209532310307155\", \"0.229317593970323\", \"0.25248544622239744\"], \"textposition\": \"outside\", \"texttemplate\": \"%{text:.2f}\", \"type\": \"bar\", \"x\": [0.0074577042457770965, 0.018484382913297598, 0.03816565268351266, 0.05540342664175732, 0.07453050191727034, 0.11205996830259311, 0.21209532310307155, 0.229317593970323, 0.25248544622239744], \"y\": [\"learning_rate\", \"subsample\", \"max_depth\", \"reg_alpha\", \"colsample_bytree\", \"reg_lambda\", \"min_child_samples\", \"num_leaves\", \"n_estimators\"]}],                        {\"showlegend\": false, \"template\": {\"data\": {\"bar\": [{\"error_x\": {\"color\": \"#2a3f5f\"}, \"error_y\": {\"color\": \"#2a3f5f\"}, \"marker\": {\"line\": {\"color\": \"#E5ECF6\", \"width\": 0.5}}, \"type\": \"bar\"}], \"barpolar\": [{\"marker\": {\"line\": {\"color\": \"#E5ECF6\", \"width\": 0.5}}, \"type\": \"barpolar\"}], \"carpet\": [{\"aaxis\": {\"endlinecolor\": \"#2a3f5f\", \"gridcolor\": \"white\", \"linecolor\": \"white\", \"minorgridcolor\": \"white\", \"startlinecolor\": \"#2a3f5f\"}, \"baxis\": {\"endlinecolor\": \"#2a3f5f\", \"gridcolor\": \"white\", \"linecolor\": \"white\", \"minorgridcolor\": \"white\", \"startlinecolor\": \"#2a3f5f\"}, \"type\": \"carpet\"}], \"choropleth\": [{\"colorbar\": {\"outlinewidth\": 0, \"ticks\": \"\"}, \"type\": \"choropleth\"}], \"contour\": [{\"colorbar\": {\"outlinewidth\": 0, \"ticks\": \"\"}, \"colorscale\": [[0.0, \"#0d0887\"], [0.1111111111111111, \"#46039f\"], [0.2222222222222222, \"#7201a8\"], [0.3333333333333333, \"#9c179e\"], [0.4444444444444444, \"#bd3786\"], [0.5555555555555556, \"#d8576b\"], [0.6666666666666666, \"#ed7953\"], [0.7777777777777778, \"#fb9f3a\"], [0.8888888888888888, \"#fdca26\"], [1.0, \"#f0f921\"]], \"type\": \"contour\"}], \"contourcarpet\": [{\"colorbar\": {\"outlinewidth\": 0, \"ticks\": \"\"}, \"type\": \"contourcarpet\"}], \"heatmap\": [{\"colorbar\": {\"outlinewidth\": 0, \"ticks\": \"\"}, \"colorscale\": [[0.0, \"#0d0887\"], [0.1111111111111111, \"#46039f\"], [0.2222222222222222, \"#7201a8\"], [0.3333333333333333, \"#9c179e\"], [0.4444444444444444, \"#bd3786\"], [0.5555555555555556, \"#d8576b\"], [0.6666666666666666, \"#ed7953\"], [0.7777777777777778, \"#fb9f3a\"], [0.8888888888888888, \"#fdca26\"], [1.0, \"#f0f921\"]], \"type\": \"heatmap\"}], \"heatmapgl\": [{\"colorbar\": {\"outlinewidth\": 0, \"ticks\": \"\"}, \"colorscale\": [[0.0, \"#0d0887\"], [0.1111111111111111, \"#46039f\"], [0.2222222222222222, \"#7201a8\"], [0.3333333333333333, \"#9c179e\"], [0.4444444444444444, \"#bd3786\"], [0.5555555555555556, \"#d8576b\"], [0.6666666666666666, \"#ed7953\"], [0.7777777777777778, \"#fb9f3a\"], [0.8888888888888888, \"#fdca26\"], [1.0, \"#f0f921\"]], \"type\": \"heatmapgl\"}], \"histogram\": [{\"marker\": {\"colorbar\": {\"outlinewidth\": 0, \"ticks\": \"\"}}, \"type\": \"histogram\"}], \"histogram2d\": [{\"colorbar\": {\"outlinewidth\": 0, \"ticks\": \"\"}, \"colorscale\": [[0.0, \"#0d0887\"], [0.1111111111111111, \"#46039f\"], [0.2222222222222222, \"#7201a8\"], [0.3333333333333333, \"#9c179e\"], [0.4444444444444444, \"#bd3786\"], [0.5555555555555556, \"#d8576b\"], [0.6666666666666666, \"#ed7953\"], [0.7777777777777778, \"#fb9f3a\"], [0.8888888888888888, \"#fdca26\"], [1.0, \"#f0f921\"]], \"type\": \"histogram2d\"}], \"histogram2dcontour\": [{\"colorbar\": {\"outlinewidth\": 0, \"ticks\": \"\"}, \"colorscale\": [[0.0, \"#0d0887\"], [0.1111111111111111, \"#46039f\"], [0.2222222222222222, \"#7201a8\"], [0.3333333333333333, \"#9c179e\"], [0.4444444444444444, \"#bd3786\"], [0.5555555555555556, \"#d8576b\"], [0.6666666666666666, \"#ed7953\"], [0.7777777777777778, \"#fb9f3a\"], [0.8888888888888888, \"#fdca26\"], [1.0, \"#f0f921\"]], \"type\": \"histogram2dcontour\"}], \"mesh3d\": [{\"colorbar\": {\"outlinewidth\": 0, \"ticks\": \"\"}, \"type\": \"mesh3d\"}], \"parcoords\": [{\"line\": {\"colorbar\": {\"outlinewidth\": 0, \"ticks\": \"\"}}, \"type\": \"parcoords\"}], \"pie\": [{\"automargin\": true, \"type\": \"pie\"}], \"scatter\": [{\"marker\": {\"colorbar\": {\"outlinewidth\": 0, \"ticks\": \"\"}}, \"type\": \"scatter\"}], \"scatter3d\": [{\"line\": {\"colorbar\": {\"outlinewidth\": 0, \"ticks\": \"\"}}, \"marker\": {\"colorbar\": {\"outlinewidth\": 0, \"ticks\": \"\"}}, \"type\": \"scatter3d\"}], \"scattercarpet\": [{\"marker\": {\"colorbar\": {\"outlinewidth\": 0, \"ticks\": \"\"}}, \"type\": \"scattercarpet\"}], \"scattergeo\": [{\"marker\": {\"colorbar\": {\"outlinewidth\": 0, \"ticks\": \"\"}}, \"type\": \"scattergeo\"}], \"scattergl\": [{\"marker\": {\"colorbar\": {\"outlinewidth\": 0, \"ticks\": \"\"}}, \"type\": \"scattergl\"}], \"scattermapbox\": [{\"marker\": {\"colorbar\": {\"outlinewidth\": 0, \"ticks\": \"\"}}, \"type\": \"scattermapbox\"}], \"scatterpolar\": [{\"marker\": {\"colorbar\": {\"outlinewidth\": 0, \"ticks\": \"\"}}, \"type\": \"scatterpolar\"}], \"scatterpolargl\": [{\"marker\": {\"colorbar\": {\"outlinewidth\": 0, \"ticks\": \"\"}}, \"type\": \"scatterpolargl\"}], \"scatterternary\": [{\"marker\": {\"colorbar\": {\"outlinewidth\": 0, \"ticks\": \"\"}}, \"type\": \"scatterternary\"}], \"surface\": [{\"colorbar\": {\"outlinewidth\": 0, \"ticks\": \"\"}, \"colorscale\": [[0.0, \"#0d0887\"], [0.1111111111111111, \"#46039f\"], [0.2222222222222222, \"#7201a8\"], [0.3333333333333333, \"#9c179e\"], [0.4444444444444444, \"#bd3786\"], [0.5555555555555556, \"#d8576b\"], [0.6666666666666666, \"#ed7953\"], [0.7777777777777778, \"#fb9f3a\"], [0.8888888888888888, \"#fdca26\"], [1.0, \"#f0f921\"]], \"type\": \"surface\"}], \"table\": [{\"cells\": {\"fill\": {\"color\": \"#EBF0F8\"}, \"line\": {\"color\": \"white\"}}, \"header\": {\"fill\": {\"color\": \"#C8D4E3\"}, \"line\": {\"color\": \"white\"}}, \"type\": \"table\"}]}, \"layout\": {\"annotationdefaults\": {\"arrowcolor\": \"#2a3f5f\", \"arrowhead\": 0, \"arrowwidth\": 1}, \"autotypenumbers\": \"strict\", \"coloraxis\": {\"colorbar\": {\"outlinewidth\": 0, \"ticks\": \"\"}}, \"colorscale\": {\"diverging\": [[0, \"#8e0152\"], [0.1, \"#c51b7d\"], [0.2, \"#de77ae\"], [0.3, \"#f1b6da\"], [0.4, \"#fde0ef\"], [0.5, \"#f7f7f7\"], [0.6, \"#e6f5d0\"], [0.7, \"#b8e186\"], [0.8, \"#7fbc41\"], [0.9, \"#4d9221\"], [1, \"#276419\"]], \"sequential\": [[0.0, \"#0d0887\"], [0.1111111111111111, \"#46039f\"], [0.2222222222222222, \"#7201a8\"], [0.3333333333333333, \"#9c179e\"], [0.4444444444444444, \"#bd3786\"], [0.5555555555555556, \"#d8576b\"], [0.6666666666666666, \"#ed7953\"], [0.7777777777777778, \"#fb9f3a\"], [0.8888888888888888, \"#fdca26\"], [1.0, \"#f0f921\"]], \"sequentialminus\": [[0.0, \"#0d0887\"], [0.1111111111111111, \"#46039f\"], [0.2222222222222222, \"#7201a8\"], [0.3333333333333333, \"#9c179e\"], [0.4444444444444444, \"#bd3786\"], [0.5555555555555556, \"#d8576b\"], [0.6666666666666666, \"#ed7953\"], [0.7777777777777778, \"#fb9f3a\"], [0.8888888888888888, \"#fdca26\"], [1.0, \"#f0f921\"]]}, \"colorway\": [\"#636efa\", \"#EF553B\", \"#00cc96\", \"#ab63fa\", \"#FFA15A\", \"#19d3f3\", \"#FF6692\", \"#B6E880\", \"#FF97FF\", \"#FECB52\"], \"font\": {\"color\": \"#2a3f5f\"}, \"geo\": {\"bgcolor\": \"white\", \"lakecolor\": \"white\", \"landcolor\": \"#E5ECF6\", \"showlakes\": true, \"showland\": true, \"subunitcolor\": \"white\"}, \"hoverlabel\": {\"align\": \"left\"}, \"hovermode\": \"closest\", \"mapbox\": {\"style\": \"light\"}, \"paper_bgcolor\": \"white\", \"plot_bgcolor\": \"#E5ECF6\", \"polar\": {\"angularaxis\": {\"gridcolor\": \"white\", \"linecolor\": \"white\", \"ticks\": \"\"}, \"bgcolor\": \"#E5ECF6\", \"radialaxis\": {\"gridcolor\": \"white\", \"linecolor\": \"white\", \"ticks\": \"\"}}, \"scene\": {\"xaxis\": {\"backgroundcolor\": \"#E5ECF6\", \"gridcolor\": \"white\", \"gridwidth\": 2, \"linecolor\": \"white\", \"showbackground\": true, \"ticks\": \"\", \"zerolinecolor\": \"white\"}, \"yaxis\": {\"backgroundcolor\": \"#E5ECF6\", \"gridcolor\": \"white\", \"gridwidth\": 2, \"linecolor\": \"white\", \"showbackground\": true, \"ticks\": \"\", \"zerolinecolor\": \"white\"}, \"zaxis\": {\"backgroundcolor\": \"#E5ECF6\", \"gridcolor\": \"white\", \"gridwidth\": 2, \"linecolor\": \"white\", \"showbackground\": true, \"ticks\": \"\", \"zerolinecolor\": \"white\"}}, \"shapedefaults\": {\"line\": {\"color\": \"#2a3f5f\"}}, \"ternary\": {\"aaxis\": {\"gridcolor\": \"white\", \"linecolor\": \"white\", \"ticks\": \"\"}, \"baxis\": {\"gridcolor\": \"white\", \"linecolor\": \"white\", \"ticks\": \"\"}, \"bgcolor\": \"#E5ECF6\", \"caxis\": {\"gridcolor\": \"white\", \"linecolor\": \"white\", \"ticks\": \"\"}}, \"title\": {\"x\": 0.05}, \"xaxis\": {\"automargin\": true, \"gridcolor\": \"white\", \"linecolor\": \"white\", \"ticks\": \"\", \"title\": {\"standoff\": 15}, \"zerolinecolor\": \"white\", \"zerolinewidth\": 2}, \"yaxis\": {\"automargin\": true, \"gridcolor\": \"white\", \"linecolor\": \"white\", \"ticks\": \"\", \"title\": {\"standoff\": 15}, \"zerolinecolor\": \"white\", \"zerolinewidth\": 2}}}, \"title\": {\"text\": \"Hyperparameter Importances\"}, \"xaxis\": {\"title\": {\"text\": \"Importance for Objective Value\"}}, \"yaxis\": {\"title\": {\"text\": \"Hyperparameter\"}}},                        {\"responsive\": true}                    ).then(function(){\n",
       "                            \n",
       "var gd = document.getElementById('caaf2e90-5c5c-473b-a0c1-70462849d80e');\n",
       "var x = new MutationObserver(function (mutations, observer) {{\n",
       "        var display = window.getComputedStyle(gd).display;\n",
       "        if (!display || display === 'none') {{\n",
       "            console.log([gd, 'removed!']);\n",
       "            Plotly.purge(gd);\n",
       "            observer.disconnect();\n",
       "        }}\n",
       "}});\n",
       "\n",
       "// Listen for the removal of the full notebook cells\n",
       "var notebookContainer = gd.closest('#notebook-container');\n",
       "if (notebookContainer) {{\n",
       "    x.observe(notebookContainer, {childList: true});\n",
       "}}\n",
       "\n",
       "// Listen for the clearing of the current output cell\n",
       "var outputEl = gd.closest('.output');\n",
       "if (outputEl) {{\n",
       "    x.observe(outputEl, {childList: true});\n",
       "}}\n",
       "\n",
       "                        })                };                });            </script>        </div>"
      ]
     },
     "metadata": {},
     "output_type": "display_data"
    }
   ],
   "source": [
    "# plot feature importance for algorithm parameters\n",
    "visualization.plot_param_importances(study)"
   ]
  },
  {
   "cell_type": "code",
   "execution_count": 26,
   "metadata": {
    "execution": {
     "iopub.execute_input": "2021-02-14T01:05:47.144222Z",
     "iopub.status.busy": "2021-02-14T01:05:47.143622Z",
     "iopub.status.idle": "2021-02-14T01:05:47.153742Z",
     "shell.execute_reply": "2021-02-14T01:05:47.154171Z"
    },
    "papermill": {
     "duration": 0.069196,
     "end_time": "2021-02-14T01:05:47.154315",
     "exception": false,
     "start_time": "2021-02-14T01:05:47.085119",
     "status": "completed"
    },
    "tags": []
   },
   "outputs": [
    {
     "data": {
      "text/html": [
       "<div>                            <div id=\"1eb789e2-1c11-4e00-a468-0d086b582cf4\" class=\"plotly-graph-div\" style=\"height:525px; width:100%;\"></div>            <script type=\"text/javascript\">                require([\"plotly\"], function(Plotly) {                    window.PLOTLYENV=window.PLOTLYENV || {};                                    if (document.getElementById(\"1eb789e2-1c11-4e00-a468-0d086b582cf4\")) {                    Plotly.newPlot(                        \"1eb789e2-1c11-4e00-a468-0d086b582cf4\",                        [{\"mode\": \"lines\", \"name\": \"no-name-13ad59bf-57bf-4000-b672-60c6605e494c\", \"type\": \"scatter\", \"x\": [0.8444314588747558, 0.8446774695733944, 0.844923480272033, 0.8451694909706716, 0.8454155016693102, 0.8456615123679488, 0.8459075230665875, 0.8461535337652261, 0.8463995444638646, 0.8466455551625032, 0.8468915658611418, 0.8471375765597804, 0.847383587258419, 0.8476295979570576, 0.8478756086556962, 0.8481216193543348, 0.8483676300529734, 0.848613640751612, 0.8488596514502507, 0.8491056621488893, 0.8493516728475279, 0.8495976835461665, 0.849843694244805, 0.8500897049434436, 0.8503357156420822, 0.8505817263407208, 0.8508277370393594, 0.851073747737998, 0.8513197584366367, 0.8515657691352753, 0.8518117798339139, 0.8520577905325525, 0.8523038012311911, 0.8525498119298297, 0.8527958226284683, 0.8530418333271069, 0.8532878440257454, 0.853533854724384, 0.8537798654230226, 0.8540258761216613, 0.8542718868202999, 0.8545178975189385, 0.8547639082175771, 0.8550099189162157, 0.8552559296148543, 0.8555019403134929, 0.8557479510121315, 0.8559939617107701, 0.8562399724094087, 0.8564859831080474, 0.8567319938066859, 0.8569780045053245, 0.8572240152039631, 0.8574700259026017, 0.8577160366012403, 0.8579620472998789, 0.8582080579985175, 0.8584540686971561, 0.8587000793957947, 0.8589460900944333, 0.859192100793072, 0.8594381114917106, 0.8596841221903492, 0.8599301328889878, 0.8601761435876263, 0.8604221542862649, 0.8606681649849035, 0.8609141756835421, 0.8611601863821807, 0.8614061970808193, 0.861652207779458, 0.8618982184780966, 0.8621442291767352, 0.8623902398753738, 0.8626362505740124, 0.862882261272651, 0.8631282719712896, 0.8633742826699282, 0.8636202933685667, 0.8638663040672053, 0.8641123147658439, 0.8643583254644825, 0.8646043361631212, 0.8648503468617598, 0.8650963575603984, 0.865342368259037, 0.8655883789576756, 0.8658343896563142, 0.8660804003549528, 0.8663264110535914, 0.86657242175223, 0.8668184324508686, 0.8670644431495071, 0.8673104538481458, 0.8675564645467844, 0.867802475245423, 0.8680484859440616, 0.8682944966427002, 0.8685405073413388, 0.8687865180399774], \"y\": [0.2, 0.2, 0.4, 0.4, 0.4, 0.4, 0.4, 0.4, 0.4, 0.4, 0.4, 0.4, 0.4, 0.4, 0.4, 0.4, 0.4, 0.4, 0.4, 0.4, 0.4, 0.4, 0.4, 0.4, 0.4, 0.4, 0.4, 0.6, 0.6, 0.6, 0.6, 0.6, 0.6, 0.6, 0.6, 0.6, 0.6, 0.6, 0.6, 0.6, 0.6, 0.6, 0.6, 0.6, 0.6, 0.6, 0.6, 0.6, 0.6, 0.6, 0.8, 0.8, 0.8, 0.8, 0.8, 0.8, 0.8, 0.8, 0.8, 0.8, 0.8, 0.8, 0.8, 0.8, 0.8, 0.8, 0.8, 0.8, 0.8, 0.8, 0.8, 0.8, 0.8, 0.8, 0.8, 0.8, 0.8, 0.8, 0.8, 0.8, 0.8, 0.8, 0.8, 0.8, 0.8, 0.8, 0.8, 0.8, 0.8, 0.8, 0.8, 0.8, 0.8, 0.8, 0.8, 0.8, 0.8, 0.8, 0.8, 1.0]}],                        {\"template\": {\"data\": {\"bar\": [{\"error_x\": {\"color\": \"#2a3f5f\"}, \"error_y\": {\"color\": \"#2a3f5f\"}, \"marker\": {\"line\": {\"color\": \"#E5ECF6\", \"width\": 0.5}}, \"type\": \"bar\"}], \"barpolar\": [{\"marker\": {\"line\": {\"color\": \"#E5ECF6\", \"width\": 0.5}}, \"type\": \"barpolar\"}], \"carpet\": [{\"aaxis\": {\"endlinecolor\": \"#2a3f5f\", \"gridcolor\": \"white\", \"linecolor\": \"white\", \"minorgridcolor\": \"white\", \"startlinecolor\": \"#2a3f5f\"}, \"baxis\": {\"endlinecolor\": \"#2a3f5f\", \"gridcolor\": \"white\", \"linecolor\": \"white\", \"minorgridcolor\": \"white\", \"startlinecolor\": \"#2a3f5f\"}, \"type\": \"carpet\"}], \"choropleth\": [{\"colorbar\": {\"outlinewidth\": 0, \"ticks\": \"\"}, \"type\": \"choropleth\"}], \"contour\": [{\"colorbar\": {\"outlinewidth\": 0, \"ticks\": \"\"}, \"colorscale\": [[0.0, \"#0d0887\"], [0.1111111111111111, \"#46039f\"], [0.2222222222222222, \"#7201a8\"], [0.3333333333333333, \"#9c179e\"], [0.4444444444444444, \"#bd3786\"], [0.5555555555555556, \"#d8576b\"], [0.6666666666666666, \"#ed7953\"], [0.7777777777777778, \"#fb9f3a\"], [0.8888888888888888, \"#fdca26\"], [1.0, \"#f0f921\"]], \"type\": \"contour\"}], \"contourcarpet\": [{\"colorbar\": {\"outlinewidth\": 0, \"ticks\": \"\"}, \"type\": \"contourcarpet\"}], \"heatmap\": [{\"colorbar\": {\"outlinewidth\": 0, \"ticks\": \"\"}, \"colorscale\": [[0.0, \"#0d0887\"], [0.1111111111111111, \"#46039f\"], [0.2222222222222222, \"#7201a8\"], [0.3333333333333333, \"#9c179e\"], [0.4444444444444444, \"#bd3786\"], [0.5555555555555556, \"#d8576b\"], [0.6666666666666666, \"#ed7953\"], [0.7777777777777778, \"#fb9f3a\"], [0.8888888888888888, \"#fdca26\"], [1.0, \"#f0f921\"]], \"type\": \"heatmap\"}], \"heatmapgl\": [{\"colorbar\": {\"outlinewidth\": 0, \"ticks\": \"\"}, \"colorscale\": [[0.0, \"#0d0887\"], [0.1111111111111111, \"#46039f\"], [0.2222222222222222, \"#7201a8\"], [0.3333333333333333, \"#9c179e\"], [0.4444444444444444, \"#bd3786\"], [0.5555555555555556, \"#d8576b\"], [0.6666666666666666, \"#ed7953\"], [0.7777777777777778, \"#fb9f3a\"], [0.8888888888888888, \"#fdca26\"], [1.0, \"#f0f921\"]], \"type\": \"heatmapgl\"}], \"histogram\": [{\"marker\": {\"colorbar\": {\"outlinewidth\": 0, \"ticks\": \"\"}}, \"type\": \"histogram\"}], \"histogram2d\": [{\"colorbar\": {\"outlinewidth\": 0, \"ticks\": \"\"}, \"colorscale\": [[0.0, \"#0d0887\"], [0.1111111111111111, \"#46039f\"], [0.2222222222222222, \"#7201a8\"], [0.3333333333333333, \"#9c179e\"], [0.4444444444444444, \"#bd3786\"], [0.5555555555555556, \"#d8576b\"], [0.6666666666666666, \"#ed7953\"], [0.7777777777777778, \"#fb9f3a\"], [0.8888888888888888, \"#fdca26\"], [1.0, \"#f0f921\"]], \"type\": \"histogram2d\"}], \"histogram2dcontour\": [{\"colorbar\": {\"outlinewidth\": 0, \"ticks\": \"\"}, \"colorscale\": [[0.0, \"#0d0887\"], [0.1111111111111111, \"#46039f\"], [0.2222222222222222, \"#7201a8\"], [0.3333333333333333, \"#9c179e\"], [0.4444444444444444, \"#bd3786\"], [0.5555555555555556, \"#d8576b\"], [0.6666666666666666, \"#ed7953\"], [0.7777777777777778, \"#fb9f3a\"], [0.8888888888888888, \"#fdca26\"], [1.0, \"#f0f921\"]], \"type\": \"histogram2dcontour\"}], \"mesh3d\": [{\"colorbar\": {\"outlinewidth\": 0, \"ticks\": \"\"}, \"type\": \"mesh3d\"}], \"parcoords\": [{\"line\": {\"colorbar\": {\"outlinewidth\": 0, \"ticks\": \"\"}}, \"type\": \"parcoords\"}], \"pie\": [{\"automargin\": true, \"type\": \"pie\"}], \"scatter\": [{\"marker\": {\"colorbar\": {\"outlinewidth\": 0, \"ticks\": \"\"}}, \"type\": \"scatter\"}], \"scatter3d\": [{\"line\": {\"colorbar\": {\"outlinewidth\": 0, \"ticks\": \"\"}}, \"marker\": {\"colorbar\": {\"outlinewidth\": 0, \"ticks\": \"\"}}, \"type\": \"scatter3d\"}], \"scattercarpet\": [{\"marker\": {\"colorbar\": {\"outlinewidth\": 0, \"ticks\": \"\"}}, \"type\": \"scattercarpet\"}], \"scattergeo\": [{\"marker\": {\"colorbar\": {\"outlinewidth\": 0, \"ticks\": \"\"}}, \"type\": \"scattergeo\"}], \"scattergl\": [{\"marker\": {\"colorbar\": {\"outlinewidth\": 0, \"ticks\": \"\"}}, \"type\": \"scattergl\"}], \"scattermapbox\": [{\"marker\": {\"colorbar\": {\"outlinewidth\": 0, \"ticks\": \"\"}}, \"type\": \"scattermapbox\"}], \"scatterpolar\": [{\"marker\": {\"colorbar\": {\"outlinewidth\": 0, \"ticks\": \"\"}}, \"type\": \"scatterpolar\"}], \"scatterpolargl\": [{\"marker\": {\"colorbar\": {\"outlinewidth\": 0, \"ticks\": \"\"}}, \"type\": \"scatterpolargl\"}], \"scatterternary\": [{\"marker\": {\"colorbar\": {\"outlinewidth\": 0, \"ticks\": \"\"}}, \"type\": \"scatterternary\"}], \"surface\": [{\"colorbar\": {\"outlinewidth\": 0, \"ticks\": \"\"}, \"colorscale\": [[0.0, \"#0d0887\"], [0.1111111111111111, \"#46039f\"], [0.2222222222222222, \"#7201a8\"], [0.3333333333333333, \"#9c179e\"], [0.4444444444444444, \"#bd3786\"], [0.5555555555555556, \"#d8576b\"], [0.6666666666666666, \"#ed7953\"], [0.7777777777777778, \"#fb9f3a\"], [0.8888888888888888, \"#fdca26\"], [1.0, \"#f0f921\"]], \"type\": \"surface\"}], \"table\": [{\"cells\": {\"fill\": {\"color\": \"#EBF0F8\"}, \"line\": {\"color\": \"white\"}}, \"header\": {\"fill\": {\"color\": \"#C8D4E3\"}, \"line\": {\"color\": \"white\"}}, \"type\": \"table\"}]}, \"layout\": {\"annotationdefaults\": {\"arrowcolor\": \"#2a3f5f\", \"arrowhead\": 0, \"arrowwidth\": 1}, \"autotypenumbers\": \"strict\", \"coloraxis\": {\"colorbar\": {\"outlinewidth\": 0, \"ticks\": \"\"}}, \"colorscale\": {\"diverging\": [[0, \"#8e0152\"], [0.1, \"#c51b7d\"], [0.2, \"#de77ae\"], [0.3, \"#f1b6da\"], [0.4, \"#fde0ef\"], [0.5, \"#f7f7f7\"], [0.6, \"#e6f5d0\"], [0.7, \"#b8e186\"], [0.8, \"#7fbc41\"], [0.9, \"#4d9221\"], [1, \"#276419\"]], \"sequential\": [[0.0, \"#0d0887\"], [0.1111111111111111, \"#46039f\"], [0.2222222222222222, \"#7201a8\"], [0.3333333333333333, \"#9c179e\"], [0.4444444444444444, \"#bd3786\"], [0.5555555555555556, \"#d8576b\"], [0.6666666666666666, \"#ed7953\"], [0.7777777777777778, \"#fb9f3a\"], [0.8888888888888888, \"#fdca26\"], [1.0, \"#f0f921\"]], \"sequentialminus\": [[0.0, \"#0d0887\"], [0.1111111111111111, \"#46039f\"], [0.2222222222222222, \"#7201a8\"], [0.3333333333333333, \"#9c179e\"], [0.4444444444444444, \"#bd3786\"], [0.5555555555555556, \"#d8576b\"], [0.6666666666666666, \"#ed7953\"], [0.7777777777777778, \"#fb9f3a\"], [0.8888888888888888, \"#fdca26\"], [1.0, \"#f0f921\"]]}, \"colorway\": [\"#636efa\", \"#EF553B\", \"#00cc96\", \"#ab63fa\", \"#FFA15A\", \"#19d3f3\", \"#FF6692\", \"#B6E880\", \"#FF97FF\", \"#FECB52\"], \"font\": {\"color\": \"#2a3f5f\"}, \"geo\": {\"bgcolor\": \"white\", \"lakecolor\": \"white\", \"landcolor\": \"#E5ECF6\", \"showlakes\": true, \"showland\": true, \"subunitcolor\": \"white\"}, \"hoverlabel\": {\"align\": \"left\"}, \"hovermode\": \"closest\", \"mapbox\": {\"style\": \"light\"}, \"paper_bgcolor\": \"white\", \"plot_bgcolor\": \"#E5ECF6\", \"polar\": {\"angularaxis\": {\"gridcolor\": \"white\", \"linecolor\": \"white\", \"ticks\": \"\"}, \"bgcolor\": \"#E5ECF6\", \"radialaxis\": {\"gridcolor\": \"white\", \"linecolor\": \"white\", \"ticks\": \"\"}}, \"scene\": {\"xaxis\": {\"backgroundcolor\": \"#E5ECF6\", \"gridcolor\": \"white\", \"gridwidth\": 2, \"linecolor\": \"white\", \"showbackground\": true, \"ticks\": \"\", \"zerolinecolor\": \"white\"}, \"yaxis\": {\"backgroundcolor\": \"#E5ECF6\", \"gridcolor\": \"white\", \"gridwidth\": 2, \"linecolor\": \"white\", \"showbackground\": true, \"ticks\": \"\", \"zerolinecolor\": \"white\"}, \"zaxis\": {\"backgroundcolor\": \"#E5ECF6\", \"gridcolor\": \"white\", \"gridwidth\": 2, \"linecolor\": \"white\", \"showbackground\": true, \"ticks\": \"\", \"zerolinecolor\": \"white\"}}, \"shapedefaults\": {\"line\": {\"color\": \"#2a3f5f\"}}, \"ternary\": {\"aaxis\": {\"gridcolor\": \"white\", \"linecolor\": \"white\", \"ticks\": \"\"}, \"baxis\": {\"gridcolor\": \"white\", \"linecolor\": \"white\", \"ticks\": \"\"}, \"bgcolor\": \"#E5ECF6\", \"caxis\": {\"gridcolor\": \"white\", \"linecolor\": \"white\", \"ticks\": \"\"}}, \"title\": {\"x\": 0.05}, \"xaxis\": {\"automargin\": true, \"gridcolor\": \"white\", \"linecolor\": \"white\", \"ticks\": \"\", \"title\": {\"standoff\": 15}, \"zerolinecolor\": \"white\", \"zerolinewidth\": 2}, \"yaxis\": {\"automargin\": true, \"gridcolor\": \"white\", \"linecolor\": \"white\", \"ticks\": \"\", \"title\": {\"standoff\": 15}, \"zerolinecolor\": \"white\", \"zerolinewidth\": 2}}}, \"title\": {\"text\": \"Empirical Distribution Function Plot\"}, \"xaxis\": {\"title\": {\"text\": \"Objective Value\"}}, \"yaxis\": {\"range\": [0, 1], \"title\": {\"text\": \"Cumulative Probability\"}}},                        {\"responsive\": true}                    ).then(function(){\n",
       "                            \n",
       "var gd = document.getElementById('1eb789e2-1c11-4e00-a468-0d086b582cf4');\n",
       "var x = new MutationObserver(function (mutations, observer) {{\n",
       "        var display = window.getComputedStyle(gd).display;\n",
       "        if (!display || display === 'none') {{\n",
       "            console.log([gd, 'removed!']);\n",
       "            Plotly.purge(gd);\n",
       "            observer.disconnect();\n",
       "        }}\n",
       "}});\n",
       "\n",
       "// Listen for the removal of the full notebook cells\n",
       "var notebookContainer = gd.closest('#notebook-container');\n",
       "if (notebookContainer) {{\n",
       "    x.observe(notebookContainer, {childList: true});\n",
       "}}\n",
       "\n",
       "// Listen for the clearing of the current output cell\n",
       "var outputEl = gd.closest('.output');\n",
       "if (outputEl) {{\n",
       "    x.observe(outputEl, {childList: true});\n",
       "}}\n",
       "\n",
       "                        })                };                });            </script>        </div>"
      ]
     },
     "metadata": {},
     "output_type": "display_data"
    }
   ],
   "source": [
    "#Visualize empirical distribution function\n",
    "optuna.visualization.plot_edf(study)"
   ]
  },
  {
   "cell_type": "code",
   "execution_count": 27,
   "metadata": {
    "execution": {
     "iopub.execute_input": "2021-02-14T01:05:47.265228Z",
     "iopub.status.busy": "2021-02-14T01:05:47.264531Z",
     "iopub.status.idle": "2021-02-14T01:05:47.268008Z",
     "shell.execute_reply": "2021-02-14T01:05:47.268473Z"
    },
    "papermill": {
     "duration": 0.062586,
     "end_time": "2021-02-14T01:05:47.268621",
     "exception": false,
     "start_time": "2021-02-14T01:05:47.206035",
     "status": "completed"
    },
    "tags": []
   },
   "outputs": [
    {
     "data": {
      "text/plain": [
       "{'reg_lambda': 6.090064325463461,\n",
       " 'reg_alpha': 0.003411651495990647,\n",
       " 'colsample_bytree': 0.6,\n",
       " 'subsample': 0.7,\n",
       " 'learning_rate': 0.01,\n",
       " 'n_estimators': 3000,\n",
       " 'max_depth': 9,\n",
       " 'min_child_samples': 297,\n",
       " 'num_leaves': 93}"
      ]
     },
     "execution_count": 27,
     "metadata": {},
     "output_type": "execute_result"
    }
   ],
   "source": [
    "# finally plot best parameters\n",
    "study.best_params"
   ]
  },
  {
   "cell_type": "markdown",
   "metadata": {
    "papermill": {
     "duration": 0.050946,
     "end_time": "2021-02-14T01:05:47.372273",
     "exception": false,
     "start_time": "2021-02-14T01:05:47.321327",
     "status": "completed"
    },
    "tags": []
   },
   "source": [
    "<a id='4.2'></a>\n",
    "## <p style=\"background-color:skyblue; font-family:newtimeroman; font-size:120%; text-align:center\">4.2 Optimized LGBM 📝</p>"
   ]
  },
  {
   "cell_type": "code",
   "execution_count": 28,
   "metadata": {
    "execution": {
     "iopub.execute_input": "2021-02-14T01:05:47.483718Z",
     "iopub.status.busy": "2021-02-14T01:05:47.482132Z",
     "iopub.status.idle": "2021-02-14T01:07:08.444914Z",
     "shell.execute_reply": "2021-02-14T01:07:08.445545Z"
    },
    "papermill": {
     "duration": 81.022738,
     "end_time": "2021-02-14T01:07:08.445742",
     "exception": false,
     "start_time": "2021-02-14T01:05:47.423004",
     "status": "completed"
    },
    "tags": []
   },
   "outputs": [
    {
     "name": "stdout",
     "output_type": "stream",
     "text": [
      "\u001b[32mBase LGBM RMSE: 0.8436760586537242\n"
     ]
    }
   ],
   "source": [
    "best_params = {\n",
    "    'reg_lambda': 0.015979956459638782,\n",
    "    'reg_alpha': 9.103977313355028,\n",
    "    'colsample_bytree': 0.3,\n",
    "    'subsample': 1.0,\n",
    "    'learning_rate': 0.009,\n",
    "    'n_estimators': 3000,\n",
    "    'max_depth': 15,\n",
    "    'min_child_samples': 142,\n",
    "    'num_leaves': 84,\n",
    "    'random_state': 42, \n",
    "    'device': 'gpu',\n",
    "}\n",
    "\n",
    "# Instantiate model with 100 decision trees\n",
    "clf = LGBMRegressor(**best_params)\n",
    "\n",
    "clf.fit(x_train, y_train)\n",
    "\n",
    "# Use the forest's predict method on the test data\n",
    "predictions = clf.predict(x_test)\n",
    "\n",
    "score_rmse = math.sqrt(mean_squared_error(y_test, predictions))\n",
    "print(Fore.GREEN + 'Base LGBM RMSE: {}'.format(score_rmse))"
   ]
  },
  {
   "cell_type": "markdown",
   "metadata": {
    "papermill": {
     "duration": 0.048708,
     "end_time": "2021-02-14T01:07:08.544745",
     "exception": false,
     "start_time": "2021-02-14T01:07:08.496037",
     "status": "completed"
    },
    "tags": []
   },
   "source": [
    "<a id='4.3'></a>\n",
    "## <p style=\"background-color:skyblue; font-family:newtimeroman; font-size:120%; text-align:center\">4.3 Optuna Submission 📝</p>"
   ]
  },
  {
   "cell_type": "code",
   "execution_count": 29,
   "metadata": {
    "execution": {
     "iopub.execute_input": "2021-02-14T01:07:08.657967Z",
     "iopub.status.busy": "2021-02-14T01:07:08.656538Z",
     "iopub.status.idle": "2021-02-14T01:08:05.913193Z",
     "shell.execute_reply": "2021-02-14T01:08:05.912693Z"
    },
    "papermill": {
     "duration": 57.319342,
     "end_time": "2021-02-14T01:08:05.913330",
     "exception": false,
     "start_time": "2021-02-14T01:07:08.593988",
     "status": "completed"
    },
    "tags": []
   },
   "outputs": [],
   "source": [
    "sub_preds = clf.predict(test_df[feature_cols])\n",
    "\n",
    "sub_df['target'] = sub_preds\n",
    "sub_df.to_csv('submission_lgbm_optuna.csv', index=False)\n",
    "sub_df.head()\n",
    "\n",
    "sub_lgbm_optuna = sub_preds"
   ]
  },
  {
   "cell_type": "markdown",
   "metadata": {
    "papermill": {
     "duration": 0.049855,
     "end_time": "2021-02-14T01:08:06.013953",
     "exception": false,
     "start_time": "2021-02-14T01:08:05.964098",
     "status": "completed"
    },
    "tags": []
   },
   "source": [
    "<a id='5'></a>\n",
    "# <p style=\"background-color:skyblue; font-family:newtimeroman; font-size:150%; text-align:center\">5. Optimized LGBM CrossValidated 🧮</p>"
   ]
  },
  {
   "cell_type": "code",
   "execution_count": 30,
   "metadata": {
    "execution": {
     "iopub.execute_input": "2021-02-14T01:08:06.119151Z",
     "iopub.status.busy": "2021-02-14T01:08:06.118292Z",
     "iopub.status.idle": "2021-02-14T01:08:06.121114Z",
     "shell.execute_reply": "2021-02-14T01:08:06.120711Z"
    },
    "papermill": {
     "duration": 0.057956,
     "end_time": "2021-02-14T01:08:06.121233",
     "exception": false,
     "start_time": "2021-02-14T01:08:06.063277",
     "status": "completed"
    },
    "tags": []
   },
   "outputs": [],
   "source": [
    "lgbm_params = {\n",
    "    \"random_state\": 2021,\n",
    "    \"metric\": \"rmse\",\n",
    "    \"n_jobs\": -1,\n",
    "    \"cat_feature\": [x for x in range(len(categorical_columns))],\n",
    "    \"early_stopping_round\": 150,\n",
    "    \"reg_alpha\": 6.147694913504962,\n",
    "    \"reg_lambda\": 0.002457826062076097,\n",
    "    \"colsample_bytree\": 0.3,\n",
    "    \"learning_rate\": 0.01,\n",
    "    \"max_depth\": 30,\n",
    "    \"num_leaves\": 100,\n",
    "    \"min_child_samples\": 275,\n",
    "    \"n_estimators\": 30000,\n",
    "    \"cat_smooth\": 40.0,\n",
    "    \"max_bin\": 512,\n",
    "    \"min_data_per_group\": 100,\n",
    "    \"bagging_freq\": 1,\n",
    "    \"bagging_fraction\": 0.7,\n",
    "    \"cat_l2\": 12.0,\n",
    "}"
   ]
  },
  {
   "cell_type": "code",
   "execution_count": 31,
   "metadata": {
    "execution": {
     "iopub.execute_input": "2021-02-14T01:08:06.228167Z",
     "iopub.status.busy": "2021-02-14T01:08:06.227378Z",
     "iopub.status.idle": "2021-02-14T01:30:03.013084Z",
     "shell.execute_reply": "2021-02-14T01:30:03.011164Z"
    },
    "papermill": {
     "duration": 1316.841994,
     "end_time": "2021-02-14T01:30:03.013277",
     "exception": false,
     "start_time": "2021-02-14T01:08:06.171283",
     "status": "completed"
    },
    "tags": []
   },
   "outputs": [
    {
     "data": {
      "application/vnd.jupyter.widget-view+json": {
       "model_id": "1c7c26eb064b44de824ec71d980320f9",
       "version_major": 2,
       "version_minor": 0
      },
      "text/plain": [
       "|          | 0/? [00:00<?, ?it/s]"
      ]
     },
     "metadata": {},
     "output_type": "display_data"
    },
    {
     "name": "stderr",
     "output_type": "stream",
     "text": [
      "/opt/conda/lib/python3.7/site-packages/lightgbm/engine.py:156: UserWarning:\n",
      "\n",
      "Found `early_stopping_round` in params. Will use it instead of argument\n",
      "\n"
     ]
    },
    {
     "name": "stdout",
     "output_type": "stream",
     "text": [
      "[LightGBM] [Warning] bagging_fraction is set=0.7, subsample=1.0 will be ignored. Current value: bagging_fraction=0.7\n",
      "[LightGBM] [Warning] bagging_freq is set=1, subsample_freq=0 will be ignored. Current value: bagging_freq=1\n",
      "0.8447523136690115\n",
      "[LightGBM] [Warning] bagging_fraction is set=0.7, subsample=1.0 will be ignored. Current value: bagging_fraction=0.7\n",
      "[LightGBM] [Warning] bagging_freq is set=1, subsample_freq=0 will be ignored. Current value: bagging_freq=1\n"
     ]
    },
    {
     "name": "stderr",
     "output_type": "stream",
     "text": [
      "/opt/conda/lib/python3.7/site-packages/lightgbm/engine.py:156: UserWarning:\n",
      "\n",
      "Found `early_stopping_round` in params. Will use it instead of argument\n",
      "\n"
     ]
    },
    {
     "name": "stdout",
     "output_type": "stream",
     "text": [
      "0.8383148954270055\n",
      "[LightGBM] [Warning] bagging_fraction is set=0.7, subsample=1.0 will be ignored. Current value: bagging_fraction=0.7\n",
      "[LightGBM] [Warning] bagging_freq is set=1, subsample_freq=0 will be ignored. Current value: bagging_freq=1\n"
     ]
    },
    {
     "name": "stderr",
     "output_type": "stream",
     "text": [
      "/opt/conda/lib/python3.7/site-packages/lightgbm/engine.py:156: UserWarning:\n",
      "\n",
      "Found `early_stopping_round` in params. Will use it instead of argument\n",
      "\n"
     ]
    },
    {
     "name": "stdout",
     "output_type": "stream",
     "text": [
      "0.8447608490376868\n",
      "[LightGBM] [Warning] bagging_fraction is set=0.7, subsample=1.0 will be ignored. Current value: bagging_fraction=0.7\n",
      "[LightGBM] [Warning] bagging_freq is set=1, subsample_freq=0 will be ignored. Current value: bagging_freq=1\n"
     ]
    },
    {
     "name": "stderr",
     "output_type": "stream",
     "text": [
      "/opt/conda/lib/python3.7/site-packages/lightgbm/engine.py:156: UserWarning:\n",
      "\n",
      "Found `early_stopping_round` in params. Will use it instead of argument\n",
      "\n"
     ]
    },
    {
     "name": "stdout",
     "output_type": "stream",
     "text": [
      "0.8424081379764321\n",
      "[LightGBM] [Warning] bagging_fraction is set=0.7, subsample=1.0 will be ignored. Current value: bagging_fraction=0.7\n",
      "[LightGBM] [Warning] bagging_freq is set=1, subsample_freq=0 will be ignored. Current value: bagging_freq=1\n"
     ]
    },
    {
     "name": "stderr",
     "output_type": "stream",
     "text": [
      "/opt/conda/lib/python3.7/site-packages/lightgbm/engine.py:156: UserWarning:\n",
      "\n",
      "Found `early_stopping_round` in params. Will use it instead of argument\n",
      "\n"
     ]
    },
    {
     "name": "stdout",
     "output_type": "stream",
     "text": [
      "0.840751801171369\n",
      "[LightGBM] [Warning] bagging_fraction is set=0.7, subsample=1.0 will be ignored. Current value: bagging_fraction=0.7\n",
      "[LightGBM] [Warning] bagging_freq is set=1, subsample_freq=0 will be ignored. Current value: bagging_freq=1\n"
     ]
    },
    {
     "name": "stderr",
     "output_type": "stream",
     "text": [
      "/opt/conda/lib/python3.7/site-packages/lightgbm/engine.py:156: UserWarning:\n",
      "\n",
      "Found `early_stopping_round` in params. Will use it instead of argument\n",
      "\n"
     ]
    },
    {
     "name": "stdout",
     "output_type": "stream",
     "text": [
      "0.8436175393432145\n",
      "[LightGBM] [Warning] bagging_fraction is set=0.7, subsample=1.0 will be ignored. Current value: bagging_fraction=0.7\n",
      "[LightGBM] [Warning] bagging_freq is set=1, subsample_freq=0 will be ignored. Current value: bagging_freq=1\n"
     ]
    },
    {
     "name": "stderr",
     "output_type": "stream",
     "text": [
      "/opt/conda/lib/python3.7/site-packages/lightgbm/engine.py:156: UserWarning:\n",
      "\n",
      "Found `early_stopping_round` in params. Will use it instead of argument\n",
      "\n"
     ]
    },
    {
     "name": "stdout",
     "output_type": "stream",
     "text": [
      "0.8415343222517084\n",
      "[LightGBM] [Warning] bagging_fraction is set=0.7, subsample=1.0 will be ignored. Current value: bagging_fraction=0.7\n",
      "[LightGBM] [Warning] bagging_freq is set=1, subsample_freq=0 will be ignored. Current value: bagging_freq=1\n"
     ]
    },
    {
     "name": "stderr",
     "output_type": "stream",
     "text": [
      "/opt/conda/lib/python3.7/site-packages/lightgbm/engine.py:156: UserWarning:\n",
      "\n",
      "Found `early_stopping_round` in params. Will use it instead of argument\n",
      "\n"
     ]
    },
    {
     "name": "stdout",
     "output_type": "stream",
     "text": [
      "0.8411302613373675\n",
      "[LightGBM] [Warning] bagging_fraction is set=0.7, subsample=1.0 will be ignored. Current value: bagging_fraction=0.7\n",
      "[LightGBM] [Warning] bagging_freq is set=1, subsample_freq=0 will be ignored. Current value: bagging_freq=1\n"
     ]
    },
    {
     "name": "stderr",
     "output_type": "stream",
     "text": [
      "/opt/conda/lib/python3.7/site-packages/lightgbm/engine.py:156: UserWarning:\n",
      "\n",
      "Found `early_stopping_round` in params. Will use it instead of argument\n",
      "\n"
     ]
    },
    {
     "name": "stdout",
     "output_type": "stream",
     "text": [
      "0.84226110290696\n",
      "[LightGBM] [Warning] bagging_fraction is set=0.7, subsample=1.0 will be ignored. Current value: bagging_fraction=0.7\n",
      "[LightGBM] [Warning] bagging_freq is set=1, subsample_freq=0 will be ignored. Current value: bagging_freq=1\n"
     ]
    },
    {
     "name": "stderr",
     "output_type": "stream",
     "text": [
      "/opt/conda/lib/python3.7/site-packages/lightgbm/engine.py:156: UserWarning:\n",
      "\n",
      "Found `early_stopping_round` in params. Will use it instead of argument\n",
      "\n"
     ]
    },
    {
     "name": "stdout",
     "output_type": "stream",
     "text": [
      "0.8388082105199479\n"
     ]
    }
   ],
   "source": [
    "train_oof = np.zeros((300000,))\n",
    "test_preds = 0\n",
    "train_oof.shape\n",
    "\n",
    "NUM_FOLDS = 10\n",
    "kf = KFold(n_splits=NUM_FOLDS, shuffle=True, random_state=42)\n",
    "\n",
    "for f, (train_ind, val_ind) in tqdm(enumerate(kf.split(x, y))):\n",
    "        tmp_train_df, tmp_val_df = x.iloc[train_ind][feature_cols], x.iloc[val_ind][feature_cols]\n",
    "        train_target, val_target = y[train_ind], y[val_ind]\n",
    "        \n",
    "        model = LGBMRegressor(**lgbm_params)\n",
    "        model.fit(\n",
    "            tmp_train_df, \n",
    "            train_target, \n",
    "            eval_set=[(tmp_val_df, val_target)], \n",
    "            verbose=False\n",
    "        )\n",
    "        \n",
    "        temp_oof = model.predict(tmp_val_df)\n",
    "        temp_test = model.predict(test_df[feature_cols])\n",
    "\n",
    "        train_oof[val_ind] = temp_oof\n",
    "        test_preds += temp_test/NUM_FOLDS\n",
    "        \n",
    "        print(mean_squared_error(temp_oof, val_target, squared=False))"
   ]
  },
  {
   "cell_type": "code",
   "execution_count": 32,
   "metadata": {
    "execution": {
     "iopub.execute_input": "2021-02-14T01:30:03.141580Z",
     "iopub.status.busy": "2021-02-14T01:30:03.140296Z",
     "iopub.status.idle": "2021-02-14T01:30:03.801793Z",
     "shell.execute_reply": "2021-02-14T01:30:03.801287Z"
    },
    "papermill": {
     "duration": 0.721252,
     "end_time": "2021-02-14T01:30:03.801926",
     "exception": false,
     "start_time": "2021-02-14T01:30:03.080674",
     "status": "completed"
    },
    "tags": []
   },
   "outputs": [],
   "source": [
    "sub_df['target'] = test_preds\n",
    "sub_df.to_csv('submission_lgbm_cv_optimized.csv', index=False)\n",
    "sub_df.head()\n",
    "\n",
    "sub_lgbm_cv_optimized = test_preds"
   ]
  },
  {
   "cell_type": "markdown",
   "metadata": {
    "papermill": {
     "duration": 0.05615,
     "end_time": "2021-02-14T01:30:03.914260",
     "exception": false,
     "start_time": "2021-02-14T01:30:03.858110",
     "status": "completed"
    },
    "tags": []
   },
   "source": [
    "<a id='6'></a>\n",
    "# <p style=\"background-color:skyblue; font-family:newtimeroman; font-size:150%; text-align:center\">6. H2O AutoML 🧮</p>"
   ]
  },
  {
   "cell_type": "code",
   "execution_count": 33,
   "metadata": {
    "_kg_hide-output": true,
    "execution": {
     "iopub.execute_input": "2021-02-14T01:30:04.030732Z",
     "iopub.status.busy": "2021-02-14T01:30:04.030181Z",
     "iopub.status.idle": "2021-02-14T01:30:11.182815Z",
     "shell.execute_reply": "2021-02-14T01:30:11.183901Z"
    },
    "papermill": {
     "duration": 7.212947,
     "end_time": "2021-02-14T01:30:11.184127",
     "exception": false,
     "start_time": "2021-02-14T01:30:03.971180",
     "status": "completed"
    },
    "tags": []
   },
   "outputs": [
    {
     "name": "stdout",
     "output_type": "stream",
     "text": [
      "Checking whether there is an H2O instance running at http://localhost:54321 ..... not found.\n",
      "Attempting to start a local H2O server...\n",
      "  Java Version: openjdk version \"11.0.10\" 2021-01-19; OpenJDK Runtime Environment (build 11.0.10+9-Ubuntu-0ubuntu1.18.04); OpenJDK 64-Bit Server VM (build 11.0.10+9-Ubuntu-0ubuntu1.18.04, mixed mode, sharing)\n",
      "  Starting server from /opt/conda/lib/python3.7/site-packages/h2o/backend/bin/h2o.jar\n",
      "  Ice root: /tmp/tmplyjrl0hh\n",
      "  JVM stdout: /tmp/tmplyjrl0hh/h2o_unknownUser_started_from_python.out\n",
      "  JVM stderr: /tmp/tmplyjrl0hh/h2o_unknownUser_started_from_python.err\n",
      "  Server is running at http://127.0.0.1:54321\n",
      "Connecting to H2O server at http://127.0.0.1:54321 ... successful.\n"
     ]
    },
    {
     "data": {
      "text/html": [
       "<div style=\"overflow:auto\"><table style=\"width:50%\"><tr><td>H2O_cluster_uptime:</td>\n",
       "<td>03 secs</td></tr>\n",
       "<tr><td>H2O_cluster_timezone:</td>\n",
       "<td>Etc/UTC</td></tr>\n",
       "<tr><td>H2O_data_parsing_timezone:</td>\n",
       "<td>UTC</td></tr>\n",
       "<tr><td>H2O_cluster_version:</td>\n",
       "<td>3.32.0.4</td></tr>\n",
       "<tr><td>H2O_cluster_version_age:</td>\n",
       "<td>12 days </td></tr>\n",
       "<tr><td>H2O_cluster_name:</td>\n",
       "<td>H2O_from_python_unknownUser_qey7l5</td></tr>\n",
       "<tr><td>H2O_cluster_total_nodes:</td>\n",
       "<td>1</td></tr>\n",
       "<tr><td>H2O_cluster_free_memory:</td>\n",
       "<td>3.250 Gb</td></tr>\n",
       "<tr><td>H2O_cluster_total_cores:</td>\n",
       "<td>2</td></tr>\n",
       "<tr><td>H2O_cluster_allowed_cores:</td>\n",
       "<td>2</td></tr>\n",
       "<tr><td>H2O_cluster_status:</td>\n",
       "<td>accepting new members, healthy</td></tr>\n",
       "<tr><td>H2O_connection_url:</td>\n",
       "<td>http://127.0.0.1:54321</td></tr>\n",
       "<tr><td>H2O_connection_proxy:</td>\n",
       "<td>{\"http\": null, \"https\": null}</td></tr>\n",
       "<tr><td>H2O_internal_security:</td>\n",
       "<td>False</td></tr>\n",
       "<tr><td>H2O_API_Extensions:</td>\n",
       "<td>Amazon S3, XGBoost, Algos, AutoML, Core V3, TargetEncoder, Core V4</td></tr>\n",
       "<tr><td>Python_version:</td>\n",
       "<td>3.7.9 final</td></tr></table></div>"
      ],
      "text/plain": [
       "--------------------------  ------------------------------------------------------------------\n",
       "H2O_cluster_uptime:         03 secs\n",
       "H2O_cluster_timezone:       Etc/UTC\n",
       "H2O_data_parsing_timezone:  UTC\n",
       "H2O_cluster_version:        3.32.0.4\n",
       "H2O_cluster_version_age:    12 days\n",
       "H2O_cluster_name:           H2O_from_python_unknownUser_qey7l5\n",
       "H2O_cluster_total_nodes:    1\n",
       "H2O_cluster_free_memory:    3.250 Gb\n",
       "H2O_cluster_total_cores:    2\n",
       "H2O_cluster_allowed_cores:  2\n",
       "H2O_cluster_status:         accepting new members, healthy\n",
       "H2O_connection_url:         http://127.0.0.1:54321\n",
       "H2O_connection_proxy:       {\"http\": null, \"https\": null}\n",
       "H2O_internal_security:      False\n",
       "H2O_API_Extensions:         Amazon S3, XGBoost, Algos, AutoML, Core V3, TargetEncoder, Core V4\n",
       "Python_version:             3.7.9 final\n",
       "--------------------------  ------------------------------------------------------------------"
      ]
     },
     "metadata": {},
     "output_type": "display_data"
    }
   ],
   "source": [
    "import h2o\n",
    "from h2o.automl import H2OAutoML\n",
    "\n",
    "h2o.init()"
   ]
  },
  {
   "cell_type": "code",
   "execution_count": 34,
   "metadata": {
    "execution": {
     "iopub.execute_input": "2021-02-14T01:30:11.448900Z",
     "iopub.status.busy": "2021-02-14T01:30:11.447737Z",
     "iopub.status.idle": "2021-02-14T01:30:43.510849Z",
     "shell.execute_reply": "2021-02-14T01:30:43.509963Z"
    },
    "papermill": {
     "duration": 32.164193,
     "end_time": "2021-02-14T01:30:43.511046",
     "exception": false,
     "start_time": "2021-02-14T01:30:11.346853",
     "status": "completed"
    },
    "tags": []
   },
   "outputs": [
    {
     "name": "stdout",
     "output_type": "stream",
     "text": [
      "Parse progress: |█████████████████████████████████████████████████████████| 100%\n",
      "Parse progress: |█████████████████████████████████████████████████████████| 100%\n"
     ]
    }
   ],
   "source": [
    "train_hf = h2o.H2OFrame(train_df)\n",
    "test_hf = h2o.H2OFrame(test_df)\n",
    "\n",
    "predictors = list(feature_cols)\n",
    "response = 'target'\n",
    "\n",
    "# Split into train and test\n",
    "train, valid = train_hf.split_frame(ratios=[.8], seed=1234)"
   ]
  },
  {
   "cell_type": "code",
   "execution_count": 35,
   "metadata": {
    "execution": {
     "iopub.execute_input": "2021-02-14T01:30:43.748513Z",
     "iopub.status.busy": "2021-02-14T01:30:43.747646Z",
     "iopub.status.idle": "2021-02-14T01:30:43.808783Z",
     "shell.execute_reply": "2021-02-14T01:30:43.809722Z"
    },
    "papermill": {
     "duration": 0.164876,
     "end_time": "2021-02-14T01:30:43.809942",
     "exception": false,
     "start_time": "2021-02-14T01:30:43.645066",
     "status": "completed"
    },
    "tags": []
   },
   "outputs": [],
   "source": [
    "aml = H2OAutoML(\n",
    "    max_models=20,\n",
    "    max_runtime_secs=400,\n",
    "    seed=42\n",
    ")"
   ]
  },
  {
   "cell_type": "code",
   "execution_count": 36,
   "metadata": {
    "execution": {
     "iopub.execute_input": "2021-02-14T01:30:44.135435Z",
     "iopub.status.busy": "2021-02-14T01:30:44.134619Z",
     "iopub.status.idle": "2021-02-14T01:38:36.945280Z",
     "shell.execute_reply": "2021-02-14T01:38:36.943832Z"
    },
    "papermill": {
     "duration": 472.974254,
     "end_time": "2021-02-14T01:38:36.945467",
     "exception": false,
     "start_time": "2021-02-14T01:30:43.971213",
     "status": "completed"
    },
    "tags": []
   },
   "outputs": [
    {
     "name": "stdout",
     "output_type": "stream",
     "text": [
      "AutoML progress: |\n",
      "01:30:44.160: User specified a validation frame with cross-validation still enabled. Please note that the models will still be validated using cross-validation only, the validation frame will be used to provide purely informative validation metrics on the trained models.\n",
      "\n",
      "████████████████████████████████████████████████████████| 100%\n"
     ]
    }
   ],
   "source": [
    "# Train the model\n",
    "aml.train(x=predictors,\n",
    "        y=response,\n",
    "        training_frame=train,\n",
    "        validation_frame=valid\n",
    ")"
   ]
  },
  {
   "cell_type": "code",
   "execution_count": 37,
   "metadata": {
    "execution": {
     "iopub.execute_input": "2021-02-14T01:38:37.168346Z",
     "iopub.status.busy": "2021-02-14T01:38:37.167532Z",
     "iopub.status.idle": "2021-02-14T01:38:37.201019Z",
     "shell.execute_reply": "2021-02-14T01:38:37.201428Z"
    },
    "papermill": {
     "duration": 0.147836,
     "end_time": "2021-02-14T01:38:37.201584",
     "exception": false,
     "start_time": "2021-02-14T01:38:37.053748",
     "status": "completed"
    },
    "tags": []
   },
   "outputs": [
    {
     "data": {
      "text/html": [
       "<table>\n",
       "<thead>\n",
       "<tr><th>model_id                                           </th><th style=\"text-align: right;\">  mean_residual_deviance</th><th style=\"text-align: right;\">    rmse</th><th style=\"text-align: right;\">      mse</th><th style=\"text-align: right;\">     mae</th><th style=\"text-align: right;\">   rmsle</th></tr>\n",
       "</thead>\n",
       "<tbody>\n",
       "<tr><td>StackedEnsemble_AllModels_AutoML_20210214_013044   </td><td style=\"text-align: right;\">                0.728337</td><td style=\"text-align: right;\">0.853427</td><td style=\"text-align: right;\"> 0.728337</td><td style=\"text-align: right;\">0.712783</td><td style=\"text-align: right;\">0.103498</td></tr>\n",
       "<tr><td>StackedEnsemble_BestOfFamily_AutoML_20210214_013044</td><td style=\"text-align: right;\">                0.730117</td><td style=\"text-align: right;\">0.854469</td><td style=\"text-align: right;\"> 0.730117</td><td style=\"text-align: right;\">0.713498</td><td style=\"text-align: right;\">0.103629</td></tr>\n",
       "<tr><td>XGBoost_3_AutoML_20210214_013044                   </td><td style=\"text-align: right;\">                0.739946</td><td style=\"text-align: right;\">0.860201</td><td style=\"text-align: right;\"> 0.739946</td><td style=\"text-align: right;\">0.720071</td><td style=\"text-align: right;\">0.10389 </td></tr>\n",
       "<tr><td>GBM_grid__1_AutoML_20210214_013044_model_1         </td><td style=\"text-align: right;\">                0.740788</td><td style=\"text-align: right;\">0.86069 </td><td style=\"text-align: right;\"> 0.740788</td><td style=\"text-align: right;\">0.720797</td><td style=\"text-align: right;\">0.104419</td></tr>\n",
       "<tr><td>DeepLearning_1_AutoML_20210214_013044              </td><td style=\"text-align: right;\">                0.754792</td><td style=\"text-align: right;\">0.868787</td><td style=\"text-align: right;\"> 0.754792</td><td style=\"text-align: right;\">0.725166</td><td style=\"text-align: right;\">0.105363</td></tr>\n",
       "<tr><td>GLM_1_AutoML_20210214_013044                       </td><td style=\"text-align: right;\">                0.761083</td><td style=\"text-align: right;\">0.872401</td><td style=\"text-align: right;\"> 0.761083</td><td style=\"text-align: right;\">0.729159</td><td style=\"text-align: right;\">0.105822</td></tr>\n",
       "<tr><td>GBM_3_AutoML_20210214_013044                       </td><td style=\"text-align: right;\">                0.769524</td><td style=\"text-align: right;\">0.877225</td><td style=\"text-align: right;\"> 0.769524</td><td style=\"text-align: right;\">0.734491</td><td style=\"text-align: right;\">0.106379</td></tr>\n",
       "<tr><td>GBM_2_AutoML_20210214_013044                       </td><td style=\"text-align: right;\">                0.769645</td><td style=\"text-align: right;\">0.877294</td><td style=\"text-align: right;\"> 0.769645</td><td style=\"text-align: right;\">0.734476</td><td style=\"text-align: right;\">0.106391</td></tr>\n",
       "<tr><td>GBM_5_AutoML_20210214_013044                       </td><td style=\"text-align: right;\">                0.769795</td><td style=\"text-align: right;\">0.877379</td><td style=\"text-align: right;\"> 0.769795</td><td style=\"text-align: right;\">0.734625</td><td style=\"text-align: right;\">0.106397</td></tr>\n",
       "<tr><td>GBM_4_AutoML_20210214_013044                       </td><td style=\"text-align: right;\">                0.770201</td><td style=\"text-align: right;\">0.877611</td><td style=\"text-align: right;\"> 0.770201</td><td style=\"text-align: right;\">0.734861</td><td style=\"text-align: right;\">0.106424</td></tr>\n",
       "<tr><td>GBM_1_AutoML_20210214_013044                       </td><td style=\"text-align: right;\">                0.770728</td><td style=\"text-align: right;\">0.877911</td><td style=\"text-align: right;\"> 0.770728</td><td style=\"text-align: right;\">0.735153</td><td style=\"text-align: right;\">0.106464</td></tr>\n",
       "<tr><td>DeepLearning_grid__1_AutoML_20210214_013044_model_1</td><td style=\"text-align: right;\">                0.772238</td><td style=\"text-align: right;\">0.878771</td><td style=\"text-align: right;\"> 0.772238</td><td style=\"text-align: right;\">0.732464</td><td style=\"text-align: right;\">0.106062</td></tr>\n",
       "<tr><td>GBM_grid__1_AutoML_20210214_013044_model_2         </td><td style=\"text-align: right;\">                0.779932</td><td style=\"text-align: right;\">0.883138</td><td style=\"text-align: right;\"> 0.779932</td><td style=\"text-align: right;\">0.738923</td><td style=\"text-align: right;\">0.107078</td></tr>\n",
       "<tr><td>XGBoost_grid__1_AutoML_20210214_013044_model_1     </td><td style=\"text-align: right;\">                0.985565</td><td style=\"text-align: right;\">0.992756</td><td style=\"text-align: right;\"> 0.985565</td><td style=\"text-align: right;\">0.814076</td><td style=\"text-align: right;\">0.118951</td></tr>\n",
       "<tr><td>XRT_1_AutoML_20210214_013044                       </td><td style=\"text-align: right;\">                1.03466 </td><td style=\"text-align: right;\">1.01718 </td><td style=\"text-align: right;\"> 1.03466 </td><td style=\"text-align: right;\">0.82174 </td><td style=\"text-align: right;\">0.123289</td></tr>\n",
       "<tr><td>DRF_1_AutoML_20210214_013044                       </td><td style=\"text-align: right;\">                1.08513 </td><td style=\"text-align: right;\">1.04169 </td><td style=\"text-align: right;\"> 1.08513 </td><td style=\"text-align: right;\">0.839681</td><td style=\"text-align: right;\">0.126229</td></tr>\n",
       "<tr><td>XGBoost_1_AutoML_20210214_013044                   </td><td style=\"text-align: right;\">                3.27474 </td><td style=\"text-align: right;\">1.80963 </td><td style=\"text-align: right;\"> 3.27474 </td><td style=\"text-align: right;\">1.33935 </td><td style=\"text-align: right;\">0.256425</td></tr>\n",
       "<tr><td>XGBoost_2_AutoML_20210214_013044                   </td><td style=\"text-align: right;\">               11.1922  </td><td style=\"text-align: right;\">3.34547 </td><td style=\"text-align: right;\">11.1922  </td><td style=\"text-align: right;\">3.20485 </td><td style=\"text-align: right;\">0.490669</td></tr>\n",
       "</tbody>\n",
       "</table>"
      ]
     },
     "metadata": {},
     "output_type": "display_data"
    },
    {
     "data": {
      "text/plain": []
     },
     "execution_count": 37,
     "metadata": {},
     "output_type": "execute_result"
    }
   ],
   "source": [
    "# View the AutoML Leaderboard\n",
    "lb = aml.leaderboard\n",
    "lb.head(rows=lb.nrows)  # Print all rows instead of default (10 rows)"
   ]
  },
  {
   "cell_type": "code",
   "execution_count": 38,
   "metadata": {
    "_kg_hide-input": true,
    "execution": {
     "iopub.execute_input": "2021-02-14T01:38:37.426607Z",
     "iopub.status.busy": "2021-02-14T01:38:37.425809Z",
     "iopub.status.idle": "2021-02-14T01:38:38.188545Z",
     "shell.execute_reply": "2021-02-14T01:38:38.188925Z"
    },
    "papermill": {
     "duration": 0.878627,
     "end_time": "2021-02-14T01:38:38.189088",
     "exception": false,
     "start_time": "2021-02-14T01:38:37.310461",
     "status": "completed"
    },
    "tags": []
   },
   "outputs": [
    {
     "data": {
      "text/html": [
       "<div>                            <div id=\"bfd9e950-c015-4a4e-a396-fe28c456f3aa\" class=\"plotly-graph-div\" style=\"height:525px; width:100%;\"></div>            <script type=\"text/javascript\">                require([\"plotly\"], function(Plotly) {                    window.PLOTLYENV=window.PLOTLYENV || {};                                    if (document.getElementById(\"bfd9e950-c015-4a4e-a396-fe28c456f3aa\")) {                    Plotly.newPlot(                        \"bfd9e950-c015-4a4e-a396-fe28c456f3aa\",                        [{\"alignmentgroup\": \"True\", \"hovertemplate\": \"model_type=StackedEnsemble<br>model_id=%{x}<br>rmse=%{y}<extra></extra>\", \"legendgroup\": \"StackedEnsemble\", \"marker\": {\"color\": \"#636efa\"}, \"name\": \"StackedEnsemble\", \"offsetgroup\": \"StackedEnsemble\", \"orientation\": \"v\", \"showlegend\": true, \"textposition\": \"auto\", \"type\": \"bar\", \"x\": [\"StackedEnsemble_AllModels_AutoML_20210214_013044\", \"StackedEnsemble_BestOfFamily_AutoML_20210214_013044\"], \"xaxis\": \"x\", \"y\": [0.8534268569373384, 0.8544688068155821], \"yaxis\": \"y\"}, {\"alignmentgroup\": \"True\", \"hovertemplate\": \"model_type=XGBoost<br>model_id=%{x}<br>rmse=%{y}<extra></extra>\", \"legendgroup\": \"XGBoost\", \"marker\": {\"color\": \"#EF553B\"}, \"name\": \"XGBoost\", \"offsetgroup\": \"XGBoost\", \"orientation\": \"v\", \"showlegend\": true, \"textposition\": \"auto\", \"type\": \"bar\", \"x\": [\"XGBoost_3_AutoML_20210214_013044\", \"XGBoost_grid__1_AutoML_20210214_013044_model_1\", \"XGBoost_1_AutoML_20210214_013044\", \"XGBoost_2_AutoML_20210214_013044\"], \"xaxis\": \"x\", \"y\": [0.8602013837751038, 0.9927562577138861, 1.8096253917460536, 3.3454730111971807], \"yaxis\": \"y\"}, {\"alignmentgroup\": \"True\", \"hovertemplate\": \"model_type=GBM<br>model_id=%{x}<br>rmse=%{y}<extra></extra>\", \"legendgroup\": \"GBM\", \"marker\": {\"color\": \"#00cc96\"}, \"name\": \"GBM\", \"offsetgroup\": \"GBM\", \"orientation\": \"v\", \"showlegend\": true, \"textposition\": \"auto\", \"type\": \"bar\", \"x\": [\"GBM_grid__1_AutoML_20210214_013044_model_1\", \"GBM_3_AutoML_20210214_013044\", \"GBM_2_AutoML_20210214_013044\", \"GBM_5_AutoML_20210214_013044\", \"GBM_4_AutoML_20210214_013044\", \"GBM_1_AutoML_20210214_013044\", \"GBM_grid__1_AutoML_20210214_013044_model_2\"], \"xaxis\": \"x\", \"y\": [0.8606903245127373, 0.8772253073072894, 0.8772943477785335, 0.8773793669715887, 0.8776111868243046, 0.8779110101379123, 0.8831375690285113], \"yaxis\": \"y\"}, {\"alignmentgroup\": \"True\", \"hovertemplate\": \"model_type=DeepLearning<br>model_id=%{x}<br>rmse=%{y}<extra></extra>\", \"legendgroup\": \"DeepLearning\", \"marker\": {\"color\": \"#ab63fa\"}, \"name\": \"DeepLearning\", \"offsetgroup\": \"DeepLearning\", \"orientation\": \"v\", \"showlegend\": true, \"textposition\": \"auto\", \"type\": \"bar\", \"x\": [\"DeepLearning_1_AutoML_20210214_013044\", \"DeepLearning_grid__1_AutoML_20210214_013044_model_1\"], \"xaxis\": \"x\", \"y\": [0.8687874270228486, 0.8787709078494126], \"yaxis\": \"y\"}, {\"alignmentgroup\": \"True\", \"hovertemplate\": \"model_type=GLM<br>model_id=%{x}<br>rmse=%{y}<extra></extra>\", \"legendgroup\": \"GLM\", \"marker\": {\"color\": \"#FFA15A\"}, \"name\": \"GLM\", \"offsetgroup\": \"GLM\", \"orientation\": \"v\", \"showlegend\": true, \"textposition\": \"auto\", \"type\": \"bar\", \"x\": [\"GLM_1_AutoML_20210214_013044\"], \"xaxis\": \"x\", \"y\": [0.8724006406579391], \"yaxis\": \"y\"}, {\"alignmentgroup\": \"True\", \"hovertemplate\": \"model_type=XRT<br>model_id=%{x}<br>rmse=%{y}<extra></extra>\", \"legendgroup\": \"XRT\", \"marker\": {\"color\": \"#19d3f3\"}, \"name\": \"XRT\", \"offsetgroup\": \"XRT\", \"orientation\": \"v\", \"showlegend\": true, \"textposition\": \"auto\", \"type\": \"bar\", \"x\": [\"XRT_1_AutoML_20210214_013044\"], \"xaxis\": \"x\", \"y\": [1.0171823561826367], \"yaxis\": \"y\"}, {\"alignmentgroup\": \"True\", \"hovertemplate\": \"model_type=DRF<br>model_id=%{x}<br>rmse=%{y}<extra></extra>\", \"legendgroup\": \"DRF\", \"marker\": {\"color\": \"#FF6692\"}, \"name\": \"DRF\", \"offsetgroup\": \"DRF\", \"orientation\": \"v\", \"showlegend\": true, \"textposition\": \"auto\", \"type\": \"bar\", \"x\": [\"DRF_1_AutoML_20210214_013044\"], \"xaxis\": \"x\", \"y\": [1.0416936598645377], \"yaxis\": \"y\"}],                        {\"barmode\": \"relative\", \"legend\": {\"title\": {\"text\": \"model_type\"}, \"tracegroupgap\": 0}, \"margin\": {\"t\": 60}, \"template\": {\"data\": {\"bar\": [{\"error_x\": {\"color\": \"#2a3f5f\"}, \"error_y\": {\"color\": \"#2a3f5f\"}, \"marker\": {\"line\": {\"color\": \"#E5ECF6\", \"width\": 0.5}}, \"type\": \"bar\"}], \"barpolar\": [{\"marker\": {\"line\": {\"color\": \"#E5ECF6\", \"width\": 0.5}}, \"type\": \"barpolar\"}], \"carpet\": [{\"aaxis\": {\"endlinecolor\": \"#2a3f5f\", \"gridcolor\": \"white\", \"linecolor\": \"white\", \"minorgridcolor\": \"white\", \"startlinecolor\": \"#2a3f5f\"}, \"baxis\": {\"endlinecolor\": \"#2a3f5f\", \"gridcolor\": \"white\", \"linecolor\": \"white\", \"minorgridcolor\": \"white\", \"startlinecolor\": \"#2a3f5f\"}, \"type\": \"carpet\"}], \"choropleth\": [{\"colorbar\": {\"outlinewidth\": 0, \"ticks\": \"\"}, \"type\": \"choropleth\"}], \"contour\": [{\"colorbar\": {\"outlinewidth\": 0, \"ticks\": \"\"}, \"colorscale\": [[0.0, \"#0d0887\"], [0.1111111111111111, \"#46039f\"], [0.2222222222222222, \"#7201a8\"], [0.3333333333333333, \"#9c179e\"], [0.4444444444444444, \"#bd3786\"], [0.5555555555555556, \"#d8576b\"], [0.6666666666666666, \"#ed7953\"], [0.7777777777777778, \"#fb9f3a\"], [0.8888888888888888, \"#fdca26\"], [1.0, \"#f0f921\"]], \"type\": \"contour\"}], \"contourcarpet\": [{\"colorbar\": {\"outlinewidth\": 0, \"ticks\": \"\"}, \"type\": \"contourcarpet\"}], \"heatmap\": [{\"colorbar\": {\"outlinewidth\": 0, \"ticks\": \"\"}, \"colorscale\": [[0.0, \"#0d0887\"], [0.1111111111111111, \"#46039f\"], [0.2222222222222222, \"#7201a8\"], [0.3333333333333333, \"#9c179e\"], [0.4444444444444444, \"#bd3786\"], [0.5555555555555556, \"#d8576b\"], [0.6666666666666666, \"#ed7953\"], [0.7777777777777778, \"#fb9f3a\"], [0.8888888888888888, \"#fdca26\"], [1.0, \"#f0f921\"]], \"type\": \"heatmap\"}], \"heatmapgl\": [{\"colorbar\": {\"outlinewidth\": 0, \"ticks\": \"\"}, \"colorscale\": [[0.0, \"#0d0887\"], [0.1111111111111111, \"#46039f\"], [0.2222222222222222, \"#7201a8\"], [0.3333333333333333, \"#9c179e\"], [0.4444444444444444, \"#bd3786\"], [0.5555555555555556, \"#d8576b\"], [0.6666666666666666, \"#ed7953\"], [0.7777777777777778, \"#fb9f3a\"], [0.8888888888888888, \"#fdca26\"], [1.0, \"#f0f921\"]], \"type\": \"heatmapgl\"}], \"histogram\": [{\"marker\": {\"colorbar\": {\"outlinewidth\": 0, \"ticks\": \"\"}}, \"type\": \"histogram\"}], \"histogram2d\": [{\"colorbar\": {\"outlinewidth\": 0, \"ticks\": \"\"}, \"colorscale\": [[0.0, \"#0d0887\"], [0.1111111111111111, \"#46039f\"], [0.2222222222222222, \"#7201a8\"], [0.3333333333333333, \"#9c179e\"], [0.4444444444444444, \"#bd3786\"], [0.5555555555555556, \"#d8576b\"], [0.6666666666666666, \"#ed7953\"], [0.7777777777777778, \"#fb9f3a\"], [0.8888888888888888, \"#fdca26\"], [1.0, \"#f0f921\"]], \"type\": \"histogram2d\"}], \"histogram2dcontour\": [{\"colorbar\": {\"outlinewidth\": 0, \"ticks\": \"\"}, \"colorscale\": [[0.0, \"#0d0887\"], [0.1111111111111111, \"#46039f\"], [0.2222222222222222, \"#7201a8\"], [0.3333333333333333, \"#9c179e\"], [0.4444444444444444, \"#bd3786\"], [0.5555555555555556, \"#d8576b\"], [0.6666666666666666, \"#ed7953\"], [0.7777777777777778, \"#fb9f3a\"], [0.8888888888888888, \"#fdca26\"], [1.0, \"#f0f921\"]], \"type\": \"histogram2dcontour\"}], \"mesh3d\": [{\"colorbar\": {\"outlinewidth\": 0, \"ticks\": \"\"}, \"type\": \"mesh3d\"}], \"parcoords\": [{\"line\": {\"colorbar\": {\"outlinewidth\": 0, \"ticks\": \"\"}}, \"type\": \"parcoords\"}], \"pie\": [{\"automargin\": true, \"type\": \"pie\"}], \"scatter\": [{\"marker\": {\"colorbar\": {\"outlinewidth\": 0, \"ticks\": \"\"}}, \"type\": \"scatter\"}], \"scatter3d\": [{\"line\": {\"colorbar\": {\"outlinewidth\": 0, \"ticks\": \"\"}}, \"marker\": {\"colorbar\": {\"outlinewidth\": 0, \"ticks\": \"\"}}, \"type\": \"scatter3d\"}], \"scattercarpet\": [{\"marker\": {\"colorbar\": {\"outlinewidth\": 0, \"ticks\": \"\"}}, \"type\": \"scattercarpet\"}], \"scattergeo\": [{\"marker\": {\"colorbar\": {\"outlinewidth\": 0, \"ticks\": \"\"}}, \"type\": \"scattergeo\"}], \"scattergl\": [{\"marker\": {\"colorbar\": {\"outlinewidth\": 0, \"ticks\": \"\"}}, \"type\": \"scattergl\"}], \"scattermapbox\": [{\"marker\": {\"colorbar\": {\"outlinewidth\": 0, \"ticks\": \"\"}}, \"type\": \"scattermapbox\"}], \"scatterpolar\": [{\"marker\": {\"colorbar\": {\"outlinewidth\": 0, \"ticks\": \"\"}}, \"type\": \"scatterpolar\"}], \"scatterpolargl\": [{\"marker\": {\"colorbar\": {\"outlinewidth\": 0, \"ticks\": \"\"}}, \"type\": \"scatterpolargl\"}], \"scatterternary\": [{\"marker\": {\"colorbar\": {\"outlinewidth\": 0, \"ticks\": \"\"}}, \"type\": \"scatterternary\"}], \"surface\": [{\"colorbar\": {\"outlinewidth\": 0, \"ticks\": \"\"}, \"colorscale\": [[0.0, \"#0d0887\"], [0.1111111111111111, \"#46039f\"], [0.2222222222222222, \"#7201a8\"], [0.3333333333333333, \"#9c179e\"], [0.4444444444444444, \"#bd3786\"], [0.5555555555555556, \"#d8576b\"], [0.6666666666666666, \"#ed7953\"], [0.7777777777777778, \"#fb9f3a\"], [0.8888888888888888, \"#fdca26\"], [1.0, \"#f0f921\"]], \"type\": \"surface\"}], \"table\": [{\"cells\": {\"fill\": {\"color\": \"#EBF0F8\"}, \"line\": {\"color\": \"white\"}}, \"header\": {\"fill\": {\"color\": \"#C8D4E3\"}, \"line\": {\"color\": \"white\"}}, \"type\": \"table\"}]}, \"layout\": {\"annotationdefaults\": {\"arrowcolor\": \"#2a3f5f\", \"arrowhead\": 0, \"arrowwidth\": 1}, \"autotypenumbers\": \"strict\", \"coloraxis\": {\"colorbar\": {\"outlinewidth\": 0, \"ticks\": \"\"}}, \"colorscale\": {\"diverging\": [[0, \"#8e0152\"], [0.1, \"#c51b7d\"], [0.2, \"#de77ae\"], [0.3, \"#f1b6da\"], [0.4, \"#fde0ef\"], [0.5, \"#f7f7f7\"], [0.6, \"#e6f5d0\"], [0.7, \"#b8e186\"], [0.8, \"#7fbc41\"], [0.9, \"#4d9221\"], [1, \"#276419\"]], \"sequential\": [[0.0, \"#0d0887\"], [0.1111111111111111, \"#46039f\"], [0.2222222222222222, \"#7201a8\"], [0.3333333333333333, \"#9c179e\"], [0.4444444444444444, \"#bd3786\"], [0.5555555555555556, \"#d8576b\"], [0.6666666666666666, \"#ed7953\"], [0.7777777777777778, \"#fb9f3a\"], [0.8888888888888888, \"#fdca26\"], [1.0, \"#f0f921\"]], \"sequentialminus\": [[0.0, \"#0d0887\"], [0.1111111111111111, \"#46039f\"], [0.2222222222222222, \"#7201a8\"], [0.3333333333333333, \"#9c179e\"], [0.4444444444444444, \"#bd3786\"], [0.5555555555555556, \"#d8576b\"], [0.6666666666666666, \"#ed7953\"], [0.7777777777777778, \"#fb9f3a\"], [0.8888888888888888, \"#fdca26\"], [1.0, \"#f0f921\"]]}, \"colorway\": [\"#636efa\", \"#EF553B\", \"#00cc96\", \"#ab63fa\", \"#FFA15A\", \"#19d3f3\", \"#FF6692\", \"#B6E880\", \"#FF97FF\", \"#FECB52\"], \"font\": {\"color\": \"#2a3f5f\"}, \"geo\": {\"bgcolor\": \"white\", \"lakecolor\": \"white\", \"landcolor\": \"#E5ECF6\", \"showlakes\": true, \"showland\": true, \"subunitcolor\": \"white\"}, \"hoverlabel\": {\"align\": \"left\"}, \"hovermode\": \"closest\", \"mapbox\": {\"style\": \"light\"}, \"paper_bgcolor\": \"white\", \"plot_bgcolor\": \"#E5ECF6\", \"polar\": {\"angularaxis\": {\"gridcolor\": \"white\", \"linecolor\": \"white\", \"ticks\": \"\"}, \"bgcolor\": \"#E5ECF6\", \"radialaxis\": {\"gridcolor\": \"white\", \"linecolor\": \"white\", \"ticks\": \"\"}}, \"scene\": {\"xaxis\": {\"backgroundcolor\": \"#E5ECF6\", \"gridcolor\": \"white\", \"gridwidth\": 2, \"linecolor\": \"white\", \"showbackground\": true, \"ticks\": \"\", \"zerolinecolor\": \"white\"}, \"yaxis\": {\"backgroundcolor\": \"#E5ECF6\", \"gridcolor\": \"white\", \"gridwidth\": 2, \"linecolor\": \"white\", \"showbackground\": true, \"ticks\": \"\", \"zerolinecolor\": \"white\"}, \"zaxis\": {\"backgroundcolor\": \"#E5ECF6\", \"gridcolor\": \"white\", \"gridwidth\": 2, \"linecolor\": \"white\", \"showbackground\": true, \"ticks\": \"\", \"zerolinecolor\": \"white\"}}, \"shapedefaults\": {\"line\": {\"color\": \"#2a3f5f\"}}, \"ternary\": {\"aaxis\": {\"gridcolor\": \"white\", \"linecolor\": \"white\", \"ticks\": \"\"}, \"baxis\": {\"gridcolor\": \"white\", \"linecolor\": \"white\", \"ticks\": \"\"}, \"bgcolor\": \"#E5ECF6\", \"caxis\": {\"gridcolor\": \"white\", \"linecolor\": \"white\", \"ticks\": \"\"}}, \"title\": {\"x\": 0.05}, \"xaxis\": {\"automargin\": true, \"gridcolor\": \"white\", \"linecolor\": \"white\", \"ticks\": \"\", \"title\": {\"standoff\": 15}, \"zerolinecolor\": \"white\", \"zerolinewidth\": 2}, \"yaxis\": {\"automargin\": true, \"gridcolor\": \"white\", \"linecolor\": \"white\", \"ticks\": \"\", \"title\": {\"standoff\": 15}, \"zerolinecolor\": \"white\", \"zerolinewidth\": 2}}}, \"xaxis\": {\"anchor\": \"y\", \"domain\": [0.0, 1.0], \"title\": {\"text\": \"model_id\"}}, \"yaxis\": {\"anchor\": \"x\", \"domain\": [0.0, 1.0], \"title\": {\"text\": \"rmse\"}}},                        {\"responsive\": true}                    ).then(function(){\n",
       "                            \n",
       "var gd = document.getElementById('bfd9e950-c015-4a4e-a396-fe28c456f3aa');\n",
       "var x = new MutationObserver(function (mutations, observer) {{\n",
       "        var display = window.getComputedStyle(gd).display;\n",
       "        if (!display || display === 'none') {{\n",
       "            console.log([gd, 'removed!']);\n",
       "            Plotly.purge(gd);\n",
       "            observer.disconnect();\n",
       "        }}\n",
       "}});\n",
       "\n",
       "// Listen for the removal of the full notebook cells\n",
       "var notebookContainer = gd.closest('#notebook-container');\n",
       "if (notebookContainer) {{\n",
       "    x.observe(notebookContainer, {childList: true});\n",
       "}}\n",
       "\n",
       "// Listen for the clearing of the current output cell\n",
       "var outputEl = gd.closest('.output');\n",
       "if (outputEl) {{\n",
       "    x.observe(outputEl, {childList: true});\n",
       "}}\n",
       "\n",
       "                        })                };                });            </script>        </div>"
      ]
     },
     "metadata": {},
     "output_type": "display_data"
    }
   ],
   "source": [
    "lb = lb.as_data_frame()\n",
    "lb['model_type'] = lb['model_id'].apply(lambda x: x.split('_')[0])\n",
    "fig = px.bar(\n",
    "    lb, \n",
    "    x='model_id',\n",
    "    y='rmse',\n",
    "    color='model_type'\n",
    ")\n",
    "fig.show()"
   ]
  },
  {
   "cell_type": "code",
   "execution_count": 39,
   "metadata": {
    "execution": {
     "iopub.execute_input": "2021-02-14T01:38:38.418123Z",
     "iopub.status.busy": "2021-02-14T01:38:38.417355Z",
     "iopub.status.idle": "2021-02-14T01:38:38.442149Z",
     "shell.execute_reply": "2021-02-14T01:38:38.441631Z"
    },
    "papermill": {
     "duration": 0.14143,
     "end_time": "2021-02-14T01:38:38.442264",
     "exception": false,
     "start_time": "2021-02-14T01:38:38.300834",
     "status": "completed"
    },
    "tags": []
   },
   "outputs": [
    {
     "name": "stdout",
     "output_type": "stream",
     "text": [
      "The model performance in RMSE: 0.8568426293706929\n",
      "The model performance in MAE: 0.7145783267839174\n"
     ]
    }
   ],
   "source": [
    "print('The model performance in RMSE: {}'.format(aml.leader.rmse(valid=True)))\n",
    "print('The model performance in MAE: {}'.format(aml.leader.mae(valid=True)))"
   ]
  },
  {
   "cell_type": "markdown",
   "metadata": {
    "papermill": {
     "duration": 0.110028,
     "end_time": "2021-02-14T01:38:38.663448",
     "exception": false,
     "start_time": "2021-02-14T01:38:38.553420",
     "status": "completed"
    },
    "tags": []
   },
   "source": [
    "<a id='5.1'></a>\n",
    "## <p style=\"background-color:skyblue; font-family:newtimeroman; font-size:120%; text-align:center\">5.1 H2O AutoML Submission 📝</p>"
   ]
  },
  {
   "cell_type": "code",
   "execution_count": 40,
   "metadata": {
    "_kg_hide-output": true,
    "execution": {
     "iopub.execute_input": "2021-02-14T01:38:38.893125Z",
     "iopub.status.busy": "2021-02-14T01:38:38.892238Z",
     "iopub.status.idle": "2021-02-14T01:38:41.647367Z",
     "shell.execute_reply": "2021-02-14T01:38:41.646301Z"
    },
    "papermill": {
     "duration": 2.873573,
     "end_time": "2021-02-14T01:38:41.647518",
     "exception": false,
     "start_time": "2021-02-14T01:38:38.773945",
     "status": "completed"
    },
    "tags": []
   },
   "outputs": [
    {
     "name": "stdout",
     "output_type": "stream",
     "text": [
      "stackedensemble prediction progress: |████████████████████████████████████| 100%\n"
     ]
    },
    {
     "data": {
      "text/html": [
       "<div>\n",
       "<style scoped>\n",
       "    .dataframe tbody tr th:only-of-type {\n",
       "        vertical-align: middle;\n",
       "    }\n",
       "\n",
       "    .dataframe tbody tr th {\n",
       "        vertical-align: top;\n",
       "    }\n",
       "\n",
       "    .dataframe thead th {\n",
       "        text-align: right;\n",
       "    }\n",
       "</style>\n",
       "<table border=\"1\" class=\"dataframe\">\n",
       "  <thead>\n",
       "    <tr style=\"text-align: right;\">\n",
       "      <th></th>\n",
       "      <th>predict</th>\n",
       "    </tr>\n",
       "  </thead>\n",
       "  <tbody>\n",
       "    <tr>\n",
       "      <th>0</th>\n",
       "      <td>7.584513</td>\n",
       "    </tr>\n",
       "    <tr>\n",
       "      <th>1</th>\n",
       "      <td>7.798336</td>\n",
       "    </tr>\n",
       "    <tr>\n",
       "      <th>2</th>\n",
       "      <td>7.626283</td>\n",
       "    </tr>\n",
       "    <tr>\n",
       "      <th>3</th>\n",
       "      <td>7.406702</td>\n",
       "    </tr>\n",
       "    <tr>\n",
       "      <th>4</th>\n",
       "      <td>7.611266</td>\n",
       "    </tr>\n",
       "  </tbody>\n",
       "</table>\n",
       "</div>"
      ],
      "text/plain": [
       "    predict\n",
       "0  7.584513\n",
       "1  7.798336\n",
       "2  7.626283\n",
       "3  7.406702\n",
       "4  7.611266"
      ]
     },
     "execution_count": 40,
     "metadata": {},
     "output_type": "execute_result"
    }
   ],
   "source": [
    "preds = aml.predict(test_hf).as_data_frame()\n",
    "preds.head()"
   ]
  },
  {
   "cell_type": "code",
   "execution_count": 41,
   "metadata": {
    "_kg_hide-output": false,
    "execution": {
     "iopub.execute_input": "2021-02-14T01:38:41.886220Z",
     "iopub.status.busy": "2021-02-14T01:38:41.885274Z",
     "iopub.status.idle": "2021-02-14T01:38:42.556634Z",
     "shell.execute_reply": "2021-02-14T01:38:42.556129Z"
    },
    "papermill": {
     "duration": 0.792086,
     "end_time": "2021-02-14T01:38:42.556761",
     "exception": false,
     "start_time": "2021-02-14T01:38:41.764675",
     "status": "completed"
    },
    "tags": []
   },
   "outputs": [],
   "source": [
    "sub_df['target'] = preds['predict']\n",
    "sub_df.to_csv('submission_h2o.csv', index=False)\n",
    "sub_df.head()\n",
    "\n",
    "sub_automl = preds['predict']"
   ]
  },
  {
   "cell_type": "markdown",
   "metadata": {
    "papermill": {
     "duration": 0.112439,
     "end_time": "2021-02-14T01:38:42.781890",
     "exception": false,
     "start_time": "2021-02-14T01:38:42.669451",
     "status": "completed"
    },
    "tags": []
   },
   "source": [
    "<a id='7'></a>\n",
    "# <p style=\"background-color:skyblue; font-family:newtimeroman; font-size:150%; text-align:center\">7. Final Submission</p>"
   ]
  },
  {
   "cell_type": "code",
   "execution_count": 42,
   "metadata": {
    "execution": {
     "iopub.execute_input": "2021-02-14T01:38:43.012952Z",
     "iopub.status.busy": "2021-02-14T01:38:43.012166Z",
     "iopub.status.idle": "2021-02-14T01:38:43.029065Z",
     "shell.execute_reply": "2021-02-14T01:38:43.028620Z"
    },
    "papermill": {
     "duration": 0.134753,
     "end_time": "2021-02-14T01:38:43.029195",
     "exception": false,
     "start_time": "2021-02-14T01:38:42.894442",
     "status": "completed"
    },
    "tags": []
   },
   "outputs": [],
   "source": [
    "sub1 = 0.1*sub_automl + 0.3*sub_lgbm_cv_optimized + 0.4*sub_lgbm_optuna + 0.1*sub_lgbm_cv + 0.1*sub_xgb_base\n",
    "sub2 = 0.1*sub_automl + 0.4*sub_lgbm_cv_optimized + 0.3*sub_lgbm_optuna + 0.1*sub_lgbm_cv + 0.1*sub_xgb_base\n",
    "sub3 = 0.2*sub_automl + 0.3*sub_lgbm_cv_optimized + 0.3*sub_lgbm_optuna + 0.1*sub_lgbm_cv + 0.1*sub_xgb_base"
   ]
  },
  {
   "cell_type": "code",
   "execution_count": 43,
   "metadata": {
    "execution": {
     "iopub.execute_input": "2021-02-14T01:38:43.258396Z",
     "iopub.status.busy": "2021-02-14T01:38:43.257855Z",
     "iopub.status.idle": "2021-02-14T01:38:45.480315Z",
     "shell.execute_reply": "2021-02-14T01:38:45.479856Z"
    },
    "papermill": {
     "duration": 2.338388,
     "end_time": "2021-02-14T01:38:45.480480",
     "exception": false,
     "start_time": "2021-02-14T01:38:43.142092",
     "status": "completed"
    },
    "tags": []
   },
   "outputs": [],
   "source": [
    "sub_df['target'] = sub1\n",
    "sub_df.to_csv('submission_1.csv', index=False)\n",
    "\n",
    "sub_df['target'] = sub2\n",
    "sub_df.to_csv('submission_2.csv', index=False)\n",
    "\n",
    "sub_df['target'] = sub3\n",
    "sub_df.to_csv('submission_3.csv', index=False)"
   ]
  },
  {
   "cell_type": "code",
   "execution_count": null,
   "metadata": {
    "papermill": {
     "duration": 0.125188,
     "end_time": "2021-02-14T01:38:45.722530",
     "exception": false,
     "start_time": "2021-02-14T01:38:45.597342",
     "status": "completed"
    },
    "tags": []
   },
   "outputs": [],
   "source": []
  }
 ],
 "metadata": {
  "kernelspec": {
   "display_name": "Python 3",
   "language": "python",
   "name": "python3"
  },
  "language_info": {
   "codemirror_mode": {
    "name": "ipython",
    "version": 3
   },
   "file_extension": ".py",
   "mimetype": "text/x-python",
   "name": "python",
   "nbconvert_exporter": "python",
   "pygments_lexer": "ipython3",
   "version": "3.7.9"
  },
  "papermill": {
   "default_parameters": {},
   "duration": 2224.012169,
   "end_time": "2021-02-14T01:38:48.156808",
   "environment_variables": {},
   "exception": null,
   "input_path": "__notebook__.ipynb",
   "output_path": "__notebook__.ipynb",
   "parameters": {},
   "start_time": "2021-02-14T01:01:44.144639",
   "version": "2.2.2"
  },
  "widgets": {
   "application/vnd.jupyter.widget-state+json": {
    "state": {
     "0567ad25d38141ec803b2ce2720b949c": {
      "model_module": "@jupyter-widgets/controls",
      "model_module_version": "1.5.0",
      "model_name": "HTMLModel",
      "state": {
       "_dom_classes": [],
       "_model_module": "@jupyter-widgets/controls",
       "_model_module_version": "1.5.0",
       "_model_name": "HTMLModel",
       "_view_count": null,
       "_view_module": "@jupyter-widgets/controls",
       "_view_module_version": "1.5.0",
       "_view_name": "HTMLView",
       "description": "",
       "description_tooltip": null,
       "layout": "IPY_MODEL_9e92364e9c9a4270805c125baf67a55a",
       "placeholder": "​",
       "style": "IPY_MODEL_f1d32020c97347398153080bc0ca8adf",
       "value": "10it [21:56, 128.45s/it]"
      }
     },
     "06c0042c54b446b496c1235a6adf1c3e": {
      "model_module": "@jupyter-widgets/controls",
      "model_module_version": "1.5.0",
      "model_name": "DescriptionStyleModel",
      "state": {
       "_model_module": "@jupyter-widgets/controls",
       "_model_module_version": "1.5.0",
       "_model_name": "DescriptionStyleModel",
       "_view_count": null,
       "_view_module": "@jupyter-widgets/base",
       "_view_module_version": "1.2.0",
       "_view_name": "StyleView",
       "description_width": ""
      }
     },
     "0d2e71cc051246518126aa7b5f950d80": {
      "model_module": "@jupyter-widgets/base",
      "model_module_version": "1.2.0",
      "model_name": "LayoutModel",
      "state": {
       "_model_module": "@jupyter-widgets/base",
       "_model_module_version": "1.2.0",
       "_model_name": "LayoutModel",
       "_view_count": null,
       "_view_module": "@jupyter-widgets/base",
       "_view_module_version": "1.2.0",
       "_view_name": "LayoutView",
       "align_content": null,
       "align_items": null,
       "align_self": null,
       "border": null,
       "bottom": null,
       "display": null,
       "flex": null,
       "flex_flow": null,
       "grid_area": null,
       "grid_auto_columns": null,
       "grid_auto_flow": null,
       "grid_auto_rows": null,
       "grid_column": null,
       "grid_gap": null,
       "grid_row": null,
       "grid_template_areas": null,
       "grid_template_columns": null,
       "grid_template_rows": null,
       "height": null,
       "justify_content": null,
       "justify_items": null,
       "left": null,
       "margin": null,
       "max_height": null,
       "max_width": null,
       "min_height": null,
       "min_width": null,
       "object_fit": null,
       "object_position": null,
       "order": null,
       "overflow": null,
       "overflow_x": null,
       "overflow_y": null,
       "padding": null,
       "right": null,
       "top": null,
       "visibility": null,
       "width": null
      }
     },
     "1c7c26eb064b44de824ec71d980320f9": {
      "model_module": "@jupyter-widgets/controls",
      "model_module_version": "1.5.0",
      "model_name": "HBoxModel",
      "state": {
       "_dom_classes": [],
       "_model_module": "@jupyter-widgets/controls",
       "_model_module_version": "1.5.0",
       "_model_name": "HBoxModel",
       "_view_count": null,
       "_view_module": "@jupyter-widgets/controls",
       "_view_module_version": "1.5.0",
       "_view_name": "HBoxView",
       "box_style": "",
       "children": [
        "IPY_MODEL_ac92ff3bb9de489cbe0715076ab7fe98",
        "IPY_MODEL_4adf669bb7e547ba8e4885923a2923eb",
        "IPY_MODEL_0567ad25d38141ec803b2ce2720b949c"
       ],
       "layout": "IPY_MODEL_960a797b9692476cb13d1cc6d5b1dc58"
      }
     },
     "2378e0a3232444af849bab631e6140fb": {
      "model_module": "@jupyter-widgets/controls",
      "model_module_version": "1.5.0",
      "model_name": "ProgressStyleModel",
      "state": {
       "_model_module": "@jupyter-widgets/controls",
       "_model_module_version": "1.5.0",
       "_model_name": "ProgressStyleModel",
       "_view_count": null,
       "_view_module": "@jupyter-widgets/base",
       "_view_module_version": "1.2.0",
       "_view_name": "StyleView",
       "bar_color": null,
       "description_width": ""
      }
     },
     "4adf669bb7e547ba8e4885923a2923eb": {
      "model_module": "@jupyter-widgets/controls",
      "model_module_version": "1.5.0",
      "model_name": "FloatProgressModel",
      "state": {
       "_dom_classes": [],
       "_model_module": "@jupyter-widgets/controls",
       "_model_module_version": "1.5.0",
       "_model_name": "FloatProgressModel",
       "_view_count": null,
       "_view_module": "@jupyter-widgets/controls",
       "_view_module_version": "1.5.0",
       "_view_name": "ProgressView",
       "bar_style": "success",
       "description": "",
       "description_tooltip": null,
       "layout": "IPY_MODEL_5891ffbe9cdf4546922a47428cb35102",
       "max": 1.0,
       "min": 0.0,
       "orientation": "horizontal",
       "style": "IPY_MODEL_932ac1ca96504593ae472bd9e693bcad",
       "value": 1.0
      }
     },
     "50c16f4fd49e4495947587a34d1c1c41": {
      "model_module": "@jupyter-widgets/base",
      "model_module_version": "1.2.0",
      "model_name": "LayoutModel",
      "state": {
       "_model_module": "@jupyter-widgets/base",
       "_model_module_version": "1.2.0",
       "_model_name": "LayoutModel",
       "_view_count": null,
       "_view_module": "@jupyter-widgets/base",
       "_view_module_version": "1.2.0",
       "_view_name": "LayoutView",
       "align_content": null,
       "align_items": null,
       "align_self": null,
       "border": null,
       "bottom": null,
       "display": null,
       "flex": null,
       "flex_flow": null,
       "grid_area": null,
       "grid_auto_columns": null,
       "grid_auto_flow": null,
       "grid_auto_rows": null,
       "grid_column": null,
       "grid_gap": null,
       "grid_row": null,
       "grid_template_areas": null,
       "grid_template_columns": null,
       "grid_template_rows": null,
       "height": null,
       "justify_content": null,
       "justify_items": null,
       "left": null,
       "margin": null,
       "max_height": null,
       "max_width": null,
       "min_height": null,
       "min_width": null,
       "object_fit": null,
       "object_position": null,
       "order": null,
       "overflow": null,
       "overflow_x": null,
       "overflow_y": null,
       "padding": null,
       "right": null,
       "top": null,
       "visibility": null,
       "width": null
      }
     },
     "5891ffbe9cdf4546922a47428cb35102": {
      "model_module": "@jupyter-widgets/base",
      "model_module_version": "1.2.0",
      "model_name": "LayoutModel",
      "state": {
       "_model_module": "@jupyter-widgets/base",
       "_model_module_version": "1.2.0",
       "_model_name": "LayoutModel",
       "_view_count": null,
       "_view_module": "@jupyter-widgets/base",
       "_view_module_version": "1.2.0",
       "_view_name": "LayoutView",
       "align_content": null,
       "align_items": null,
       "align_self": null,
       "border": null,
       "bottom": null,
       "display": null,
       "flex": null,
       "flex_flow": null,
       "grid_area": null,
       "grid_auto_columns": null,
       "grid_auto_flow": null,
       "grid_auto_rows": null,
       "grid_column": null,
       "grid_gap": null,
       "grid_row": null,
       "grid_template_areas": null,
       "grid_template_columns": null,
       "grid_template_rows": null,
       "height": null,
       "justify_content": null,
       "justify_items": null,
       "left": null,
       "margin": null,
       "max_height": null,
       "max_width": null,
       "min_height": null,
       "min_width": null,
       "object_fit": null,
       "object_position": null,
       "order": null,
       "overflow": null,
       "overflow_x": null,
       "overflow_y": null,
       "padding": null,
       "right": null,
       "top": null,
       "visibility": null,
       "width": "20px"
      }
     },
     "6bf0ff48cda44cedb7e93d656bd268ec": {
      "model_module": "@jupyter-widgets/base",
      "model_module_version": "1.2.0",
      "model_name": "LayoutModel",
      "state": {
       "_model_module": "@jupyter-widgets/base",
       "_model_module_version": "1.2.0",
       "_model_name": "LayoutModel",
       "_view_count": null,
       "_view_module": "@jupyter-widgets/base",
       "_view_module_version": "1.2.0",
       "_view_name": "LayoutView",
       "align_content": null,
       "align_items": null,
       "align_self": null,
       "border": null,
       "bottom": null,
       "display": null,
       "flex": null,
       "flex_flow": null,
       "grid_area": null,
       "grid_auto_columns": null,
       "grid_auto_flow": null,
       "grid_auto_rows": null,
       "grid_column": null,
       "grid_gap": null,
       "grid_row": null,
       "grid_template_areas": null,
       "grid_template_columns": null,
       "grid_template_rows": null,
       "height": null,
       "justify_content": null,
       "justify_items": null,
       "left": null,
       "margin": null,
       "max_height": null,
       "max_width": null,
       "min_height": null,
       "min_width": null,
       "object_fit": null,
       "object_position": null,
       "order": null,
       "overflow": null,
       "overflow_x": null,
       "overflow_y": null,
       "padding": null,
       "right": null,
       "top": null,
       "visibility": null,
       "width": null
      }
     },
     "932ac1ca96504593ae472bd9e693bcad": {
      "model_module": "@jupyter-widgets/controls",
      "model_module_version": "1.5.0",
      "model_name": "ProgressStyleModel",
      "state": {
       "_model_module": "@jupyter-widgets/controls",
       "_model_module_version": "1.5.0",
       "_model_name": "ProgressStyleModel",
       "_view_count": null,
       "_view_module": "@jupyter-widgets/base",
       "_view_module_version": "1.2.0",
       "_view_name": "StyleView",
       "bar_color": null,
       "description_width": ""
      }
     },
     "940a9c3e3e264f238d7ba720b5667c11": {
      "model_module": "@jupyter-widgets/controls",
      "model_module_version": "1.5.0",
      "model_name": "DescriptionStyleModel",
      "state": {
       "_model_module": "@jupyter-widgets/controls",
       "_model_module_version": "1.5.0",
       "_model_name": "DescriptionStyleModel",
       "_view_count": null,
       "_view_module": "@jupyter-widgets/base",
       "_view_module_version": "1.2.0",
       "_view_name": "StyleView",
       "description_width": ""
      }
     },
     "949d2baae5dd4429b233eda2b58e4720": {
      "model_module": "@jupyter-widgets/base",
      "model_module_version": "1.2.0",
      "model_name": "LayoutModel",
      "state": {
       "_model_module": "@jupyter-widgets/base",
       "_model_module_version": "1.2.0",
       "_model_name": "LayoutModel",
       "_view_count": null,
       "_view_module": "@jupyter-widgets/base",
       "_view_module_version": "1.2.0",
       "_view_name": "LayoutView",
       "align_content": null,
       "align_items": null,
       "align_self": null,
       "border": null,
       "bottom": null,
       "display": null,
       "flex": null,
       "flex_flow": null,
       "grid_area": null,
       "grid_auto_columns": null,
       "grid_auto_flow": null,
       "grid_auto_rows": null,
       "grid_column": null,
       "grid_gap": null,
       "grid_row": null,
       "grid_template_areas": null,
       "grid_template_columns": null,
       "grid_template_rows": null,
       "height": null,
       "justify_content": null,
       "justify_items": null,
       "left": null,
       "margin": null,
       "max_height": null,
       "max_width": null,
       "min_height": null,
       "min_width": null,
       "object_fit": null,
       "object_position": null,
       "order": null,
       "overflow": null,
       "overflow_x": null,
       "overflow_y": null,
       "padding": null,
       "right": null,
       "top": null,
       "visibility": null,
       "width": "20px"
      }
     },
     "960a797b9692476cb13d1cc6d5b1dc58": {
      "model_module": "@jupyter-widgets/base",
      "model_module_version": "1.2.0",
      "model_name": "LayoutModel",
      "state": {
       "_model_module": "@jupyter-widgets/base",
       "_model_module_version": "1.2.0",
       "_model_name": "LayoutModel",
       "_view_count": null,
       "_view_module": "@jupyter-widgets/base",
       "_view_module_version": "1.2.0",
       "_view_name": "LayoutView",
       "align_content": null,
       "align_items": null,
       "align_self": null,
       "border": null,
       "bottom": null,
       "display": null,
       "flex": null,
       "flex_flow": null,
       "grid_area": null,
       "grid_auto_columns": null,
       "grid_auto_flow": null,
       "grid_auto_rows": null,
       "grid_column": null,
       "grid_gap": null,
       "grid_row": null,
       "grid_template_areas": null,
       "grid_template_columns": null,
       "grid_template_rows": null,
       "height": null,
       "justify_content": null,
       "justify_items": null,
       "left": null,
       "margin": null,
       "max_height": null,
       "max_width": null,
       "min_height": null,
       "min_width": null,
       "object_fit": null,
       "object_position": null,
       "order": null,
       "overflow": null,
       "overflow_x": null,
       "overflow_y": null,
       "padding": null,
       "right": null,
       "top": null,
       "visibility": null,
       "width": null
      }
     },
     "9e92364e9c9a4270805c125baf67a55a": {
      "model_module": "@jupyter-widgets/base",
      "model_module_version": "1.2.0",
      "model_name": "LayoutModel",
      "state": {
       "_model_module": "@jupyter-widgets/base",
       "_model_module_version": "1.2.0",
       "_model_name": "LayoutModel",
       "_view_count": null,
       "_view_module": "@jupyter-widgets/base",
       "_view_module_version": "1.2.0",
       "_view_name": "LayoutView",
       "align_content": null,
       "align_items": null,
       "align_self": null,
       "border": null,
       "bottom": null,
       "display": null,
       "flex": null,
       "flex_flow": null,
       "grid_area": null,
       "grid_auto_columns": null,
       "grid_auto_flow": null,
       "grid_auto_rows": null,
       "grid_column": null,
       "grid_gap": null,
       "grid_row": null,
       "grid_template_areas": null,
       "grid_template_columns": null,
       "grid_template_rows": null,
       "height": null,
       "justify_content": null,
       "justify_items": null,
       "left": null,
       "margin": null,
       "max_height": null,
       "max_width": null,
       "min_height": null,
       "min_width": null,
       "object_fit": null,
       "object_position": null,
       "order": null,
       "overflow": null,
       "overflow_x": null,
       "overflow_y": null,
       "padding": null,
       "right": null,
       "top": null,
       "visibility": null,
       "width": null
      }
     },
     "a8ac2226f0e34e9fa9e9a6eebdb0cb58": {
      "model_module": "@jupyter-widgets/controls",
      "model_module_version": "1.5.0",
      "model_name": "HTMLModel",
      "state": {
       "_dom_classes": [],
       "_model_module": "@jupyter-widgets/controls",
       "_model_module_version": "1.5.0",
       "_model_name": "HTMLModel",
       "_view_count": null,
       "_view_module": "@jupyter-widgets/controls",
       "_view_module_version": "1.5.0",
       "_view_name": "HTMLView",
       "description": "",
       "description_tooltip": null,
       "layout": "IPY_MODEL_50c16f4fd49e4495947587a34d1c1c41",
       "placeholder": "​",
       "style": "IPY_MODEL_f1b4e4b8a3f5403db445a685661866c6",
       "value": "5it [00:22,  4.52s/it]"
      }
     },
     "abc4d17fc6844286a8ed120e2e22770b": {
      "model_module": "@jupyter-widgets/controls",
      "model_module_version": "1.5.0",
      "model_name": "FloatProgressModel",
      "state": {
       "_dom_classes": [],
       "_model_module": "@jupyter-widgets/controls",
       "_model_module_version": "1.5.0",
       "_model_name": "FloatProgressModel",
       "_view_count": null,
       "_view_module": "@jupyter-widgets/controls",
       "_view_module_version": "1.5.0",
       "_view_name": "ProgressView",
       "bar_style": "success",
       "description": "",
       "description_tooltip": null,
       "layout": "IPY_MODEL_949d2baae5dd4429b233eda2b58e4720",
       "max": 1.0,
       "min": 0.0,
       "orientation": "horizontal",
       "style": "IPY_MODEL_2378e0a3232444af849bab631e6140fb",
       "value": 1.0
      }
     },
     "ac92ff3bb9de489cbe0715076ab7fe98": {
      "model_module": "@jupyter-widgets/controls",
      "model_module_version": "1.5.0",
      "model_name": "HTMLModel",
      "state": {
       "_dom_classes": [],
       "_model_module": "@jupyter-widgets/controls",
       "_model_module_version": "1.5.0",
       "_model_name": "HTMLModel",
       "_view_count": null,
       "_view_module": "@jupyter-widgets/controls",
       "_view_module_version": "1.5.0",
       "_view_name": "HTMLView",
       "description": "",
       "description_tooltip": null,
       "layout": "IPY_MODEL_cba7332d7d7848f49398fc30cf44b18d",
       "placeholder": "​",
       "style": "IPY_MODEL_940a9c3e3e264f238d7ba720b5667c11",
       "value": ""
      }
     },
     "acec58c279c645bea41454be66615be7": {
      "model_module": "@jupyter-widgets/controls",
      "model_module_version": "1.5.0",
      "model_name": "HBoxModel",
      "state": {
       "_dom_classes": [],
       "_model_module": "@jupyter-widgets/controls",
       "_model_module_version": "1.5.0",
       "_model_name": "HBoxModel",
       "_view_count": null,
       "_view_module": "@jupyter-widgets/controls",
       "_view_module_version": "1.5.0",
       "_view_name": "HBoxView",
       "box_style": "",
       "children": [
        "IPY_MODEL_bcad4f175e2e4cd79c3f70ae8f3dbc63",
        "IPY_MODEL_abc4d17fc6844286a8ed120e2e22770b",
        "IPY_MODEL_a8ac2226f0e34e9fa9e9a6eebdb0cb58"
       ],
       "layout": "IPY_MODEL_6bf0ff48cda44cedb7e93d656bd268ec"
      }
     },
     "bcad4f175e2e4cd79c3f70ae8f3dbc63": {
      "model_module": "@jupyter-widgets/controls",
      "model_module_version": "1.5.0",
      "model_name": "HTMLModel",
      "state": {
       "_dom_classes": [],
       "_model_module": "@jupyter-widgets/controls",
       "_model_module_version": "1.5.0",
       "_model_name": "HTMLModel",
       "_view_count": null,
       "_view_module": "@jupyter-widgets/controls",
       "_view_module_version": "1.5.0",
       "_view_name": "HTMLView",
       "description": "",
       "description_tooltip": null,
       "layout": "IPY_MODEL_0d2e71cc051246518126aa7b5f950d80",
       "placeholder": "​",
       "style": "IPY_MODEL_06c0042c54b446b496c1235a6adf1c3e",
       "value": ""
      }
     },
     "cba7332d7d7848f49398fc30cf44b18d": {
      "model_module": "@jupyter-widgets/base",
      "model_module_version": "1.2.0",
      "model_name": "LayoutModel",
      "state": {
       "_model_module": "@jupyter-widgets/base",
       "_model_module_version": "1.2.0",
       "_model_name": "LayoutModel",
       "_view_count": null,
       "_view_module": "@jupyter-widgets/base",
       "_view_module_version": "1.2.0",
       "_view_name": "LayoutView",
       "align_content": null,
       "align_items": null,
       "align_self": null,
       "border": null,
       "bottom": null,
       "display": null,
       "flex": null,
       "flex_flow": null,
       "grid_area": null,
       "grid_auto_columns": null,
       "grid_auto_flow": null,
       "grid_auto_rows": null,
       "grid_column": null,
       "grid_gap": null,
       "grid_row": null,
       "grid_template_areas": null,
       "grid_template_columns": null,
       "grid_template_rows": null,
       "height": null,
       "justify_content": null,
       "justify_items": null,
       "left": null,
       "margin": null,
       "max_height": null,
       "max_width": null,
       "min_height": null,
       "min_width": null,
       "object_fit": null,
       "object_position": null,
       "order": null,
       "overflow": null,
       "overflow_x": null,
       "overflow_y": null,
       "padding": null,
       "right": null,
       "top": null,
       "visibility": null,
       "width": null
      }
     },
     "f1b4e4b8a3f5403db445a685661866c6": {
      "model_module": "@jupyter-widgets/controls",
      "model_module_version": "1.5.0",
      "model_name": "DescriptionStyleModel",
      "state": {
       "_model_module": "@jupyter-widgets/controls",
       "_model_module_version": "1.5.0",
       "_model_name": "DescriptionStyleModel",
       "_view_count": null,
       "_view_module": "@jupyter-widgets/base",
       "_view_module_version": "1.2.0",
       "_view_name": "StyleView",
       "description_width": ""
      }
     },
     "f1d32020c97347398153080bc0ca8adf": {
      "model_module": "@jupyter-widgets/controls",
      "model_module_version": "1.5.0",
      "model_name": "DescriptionStyleModel",
      "state": {
       "_model_module": "@jupyter-widgets/controls",
       "_model_module_version": "1.5.0",
       "_model_name": "DescriptionStyleModel",
       "_view_count": null,
       "_view_module": "@jupyter-widgets/base",
       "_view_module_version": "1.2.0",
       "_view_name": "StyleView",
       "description_width": ""
      }
     }
    },
    "version_major": 2,
    "version_minor": 0
   }
  }
 },
 "nbformat": 4,
 "nbformat_minor": 4
}
