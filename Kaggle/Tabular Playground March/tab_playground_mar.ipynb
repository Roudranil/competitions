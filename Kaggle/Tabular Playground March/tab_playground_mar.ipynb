{
  "nbformat": 4,
  "nbformat_minor": 0,
  "metadata": {
    "colab": {
      "name": "tab playground mar.ipynb",
      "provenance": [],
      "authorship_tag": "ABX9TyNRICDkEbcKL1v0rXoJe4uB",
      "include_colab_link": true
    },
    "kernelspec": {
      "name": "python3",
      "display_name": "Python 3"
    }
  },
  "cells": [
    {
      "cell_type": "markdown",
      "metadata": {
        "id": "view-in-github",
        "colab_type": "text"
      },
      "source": [
        "<a href=\"https://colab.research.google.com/github/Roudranil/competitions/blob/main/Kaggle/Tabular%20Playground%20March/tab_playground_mar.ipynb\" target=\"_parent\"><img src=\"https://colab.research.google.com/assets/colab-badge.svg\" alt=\"Open In Colab\"/></a>"
      ]
    },
    {
      "cell_type": "markdown",
      "metadata": {
        "id": "4nba_tqySZ0F"
      },
      "source": [
        "#1. *`libraries and dataset`*\r\n",
        "---"
      ]
    },
    {
      "cell_type": "code",
      "metadata": {
        "colab": {
          "base_uri": "https://localhost:8080/"
        },
        "id": "jQK6x1CTSEa9",
        "outputId": "9e8515f3-5090-412b-c393-d9cbd8d15372"
      },
      "source": [
        "from google.colab import drive\n",
        "drive.mount('/content/drive')"
      ],
      "execution_count": 1,
      "outputs": [
        {
          "output_type": "stream",
          "text": [
            "Mounted at /content/drive\n"
          ],
          "name": "stdout"
        }
      ]
    },
    {
      "cell_type": "code",
      "metadata": {
        "id": "YGb9HetXSRLB"
      },
      "source": [
        "!pip install catboost"
      ],
      "execution_count": null,
      "outputs": []
    },
    {
      "cell_type": "code",
      "metadata": {
        "id": "8fMNJ7tmSgzc"
      },
      "source": [
        "!pip install h2o"
      ],
      "execution_count": null,
      "outputs": []
    },
    {
      "cell_type": "code",
      "metadata": {
        "id": "6gCoLKMVSlB_"
      },
      "source": [
        "!pip install optuna"
      ],
      "execution_count": null,
      "outputs": []
    },
    {
      "cell_type": "code",
      "metadata": {
        "id": "L6bl40zDSvLb"
      },
      "source": [
        "!pip install featuretools"
      ],
      "execution_count": null,
      "outputs": []
    },
    {
      "cell_type": "code",
      "metadata": {
        "id": "4ZTxg4uCS283"
      },
      "source": [
        "import numpy as np\r\n",
        "import pandas as pd\r\n",
        "import matplotlib.pyplot as plt\r\n",
        "\r\n",
        "from xgboost import XGBClassifier as xgbc\r\n",
        "from lightgbm import LGBMClassifier as lgbc\r\n",
        "from catboost import CatBoostClassifier as ctbc\r\n",
        "\r\n",
        "from sklearn.linear_model import LogisticRegression\r\n",
        "from sklearn.ensemble import RandomForestClassifier, GradientBoostingClassifier, StackingClassifier\r\n",
        "from sklearn.metrics import confusion_matrix as cm\r\n",
        "from sklearn.metrics import classification_report as cr\r\n",
        "from sklearn.metrics import auc, roc_auc_score\r\n",
        "\r\n",
        "from sklearn.model_selection import KFold\r\n",
        "\r\n",
        "import optuna\r\n",
        "import featuretools as ft\r\n",
        "import seaborn as sns\r\n",
        "from tqdm import tqdm\r\n",
        "plt.rcParams['figure.figsize'] = 12,12"
      ],
      "execution_count": 9,
      "outputs": []
    },
    {
      "cell_type": "code",
      "metadata": {
        "id": "Uzb7KGK3TPWY"
      },
      "source": [
        "import h2o\r\n",
        "h2o.init()"
      ],
      "execution_count": null,
      "outputs": []
    },
    {
      "cell_type": "code",
      "metadata": {
        "id": "fdukHmbVVcGO"
      },
      "source": [
        "traindata = pd.read_csv('/content/drive/MyDrive/data/kaggle_tabplayground_mar/train.csv', index_col=0)\r\n",
        "testdata = pd.read_csv('/content/drive/MyDrive/data/kaggle_tabplayground_mar/test.csv', index_col=0)\r\n",
        "submission = pd.read_csv('/content/drive/MyDrive/data/kaggle_tabplayground_mar/sample_submission.csv', index_col=0)"
      ],
      "execution_count": 80,
      "outputs": []
    },
    {
      "cell_type": "code",
      "metadata": {
        "id": "dg59RjGhmzan"
      },
      "source": [
        "traindf = traindata\r\n",
        "testdf = testdata"
      ],
      "execution_count": 81,
      "outputs": []
    },
    {
      "cell_type": "code",
      "metadata": {
        "id": "gu9zyzGFWI_V"
      },
      "source": [
        "traintest = pd.concat([traindata.drop(columns=['target']), testdata])"
      ],
      "execution_count": 24,
      "outputs": []
    },
    {
      "cell_type": "code",
      "metadata": {
        "colab": {
          "base_uri": "https://localhost:8080/",
          "height": 240
        },
        "id": "5cAYqyIfVuME",
        "outputId": "73c33b61-a88a-4611-9027-04dfc342d50c"
      },
      "source": [
        "traindata.head()"
      ],
      "execution_count": 18,
      "outputs": [
        {
          "output_type": "execute_result",
          "data": {
            "text/html": [
              "<div>\n",
              "<style scoped>\n",
              "    .dataframe tbody tr th:only-of-type {\n",
              "        vertical-align: middle;\n",
              "    }\n",
              "\n",
              "    .dataframe tbody tr th {\n",
              "        vertical-align: top;\n",
              "    }\n",
              "\n",
              "    .dataframe thead th {\n",
              "        text-align: right;\n",
              "    }\n",
              "</style>\n",
              "<table border=\"1\" class=\"dataframe\">\n",
              "  <thead>\n",
              "    <tr style=\"text-align: right;\">\n",
              "      <th></th>\n",
              "      <th>cat0</th>\n",
              "      <th>cat1</th>\n",
              "      <th>cat2</th>\n",
              "      <th>cat3</th>\n",
              "      <th>cat4</th>\n",
              "      <th>cat5</th>\n",
              "      <th>cat6</th>\n",
              "      <th>cat7</th>\n",
              "      <th>cat8</th>\n",
              "      <th>cat9</th>\n",
              "      <th>cat10</th>\n",
              "      <th>cat11</th>\n",
              "      <th>cat12</th>\n",
              "      <th>cat13</th>\n",
              "      <th>cat14</th>\n",
              "      <th>cat15</th>\n",
              "      <th>cat16</th>\n",
              "      <th>cat17</th>\n",
              "      <th>cat18</th>\n",
              "      <th>cont0</th>\n",
              "      <th>cont1</th>\n",
              "      <th>cont2</th>\n",
              "      <th>cont3</th>\n",
              "      <th>cont4</th>\n",
              "      <th>cont5</th>\n",
              "      <th>cont6</th>\n",
              "      <th>cont7</th>\n",
              "      <th>cont8</th>\n",
              "      <th>cont9</th>\n",
              "      <th>cont10</th>\n",
              "      <th>target</th>\n",
              "    </tr>\n",
              "    <tr>\n",
              "      <th>id</th>\n",
              "      <th></th>\n",
              "      <th></th>\n",
              "      <th></th>\n",
              "      <th></th>\n",
              "      <th></th>\n",
              "      <th></th>\n",
              "      <th></th>\n",
              "      <th></th>\n",
              "      <th></th>\n",
              "      <th></th>\n",
              "      <th></th>\n",
              "      <th></th>\n",
              "      <th></th>\n",
              "      <th></th>\n",
              "      <th></th>\n",
              "      <th></th>\n",
              "      <th></th>\n",
              "      <th></th>\n",
              "      <th></th>\n",
              "      <th></th>\n",
              "      <th></th>\n",
              "      <th></th>\n",
              "      <th></th>\n",
              "      <th></th>\n",
              "      <th></th>\n",
              "      <th></th>\n",
              "      <th></th>\n",
              "      <th></th>\n",
              "      <th></th>\n",
              "      <th></th>\n",
              "      <th></th>\n",
              "    </tr>\n",
              "  </thead>\n",
              "  <tbody>\n",
              "    <tr>\n",
              "      <th>0</th>\n",
              "      <td>A</td>\n",
              "      <td>I</td>\n",
              "      <td>A</td>\n",
              "      <td>B</td>\n",
              "      <td>B</td>\n",
              "      <td>BI</td>\n",
              "      <td>A</td>\n",
              "      <td>S</td>\n",
              "      <td>Q</td>\n",
              "      <td>A</td>\n",
              "      <td>LO</td>\n",
              "      <td>A</td>\n",
              "      <td>A</td>\n",
              "      <td>A</td>\n",
              "      <td>A</td>\n",
              "      <td>B</td>\n",
              "      <td>D</td>\n",
              "      <td>D</td>\n",
              "      <td>B</td>\n",
              "      <td>0.629858</td>\n",
              "      <td>0.855349</td>\n",
              "      <td>0.759439</td>\n",
              "      <td>0.795549</td>\n",
              "      <td>0.681917</td>\n",
              "      <td>0.621672</td>\n",
              "      <td>0.592184</td>\n",
              "      <td>0.791921</td>\n",
              "      <td>0.815254</td>\n",
              "      <td>0.965006</td>\n",
              "      <td>0.665915</td>\n",
              "      <td>0</td>\n",
              "    </tr>\n",
              "    <tr>\n",
              "      <th>1</th>\n",
              "      <td>A</td>\n",
              "      <td>I</td>\n",
              "      <td>A</td>\n",
              "      <td>A</td>\n",
              "      <td>E</td>\n",
              "      <td>BI</td>\n",
              "      <td>K</td>\n",
              "      <td>W</td>\n",
              "      <td>AD</td>\n",
              "      <td>F</td>\n",
              "      <td>HJ</td>\n",
              "      <td>A</td>\n",
              "      <td>B</td>\n",
              "      <td>A</td>\n",
              "      <td>B</td>\n",
              "      <td>D</td>\n",
              "      <td>B</td>\n",
              "      <td>D</td>\n",
              "      <td>B</td>\n",
              "      <td>0.370727</td>\n",
              "      <td>0.328929</td>\n",
              "      <td>0.386385</td>\n",
              "      <td>0.541366</td>\n",
              "      <td>0.388982</td>\n",
              "      <td>0.357778</td>\n",
              "      <td>0.600044</td>\n",
              "      <td>0.408701</td>\n",
              "      <td>0.399353</td>\n",
              "      <td>0.927406</td>\n",
              "      <td>0.493729</td>\n",
              "      <td>0</td>\n",
              "    </tr>\n",
              "    <tr>\n",
              "      <th>2</th>\n",
              "      <td>A</td>\n",
              "      <td>K</td>\n",
              "      <td>A</td>\n",
              "      <td>A</td>\n",
              "      <td>E</td>\n",
              "      <td>BI</td>\n",
              "      <td>A</td>\n",
              "      <td>E</td>\n",
              "      <td>BM</td>\n",
              "      <td>L</td>\n",
              "      <td>DJ</td>\n",
              "      <td>A</td>\n",
              "      <td>B</td>\n",
              "      <td>A</td>\n",
              "      <td>A</td>\n",
              "      <td>B</td>\n",
              "      <td>D</td>\n",
              "      <td>D</td>\n",
              "      <td>B</td>\n",
              "      <td>0.502272</td>\n",
              "      <td>0.322749</td>\n",
              "      <td>0.343255</td>\n",
              "      <td>0.616352</td>\n",
              "      <td>0.793687</td>\n",
              "      <td>0.552877</td>\n",
              "      <td>0.352113</td>\n",
              "      <td>0.388835</td>\n",
              "      <td>0.412303</td>\n",
              "      <td>0.292696</td>\n",
              "      <td>0.549452</td>\n",
              "      <td>0</td>\n",
              "    </tr>\n",
              "    <tr>\n",
              "      <th>3</th>\n",
              "      <td>A</td>\n",
              "      <td>K</td>\n",
              "      <td>A</td>\n",
              "      <td>C</td>\n",
              "      <td>E</td>\n",
              "      <td>BI</td>\n",
              "      <td>A</td>\n",
              "      <td>Y</td>\n",
              "      <td>AD</td>\n",
              "      <td>F</td>\n",
              "      <td>KV</td>\n",
              "      <td>A</td>\n",
              "      <td>A</td>\n",
              "      <td>A</td>\n",
              "      <td>A</td>\n",
              "      <td>B</td>\n",
              "      <td>D</td>\n",
              "      <td>D</td>\n",
              "      <td>B</td>\n",
              "      <td>0.934242</td>\n",
              "      <td>0.707663</td>\n",
              "      <td>0.831147</td>\n",
              "      <td>0.807807</td>\n",
              "      <td>0.800032</td>\n",
              "      <td>0.619147</td>\n",
              "      <td>0.221789</td>\n",
              "      <td>0.897617</td>\n",
              "      <td>0.633669</td>\n",
              "      <td>0.760318</td>\n",
              "      <td>0.934242</td>\n",
              "      <td>0</td>\n",
              "    </tr>\n",
              "    <tr>\n",
              "      <th>4</th>\n",
              "      <td>A</td>\n",
              "      <td>I</td>\n",
              "      <td>G</td>\n",
              "      <td>B</td>\n",
              "      <td>E</td>\n",
              "      <td>BI</td>\n",
              "      <td>C</td>\n",
              "      <td>G</td>\n",
              "      <td>Q</td>\n",
              "      <td>A</td>\n",
              "      <td>DP</td>\n",
              "      <td>A</td>\n",
              "      <td>A</td>\n",
              "      <td>A</td>\n",
              "      <td>B</td>\n",
              "      <td>B</td>\n",
              "      <td>B</td>\n",
              "      <td>D</td>\n",
              "      <td>B</td>\n",
              "      <td>0.254427</td>\n",
              "      <td>0.274514</td>\n",
              "      <td>0.338818</td>\n",
              "      <td>0.277308</td>\n",
              "      <td>0.610578</td>\n",
              "      <td>0.128291</td>\n",
              "      <td>0.578764</td>\n",
              "      <td>0.279167</td>\n",
              "      <td>0.351103</td>\n",
              "      <td>0.357084</td>\n",
              "      <td>0.328960</td>\n",
              "      <td>1</td>\n",
              "    </tr>\n",
              "  </tbody>\n",
              "</table>\n",
              "</div>"
            ],
            "text/plain": [
              "   cat0 cat1 cat2 cat3 cat4  ...     cont7     cont8     cont9    cont10 target\n",
              "id                           ...                                               \n",
              "0     A    I    A    B    B  ...  0.791921  0.815254  0.965006  0.665915      0\n",
              "1     A    I    A    A    E  ...  0.408701  0.399353  0.927406  0.493729      0\n",
              "2     A    K    A    A    E  ...  0.388835  0.412303  0.292696  0.549452      0\n",
              "3     A    K    A    C    E  ...  0.897617  0.633669  0.760318  0.934242      0\n",
              "4     A    I    G    B    E  ...  0.279167  0.351103  0.357084  0.328960      1\n",
              "\n",
              "[5 rows x 31 columns]"
            ]
          },
          "metadata": {
            "tags": []
          },
          "execution_count": 18
        }
      ]
    },
    {
      "cell_type": "code",
      "metadata": {
        "colab": {
          "base_uri": "https://localhost:8080/"
        },
        "id": "qPjWgRkEVwyS",
        "outputId": "f068d4bd-ec8c-4b50-eb74-c87bb55547c4"
      },
      "source": [
        "traindata.info()"
      ],
      "execution_count": 19,
      "outputs": [
        {
          "output_type": "stream",
          "text": [
            "<class 'pandas.core.frame.DataFrame'>\n",
            "Int64Index: 300000 entries, 0 to 499999\n",
            "Data columns (total 31 columns):\n",
            " #   Column  Non-Null Count   Dtype  \n",
            "---  ------  --------------   -----  \n",
            " 0   cat0    300000 non-null  object \n",
            " 1   cat1    300000 non-null  object \n",
            " 2   cat2    300000 non-null  object \n",
            " 3   cat3    300000 non-null  object \n",
            " 4   cat4    300000 non-null  object \n",
            " 5   cat5    300000 non-null  object \n",
            " 6   cat6    300000 non-null  object \n",
            " 7   cat7    300000 non-null  object \n",
            " 8   cat8    300000 non-null  object \n",
            " 9   cat9    300000 non-null  object \n",
            " 10  cat10   300000 non-null  object \n",
            " 11  cat11   300000 non-null  object \n",
            " 12  cat12   300000 non-null  object \n",
            " 13  cat13   300000 non-null  object \n",
            " 14  cat14   300000 non-null  object \n",
            " 15  cat15   300000 non-null  object \n",
            " 16  cat16   300000 non-null  object \n",
            " 17  cat17   300000 non-null  object \n",
            " 18  cat18   300000 non-null  object \n",
            " 19  cont0   300000 non-null  float64\n",
            " 20  cont1   300000 non-null  float64\n",
            " 21  cont2   300000 non-null  float64\n",
            " 22  cont3   300000 non-null  float64\n",
            " 23  cont4   300000 non-null  float64\n",
            " 24  cont5   300000 non-null  float64\n",
            " 25  cont6   300000 non-null  float64\n",
            " 26  cont7   300000 non-null  float64\n",
            " 27  cont8   300000 non-null  float64\n",
            " 28  cont9   300000 non-null  float64\n",
            " 29  cont10  300000 non-null  float64\n",
            " 30  target  300000 non-null  int64  \n",
            "dtypes: float64(11), int64(1), object(19)\n",
            "memory usage: 73.2+ MB\n"
          ],
          "name": "stdout"
        }
      ]
    },
    {
      "cell_type": "code",
      "metadata": {
        "colab": {
          "base_uri": "https://localhost:8080/",
          "height": 277
        },
        "id": "ZMwt3sVpV0Yf",
        "outputId": "ad42086a-6b65-463a-9fa4-abea4a7e674e"
      },
      "source": [
        "traindata.describe()"
      ],
      "execution_count": 20,
      "outputs": [
        {
          "output_type": "execute_result",
          "data": {
            "text/html": [
              "<div>\n",
              "<style scoped>\n",
              "    .dataframe tbody tr th:only-of-type {\n",
              "        vertical-align: middle;\n",
              "    }\n",
              "\n",
              "    .dataframe tbody tr th {\n",
              "        vertical-align: top;\n",
              "    }\n",
              "\n",
              "    .dataframe thead th {\n",
              "        text-align: right;\n",
              "    }\n",
              "</style>\n",
              "<table border=\"1\" class=\"dataframe\">\n",
              "  <thead>\n",
              "    <tr style=\"text-align: right;\">\n",
              "      <th></th>\n",
              "      <th>cont0</th>\n",
              "      <th>cont1</th>\n",
              "      <th>cont2</th>\n",
              "      <th>cont3</th>\n",
              "      <th>cont4</th>\n",
              "      <th>cont5</th>\n",
              "      <th>cont6</th>\n",
              "      <th>cont7</th>\n",
              "      <th>cont8</th>\n",
              "      <th>cont9</th>\n",
              "      <th>cont10</th>\n",
              "      <th>target</th>\n",
              "    </tr>\n",
              "  </thead>\n",
              "  <tbody>\n",
              "    <tr>\n",
              "      <th>count</th>\n",
              "      <td>300000.000000</td>\n",
              "      <td>300000.000000</td>\n",
              "      <td>300000.000000</td>\n",
              "      <td>300000.000000</td>\n",
              "      <td>300000.000000</td>\n",
              "      <td>300000.000000</td>\n",
              "      <td>300000.000000</td>\n",
              "      <td>300000.000000</td>\n",
              "      <td>300000.000000</td>\n",
              "      <td>300000.000000</td>\n",
              "      <td>300000.000000</td>\n",
              "      <td>300000.000000</td>\n",
              "    </tr>\n",
              "    <tr>\n",
              "      <th>mean</th>\n",
              "      <td>0.504749</td>\n",
              "      <td>0.494073</td>\n",
              "      <td>0.516632</td>\n",
              "      <td>0.474235</td>\n",
              "      <td>0.504848</td>\n",
              "      <td>0.502257</td>\n",
              "      <td>0.488229</td>\n",
              "      <td>0.501739</td>\n",
              "      <td>0.488074</td>\n",
              "      <td>0.469496</td>\n",
              "      <td>0.508230</td>\n",
              "      <td>0.264870</td>\n",
              "    </tr>\n",
              "    <tr>\n",
              "      <th>std</th>\n",
              "      <td>0.206788</td>\n",
              "      <td>0.213037</td>\n",
              "      <td>0.214851</td>\n",
              "      <td>0.216636</td>\n",
              "      <td>0.227474</td>\n",
              "      <td>0.241243</td>\n",
              "      <td>0.211335</td>\n",
              "      <td>0.203496</td>\n",
              "      <td>0.179048</td>\n",
              "      <td>0.194516</td>\n",
              "      <td>0.203393</td>\n",
              "      <td>0.441265</td>\n",
              "    </tr>\n",
              "    <tr>\n",
              "      <th>min</th>\n",
              "      <td>-0.049562</td>\n",
              "      <td>0.084480</td>\n",
              "      <td>0.094493</td>\n",
              "      <td>-0.045316</td>\n",
              "      <td>0.168071</td>\n",
              "      <td>-0.036379</td>\n",
              "      <td>0.005199</td>\n",
              "      <td>0.090901</td>\n",
              "      <td>0.024139</td>\n",
              "      <td>0.214866</td>\n",
              "      <td>0.097789</td>\n",
              "      <td>0.000000</td>\n",
              "    </tr>\n",
              "    <tr>\n",
              "      <th>25%</th>\n",
              "      <td>0.344985</td>\n",
              "      <td>0.317363</td>\n",
              "      <td>0.326047</td>\n",
              "      <td>0.292249</td>\n",
              "      <td>0.279303</td>\n",
              "      <td>0.276442</td>\n",
              "      <td>0.323914</td>\n",
              "      <td>0.353054</td>\n",
              "      <td>0.358915</td>\n",
              "      <td>0.309934</td>\n",
              "      <td>0.368312</td>\n",
              "      <td>0.000000</td>\n",
              "    </tr>\n",
              "    <tr>\n",
              "      <th>50%</th>\n",
              "      <td>0.479650</td>\n",
              "      <td>0.463170</td>\n",
              "      <td>0.471247</td>\n",
              "      <td>0.387564</td>\n",
              "      <td>0.479858</td>\n",
              "      <td>0.554768</td>\n",
              "      <td>0.518089</td>\n",
              "      <td>0.435404</td>\n",
              "      <td>0.410908</td>\n",
              "      <td>0.407477</td>\n",
              "      <td>0.446576</td>\n",
              "      <td>0.000000</td>\n",
              "    </tr>\n",
              "    <tr>\n",
              "      <th>75%</th>\n",
              "      <td>0.637657</td>\n",
              "      <td>0.693992</td>\n",
              "      <td>0.704625</td>\n",
              "      <td>0.644950</td>\n",
              "      <td>0.725779</td>\n",
              "      <td>0.735225</td>\n",
              "      <td>0.608537</td>\n",
              "      <td>0.642023</td>\n",
              "      <td>0.612725</td>\n",
              "      <td>0.586793</td>\n",
              "      <td>0.581957</td>\n",
              "      <td>1.000000</td>\n",
              "    </tr>\n",
              "    <tr>\n",
              "      <th>max</th>\n",
              "      <td>1.004559</td>\n",
              "      <td>1.009958</td>\n",
              "      <td>1.016600</td>\n",
              "      <td>0.952187</td>\n",
              "      <td>0.858578</td>\n",
              "      <td>0.853022</td>\n",
              "      <td>0.966553</td>\n",
              "      <td>1.035818</td>\n",
              "      <td>1.055885</td>\n",
              "      <td>1.005652</td>\n",
              "      <td>1.011331</td>\n",
              "      <td>1.000000</td>\n",
              "    </tr>\n",
              "  </tbody>\n",
              "</table>\n",
              "</div>"
            ],
            "text/plain": [
              "               cont0          cont1  ...         cont10         target\n",
              "count  300000.000000  300000.000000  ...  300000.000000  300000.000000\n",
              "mean        0.504749       0.494073  ...       0.508230       0.264870\n",
              "std         0.206788       0.213037  ...       0.203393       0.441265\n",
              "min        -0.049562       0.084480  ...       0.097789       0.000000\n",
              "25%         0.344985       0.317363  ...       0.368312       0.000000\n",
              "50%         0.479650       0.463170  ...       0.446576       0.000000\n",
              "75%         0.637657       0.693992  ...       0.581957       1.000000\n",
              "max         1.004559       1.009958  ...       1.011331       1.000000\n",
              "\n",
              "[8 rows x 12 columns]"
            ]
          },
          "metadata": {
            "tags": []
          },
          "execution_count": 20
        }
      ]
    },
    {
      "cell_type": "code",
      "metadata": {
        "colab": {
          "base_uri": "https://localhost:8080/",
          "height": 277
        },
        "id": "YNsAlsFoV3_K",
        "outputId": "7185aa4e-40e5-49e5-88c1-157a1c740c55"
      },
      "source": [
        "testdata.describe()"
      ],
      "execution_count": 21,
      "outputs": [
        {
          "output_type": "execute_result",
          "data": {
            "text/html": [
              "<div>\n",
              "<style scoped>\n",
              "    .dataframe tbody tr th:only-of-type {\n",
              "        vertical-align: middle;\n",
              "    }\n",
              "\n",
              "    .dataframe tbody tr th {\n",
              "        vertical-align: top;\n",
              "    }\n",
              "\n",
              "    .dataframe thead th {\n",
              "        text-align: right;\n",
              "    }\n",
              "</style>\n",
              "<table border=\"1\" class=\"dataframe\">\n",
              "  <thead>\n",
              "    <tr style=\"text-align: right;\">\n",
              "      <th></th>\n",
              "      <th>cont0</th>\n",
              "      <th>cont1</th>\n",
              "      <th>cont2</th>\n",
              "      <th>cont3</th>\n",
              "      <th>cont4</th>\n",
              "      <th>cont5</th>\n",
              "      <th>cont6</th>\n",
              "      <th>cont7</th>\n",
              "      <th>cont8</th>\n",
              "      <th>cont9</th>\n",
              "      <th>cont10</th>\n",
              "    </tr>\n",
              "  </thead>\n",
              "  <tbody>\n",
              "    <tr>\n",
              "      <th>count</th>\n",
              "      <td>200000.000000</td>\n",
              "      <td>200000.000000</td>\n",
              "      <td>200000.000000</td>\n",
              "      <td>200000.000000</td>\n",
              "      <td>200000.000000</td>\n",
              "      <td>200000.000000</td>\n",
              "      <td>200000.000000</td>\n",
              "      <td>200000.000000</td>\n",
              "      <td>200000.000000</td>\n",
              "      <td>200000.000000</td>\n",
              "      <td>200000.000000</td>\n",
              "    </tr>\n",
              "    <tr>\n",
              "      <th>mean</th>\n",
              "      <td>0.505388</td>\n",
              "      <td>0.493960</td>\n",
              "      <td>0.516425</td>\n",
              "      <td>0.475286</td>\n",
              "      <td>0.504772</td>\n",
              "      <td>0.501180</td>\n",
              "      <td>0.487315</td>\n",
              "      <td>0.502684</td>\n",
              "      <td>0.488331</td>\n",
              "      <td>0.469813</td>\n",
              "      <td>0.508974</td>\n",
              "    </tr>\n",
              "    <tr>\n",
              "      <th>std</th>\n",
              "      <td>0.207417</td>\n",
              "      <td>0.212695</td>\n",
              "      <td>0.214752</td>\n",
              "      <td>0.216919</td>\n",
              "      <td>0.227199</td>\n",
              "      <td>0.241375</td>\n",
              "      <td>0.211335</td>\n",
              "      <td>0.203793</td>\n",
              "      <td>0.178895</td>\n",
              "      <td>0.194999</td>\n",
              "      <td>0.203926</td>\n",
              "    </tr>\n",
              "    <tr>\n",
              "      <th>min</th>\n",
              "      <td>-0.044929</td>\n",
              "      <td>0.090478</td>\n",
              "      <td>0.098591</td>\n",
              "      <td>-0.038178</td>\n",
              "      <td>0.171321</td>\n",
              "      <td>-0.036337</td>\n",
              "      <td>-0.005648</td>\n",
              "      <td>0.096067</td>\n",
              "      <td>0.013554</td>\n",
              "      <td>0.215540</td>\n",
              "      <td>0.113059</td>\n",
              "    </tr>\n",
              "    <tr>\n",
              "      <th>25%</th>\n",
              "      <td>0.344748</td>\n",
              "      <td>0.317788</td>\n",
              "      <td>0.326210</td>\n",
              "      <td>0.292777</td>\n",
              "      <td>0.279413</td>\n",
              "      <td>0.275422</td>\n",
              "      <td>0.322365</td>\n",
              "      <td>0.353388</td>\n",
              "      <td>0.359121</td>\n",
              "      <td>0.309888</td>\n",
              "      <td>0.368999</td>\n",
              "    </tr>\n",
              "    <tr>\n",
              "      <th>50%</th>\n",
              "      <td>0.479633</td>\n",
              "      <td>0.463195</td>\n",
              "      <td>0.470893</td>\n",
              "      <td>0.392118</td>\n",
              "      <td>0.480299</td>\n",
              "      <td>0.554723</td>\n",
              "      <td>0.517318</td>\n",
              "      <td>0.436139</td>\n",
              "      <td>0.411318</td>\n",
              "      <td>0.407066</td>\n",
              "      <td>0.446578</td>\n",
              "    </tr>\n",
              "    <tr>\n",
              "      <th>75%</th>\n",
              "      <td>0.638773</td>\n",
              "      <td>0.693882</td>\n",
              "      <td>0.704745</td>\n",
              "      <td>0.645803</td>\n",
              "      <td>0.725272</td>\n",
              "      <td>0.735137</td>\n",
              "      <td>0.607454</td>\n",
              "      <td>0.646104</td>\n",
              "      <td>0.612508</td>\n",
              "      <td>0.588008</td>\n",
              "      <td>0.583082</td>\n",
              "    </tr>\n",
              "    <tr>\n",
              "      <th>max</th>\n",
              "      <td>1.006825</td>\n",
              "      <td>1.011597</td>\n",
              "      <td>1.012128</td>\n",
              "      <td>0.965609</td>\n",
              "      <td>0.867198</td>\n",
              "      <td>0.848617</td>\n",
              "      <td>0.964635</td>\n",
              "      <td>1.033760</td>\n",
              "      <td>1.053155</td>\n",
              "      <td>1.007189</td>\n",
              "      <td>1.007168</td>\n",
              "    </tr>\n",
              "  </tbody>\n",
              "</table>\n",
              "</div>"
            ],
            "text/plain": [
              "               cont0          cont1  ...          cont9         cont10\n",
              "count  200000.000000  200000.000000  ...  200000.000000  200000.000000\n",
              "mean        0.505388       0.493960  ...       0.469813       0.508974\n",
              "std         0.207417       0.212695  ...       0.194999       0.203926\n",
              "min        -0.044929       0.090478  ...       0.215540       0.113059\n",
              "25%         0.344748       0.317788  ...       0.309888       0.368999\n",
              "50%         0.479633       0.463195  ...       0.407066       0.446578\n",
              "75%         0.638773       0.693882  ...       0.588008       0.583082\n",
              "max         1.006825       1.011597  ...       1.007189       1.007168\n",
              "\n",
              "[8 rows x 11 columns]"
            ]
          },
          "metadata": {
            "tags": []
          },
          "execution_count": 21
        }
      ]
    },
    {
      "cell_type": "markdown",
      "metadata": {
        "id": "PkNM5-ocVHYo"
      },
      "source": [
        "#2. *`EDA`*\r\n",
        "*   *categorical columns to drop: 5,9,13*\r\n",
        "*   *numerical columns to drop: 2,7,10*\r\n",
        "*   *After one-hot-encoding, it may turn out some new features are almost always zero and have negligible statistical significance and you can just drop them*\r\n",
        "---"
      ]
    },
    {
      "cell_type": "code",
      "metadata": {
        "id": "EJcmJuoTbnls"
      },
      "source": [
        "numcols = [col for col in traindf.columns if traindf[col].dtype != 'object']\r\n",
        "catcols = [col for col in traindf.columns if col not in numcols]"
      ],
      "execution_count": 85,
      "outputs": []
    },
    {
      "cell_type": "code",
      "metadata": {
        "id": "PVK9W6lXZaqB"
      },
      "source": [
        "idx = 1\r\n",
        "f, axes = plt.subplots(5, 2, figsize=(20,20))\r\n",
        "plt.suptitle('Categorical features distribution', size=16, y=(0.94))\r\n",
        "\r\n",
        "for row in range(5):\r\n",
        "    for col in range(2):\r\n",
        "        data = traindf[catcols[idx]].value_counts()\r\n",
        "        sns.barplot(x = data.values, y = data.index, palette='deep', ax=axes[row, col])\r\n",
        "        axes[row, col].set_title(catcols[idx])\r\n",
        "        idx += 1"
      ],
      "execution_count": null,
      "outputs": []
    },
    {
      "cell_type": "code",
      "metadata": {
        "id": "RecJltK2jcZr",
        "outputId": "72228b1b-39ca-4ba0-c2e4-411e14d6e220",
        "colab": {
          "base_uri": "https://localhost:8080/",
          "height": 718
        }
      },
      "source": [
        "sns.figsize = (12,8)\r\n",
        "data = testdf['cat10'].value_counts()\r\n",
        "sns.barplot(x = data.values, y = data.index, palette='deep')"
      ],
      "execution_count": 95,
      "outputs": [
        {
          "output_type": "execute_result",
          "data": {
            "text/plain": [
              "<matplotlib.axes._subplots.AxesSubplot at 0x7fe28e629b50>"
            ]
          },
          "metadata": {
            "tags": []
          },
          "execution_count": 95
        },
        {
          "output_type": "display_data",
          "data": {
            "image/png": "[encoded data removed]",
            "text/plain": [
              "<Figure size 864x864 with 1 Axes>"
            ]
          },
          "metadata": {
            "tags": [],
            "needs_background": "light"
          }
        }
      ]
    },
    {
      "cell_type": "code",
      "metadata": {
        "id": "iQUqy4obiQqG",
        "outputId": "7b6c4750-cce3-4891-b704-3e49599da52f",
        "colab": {
          "base_uri": "https://localhost:8080/",
          "height": 577
        }
      },
      "source": [
        "plt.figure(figsize=(10,10))\r\n",
        "sns.heatmap(traindf[numcols].corr(), square=True, linewidths=0.7, cmap=\"bone_r\", annot=True);"
      ],
      "execution_count": 86,
      "outputs": [
        {
          "output_type": "display_data",
          "data": {
            "image/png": "[encoded data removed]",
            "text/plain": [
              "<Figure size 720x720 with 2 Axes>"
            ]
          },
          "metadata": {
            "tags": [],
            "needs_background": "light"
          }
        }
      ]
    },
    {
      "cell_type": "code",
      "metadata": {
        "id": "dO50_1KVkxRe"
      },
      "source": [
        "toomanyfeat = [f'cat{i}' for i in range(1, 11)]"
      ],
      "execution_count": 93,
      "outputs": []
    },
    {
      "cell_type": "code",
      "metadata": {
        "id": "X_AeMKCokxLR"
      },
      "source": [
        "for col in toomanyfeat:\r\n",
        "    "
      ],
      "execution_count": null,
      "outputs": []
    },
    {
      "cell_type": "code",
      "metadata": {
        "id": "pNUoPW8DkxIR"
      },
      "source": [
        ""
      ],
      "execution_count": null,
      "outputs": []
    },
    {
      "cell_type": "code",
      "metadata": {
        "id": "W21_kWH7kxET"
      },
      "source": [
        ""
      ],
      "execution_count": null,
      "outputs": []
    },
    {
      "cell_type": "code",
      "metadata": {
        "id": "DMYUBtt_kxAX"
      },
      "source": [
        ""
      ],
      "execution_count": null,
      "outputs": []
    },
    {
      "cell_type": "code",
      "metadata": {
        "id": "luGoMu9Ckw9d"
      },
      "source": [
        ""
      ],
      "execution_count": null,
      "outputs": []
    },
    {
      "cell_type": "code",
      "metadata": {
        "id": "o5KTT5XMkwxs"
      },
      "source": [
        "# final after drops and all\r\n",
        "traindf.drop(columns=['cat5', 'cat9', 'cat13', 'cont2', 'cont7', 'cont10'], inplace=True)\r\n",
        "testdf.drop(columns=['cat5', 'cat9', 'cat13', 'cont2', 'cont7', 'cont10'], inplace=True)"
      ],
      "execution_count": 82,
      "outputs": []
    },
    {
      "cell_type": "markdown",
      "metadata": {
        "id": "d-Mq1iiUZbK5"
      },
      "source": [
        "#3. *`encodings`*\r\n",
        "---"
      ]
    },
    {
      "cell_type": "code",
      "metadata": {
        "id": "W1Azc0igZlDz"
      },
      "source": [
        ""
      ],
      "execution_count": 75,
      "outputs": []
    },
    {
      "cell_type": "markdown",
      "metadata": {
        "id": "UXJN8QBLYU6r"
      },
      "source": [
        "#4. *`training`*\r\n",
        "---"
      ]
    },
    {
      "cell_type": "code",
      "metadata": {
        "id": "huxwFMJ_Yrgi"
      },
      "source": [
        "X = traindata.drop(columns=['target'])\r\n",
        "y = traindata['target']"
      ],
      "execution_count": 26,
      "outputs": []
    },
    {
      "cell_type": "code",
      "metadata": {
        "colab": {
          "base_uri": "https://localhost:8080/",
          "height": 345
        },
        "id": "yq1C_nvGYbcv",
        "outputId": "d2e85894-7ea0-406f-f478-5fbb0f38faf9"
      },
      "source": [
        "lr = LogisticRegression()\r\n",
        "lr.fit(X, y)\r\n",
        "pred = lr.predict_proba(X)[:, 1]\r\n",
        "roc_auc_score(y, pred)"
      ],
      "execution_count": 27,
      "outputs": [
        {
          "output_type": "error",
          "ename": "ValueError",
          "evalue": "ignored",
          "traceback": [
            "\u001b[0;31m---------------------------------------------------------------------------\u001b[0m",
            "\u001b[0;31mValueError\u001b[0m                                Traceback (most recent call last)",
            "\u001b[0;32m<ipython-input-27-342adad4f212>\u001b[0m in \u001b[0;36m<module>\u001b[0;34m()\u001b[0m\n\u001b[1;32m      1\u001b[0m \u001b[0mlr\u001b[0m \u001b[0;34m=\u001b[0m \u001b[0mLogisticRegression\u001b[0m\u001b[0;34m(\u001b[0m\u001b[0;34m)\u001b[0m\u001b[0;34m\u001b[0m\u001b[0;34m\u001b[0m\u001b[0m\n\u001b[0;32m----> 2\u001b[0;31m \u001b[0mlr\u001b[0m\u001b[0;34m.\u001b[0m\u001b[0mfit\u001b[0m\u001b[0;34m(\u001b[0m\u001b[0mX\u001b[0m\u001b[0;34m,\u001b[0m \u001b[0my\u001b[0m\u001b[0;34m)\u001b[0m\u001b[0;34m\u001b[0m\u001b[0;34m\u001b[0m\u001b[0m\n\u001b[0m\u001b[1;32m      3\u001b[0m \u001b[0mpred\u001b[0m \u001b[0;34m=\u001b[0m \u001b[0mlr\u001b[0m\u001b[0;34m.\u001b[0m\u001b[0mpredict_proba\u001b[0m\u001b[0;34m(\u001b[0m\u001b[0mX\u001b[0m\u001b[0;34m)\u001b[0m\u001b[0;34m[\u001b[0m\u001b[0;34m:\u001b[0m\u001b[0;34m,\u001b[0m \u001b[0;36m1\u001b[0m\u001b[0;34m]\u001b[0m\u001b[0;34m\u001b[0m\u001b[0;34m\u001b[0m\u001b[0m\n\u001b[1;32m      4\u001b[0m \u001b[0mroc_auc_score\u001b[0m\u001b[0;34m(\u001b[0m\u001b[0my\u001b[0m\u001b[0;34m,\u001b[0m \u001b[0mpred\u001b[0m\u001b[0;34m)\u001b[0m\u001b[0;34m\u001b[0m\u001b[0;34m\u001b[0m\u001b[0m\n",
            "\u001b[0;32m/usr/local/lib/python3.7/dist-packages/sklearn/linear_model/_logistic.py\u001b[0m in \u001b[0;36mfit\u001b[0;34m(self, X, y, sample_weight)\u001b[0m\n\u001b[1;32m   1525\u001b[0m \u001b[0;34m\u001b[0m\u001b[0m\n\u001b[1;32m   1526\u001b[0m         X, y = check_X_y(X, y, accept_sparse='csr', dtype=_dtype, order=\"C\",\n\u001b[0;32m-> 1527\u001b[0;31m                          accept_large_sparse=solver != 'liblinear')\n\u001b[0m\u001b[1;32m   1528\u001b[0m         \u001b[0mcheck_classification_targets\u001b[0m\u001b[0;34m(\u001b[0m\u001b[0my\u001b[0m\u001b[0;34m)\u001b[0m\u001b[0;34m\u001b[0m\u001b[0;34m\u001b[0m\u001b[0m\n\u001b[1;32m   1529\u001b[0m         \u001b[0mself\u001b[0m\u001b[0;34m.\u001b[0m\u001b[0mclasses_\u001b[0m \u001b[0;34m=\u001b[0m \u001b[0mnp\u001b[0m\u001b[0;34m.\u001b[0m\u001b[0munique\u001b[0m\u001b[0;34m(\u001b[0m\u001b[0my\u001b[0m\u001b[0;34m)\u001b[0m\u001b[0;34m\u001b[0m\u001b[0;34m\u001b[0m\u001b[0m\n",
            "\u001b[0;32m/usr/local/lib/python3.7/dist-packages/sklearn/utils/validation.py\u001b[0m in \u001b[0;36mcheck_X_y\u001b[0;34m(X, y, accept_sparse, accept_large_sparse, dtype, order, copy, force_all_finite, ensure_2d, allow_nd, multi_output, ensure_min_samples, ensure_min_features, y_numeric, warn_on_dtype, estimator)\u001b[0m\n\u001b[1;32m    753\u001b[0m                     \u001b[0mensure_min_features\u001b[0m\u001b[0;34m=\u001b[0m\u001b[0mensure_min_features\u001b[0m\u001b[0;34m,\u001b[0m\u001b[0;34m\u001b[0m\u001b[0;34m\u001b[0m\u001b[0m\n\u001b[1;32m    754\u001b[0m                     \u001b[0mwarn_on_dtype\u001b[0m\u001b[0;34m=\u001b[0m\u001b[0mwarn_on_dtype\u001b[0m\u001b[0;34m,\u001b[0m\u001b[0;34m\u001b[0m\u001b[0;34m\u001b[0m\u001b[0m\n\u001b[0;32m--> 755\u001b[0;31m                     estimator=estimator)\n\u001b[0m\u001b[1;32m    756\u001b[0m     \u001b[0;32mif\u001b[0m \u001b[0mmulti_output\u001b[0m\u001b[0;34m:\u001b[0m\u001b[0;34m\u001b[0m\u001b[0;34m\u001b[0m\u001b[0m\n\u001b[1;32m    757\u001b[0m         y = check_array(y, 'csr', force_all_finite=True, ensure_2d=False,\n",
            "\u001b[0;32m/usr/local/lib/python3.7/dist-packages/sklearn/utils/validation.py\u001b[0m in \u001b[0;36mcheck_array\u001b[0;34m(array, accept_sparse, accept_large_sparse, dtype, order, copy, force_all_finite, ensure_2d, allow_nd, ensure_min_samples, ensure_min_features, warn_on_dtype, estimator)\u001b[0m\n\u001b[1;32m    529\u001b[0m                     \u001b[0marray\u001b[0m \u001b[0;34m=\u001b[0m \u001b[0marray\u001b[0m\u001b[0;34m.\u001b[0m\u001b[0mastype\u001b[0m\u001b[0;34m(\u001b[0m\u001b[0mdtype\u001b[0m\u001b[0;34m,\u001b[0m \u001b[0mcasting\u001b[0m\u001b[0;34m=\u001b[0m\u001b[0;34m\"unsafe\"\u001b[0m\u001b[0;34m,\u001b[0m \u001b[0mcopy\u001b[0m\u001b[0;34m=\u001b[0m\u001b[0;32mFalse\u001b[0m\u001b[0;34m)\u001b[0m\u001b[0;34m\u001b[0m\u001b[0;34m\u001b[0m\u001b[0m\n\u001b[1;32m    530\u001b[0m                 \u001b[0;32melse\u001b[0m\u001b[0;34m:\u001b[0m\u001b[0;34m\u001b[0m\u001b[0;34m\u001b[0m\u001b[0m\n\u001b[0;32m--> 531\u001b[0;31m                     \u001b[0marray\u001b[0m \u001b[0;34m=\u001b[0m \u001b[0mnp\u001b[0m\u001b[0;34m.\u001b[0m\u001b[0masarray\u001b[0m\u001b[0;34m(\u001b[0m\u001b[0marray\u001b[0m\u001b[0;34m,\u001b[0m \u001b[0morder\u001b[0m\u001b[0;34m=\u001b[0m\u001b[0morder\u001b[0m\u001b[0;34m,\u001b[0m \u001b[0mdtype\u001b[0m\u001b[0;34m=\u001b[0m\u001b[0mdtype\u001b[0m\u001b[0;34m)\u001b[0m\u001b[0;34m\u001b[0m\u001b[0;34m\u001b[0m\u001b[0m\n\u001b[0m\u001b[1;32m    532\u001b[0m             \u001b[0;32mexcept\u001b[0m \u001b[0mComplexWarning\u001b[0m\u001b[0;34m:\u001b[0m\u001b[0;34m\u001b[0m\u001b[0;34m\u001b[0m\u001b[0m\n\u001b[1;32m    533\u001b[0m                 raise ValueError(\"Complex data not supported\\n\"\n",
            "\u001b[0;32m/usr/local/lib/python3.7/dist-packages/numpy/core/_asarray.py\u001b[0m in \u001b[0;36masarray\u001b[0;34m(a, dtype, order)\u001b[0m\n\u001b[1;32m     81\u001b[0m \u001b[0;34m\u001b[0m\u001b[0m\n\u001b[1;32m     82\u001b[0m     \"\"\"\n\u001b[0;32m---> 83\u001b[0;31m     \u001b[0;32mreturn\u001b[0m \u001b[0marray\u001b[0m\u001b[0;34m(\u001b[0m\u001b[0ma\u001b[0m\u001b[0;34m,\u001b[0m \u001b[0mdtype\u001b[0m\u001b[0;34m,\u001b[0m \u001b[0mcopy\u001b[0m\u001b[0;34m=\u001b[0m\u001b[0;32mFalse\u001b[0m\u001b[0;34m,\u001b[0m \u001b[0morder\u001b[0m\u001b[0;34m=\u001b[0m\u001b[0morder\u001b[0m\u001b[0;34m)\u001b[0m\u001b[0;34m\u001b[0m\u001b[0;34m\u001b[0m\u001b[0m\n\u001b[0m\u001b[1;32m     84\u001b[0m \u001b[0;34m\u001b[0m\u001b[0m\n\u001b[1;32m     85\u001b[0m \u001b[0;34m\u001b[0m\u001b[0m\n",
            "\u001b[0;32m/usr/local/lib/python3.7/dist-packages/pandas/core/generic.py\u001b[0m in \u001b[0;36m__array__\u001b[0;34m(self, dtype)\u001b[0m\n\u001b[1;32m   1779\u001b[0m \u001b[0;34m\u001b[0m\u001b[0m\n\u001b[1;32m   1780\u001b[0m     \u001b[0;32mdef\u001b[0m \u001b[0m__array__\u001b[0m\u001b[0;34m(\u001b[0m\u001b[0mself\u001b[0m\u001b[0;34m,\u001b[0m \u001b[0mdtype\u001b[0m\u001b[0;34m=\u001b[0m\u001b[0;32mNone\u001b[0m\u001b[0;34m)\u001b[0m \u001b[0;34m->\u001b[0m \u001b[0mnp\u001b[0m\u001b[0;34m.\u001b[0m\u001b[0mndarray\u001b[0m\u001b[0;34m:\u001b[0m\u001b[0;34m\u001b[0m\u001b[0;34m\u001b[0m\u001b[0m\n\u001b[0;32m-> 1781\u001b[0;31m         \u001b[0;32mreturn\u001b[0m \u001b[0mnp\u001b[0m\u001b[0;34m.\u001b[0m\u001b[0masarray\u001b[0m\u001b[0;34m(\u001b[0m\u001b[0mself\u001b[0m\u001b[0;34m.\u001b[0m\u001b[0m_values\u001b[0m\u001b[0;34m,\u001b[0m \u001b[0mdtype\u001b[0m\u001b[0;34m=\u001b[0m\u001b[0mdtype\u001b[0m\u001b[0;34m)\u001b[0m\u001b[0;34m\u001b[0m\u001b[0;34m\u001b[0m\u001b[0m\n\u001b[0m\u001b[1;32m   1782\u001b[0m \u001b[0;34m\u001b[0m\u001b[0m\n\u001b[1;32m   1783\u001b[0m     \u001b[0;32mdef\u001b[0m \u001b[0m__array_wrap__\u001b[0m\u001b[0;34m(\u001b[0m\u001b[0mself\u001b[0m\u001b[0;34m,\u001b[0m \u001b[0mresult\u001b[0m\u001b[0;34m,\u001b[0m \u001b[0mcontext\u001b[0m\u001b[0;34m=\u001b[0m\u001b[0;32mNone\u001b[0m\u001b[0;34m)\u001b[0m\u001b[0;34m:\u001b[0m\u001b[0;34m\u001b[0m\u001b[0;34m\u001b[0m\u001b[0m\n",
            "\u001b[0;32m/usr/local/lib/python3.7/dist-packages/numpy/core/_asarray.py\u001b[0m in \u001b[0;36masarray\u001b[0;34m(a, dtype, order)\u001b[0m\n\u001b[1;32m     81\u001b[0m \u001b[0;34m\u001b[0m\u001b[0m\n\u001b[1;32m     82\u001b[0m     \"\"\"\n\u001b[0;32m---> 83\u001b[0;31m     \u001b[0;32mreturn\u001b[0m \u001b[0marray\u001b[0m\u001b[0;34m(\u001b[0m\u001b[0ma\u001b[0m\u001b[0;34m,\u001b[0m \u001b[0mdtype\u001b[0m\u001b[0;34m,\u001b[0m \u001b[0mcopy\u001b[0m\u001b[0;34m=\u001b[0m\u001b[0;32mFalse\u001b[0m\u001b[0;34m,\u001b[0m \u001b[0morder\u001b[0m\u001b[0;34m=\u001b[0m\u001b[0morder\u001b[0m\u001b[0;34m)\u001b[0m\u001b[0;34m\u001b[0m\u001b[0;34m\u001b[0m\u001b[0m\n\u001b[0m\u001b[1;32m     84\u001b[0m \u001b[0;34m\u001b[0m\u001b[0m\n\u001b[1;32m     85\u001b[0m \u001b[0;34m\u001b[0m\u001b[0m\n",
            "\u001b[0;31mValueError\u001b[0m: could not convert string to float: 'A'"
          ]
        }
      ]
    },
    {
      "cell_type": "markdown",
      "metadata": {
        "id": "ihHT4PbcYb6M"
      },
      "source": [
        "#5. *`submission`*\r\n",
        "---"
      ]
    },
    {
      "cell_type": "code",
      "metadata": {
        "id": "rNw6FdNRYiIt"
      },
      "source": [
        ""
      ],
      "execution_count": null,
      "outputs": []
    }
  ]
}