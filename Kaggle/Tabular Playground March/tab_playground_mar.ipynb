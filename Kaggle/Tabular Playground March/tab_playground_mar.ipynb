{
  "nbformat": 4,
  "nbformat_minor": 0,
  "metadata": {
    "colab": {
      "name": "tab playground mar.ipynb",
      "provenance": [],
      "authorship_tag": "ABX9TyOtZXzs/BvKlVYSbSukngQJ",
      "include_colab_link": true
    },
    "kernelspec": {
      "name": "python3",
      "display_name": "Python 3"
    },
    "widgets": {
      "application/vnd.jupyter.widget-state+json": {
        "a392d9c3e76b40db917b9a65f549d5d7": {
          "model_module": "@jupyter-widgets/controls",
          "model_name": "HBoxModel",
          "state": {
            "_view_name": "HBoxView",
            "_dom_classes": [],
            "_model_name": "HBoxModel",
            "_view_module": "@jupyter-widgets/controls",
            "_model_module_version": "1.5.0",
            "_view_count": null,
            "_view_module_version": "1.5.0",
            "box_style": "",
            "layout": "IPY_MODEL_607d859f0af24846b696e6faf697238f",
            "_model_module": "@jupyter-widgets/controls",
            "children": [
              "IPY_MODEL_49c99fedf2b24d899d19dd2057e3c45c",
              "IPY_MODEL_0b273f14600d42ec8a1d24b9c300956e",
              "IPY_MODEL_a9e8f9573ff14822850dd0b569791179"
            ]
          }
        },
        "607d859f0af24846b696e6faf697238f": {
          "model_module": "@jupyter-widgets/base",
          "model_name": "LayoutModel",
          "state": {
            "_view_name": "LayoutView",
            "grid_template_rows": null,
            "right": null,
            "justify_content": null,
            "_view_module": "@jupyter-widgets/base",
            "overflow": null,
            "_model_module_version": "1.2.0",
            "_view_count": null,
            "flex_flow": null,
            "width": null,
            "min_width": null,
            "border": null,
            "align_items": null,
            "bottom": null,
            "_model_module": "@jupyter-widgets/base",
            "top": null,
            "grid_column": null,
            "overflow_y": null,
            "overflow_x": null,
            "grid_auto_flow": null,
            "grid_area": null,
            "grid_template_columns": null,
            "flex": null,
            "_model_name": "LayoutModel",
            "justify_items": null,
            "grid_row": null,
            "max_height": null,
            "align_content": null,
            "visibility": null,
            "align_self": null,
            "height": null,
            "min_height": null,
            "padding": null,
            "grid_auto_rows": null,
            "grid_gap": null,
            "max_width": null,
            "order": null,
            "_view_module_version": "1.2.0",
            "grid_template_areas": null,
            "object_position": null,
            "object_fit": null,
            "grid_auto_columns": null,
            "margin": null,
            "display": null,
            "left": null
          }
        },
        "49c99fedf2b24d899d19dd2057e3c45c": {
          "model_module": "@jupyter-widgets/controls",
          "model_name": "HTMLModel",
          "state": {
            "_view_name": "HTMLView",
            "style": "IPY_MODEL_b942f4cfe9ff4b0987502e2b6d2de065",
            "_dom_classes": [],
            "description": "",
            "_model_name": "HTMLModel",
            "placeholder": "​",
            "_view_module": "@jupyter-widgets/controls",
            "_model_module_version": "1.5.0",
            "value": "Summarize dataset:  80%",
            "_view_count": null,
            "_view_module_version": "1.5.0",
            "description_tooltip": null,
            "_model_module": "@jupyter-widgets/controls",
            "layout": "IPY_MODEL_374f2f4dd3d3463180d88baa85181bd7"
          }
        },
        "0b273f14600d42ec8a1d24b9c300956e": {
          "model_module": "@jupyter-widgets/controls",
          "model_name": "FloatProgressModel",
          "state": {
            "_view_name": "ProgressView",
            "style": "IPY_MODEL_7dfa95094b6844b09aceaf67561bcc65",
            "_dom_classes": [],
            "description": "",
            "_model_name": "FloatProgressModel",
            "bar_style": "",
            "max": 45,
            "_view_module": "@jupyter-widgets/controls",
            "_model_module_version": "1.5.0",
            "value": 37,
            "_view_count": null,
            "_view_module_version": "1.5.0",
            "orientation": "horizontal",
            "min": 0,
            "description_tooltip": null,
            "_model_module": "@jupyter-widgets/controls",
            "layout": "IPY_MODEL_da9fe78ebc274b51b969beccaa208cc0"
          }
        },
        "a9e8f9573ff14822850dd0b569791179": {
          "model_module": "@jupyter-widgets/controls",
          "model_name": "HTMLModel",
          "state": {
            "_view_name": "HTMLView",
            "style": "IPY_MODEL_9d1dd3922dda435da84858f77421fefe",
            "_dom_classes": [],
            "description": "",
            "_model_name": "HTMLModel",
            "placeholder": "​",
            "_view_module": "@jupyter-widgets/controls",
            "_model_module_version": "1.5.0",
            "value": " 36/45 [00:54&lt;00:22,  2.45s/it, Calculate phi_k correlation]",
            "_view_count": null,
            "_view_module_version": "1.5.0",
            "description_tooltip": null,
            "_model_module": "@jupyter-widgets/controls",
            "layout": "IPY_MODEL_dfa172e0bd4741009dd4206b8e0f9817"
          }
        },
        "b942f4cfe9ff4b0987502e2b6d2de065": {
          "model_module": "@jupyter-widgets/controls",
          "model_name": "DescriptionStyleModel",
          "state": {
            "_view_name": "StyleView",
            "_model_name": "DescriptionStyleModel",
            "description_width": "",
            "_view_module": "@jupyter-widgets/base",
            "_model_module_version": "1.5.0",
            "_view_count": null,
            "_view_module_version": "1.2.0",
            "_model_module": "@jupyter-widgets/controls"
          }
        },
        "374f2f4dd3d3463180d88baa85181bd7": {
          "model_module": "@jupyter-widgets/base",
          "model_name": "LayoutModel",
          "state": {
            "_view_name": "LayoutView",
            "grid_template_rows": null,
            "right": null,
            "justify_content": null,
            "_view_module": "@jupyter-widgets/base",
            "overflow": null,
            "_model_module_version": "1.2.0",
            "_view_count": null,
            "flex_flow": null,
            "width": null,
            "min_width": null,
            "border": null,
            "align_items": null,
            "bottom": null,
            "_model_module": "@jupyter-widgets/base",
            "top": null,
            "grid_column": null,
            "overflow_y": null,
            "overflow_x": null,
            "grid_auto_flow": null,
            "grid_area": null,
            "grid_template_columns": null,
            "flex": null,
            "_model_name": "LayoutModel",
            "justify_items": null,
            "grid_row": null,
            "max_height": null,
            "align_content": null,
            "visibility": null,
            "align_self": null,
            "height": null,
            "min_height": null,
            "padding": null,
            "grid_auto_rows": null,
            "grid_gap": null,
            "max_width": null,
            "order": null,
            "_view_module_version": "1.2.0",
            "grid_template_areas": null,
            "object_position": null,
            "object_fit": null,
            "grid_auto_columns": null,
            "margin": null,
            "display": null,
            "left": null
          }
        },
        "7dfa95094b6844b09aceaf67561bcc65": {
          "model_module": "@jupyter-widgets/controls",
          "model_name": "ProgressStyleModel",
          "state": {
            "_view_name": "StyleView",
            "_model_name": "ProgressStyleModel",
            "description_width": "",
            "_view_module": "@jupyter-widgets/base",
            "_model_module_version": "1.5.0",
            "_view_count": null,
            "_view_module_version": "1.2.0",
            "bar_color": null,
            "_model_module": "@jupyter-widgets/controls"
          }
        },
        "da9fe78ebc274b51b969beccaa208cc0": {
          "model_module": "@jupyter-widgets/base",
          "model_name": "LayoutModel",
          "state": {
            "_view_name": "LayoutView",
            "grid_template_rows": null,
            "right": null,
            "justify_content": null,
            "_view_module": "@jupyter-widgets/base",
            "overflow": null,
            "_model_module_version": "1.2.0",
            "_view_count": null,
            "flex_flow": null,
            "width": null,
            "min_width": null,
            "border": null,
            "align_items": null,
            "bottom": null,
            "_model_module": "@jupyter-widgets/base",
            "top": null,
            "grid_column": null,
            "overflow_y": null,
            "overflow_x": null,
            "grid_auto_flow": null,
            "grid_area": null,
            "grid_template_columns": null,
            "flex": null,
            "_model_name": "LayoutModel",
            "justify_items": null,
            "grid_row": null,
            "max_height": null,
            "align_content": null,
            "visibility": null,
            "align_self": null,
            "height": null,
            "min_height": null,
            "padding": null,
            "grid_auto_rows": null,
            "grid_gap": null,
            "max_width": null,
            "order": null,
            "_view_module_version": "1.2.0",
            "grid_template_areas": null,
            "object_position": null,
            "object_fit": null,
            "grid_auto_columns": null,
            "margin": null,
            "display": null,
            "left": null
          }
        },
        "9d1dd3922dda435da84858f77421fefe": {
          "model_module": "@jupyter-widgets/controls",
          "model_name": "DescriptionStyleModel",
          "state": {
            "_view_name": "StyleView",
            "_model_name": "DescriptionStyleModel",
            "description_width": "",
            "_view_module": "@jupyter-widgets/base",
            "_model_module_version": "1.5.0",
            "_view_count": null,
            "_view_module_version": "1.2.0",
            "_model_module": "@jupyter-widgets/controls"
          }
        },
        "dfa172e0bd4741009dd4206b8e0f9817": {
          "model_module": "@jupyter-widgets/base",
          "model_name": "LayoutModel",
          "state": {
            "_view_name": "LayoutView",
            "grid_template_rows": null,
            "right": null,
            "justify_content": null,
            "_view_module": "@jupyter-widgets/base",
            "overflow": null,
            "_model_module_version": "1.2.0",
            "_view_count": null,
            "flex_flow": null,
            "width": null,
            "min_width": null,
            "border": null,
            "align_items": null,
            "bottom": null,
            "_model_module": "@jupyter-widgets/base",
            "top": null,
            "grid_column": null,
            "overflow_y": null,
            "overflow_x": null,
            "grid_auto_flow": null,
            "grid_area": null,
            "grid_template_columns": null,
            "flex": null,
            "_model_name": "LayoutModel",
            "justify_items": null,
            "grid_row": null,
            "max_height": null,
            "align_content": null,
            "visibility": null,
            "align_self": null,
            "height": null,
            "min_height": null,
            "padding": null,
            "grid_auto_rows": null,
            "grid_gap": null,
            "max_width": null,
            "order": null,
            "_view_module_version": "1.2.0",
            "grid_template_areas": null,
            "object_position": null,
            "object_fit": null,
            "grid_auto_columns": null,
            "margin": null,
            "display": null,
            "left": null
          }
        }
      }
    }
  },
  "cells": [
    {
      "cell_type": "markdown",
      "metadata": {
        "id": "view-in-github",
        "colab_type": "text"
      },
      "source": [
        "<a href=\"https://colab.research.google.com/github/Roudranil/competitions/blob/main/Kaggle/Tabular%20Playground%20March/tab_playground_mar.ipynb\" target=\"_parent\"><img src=\"https://colab.research.google.com/assets/colab-badge.svg\" alt=\"Open In Colab\"/></a>"
      ]
    },
    {
      "cell_type": "markdown",
      "metadata": {
        "id": "4nba_tqySZ0F"
      },
      "source": [
        "#1. *`libraries and dataset`*\n",
        "---"
      ]
    },
    {
      "cell_type": "code",
      "metadata": {
        "colab": {
          "base_uri": "https://localhost:8080/"
        },
        "id": "jQK6x1CTSEa9",
        "outputId": "407664ce-0d26-4310-aa7d-f88e1b4fb79c"
      },
      "source": [
        "from google.colab import drive\n",
        "drive.mount('/content/drive')"
      ],
      "execution_count": 1,
      "outputs": [
        {
          "output_type": "stream",
          "text": [
            "Drive already mounted at /content/drive; to attempt to forcibly remount, call drive.mount(\"/content/drive\", force_remount=True).\n"
          ],
          "name": "stdout"
        }
      ]
    },
    {
      "cell_type": "code",
      "metadata": {
        "id": "YGb9HetXSRLB"
      },
      "source": [
        "!pip install catboost\n",
        "!pip install h2o\n",
        "!pip install optuna\n",
        "!pip install featuretools"
      ],
      "execution_count": null,
      "outputs": []
    },
    {
      "cell_type": "code",
      "metadata": {
        "id": "4ZTxg4uCS283"
      },
      "source": [
        "import numpy as np\n",
        "import pandas as pd\n",
        "import matplotlib.pyplot as plt\n",
        "\n",
        "from xgboost import XGBClassifier\n",
        "from lightgbm import LGBMClassifier\n",
        "from catboost import CatBoostClassifier\n",
        "\n",
        "from sklearn.linear_model import LogisticRegression\n",
        "from sklearn.ensemble import RandomForestClassifier, GradientBoostingClassifier, StackingClassifier\n",
        "from sklearn.metrics import confusion_matrix as cm\n",
        "from sklearn.metrics import classification_report as cr\n",
        "from sklearn.metrics import auc, roc_auc_score\n",
        "from sklearn.preprocessing import LabelEncoder, OneHotEncoder, PolynomialFeatures\n",
        "from sklearn.model_selection import KFold\n",
        "\n",
        "import optuna\n",
        "import featuretools as ft\n",
        "import seaborn as sns\n",
        "from tqdm import tqdm\n",
        "plt.rcParams['figure.figsize'] = 12,12"
      ],
      "execution_count": 1,
      "outputs": []
    },
    {
      "cell_type": "code",
      "metadata": {
        "id": "Uzb7KGK3TPWY",
        "cellView": "code"
      },
      "source": [
        "#@title Default title text\n",
        "import h2o\n",
        "h2o.init()"
      ],
      "execution_count": null,
      "outputs": []
    },
    {
      "cell_type": "code",
      "metadata": {
        "id": "fdukHmbVVcGO"
      },
      "source": [
        "traindata = pd.read_csv('/content/drive/MyDrive/data/kaggle_tabplayground_mar/train.csv', index_col=0)\n",
        "testdata = pd.read_csv('/content/drive/MyDrive/data/kaggle_tabplayground_mar/test.csv', index_col=0)\n",
        "submission = pd.read_csv('/content/drive/MyDrive/data/kaggle_tabplayground_mar/sample_submission.csv', index_col=0)"
      ],
      "execution_count": 2,
      "outputs": []
    },
    {
      "cell_type": "code",
      "metadata": {
        "id": "dg59RjGhmzan"
      },
      "source": [
        "traindf = traindata\n",
        "testdf = testdata"
      ],
      "execution_count": 3,
      "outputs": []
    },
    {
      "cell_type": "code",
      "metadata": {
        "id": "gu9zyzGFWI_V"
      },
      "source": [
        "traintest = pd.concat([traindata.drop(columns=['target']), testdata])"
      ],
      "execution_count": 7,
      "outputs": []
    },
    {
      "cell_type": "code",
      "metadata": {
        "id": "5cAYqyIfVuME"
      },
      "source": [
        "traindata.head()"
      ],
      "execution_count": null,
      "outputs": []
    },
    {
      "cell_type": "code",
      "metadata": {
        "id": "qPjWgRkEVwyS"
      },
      "source": [
        "traindata.info()"
      ],
      "execution_count": null,
      "outputs": []
    },
    {
      "cell_type": "code",
      "metadata": {
        "id": "ZMwt3sVpV0Yf"
      },
      "source": [
        "traindata.describe()"
      ],
      "execution_count": null,
      "outputs": []
    },
    {
      "cell_type": "code",
      "metadata": {
        "id": "YNsAlsFoV3_K"
      },
      "source": [
        "testdata.describe()"
      ],
      "execution_count": null,
      "outputs": []
    },
    {
      "cell_type": "markdown",
      "metadata": {
        "id": "PkNM5-ocVHYo"
      },
      "source": [
        "#2. *`EDA`*\n",
        "*   *categorical columns to drop: 5,9,13*\n",
        "*   *numerical columns to drop: 2,7,10*\n",
        "*   *After one-hot-encoding, it may turn out some new features are almost always zero and have negligible statistical significance and you can just drop them*\n",
        "---"
      ]
    },
    {
      "cell_type": "code",
      "metadata": {
        "id": "RBCEywDy_oqi",
        "colab": {
          "base_uri": "https://localhost:8080/",
          "height": 48,
          "referenced_widgets": [
            "a392d9c3e76b40db917b9a65f549d5d7",
            "607d859f0af24846b696e6faf697238f",
            "49c99fedf2b24d899d19dd2057e3c45c",
            "0b273f14600d42ec8a1d24b9c300956e",
            "a9e8f9573ff14822850dd0b569791179",
            "b942f4cfe9ff4b0987502e2b6d2de065",
            "374f2f4dd3d3463180d88baa85181bd7",
            "7dfa95094b6844b09aceaf67561bcc65",
            "da9fe78ebc274b51b969beccaa208cc0",
            "9d1dd3922dda435da84858f77421fefe",
            "dfa172e0bd4741009dd4206b8e0f9817"
          ]
        },
        "outputId": "f746589a-28f2-4965-fe41-1a388afe3d98"
      },
      "source": [
        "profile_train = ProfileReport(traindf)\n",
        "profile_train"
      ],
      "execution_count": null,
      "outputs": [
        {
          "output_type": "display_data",
          "data": {
            "application/vnd.jupyter.widget-view+json": {
              "model_id": "a392d9c3e76b40db917b9a65f549d5d7",
              "version_minor": 0,
              "version_major": 2
            },
            "text/plain": [
              "Summarize dataset:   0%|          | 0/45 [00:00<?, ?it/s]"
            ]
          },
          "metadata": {
            "tags": []
          }
        }
      ]
    },
    {
      "cell_type": "code",
      "metadata": {
        "id": "EJcmJuoTbnls"
      },
      "source": [
        "numcols = [col for col in traindf.columns if traindf[col].dtype != 'object']\n",
        "catcols = [col for col in traindf.columns if col not in numcols]"
      ],
      "execution_count": 6,
      "outputs": []
    },
    {
      "cell_type": "code",
      "metadata": {
        "id": "PVK9W6lXZaqB"
      },
      "source": [
        "idx = 1\n",
        "f, axes = plt.subplots(5, 2, figsize=(20,20))\n",
        "plt.suptitle('Categorical features distribution', size=16, y=(0.94))\n",
        "\n",
        "for row in range(5):\n",
        "    for col in range(2):\n",
        "        data = traindf[catcols[idx]].value_counts()\n",
        "        sns.barplot(x = data.values, y = data.index, palette='deep', ax=axes[row, col])\n",
        "        axes[row, col].set_title(catcols[idx])\n",
        "        idx += 1"
      ],
      "execution_count": null,
      "outputs": []
    },
    {
      "cell_type": "code",
      "metadata": {
        "id": "RecJltK2jcZr"
      },
      "source": [
        "sns.figsize = (12,8)\n",
        "data = testdf['cat10'].value_counts()\n",
        "sns.barplot(x = data.values, y = data.index, palette='deep')"
      ],
      "execution_count": null,
      "outputs": []
    },
    {
      "cell_type": "code",
      "metadata": {
        "id": "iQUqy4obiQqG",
        "colab": {
          "base_uri": "https://localhost:8080/",
          "height": 577
        },
        "outputId": "f41ee0ef-d91e-41df-e2e0-143640e833d6"
      },
      "source": [
        "plt.figure(figsize=(10,10))\n",
        "sns.heatmap(traindf.drop(columns=['target']).corr(), square=True, linewidths=0.7, cmap=\"bone_r\", annot=True);"
      ],
      "execution_count": 24,
      "outputs": [
        {
          "output_type": "display_data",
          "data": {
            "image/png": "[encoded data removed]",
            "text/plain": [
              "<Figure size 720x720 with 2 Axes>"
            ]
          },
          "metadata": {
            "tags": [],
            "needs_background": "light"
          }
        }
      ]
    },
    {
      "cell_type": "code",
      "metadata": {
        "colab": {
          "base_uri": "https://localhost:8080/",
          "height": 577
        },
        "id": "XFz78Q389bX6",
        "outputId": "5d0af3e9-8503-4a02-b8db-81d4ba3ab8e6"
      },
      "source": [
        "plt.figure(figsize=(10,10))\n",
        "sns.heatmap(testdf.corr(), square=True, linewidths=0.7, cmap=\"bone_r\", annot=True);"
      ],
      "execution_count": 21,
      "outputs": [
        {
          "output_type": "display_data",
          "data": {
            "image/png": "[encoded data removed]",
            "text/plain": [
              "<Figure size 720x720 with 2 Axes>"
            ]
          },
          "metadata": {
            "tags": [],
            "needs_background": "light"
          }
        }
      ]
    },
    {
      "cell_type": "code",
      "metadata": {
        "id": "pNUoPW8DkxIR"
      },
      "source": [
        ""
      ],
      "execution_count": null,
      "outputs": []
    },
    {
      "cell_type": "code",
      "metadata": {
        "id": "o5KTT5XMkwxs"
      },
      "source": [
        "# final after drops and all\n",
        "traindf.drop(columns=['cat5', 'cat13', 'cont2', 'cont7', 'cont10'], inplace=True)\n",
        "testdf.drop(columns=['cat5', 'cat13', 'cont2', 'cont7', 'cont10'], inplace=True)"
      ],
      "execution_count": 4,
      "outputs": []
    },
    {
      "cell_type": "code",
      "metadata": {
        "id": "xAQPJdQLagn5"
      },
      "source": [
        "for col in catcols:\n",
        "    print(traindf[col].nunique())"
      ],
      "execution_count": null,
      "outputs": []
    },
    {
      "cell_type": "code",
      "metadata": {
        "id": "UgviWd79DPXc"
      },
      "source": [
        "for col in catcols:\n",
        "    print(testdf[col].nunique())"
      ],
      "execution_count": null,
      "outputs": []
    },
    {
      "cell_type": "code",
      "metadata": {
        "id": "Z9J8mEMJYoPO",
        "colab": {
          "base_uri": "https://localhost:8080/",
          "height": 420
        },
        "outputId": "722ecce3-9283-4912-ef38-09c9f7fdb35a"
      },
      "source": [
        "traindf"
      ],
      "execution_count": 9,
      "outputs": [
        {
          "output_type": "execute_result",
          "data": {
            "text/html": [
              "<div>\n",
              "<style scoped>\n",
              "    .dataframe tbody tr th:only-of-type {\n",
              "        vertical-align: middle;\n",
              "    }\n",
              "\n",
              "    .dataframe tbody tr th {\n",
              "        vertical-align: top;\n",
              "    }\n",
              "\n",
              "    .dataframe thead th {\n",
              "        text-align: right;\n",
              "    }\n",
              "</style>\n",
              "<table border=\"1\" class=\"dataframe\">\n",
              "  <thead>\n",
              "    <tr style=\"text-align: right;\">\n",
              "      <th></th>\n",
              "      <th>cat0</th>\n",
              "      <th>cat1</th>\n",
              "      <th>cat2</th>\n",
              "      <th>cat3</th>\n",
              "      <th>cat4</th>\n",
              "      <th>cat6</th>\n",
              "      <th>cat7</th>\n",
              "      <th>cat8</th>\n",
              "      <th>cat9</th>\n",
              "      <th>cat10</th>\n",
              "      <th>cat11</th>\n",
              "      <th>cat12</th>\n",
              "      <th>cat14</th>\n",
              "      <th>cat15</th>\n",
              "      <th>cat16</th>\n",
              "      <th>cat17</th>\n",
              "      <th>cat18</th>\n",
              "      <th>cont0</th>\n",
              "      <th>cont1</th>\n",
              "      <th>cont3</th>\n",
              "      <th>cont4</th>\n",
              "      <th>cont5</th>\n",
              "      <th>cont6</th>\n",
              "      <th>cont8</th>\n",
              "      <th>cont9</th>\n",
              "      <th>target</th>\n",
              "    </tr>\n",
              "    <tr>\n",
              "      <th>id</th>\n",
              "      <th></th>\n",
              "      <th></th>\n",
              "      <th></th>\n",
              "      <th></th>\n",
              "      <th></th>\n",
              "      <th></th>\n",
              "      <th></th>\n",
              "      <th></th>\n",
              "      <th></th>\n",
              "      <th></th>\n",
              "      <th></th>\n",
              "      <th></th>\n",
              "      <th></th>\n",
              "      <th></th>\n",
              "      <th></th>\n",
              "      <th></th>\n",
              "      <th></th>\n",
              "      <th></th>\n",
              "      <th></th>\n",
              "      <th></th>\n",
              "      <th></th>\n",
              "      <th></th>\n",
              "      <th></th>\n",
              "      <th></th>\n",
              "      <th></th>\n",
              "      <th></th>\n",
              "    </tr>\n",
              "  </thead>\n",
              "  <tbody>\n",
              "    <tr>\n",
              "      <th>0</th>\n",
              "      <td>A</td>\n",
              "      <td>I</td>\n",
              "      <td>A</td>\n",
              "      <td>B</td>\n",
              "      <td>B</td>\n",
              "      <td>A</td>\n",
              "      <td>S</td>\n",
              "      <td>Q</td>\n",
              "      <td>A</td>\n",
              "      <td>LO</td>\n",
              "      <td>A</td>\n",
              "      <td>A</td>\n",
              "      <td>A</td>\n",
              "      <td>B</td>\n",
              "      <td>D</td>\n",
              "      <td>D</td>\n",
              "      <td>B</td>\n",
              "      <td>0.629858</td>\n",
              "      <td>0.855349</td>\n",
              "      <td>0.795549</td>\n",
              "      <td>0.681917</td>\n",
              "      <td>0.621672</td>\n",
              "      <td>0.592184</td>\n",
              "      <td>0.815254</td>\n",
              "      <td>0.965006</td>\n",
              "      <td>0</td>\n",
              "    </tr>\n",
              "    <tr>\n",
              "      <th>1</th>\n",
              "      <td>A</td>\n",
              "      <td>I</td>\n",
              "      <td>A</td>\n",
              "      <td>A</td>\n",
              "      <td>E</td>\n",
              "      <td>K</td>\n",
              "      <td>W</td>\n",
              "      <td>AD</td>\n",
              "      <td>F</td>\n",
              "      <td>HJ</td>\n",
              "      <td>A</td>\n",
              "      <td>B</td>\n",
              "      <td>B</td>\n",
              "      <td>D</td>\n",
              "      <td>B</td>\n",
              "      <td>D</td>\n",
              "      <td>B</td>\n",
              "      <td>0.370727</td>\n",
              "      <td>0.328929</td>\n",
              "      <td>0.541366</td>\n",
              "      <td>0.388982</td>\n",
              "      <td>0.357778</td>\n",
              "      <td>0.600044</td>\n",
              "      <td>0.399353</td>\n",
              "      <td>0.927406</td>\n",
              "      <td>0</td>\n",
              "    </tr>\n",
              "    <tr>\n",
              "      <th>2</th>\n",
              "      <td>A</td>\n",
              "      <td>K</td>\n",
              "      <td>A</td>\n",
              "      <td>A</td>\n",
              "      <td>E</td>\n",
              "      <td>A</td>\n",
              "      <td>E</td>\n",
              "      <td>BM</td>\n",
              "      <td>L</td>\n",
              "      <td>DJ</td>\n",
              "      <td>A</td>\n",
              "      <td>B</td>\n",
              "      <td>A</td>\n",
              "      <td>B</td>\n",
              "      <td>D</td>\n",
              "      <td>D</td>\n",
              "      <td>B</td>\n",
              "      <td>0.502272</td>\n",
              "      <td>0.322749</td>\n",
              "      <td>0.616352</td>\n",
              "      <td>0.793687</td>\n",
              "      <td>0.552877</td>\n",
              "      <td>0.352113</td>\n",
              "      <td>0.412303</td>\n",
              "      <td>0.292696</td>\n",
              "      <td>0</td>\n",
              "    </tr>\n",
              "    <tr>\n",
              "      <th>3</th>\n",
              "      <td>A</td>\n",
              "      <td>K</td>\n",
              "      <td>A</td>\n",
              "      <td>C</td>\n",
              "      <td>E</td>\n",
              "      <td>A</td>\n",
              "      <td>Y</td>\n",
              "      <td>AD</td>\n",
              "      <td>F</td>\n",
              "      <td>KV</td>\n",
              "      <td>A</td>\n",
              "      <td>A</td>\n",
              "      <td>A</td>\n",
              "      <td>B</td>\n",
              "      <td>D</td>\n",
              "      <td>D</td>\n",
              "      <td>B</td>\n",
              "      <td>0.934242</td>\n",
              "      <td>0.707663</td>\n",
              "      <td>0.807807</td>\n",
              "      <td>0.800032</td>\n",
              "      <td>0.619147</td>\n",
              "      <td>0.221789</td>\n",
              "      <td>0.633669</td>\n",
              "      <td>0.760318</td>\n",
              "      <td>0</td>\n",
              "    </tr>\n",
              "    <tr>\n",
              "      <th>4</th>\n",
              "      <td>A</td>\n",
              "      <td>I</td>\n",
              "      <td>G</td>\n",
              "      <td>B</td>\n",
              "      <td>E</td>\n",
              "      <td>C</td>\n",
              "      <td>G</td>\n",
              "      <td>Q</td>\n",
              "      <td>A</td>\n",
              "      <td>DP</td>\n",
              "      <td>A</td>\n",
              "      <td>A</td>\n",
              "      <td>B</td>\n",
              "      <td>B</td>\n",
              "      <td>B</td>\n",
              "      <td>D</td>\n",
              "      <td>B</td>\n",
              "      <td>0.254427</td>\n",
              "      <td>0.274514</td>\n",
              "      <td>0.277308</td>\n",
              "      <td>0.610578</td>\n",
              "      <td>0.128291</td>\n",
              "      <td>0.578764</td>\n",
              "      <td>0.351103</td>\n",
              "      <td>0.357084</td>\n",
              "      <td>1</td>\n",
              "    </tr>\n",
              "    <tr>\n",
              "      <th>...</th>\n",
              "      <td>...</td>\n",
              "      <td>...</td>\n",
              "      <td>...</td>\n",
              "      <td>...</td>\n",
              "      <td>...</td>\n",
              "      <td>...</td>\n",
              "      <td>...</td>\n",
              "      <td>...</td>\n",
              "      <td>...</td>\n",
              "      <td>...</td>\n",
              "      <td>...</td>\n",
              "      <td>...</td>\n",
              "      <td>...</td>\n",
              "      <td>...</td>\n",
              "      <td>...</td>\n",
              "      <td>...</td>\n",
              "      <td>...</td>\n",
              "      <td>...</td>\n",
              "      <td>...</td>\n",
              "      <td>...</td>\n",
              "      <td>...</td>\n",
              "      <td>...</td>\n",
              "      <td>...</td>\n",
              "      <td>...</td>\n",
              "      <td>...</td>\n",
              "      <td>...</td>\n",
              "    </tr>\n",
              "    <tr>\n",
              "      <th>499993</th>\n",
              "      <td>A</td>\n",
              "      <td>N</td>\n",
              "      <td>F</td>\n",
              "      <td>A</td>\n",
              "      <td>E</td>\n",
              "      <td>A</td>\n",
              "      <td>AS</td>\n",
              "      <td>K</td>\n",
              "      <td>A</td>\n",
              "      <td>HG</td>\n",
              "      <td>A</td>\n",
              "      <td>A</td>\n",
              "      <td>B</td>\n",
              "      <td>D</td>\n",
              "      <td>B</td>\n",
              "      <td>D</td>\n",
              "      <td>B</td>\n",
              "      <td>0.681700</td>\n",
              "      <td>0.500730</td>\n",
              "      <td>0.671927</td>\n",
              "      <td>0.390566</td>\n",
              "      <td>0.145840</td>\n",
              "      <td>0.262767</td>\n",
              "      <td>0.519340</td>\n",
              "      <td>0.617436</td>\n",
              "      <td>0</td>\n",
              "    </tr>\n",
              "    <tr>\n",
              "      <th>499995</th>\n",
              "      <td>A</td>\n",
              "      <td>K</td>\n",
              "      <td>A</td>\n",
              "      <td>A</td>\n",
              "      <td>G</td>\n",
              "      <td>A</td>\n",
              "      <td>K</td>\n",
              "      <td>AE</td>\n",
              "      <td>E</td>\n",
              "      <td>HK</td>\n",
              "      <td>A</td>\n",
              "      <td>B</td>\n",
              "      <td>B</td>\n",
              "      <td>B</td>\n",
              "      <td>D</td>\n",
              "      <td>D</td>\n",
              "      <td>B</td>\n",
              "      <td>0.489226</td>\n",
              "      <td>0.790664</td>\n",
              "      <td>0.620356</td>\n",
              "      <td>0.384891</td>\n",
              "      <td>0.735879</td>\n",
              "      <td>0.547731</td>\n",
              "      <td>0.470575</td>\n",
              "      <td>0.275743</td>\n",
              "      <td>0</td>\n",
              "    </tr>\n",
              "    <tr>\n",
              "      <th>499996</th>\n",
              "      <td>A</td>\n",
              "      <td>G</td>\n",
              "      <td>M</td>\n",
              "      <td>A</td>\n",
              "      <td>H</td>\n",
              "      <td>C</td>\n",
              "      <td>L</td>\n",
              "      <td>F</td>\n",
              "      <td>A</td>\n",
              "      <td>HC</td>\n",
              "      <td>B</td>\n",
              "      <td>A</td>\n",
              "      <td>B</td>\n",
              "      <td>D</td>\n",
              "      <td>B</td>\n",
              "      <td>D</td>\n",
              "      <td>D</td>\n",
              "      <td>0.487882</td>\n",
              "      <td>0.522347</td>\n",
              "      <td>0.232436</td>\n",
              "      <td>0.832482</td>\n",
              "      <td>0.810663</td>\n",
              "      <td>0.596939</td>\n",
              "      <td>0.373997</td>\n",
              "      <td>0.518024</td>\n",
              "      <td>1</td>\n",
              "    </tr>\n",
              "    <tr>\n",
              "      <th>499997</th>\n",
              "      <td>B</td>\n",
              "      <td>H</td>\n",
              "      <td>A</td>\n",
              "      <td>D</td>\n",
              "      <td>B</td>\n",
              "      <td>A</td>\n",
              "      <td>AA</td>\n",
              "      <td>AX</td>\n",
              "      <td>A</td>\n",
              "      <td>BF</td>\n",
              "      <td>A</td>\n",
              "      <td>A</td>\n",
              "      <td>A</td>\n",
              "      <td>B</td>\n",
              "      <td>A</td>\n",
              "      <td>D</td>\n",
              "      <td>A</td>\n",
              "      <td>0.331900</td>\n",
              "      <td>0.812891</td>\n",
              "      <td>0.630708</td>\n",
              "      <td>0.346898</td>\n",
              "      <td>0.735147</td>\n",
              "      <td>0.563488</td>\n",
              "      <td>0.680430</td>\n",
              "      <td>0.318453</td>\n",
              "      <td>0</td>\n",
              "    </tr>\n",
              "    <tr>\n",
              "      <th>499999</th>\n",
              "      <td>A</td>\n",
              "      <td>F</td>\n",
              "      <td>C</td>\n",
              "      <td>A</td>\n",
              "      <td>E</td>\n",
              "      <td>C</td>\n",
              "      <td>AV</td>\n",
              "      <td>S</td>\n",
              "      <td>A</td>\n",
              "      <td>LM</td>\n",
              "      <td>A</td>\n",
              "      <td>A</td>\n",
              "      <td>A</td>\n",
              "      <td>B</td>\n",
              "      <td>D</td>\n",
              "      <td>D</td>\n",
              "      <td>B</td>\n",
              "      <td>0.822600</td>\n",
              "      <td>0.819735</td>\n",
              "      <td>0.848696</td>\n",
              "      <td>0.819377</td>\n",
              "      <td>0.355467</td>\n",
              "      <td>0.218153</td>\n",
              "      <td>0.823655</td>\n",
              "      <td>0.330515</td>\n",
              "      <td>0</td>\n",
              "    </tr>\n",
              "  </tbody>\n",
              "</table>\n",
              "<p>300000 rows × 26 columns</p>\n",
              "</div>"
            ],
            "text/plain": [
              "       cat0 cat1 cat2 cat3 cat4  ...     cont5     cont6     cont8     cont9 target\n",
              "id                               ...                                               \n",
              "0         A    I    A    B    B  ...  0.621672  0.592184  0.815254  0.965006      0\n",
              "1         A    I    A    A    E  ...  0.357778  0.600044  0.399353  0.927406      0\n",
              "2         A    K    A    A    E  ...  0.552877  0.352113  0.412303  0.292696      0\n",
              "3         A    K    A    C    E  ...  0.619147  0.221789  0.633669  0.760318      0\n",
              "4         A    I    G    B    E  ...  0.128291  0.578764  0.351103  0.357084      1\n",
              "...     ...  ...  ...  ...  ...  ...       ...       ...       ...       ...    ...\n",
              "499993    A    N    F    A    E  ...  0.145840  0.262767  0.519340  0.617436      0\n",
              "499995    A    K    A    A    G  ...  0.735879  0.547731  0.470575  0.275743      0\n",
              "499996    A    G    M    A    H  ...  0.810663  0.596939  0.373997  0.518024      1\n",
              "499997    B    H    A    D    B  ...  0.735147  0.563488  0.680430  0.318453      0\n",
              "499999    A    F    C    A    E  ...  0.355467  0.218153  0.823655  0.330515      0\n",
              "\n",
              "[300000 rows x 26 columns]"
            ]
          },
          "metadata": {
            "tags": []
          },
          "execution_count": 9
        }
      ]
    },
    {
      "cell_type": "markdown",
      "metadata": {
        "id": "d-Mq1iiUZbK5"
      },
      "source": [
        "#3. *`encodings`*\n",
        "---"
      ]
    },
    {
      "cell_type": "code",
      "metadata": {
        "id": "8eOrQrwtEWfk"
      },
      "source": [
        ""
      ],
      "execution_count": null,
      "outputs": []
    },
    {
      "cell_type": "code",
      "metadata": {
        "id": "ahZ4CUEGEWZn"
      },
      "source": [
        "numcols = [col for col in traindf.columns if traindf[col].dtype != 'object']\n",
        "catcols = [col for col in traindf.columns if col not in numcols]"
      ],
      "execution_count": 5,
      "outputs": []
    },
    {
      "cell_type": "code",
      "metadata": {
        "id": "W1Azc0igZlDz"
      },
      "source": [
        "onehot = OneHotEncoder(sparse=False, handle_unknown='ignore')\n",
        "encoded = pd.DataFrame(onehot.fit_transform(traindf[catcols]), index=traindf.index)\n",
        "traindf = pd.concat([traindf.drop(columns=catcols), encoded], axis=1)\n",
        "\n",
        "encoded = pd.DataFrame(onehot.transform(testdf[catcols]), index=testdf.index)\n",
        "testdf = pd.concat([testdf.drop(columns=catcols), encoded], axis=1)"
      ],
      "execution_count": 6,
      "outputs": []
    },
    {
      "cell_type": "code",
      "metadata": {
        "id": "MULbOujnA0Ht"
      },
      "source": [
        "traindf"
      ],
      "execution_count": null,
      "outputs": []
    },
    {
      "cell_type": "code",
      "metadata": {
        "id": "zG8xZnZJdN5b"
      },
      "source": [
        "testdf"
      ],
      "execution_count": null,
      "outputs": []
    },
    {
      "cell_type": "markdown",
      "metadata": {
        "id": "TVhKgFVqa20j"
      },
      "source": [
        "#4. *`Preprocessing`*"
      ]
    },
    {
      "cell_type": "code",
      "metadata": {
        "id": "JA4cXXNoFTU_"
      },
      "source": [
        "#pca\n",
        "X = traindf.drop(columns=['target'])\n",
        "y = traindf['target']"
      ],
      "execution_count": 7,
      "outputs": []
    },
    {
      "cell_type": "code",
      "metadata": {
        "id": "MJhwgs-iFVaC"
      },
      "source": [
        "from sklearn.decomposition import PCA\n",
        "pca = PCA(40)\n",
        "X = pd.DataFrame(pca.fit_transform(X), index=X.index)\n",
        "testdf = pd.DataFrame(pca.transform(testdf), index=testdf.index)"
      ],
      "execution_count": 8,
      "outputs": []
    },
    {
      "cell_type": "code",
      "metadata": {
        "id": "tWC-2AFIIMsv"
      },
      "source": [
        "poly = PolynomialFeatures(degree=2, interaction_only=True)\n",
        "X = pd.DataFrame(poly.fit_transform(X), index=X.index)"
      ],
      "execution_count": 9,
      "outputs": []
    },
    {
      "cell_type": "code",
      "metadata": {
        "id": "lTMoEQe-SZpv"
      },
      "source": [
        "testdf = pd.DataFrame(poly.transform(testdf), index=testdf.index)"
      ],
      "execution_count": 10,
      "outputs": []
    },
    {
      "cell_type": "code",
      "metadata": {
        "id": "lKjEwVE8SZgN"
      },
      "source": [
        "pca = PCA(250)\n",
        "X = pd.DataFrame(pca.fit_transform(X), index=X.index)\n",
        "testdf = pd.DataFrame(pca.transform(testdf), index=testdf.index)"
      ],
      "execution_count": 11,
      "outputs": []
    },
    {
      "cell_type": "code",
      "metadata": {
        "id": "R-RJG0qAUeKk",
        "outputId": "df959064-bcde-45f7-c06e-18027bef5803",
        "colab": {
          "base_uri": "https://localhost:8080/"
        }
      },
      "source": [
        "explain[0:251].sum()"
      ],
      "execution_count": 26,
      "outputs": [
        {
          "output_type": "execute_result",
          "data": {
            "text/plain": [
              "0.8449355872821792"
            ]
          },
          "metadata": {
            "tags": []
          },
          "execution_count": 26
        }
      ]
    },
    {
      "cell_type": "code",
      "metadata": {
        "id": "0VObBnltU52b",
        "outputId": "4891b488-559c-4d38-dec3-e3a73bb5b0f5",
        "colab": {
          "base_uri": "https://localhost:8080/"
        }
      },
      "source": [
        "X.shape"
      ],
      "execution_count": 21,
      "outputs": [
        {
          "output_type": "execute_result",
          "data": {
            "text/plain": [
              "(300000, 821)"
            ]
          },
          "metadata": {
            "tags": []
          },
          "execution_count": 21
        }
      ]
    },
    {
      "cell_type": "code",
      "metadata": {
        "id": "LaFe3cksbp7j"
      },
      "source": [
        "X.to_csv(\"X.csv\")"
      ],
      "execution_count": 12,
      "outputs": []
    },
    {
      "cell_type": "code",
      "metadata": {
        "id": "n_dthGU0cWoV"
      },
      "source": [
        "testdf.to_csv(\"test.csv\")"
      ],
      "execution_count": null,
      "outputs": []
    },
    {
      "cell_type": "markdown",
      "metadata": {
        "id": "jy4l-vqjcvqp"
      },
      "source": [
        "#5. *`model`*"
      ]
    },
    {
      "cell_type": "code",
      "metadata": {
        "id": "XJMC70aHcvYp"
      },
      "source": [
        "xgbc = XGB"
      ],
      "execution_count": null,
      "outputs": []
    },
    {
      "cell_type": "markdown",
      "metadata": {
        "id": "ihHT4PbcYb6M"
      },
      "source": [
        "#6. *`submission`*\n",
        "---"
      ]
    },
    {
      "cell_type": "code",
      "metadata": {
        "id": "rNw6FdNRYiIt"
      },
      "source": [
        ""
      ],
      "execution_count": null,
      "outputs": []
    }
  ]
}