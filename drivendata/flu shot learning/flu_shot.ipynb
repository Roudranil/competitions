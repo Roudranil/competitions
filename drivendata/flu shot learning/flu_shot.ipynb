{
  "nbformat": 4,
  "nbformat_minor": 0,
  "metadata": {
    "colab": {
      "name": "flu shot.ipynb",
      "provenance": [],
      "include_colab_link": true
    },
    "kernelspec": {
      "name": "python3",
      "display_name": "Python 3"
    }
  },
  "cells": [
    {
      "cell_type": "markdown",
      "metadata": {
        "id": "view-in-github",
        "colab_type": "text"
      },
      "source": [
        "<a href=\"https://colab.research.google.com/github/Roudranil/competitions/blob/main/drivendata/flu%20shot%20learning/flu_shot.ipynb\" target=\"_parent\"><img src=\"https://colab.research.google.com/assets/colab-badge.svg\" alt=\"Open In Colab\"/></a>"
      ]
    },
    {
      "cell_type": "code",
      "metadata": {
        "colab": {
          "base_uri": "https://localhost:8080/"
        },
        "id": "GIqXIUAWV4Q1",
        "outputId": "0676aac8-d90d-4115-baee-acd6d777fa21"
      },
      "source": [
        "from google.colab import drive\n",
        "drive.mount('/content/drive')"
      ],
      "execution_count": 11,
      "outputs": [
        {
          "output_type": "stream",
          "text": [
            "Mounted at /content/drive\n"
          ],
          "name": "stdout"
        }
      ]
    },
    {
      "cell_type": "code",
      "metadata": {
        "id": "9d0lGM-zlvk7"
      },
      "source": [
        "import numpy as np\r\n",
        "import pandas as pd"
      ],
      "execution_count": 1,
      "outputs": []
    },
    {
      "cell_type": "code",
      "metadata": {
        "id": "Wdig3c4xTEha"
      },
      "source": [
        "train_x = pd.read_csv('/content/drive/MyDrive/data/drivendata_flu shot /train_x.csv', index_col=0)\r\n",
        "train_y = pd.read_csv('/content/drive/MyDrive/data/drivendata_flu shot /train_y.csv', index_col=0)\r\n",
        "test = pd.read_csv('/content/drive/MyDrive/data/drivendata_flu shot /test.csv', index_col=0)\r\n",
        "submission = pd.read_csv('/content/drive/MyDrive/data/drivendata_flu shot /submission.csv', index_col=0)"
      ],
      "execution_count": 34,
      "outputs": []
    },
    {
      "cell_type": "code",
      "metadata": {
        "id": "gksV_TtsWTJ8"
      },
      "source": [
        "train = pd.concat([train_x, train_y], axis=1)\r\n",
        "train['num_of_vacc'] = train['h1n1_vaccine'] + train['seasonal_vaccine']"
      ],
      "execution_count": 20,
      "outputs": []
    },
    {
      "cell_type": "markdown",
      "metadata": {
        "id": "OtRO_5ZCZBY5"
      },
      "source": [
        "# A view of data"
      ]
    },
    {
      "cell_type": "code",
      "metadata": {
        "id": "N03C5WuXXyeg",
        "outputId": "71d46a0c-439e-415c-9c05-b9c385868903",
        "colab": {
          "base_uri": "https://localhost:8080/"
        }
      },
      "source": [
        "train.info()"
      ],
      "execution_count": 23,
      "outputs": [
        {
          "output_type": "stream",
          "text": [
            "<class 'pandas.core.frame.DataFrame'>\n",
            "Int64Index: 26707 entries, 0 to 26706\n",
            "Data columns (total 38 columns):\n",
            " #   Column                       Non-Null Count  Dtype  \n",
            "---  ------                       --------------  -----  \n",
            " 0   h1n1_concern                 26615 non-null  float64\n",
            " 1   h1n1_knowledge               26591 non-null  float64\n",
            " 2   behavioral_antiviral_meds    26636 non-null  float64\n",
            " 3   behavioral_avoidance         26499 non-null  float64\n",
            " 4   behavioral_face_mask         26688 non-null  float64\n",
            " 5   behavioral_wash_hands        26665 non-null  float64\n",
            " 6   behavioral_large_gatherings  26620 non-null  float64\n",
            " 7   behavioral_outside_home      26625 non-null  float64\n",
            " 8   behavioral_touch_face        26579 non-null  float64\n",
            " 9   doctor_recc_h1n1             24547 non-null  float64\n",
            " 10  doctor_recc_seasonal         24547 non-null  float64\n",
            " 11  chronic_med_condition        25736 non-null  float64\n",
            " 12  child_under_6_months         25887 non-null  float64\n",
            " 13  health_worker                25903 non-null  float64\n",
            " 14  health_insurance             14433 non-null  float64\n",
            " 15  opinion_h1n1_vacc_effective  26316 non-null  float64\n",
            " 16  opinion_h1n1_risk            26319 non-null  float64\n",
            " 17  opinion_h1n1_sick_from_vacc  26312 non-null  float64\n",
            " 18  opinion_seas_vacc_effective  26245 non-null  float64\n",
            " 19  opinion_seas_risk            26193 non-null  float64\n",
            " 20  opinion_seas_sick_from_vacc  26170 non-null  float64\n",
            " 21  age_group                    26707 non-null  object \n",
            " 22  education                    25300 non-null  object \n",
            " 23  race                         26707 non-null  object \n",
            " 24  sex                          26707 non-null  object \n",
            " 25  income_poverty               22284 non-null  object \n",
            " 26  marital_status               25299 non-null  object \n",
            " 27  rent_or_own                  24665 non-null  object \n",
            " 28  employment_status            25244 non-null  object \n",
            " 29  hhs_geo_region               26707 non-null  object \n",
            " 30  census_msa                   26707 non-null  object \n",
            " 31  household_adults             26458 non-null  float64\n",
            " 32  household_children           26458 non-null  float64\n",
            " 33  employment_industry          13377 non-null  object \n",
            " 34  employment_occupation        13237 non-null  object \n",
            " 35  h1n1_vaccine                 26707 non-null  int64  \n",
            " 36  seasonal_vaccine             26707 non-null  int64  \n",
            " 37  num_of_vacc                  26707 non-null  int64  \n",
            "dtypes: float64(23), int64(3), object(12)\n",
            "memory usage: 7.9+ MB\n"
          ],
          "name": "stdout"
        }
      ]
    },
    {
      "cell_type": "code",
      "metadata": {
        "id": "2OmVeTfkZNUb",
        "outputId": "811900ad-632f-489f-99ff-f81b34b1b392",
        "colab": {
          "base_uri": "https://localhost:8080/",
          "height": 716
        }
      },
      "source": [
        "train"
      ],
      "execution_count": 27,
      "outputs": [
        {
          "output_type": "execute_result",
          "data": {
            "text/html": [
              "<div>\n",
              "<style scoped>\n",
              "    .dataframe tbody tr th:only-of-type {\n",
              "        vertical-align: middle;\n",
              "    }\n",
              "\n",
              "    .dataframe tbody tr th {\n",
              "        vertical-align: top;\n",
              "    }\n",
              "\n",
              "    .dataframe thead th {\n",
              "        text-align: right;\n",
              "    }\n",
              "</style>\n",
              "<table border=\"1\" class=\"dataframe\">\n",
              "  <thead>\n",
              "    <tr style=\"text-align: right;\">\n",
              "      <th></th>\n",
              "      <th>h1n1_concern</th>\n",
              "      <th>h1n1_knowledge</th>\n",
              "      <th>behavioral_antiviral_meds</th>\n",
              "      <th>behavioral_avoidance</th>\n",
              "      <th>behavioral_face_mask</th>\n",
              "      <th>behavioral_wash_hands</th>\n",
              "      <th>behavioral_large_gatherings</th>\n",
              "      <th>behavioral_outside_home</th>\n",
              "      <th>behavioral_touch_face</th>\n",
              "      <th>doctor_recc_h1n1</th>\n",
              "      <th>doctor_recc_seasonal</th>\n",
              "      <th>chronic_med_condition</th>\n",
              "      <th>child_under_6_months</th>\n",
              "      <th>health_worker</th>\n",
              "      <th>health_insurance</th>\n",
              "      <th>opinion_h1n1_vacc_effective</th>\n",
              "      <th>opinion_h1n1_risk</th>\n",
              "      <th>opinion_h1n1_sick_from_vacc</th>\n",
              "      <th>opinion_seas_vacc_effective</th>\n",
              "      <th>opinion_seas_risk</th>\n",
              "      <th>opinion_seas_sick_from_vacc</th>\n",
              "      <th>age_group</th>\n",
              "      <th>education</th>\n",
              "      <th>race</th>\n",
              "      <th>sex</th>\n",
              "      <th>income_poverty</th>\n",
              "      <th>marital_status</th>\n",
              "      <th>rent_or_own</th>\n",
              "      <th>employment_status</th>\n",
              "      <th>hhs_geo_region</th>\n",
              "      <th>census_msa</th>\n",
              "      <th>household_adults</th>\n",
              "      <th>household_children</th>\n",
              "      <th>employment_industry</th>\n",
              "      <th>employment_occupation</th>\n",
              "      <th>h1n1_vaccine</th>\n",
              "      <th>seasonal_vaccine</th>\n",
              "      <th>num_of_vacc</th>\n",
              "    </tr>\n",
              "    <tr>\n",
              "      <th>respondent_id</th>\n",
              "      <th></th>\n",
              "      <th></th>\n",
              "      <th></th>\n",
              "      <th></th>\n",
              "      <th></th>\n",
              "      <th></th>\n",
              "      <th></th>\n",
              "      <th></th>\n",
              "      <th></th>\n",
              "      <th></th>\n",
              "      <th></th>\n",
              "      <th></th>\n",
              "      <th></th>\n",
              "      <th></th>\n",
              "      <th></th>\n",
              "      <th></th>\n",
              "      <th></th>\n",
              "      <th></th>\n",
              "      <th></th>\n",
              "      <th></th>\n",
              "      <th></th>\n",
              "      <th></th>\n",
              "      <th></th>\n",
              "      <th></th>\n",
              "      <th></th>\n",
              "      <th></th>\n",
              "      <th></th>\n",
              "      <th></th>\n",
              "      <th></th>\n",
              "      <th></th>\n",
              "      <th></th>\n",
              "      <th></th>\n",
              "      <th></th>\n",
              "      <th></th>\n",
              "      <th></th>\n",
              "      <th></th>\n",
              "      <th></th>\n",
              "      <th></th>\n",
              "    </tr>\n",
              "  </thead>\n",
              "  <tbody>\n",
              "    <tr>\n",
              "      <th>0</th>\n",
              "      <td>1.0</td>\n",
              "      <td>0.0</td>\n",
              "      <td>0.0</td>\n",
              "      <td>0.0</td>\n",
              "      <td>0.0</td>\n",
              "      <td>0.0</td>\n",
              "      <td>0.0</td>\n",
              "      <td>1.0</td>\n",
              "      <td>1.0</td>\n",
              "      <td>0.0</td>\n",
              "      <td>0.0</td>\n",
              "      <td>0.0</td>\n",
              "      <td>0.0</td>\n",
              "      <td>0.0</td>\n",
              "      <td>1.0</td>\n",
              "      <td>3.0</td>\n",
              "      <td>1.0</td>\n",
              "      <td>2.0</td>\n",
              "      <td>2.0</td>\n",
              "      <td>1.0</td>\n",
              "      <td>2.0</td>\n",
              "      <td>55 - 64 Years</td>\n",
              "      <td>&lt; 12 Years</td>\n",
              "      <td>White</td>\n",
              "      <td>Female</td>\n",
              "      <td>Below Poverty</td>\n",
              "      <td>Not Married</td>\n",
              "      <td>Own</td>\n",
              "      <td>Not in Labor Force</td>\n",
              "      <td>oxchjgsf</td>\n",
              "      <td>Non-MSA</td>\n",
              "      <td>0.0</td>\n",
              "      <td>0.0</td>\n",
              "      <td>NaN</td>\n",
              "      <td>NaN</td>\n",
              "      <td>0</td>\n",
              "      <td>0</td>\n",
              "      <td>0</td>\n",
              "    </tr>\n",
              "    <tr>\n",
              "      <th>1</th>\n",
              "      <td>3.0</td>\n",
              "      <td>2.0</td>\n",
              "      <td>0.0</td>\n",
              "      <td>1.0</td>\n",
              "      <td>0.0</td>\n",
              "      <td>1.0</td>\n",
              "      <td>0.0</td>\n",
              "      <td>1.0</td>\n",
              "      <td>1.0</td>\n",
              "      <td>0.0</td>\n",
              "      <td>0.0</td>\n",
              "      <td>0.0</td>\n",
              "      <td>0.0</td>\n",
              "      <td>0.0</td>\n",
              "      <td>1.0</td>\n",
              "      <td>5.0</td>\n",
              "      <td>4.0</td>\n",
              "      <td>4.0</td>\n",
              "      <td>4.0</td>\n",
              "      <td>2.0</td>\n",
              "      <td>4.0</td>\n",
              "      <td>35 - 44 Years</td>\n",
              "      <td>12 Years</td>\n",
              "      <td>White</td>\n",
              "      <td>Male</td>\n",
              "      <td>Below Poverty</td>\n",
              "      <td>Not Married</td>\n",
              "      <td>Rent</td>\n",
              "      <td>Employed</td>\n",
              "      <td>bhuqouqj</td>\n",
              "      <td>MSA, Not Principle  City</td>\n",
              "      <td>0.0</td>\n",
              "      <td>0.0</td>\n",
              "      <td>pxcmvdjn</td>\n",
              "      <td>xgwztkwe</td>\n",
              "      <td>0</td>\n",
              "      <td>1</td>\n",
              "      <td>1</td>\n",
              "    </tr>\n",
              "    <tr>\n",
              "      <th>2</th>\n",
              "      <td>1.0</td>\n",
              "      <td>1.0</td>\n",
              "      <td>0.0</td>\n",
              "      <td>1.0</td>\n",
              "      <td>0.0</td>\n",
              "      <td>0.0</td>\n",
              "      <td>0.0</td>\n",
              "      <td>0.0</td>\n",
              "      <td>0.0</td>\n",
              "      <td>NaN</td>\n",
              "      <td>NaN</td>\n",
              "      <td>1.0</td>\n",
              "      <td>0.0</td>\n",
              "      <td>0.0</td>\n",
              "      <td>NaN</td>\n",
              "      <td>3.0</td>\n",
              "      <td>1.0</td>\n",
              "      <td>1.0</td>\n",
              "      <td>4.0</td>\n",
              "      <td>1.0</td>\n",
              "      <td>2.0</td>\n",
              "      <td>18 - 34 Years</td>\n",
              "      <td>College Graduate</td>\n",
              "      <td>White</td>\n",
              "      <td>Male</td>\n",
              "      <td>&lt;= $75,000, Above Poverty</td>\n",
              "      <td>Not Married</td>\n",
              "      <td>Own</td>\n",
              "      <td>Employed</td>\n",
              "      <td>qufhixun</td>\n",
              "      <td>MSA, Not Principle  City</td>\n",
              "      <td>2.0</td>\n",
              "      <td>0.0</td>\n",
              "      <td>rucpziij</td>\n",
              "      <td>xtkaffoo</td>\n",
              "      <td>0</td>\n",
              "      <td>0</td>\n",
              "      <td>0</td>\n",
              "    </tr>\n",
              "    <tr>\n",
              "      <th>3</th>\n",
              "      <td>1.0</td>\n",
              "      <td>1.0</td>\n",
              "      <td>0.0</td>\n",
              "      <td>1.0</td>\n",
              "      <td>0.0</td>\n",
              "      <td>1.0</td>\n",
              "      <td>1.0</td>\n",
              "      <td>0.0</td>\n",
              "      <td>0.0</td>\n",
              "      <td>0.0</td>\n",
              "      <td>1.0</td>\n",
              "      <td>1.0</td>\n",
              "      <td>0.0</td>\n",
              "      <td>0.0</td>\n",
              "      <td>NaN</td>\n",
              "      <td>3.0</td>\n",
              "      <td>3.0</td>\n",
              "      <td>5.0</td>\n",
              "      <td>5.0</td>\n",
              "      <td>4.0</td>\n",
              "      <td>1.0</td>\n",
              "      <td>65+ Years</td>\n",
              "      <td>12 Years</td>\n",
              "      <td>White</td>\n",
              "      <td>Female</td>\n",
              "      <td>Below Poverty</td>\n",
              "      <td>Not Married</td>\n",
              "      <td>Rent</td>\n",
              "      <td>Not in Labor Force</td>\n",
              "      <td>lrircsnp</td>\n",
              "      <td>MSA, Principle City</td>\n",
              "      <td>0.0</td>\n",
              "      <td>0.0</td>\n",
              "      <td>NaN</td>\n",
              "      <td>NaN</td>\n",
              "      <td>0</td>\n",
              "      <td>1</td>\n",
              "      <td>1</td>\n",
              "    </tr>\n",
              "    <tr>\n",
              "      <th>4</th>\n",
              "      <td>2.0</td>\n",
              "      <td>1.0</td>\n",
              "      <td>0.0</td>\n",
              "      <td>1.0</td>\n",
              "      <td>0.0</td>\n",
              "      <td>1.0</td>\n",
              "      <td>1.0</td>\n",
              "      <td>0.0</td>\n",
              "      <td>1.0</td>\n",
              "      <td>0.0</td>\n",
              "      <td>0.0</td>\n",
              "      <td>0.0</td>\n",
              "      <td>0.0</td>\n",
              "      <td>0.0</td>\n",
              "      <td>NaN</td>\n",
              "      <td>3.0</td>\n",
              "      <td>3.0</td>\n",
              "      <td>2.0</td>\n",
              "      <td>3.0</td>\n",
              "      <td>1.0</td>\n",
              "      <td>4.0</td>\n",
              "      <td>45 - 54 Years</td>\n",
              "      <td>Some College</td>\n",
              "      <td>White</td>\n",
              "      <td>Female</td>\n",
              "      <td>&lt;= $75,000, Above Poverty</td>\n",
              "      <td>Married</td>\n",
              "      <td>Own</td>\n",
              "      <td>Employed</td>\n",
              "      <td>qufhixun</td>\n",
              "      <td>MSA, Not Principle  City</td>\n",
              "      <td>1.0</td>\n",
              "      <td>0.0</td>\n",
              "      <td>wxleyezf</td>\n",
              "      <td>emcorrxb</td>\n",
              "      <td>0</td>\n",
              "      <td>0</td>\n",
              "      <td>0</td>\n",
              "    </tr>\n",
              "    <tr>\n",
              "      <th>...</th>\n",
              "      <td>...</td>\n",
              "      <td>...</td>\n",
              "      <td>...</td>\n",
              "      <td>...</td>\n",
              "      <td>...</td>\n",
              "      <td>...</td>\n",
              "      <td>...</td>\n",
              "      <td>...</td>\n",
              "      <td>...</td>\n",
              "      <td>...</td>\n",
              "      <td>...</td>\n",
              "      <td>...</td>\n",
              "      <td>...</td>\n",
              "      <td>...</td>\n",
              "      <td>...</td>\n",
              "      <td>...</td>\n",
              "      <td>...</td>\n",
              "      <td>...</td>\n",
              "      <td>...</td>\n",
              "      <td>...</td>\n",
              "      <td>...</td>\n",
              "      <td>...</td>\n",
              "      <td>...</td>\n",
              "      <td>...</td>\n",
              "      <td>...</td>\n",
              "      <td>...</td>\n",
              "      <td>...</td>\n",
              "      <td>...</td>\n",
              "      <td>...</td>\n",
              "      <td>...</td>\n",
              "      <td>...</td>\n",
              "      <td>...</td>\n",
              "      <td>...</td>\n",
              "      <td>...</td>\n",
              "      <td>...</td>\n",
              "      <td>...</td>\n",
              "      <td>...</td>\n",
              "      <td>...</td>\n",
              "    </tr>\n",
              "    <tr>\n",
              "      <th>26702</th>\n",
              "      <td>2.0</td>\n",
              "      <td>0.0</td>\n",
              "      <td>0.0</td>\n",
              "      <td>1.0</td>\n",
              "      <td>0.0</td>\n",
              "      <td>0.0</td>\n",
              "      <td>0.0</td>\n",
              "      <td>1.0</td>\n",
              "      <td>0.0</td>\n",
              "      <td>0.0</td>\n",
              "      <td>0.0</td>\n",
              "      <td>0.0</td>\n",
              "      <td>0.0</td>\n",
              "      <td>0.0</td>\n",
              "      <td>NaN</td>\n",
              "      <td>3.0</td>\n",
              "      <td>1.0</td>\n",
              "      <td>1.0</td>\n",
              "      <td>5.0</td>\n",
              "      <td>2.0</td>\n",
              "      <td>2.0</td>\n",
              "      <td>65+ Years</td>\n",
              "      <td>Some College</td>\n",
              "      <td>White</td>\n",
              "      <td>Female</td>\n",
              "      <td>&lt;= $75,000, Above Poverty</td>\n",
              "      <td>Not Married</td>\n",
              "      <td>Own</td>\n",
              "      <td>Not in Labor Force</td>\n",
              "      <td>qufhixun</td>\n",
              "      <td>Non-MSA</td>\n",
              "      <td>0.0</td>\n",
              "      <td>0.0</td>\n",
              "      <td>NaN</td>\n",
              "      <td>NaN</td>\n",
              "      <td>0</td>\n",
              "      <td>0</td>\n",
              "      <td>0</td>\n",
              "    </tr>\n",
              "    <tr>\n",
              "      <th>26703</th>\n",
              "      <td>1.0</td>\n",
              "      <td>2.0</td>\n",
              "      <td>0.0</td>\n",
              "      <td>1.0</td>\n",
              "      <td>0.0</td>\n",
              "      <td>1.0</td>\n",
              "      <td>0.0</td>\n",
              "      <td>0.0</td>\n",
              "      <td>0.0</td>\n",
              "      <td>1.0</td>\n",
              "      <td>1.0</td>\n",
              "      <td>0.0</td>\n",
              "      <td>0.0</td>\n",
              "      <td>1.0</td>\n",
              "      <td>1.0</td>\n",
              "      <td>4.0</td>\n",
              "      <td>2.0</td>\n",
              "      <td>2.0</td>\n",
              "      <td>5.0</td>\n",
              "      <td>1.0</td>\n",
              "      <td>1.0</td>\n",
              "      <td>18 - 34 Years</td>\n",
              "      <td>College Graduate</td>\n",
              "      <td>White</td>\n",
              "      <td>Male</td>\n",
              "      <td>&lt;= $75,000, Above Poverty</td>\n",
              "      <td>Not Married</td>\n",
              "      <td>Rent</td>\n",
              "      <td>Employed</td>\n",
              "      <td>lzgpxyit</td>\n",
              "      <td>MSA, Principle City</td>\n",
              "      <td>1.0</td>\n",
              "      <td>0.0</td>\n",
              "      <td>fcxhlnwr</td>\n",
              "      <td>cmhcxjea</td>\n",
              "      <td>0</td>\n",
              "      <td>0</td>\n",
              "      <td>0</td>\n",
              "    </tr>\n",
              "    <tr>\n",
              "      <th>26704</th>\n",
              "      <td>2.0</td>\n",
              "      <td>2.0</td>\n",
              "      <td>0.0</td>\n",
              "      <td>1.0</td>\n",
              "      <td>1.0</td>\n",
              "      <td>1.0</td>\n",
              "      <td>1.0</td>\n",
              "      <td>0.0</td>\n",
              "      <td>1.0</td>\n",
              "      <td>0.0</td>\n",
              "      <td>0.0</td>\n",
              "      <td>0.0</td>\n",
              "      <td>0.0</td>\n",
              "      <td>0.0</td>\n",
              "      <td>NaN</td>\n",
              "      <td>4.0</td>\n",
              "      <td>4.0</td>\n",
              "      <td>2.0</td>\n",
              "      <td>5.0</td>\n",
              "      <td>4.0</td>\n",
              "      <td>2.0</td>\n",
              "      <td>55 - 64 Years</td>\n",
              "      <td>Some College</td>\n",
              "      <td>White</td>\n",
              "      <td>Female</td>\n",
              "      <td>NaN</td>\n",
              "      <td>Not Married</td>\n",
              "      <td>Own</td>\n",
              "      <td>NaN</td>\n",
              "      <td>lzgpxyit</td>\n",
              "      <td>MSA, Not Principle  City</td>\n",
              "      <td>0.0</td>\n",
              "      <td>0.0</td>\n",
              "      <td>NaN</td>\n",
              "      <td>NaN</td>\n",
              "      <td>0</td>\n",
              "      <td>1</td>\n",
              "      <td>1</td>\n",
              "    </tr>\n",
              "    <tr>\n",
              "      <th>26705</th>\n",
              "      <td>1.0</td>\n",
              "      <td>1.0</td>\n",
              "      <td>0.0</td>\n",
              "      <td>0.0</td>\n",
              "      <td>0.0</td>\n",
              "      <td>0.0</td>\n",
              "      <td>0.0</td>\n",
              "      <td>0.0</td>\n",
              "      <td>NaN</td>\n",
              "      <td>0.0</td>\n",
              "      <td>0.0</td>\n",
              "      <td>0.0</td>\n",
              "      <td>0.0</td>\n",
              "      <td>0.0</td>\n",
              "      <td>0.0</td>\n",
              "      <td>3.0</td>\n",
              "      <td>1.0</td>\n",
              "      <td>2.0</td>\n",
              "      <td>2.0</td>\n",
              "      <td>1.0</td>\n",
              "      <td>2.0</td>\n",
              "      <td>18 - 34 Years</td>\n",
              "      <td>Some College</td>\n",
              "      <td>Hispanic</td>\n",
              "      <td>Female</td>\n",
              "      <td>&lt;= $75,000, Above Poverty</td>\n",
              "      <td>Married</td>\n",
              "      <td>Rent</td>\n",
              "      <td>Employed</td>\n",
              "      <td>lrircsnp</td>\n",
              "      <td>Non-MSA</td>\n",
              "      <td>1.0</td>\n",
              "      <td>0.0</td>\n",
              "      <td>fcxhlnwr</td>\n",
              "      <td>haliazsg</td>\n",
              "      <td>0</td>\n",
              "      <td>0</td>\n",
              "      <td>0</td>\n",
              "    </tr>\n",
              "    <tr>\n",
              "      <th>26706</th>\n",
              "      <td>0.0</td>\n",
              "      <td>0.0</td>\n",
              "      <td>0.0</td>\n",
              "      <td>1.0</td>\n",
              "      <td>0.0</td>\n",
              "      <td>0.0</td>\n",
              "      <td>0.0</td>\n",
              "      <td>0.0</td>\n",
              "      <td>0.0</td>\n",
              "      <td>0.0</td>\n",
              "      <td>0.0</td>\n",
              "      <td>0.0</td>\n",
              "      <td>0.0</td>\n",
              "      <td>0.0</td>\n",
              "      <td>1.0</td>\n",
              "      <td>5.0</td>\n",
              "      <td>1.0</td>\n",
              "      <td>1.0</td>\n",
              "      <td>5.0</td>\n",
              "      <td>1.0</td>\n",
              "      <td>1.0</td>\n",
              "      <td>65+ Years</td>\n",
              "      <td>Some College</td>\n",
              "      <td>White</td>\n",
              "      <td>Male</td>\n",
              "      <td>&lt;= $75,000, Above Poverty</td>\n",
              "      <td>Married</td>\n",
              "      <td>Own</td>\n",
              "      <td>Not in Labor Force</td>\n",
              "      <td>mlyzmhmf</td>\n",
              "      <td>MSA, Principle City</td>\n",
              "      <td>1.0</td>\n",
              "      <td>0.0</td>\n",
              "      <td>NaN</td>\n",
              "      <td>NaN</td>\n",
              "      <td>0</td>\n",
              "      <td>0</td>\n",
              "      <td>0</td>\n",
              "    </tr>\n",
              "  </tbody>\n",
              "</table>\n",
              "<p>26707 rows × 38 columns</p>\n",
              "</div>"
            ],
            "text/plain": [
              "               h1n1_concern  h1n1_knowledge  ...  seasonal_vaccine  num_of_vacc\n",
              "respondent_id                                ...                               \n",
              "0                       1.0             0.0  ...                 0            0\n",
              "1                       3.0             2.0  ...                 1            1\n",
              "2                       1.0             1.0  ...                 0            0\n",
              "3                       1.0             1.0  ...                 1            1\n",
              "4                       2.0             1.0  ...                 0            0\n",
              "...                     ...             ...  ...               ...          ...\n",
              "26702                   2.0             0.0  ...                 0            0\n",
              "26703                   1.0             2.0  ...                 0            0\n",
              "26704                   2.0             2.0  ...                 1            1\n",
              "26705                   1.0             1.0  ...                 0            0\n",
              "26706                   0.0             0.0  ...                 0            0\n",
              "\n",
              "[26707 rows x 38 columns]"
            ]
          },
          "metadata": {
            "tags": []
          },
          "execution_count": 27
        }
      ]
    },
    {
      "cell_type": "code",
      "metadata": {
        "id": "Ko6vKSXrZSLH",
        "outputId": "6ccf73f8-d0fa-4834-973b-2f9fad92b422",
        "colab": {
          "base_uri": "https://localhost:8080/"
        }
      },
      "source": [
        "train['employment_status'].value_counts()"
      ],
      "execution_count": 48,
      "outputs": [
        {
          "output_type": "execute_result",
          "data": {
            "text/plain": [
              "Employed              13560\n",
              "Not in Labor Force    10231\n",
              "Unemployed             1453\n",
              "Name: employment_status, dtype: int64"
            ]
          },
          "metadata": {
            "tags": []
          },
          "execution_count": 48
        }
      ]
    },
    {
      "cell_type": "markdown",
      "metadata": {
        "id": "ALjhEOiAYixR"
      },
      "source": [
        "# Notes\r\n",
        "\r\n",
        "\r\n",
        "1.   `household_adults` and `household_children` have `nan` in the same rows.\r\n",
        "2.   `age group`, `sex`, `race`, `hhs_geo_region` and `census_msa` have no `nan`\r\n",
        "3.   \r\n"
      ]
    },
    {
      "cell_type": "code",
      "metadata": {
        "id": "v3AiHNTCao58",
        "outputId": "5aed5cba-ed05-4e5e-f852-476c33e4f172",
        "colab": {
          "base_uri": "https://localhost:8080/"
        }
      },
      "source": [
        "train.groupby('doctor_recc_h1n1')['h1n1_vaccine'].value_counts()"
      ],
      "execution_count": 30,
      "outputs": [
        {
          "output_type": "execute_result",
          "data": {
            "text/plain": [
              "doctor_recc_h1n1  h1n1_vaccine\n",
              "0.0               0               16529\n",
              "                  1                2610\n",
              "1.0               1                2879\n",
              "                  0                2529\n",
              "Name: h1n1_vaccine, dtype: int64"
            ]
          },
          "metadata": {
            "tags": []
          },
          "execution_count": 30
        }
      ]
    },
    {
      "cell_type": "code",
      "metadata": {
        "id": "JqtpWVJ8bixc",
        "outputId": "3c388d7e-6adb-4a9e-d89c-a5fb16be2974",
        "colab": {
          "base_uri": "https://localhost:8080/"
        }
      },
      "source": [
        "train.groupby('doctor_recc_seasonal')['seasonal_vaccine'].value_counts()"
      ],
      "execution_count": 32,
      "outputs": [
        {
          "output_type": "execute_result",
          "data": {
            "text/plain": [
              "doctor_recc_seasonal  seasonal_vaccine\n",
              "0.0                   0                   10756\n",
              "                      1                    5697\n",
              "1.0                   1                    5977\n",
              "                      0                    2117\n",
              "Name: seasonal_vaccine, dtype: int64"
            ]
          },
          "metadata": {
            "tags": []
          },
          "execution_count": 32
        }
      ]
    },
    {
      "cell_type": "code",
      "metadata": {
        "id": "LvV8rk40aITC",
        "outputId": "ce3ce36c-f434-492e-cf14-0bc91289bc5d",
        "colab": {
          "base_uri": "https://localhost:8080/"
        }
      },
      "source": [
        "train.groupby('h1n1_concern')['h1n1_knowledge'].value_counts()"
      ],
      "execution_count": 29,
      "outputs": [
        {
          "output_type": "execute_result",
          "data": {
            "text/plain": [
              "h1n1_concern  h1n1_knowledge\n",
              "0.0           1.0               1534\n",
              "              2.0               1071\n",
              "              0.0                663\n",
              "1.0           1.0               4871\n",
              "              2.0               2673\n",
              "              0.0                581\n",
              "2.0           1.0               5913\n",
              "              2.0               3994\n",
              "              0.0                639\n",
              "3.0           1.0               2257\n",
              "              2.0               1739\n",
              "              0.0                574\n",
              "Name: h1n1_knowledge, dtype: int64"
            ]
          },
          "metadata": {
            "tags": []
          },
          "execution_count": 29
        }
      ]
    },
    {
      "cell_type": "code",
      "metadata": {
        "id": "g_Zx22HhY-B_",
        "outputId": "c7638dda-3311-471a-f676-73c02a8b48e3",
        "colab": {
          "base_uri": "https://localhost:8080/"
        }
      },
      "source": [
        "train['census_msa'].unique()"
      ],
      "execution_count": 28,
      "outputs": [
        {
          "output_type": "execute_result",
          "data": {
            "text/plain": [
              "array(['Non-MSA', 'MSA, Not Principle  City', 'MSA, Principle City'],\n",
              "      dtype=object)"
            ]
          },
          "metadata": {
            "tags": []
          },
          "execution_count": 28
        }
      ]
    },
    {
      "cell_type": "code",
      "metadata": {
        "id": "QLUScmldeL7w",
        "outputId": "e7b193b8-a7ec-4367-fa6e-7d800f20cec8",
        "colab": {
          "base_uri": "https://localhost:8080/"
        }
      },
      "source": [
        "train['age_group'].value_counts()"
      ],
      "execution_count": 37,
      "outputs": [
        {
          "output_type": "execute_result",
          "data": {
            "text/plain": [
              "65+ Years        6843\n",
              "55 - 64 Years    5563\n",
              "45 - 54 Years    5238\n",
              "18 - 34 Years    5215\n",
              "35 - 44 Years    3848\n",
              "Name: age_group, dtype: int64"
            ]
          },
          "metadata": {
            "tags": []
          },
          "execution_count": 37
        }
      ]
    },
    {
      "cell_type": "code",
      "metadata": {
        "id": "YxkQBBRDeU89",
        "outputId": "e631b48f-3c89-4882-b67d-5a658cea9c9e",
        "colab": {
          "base_uri": "https://localhost:8080/"
        }
      },
      "source": [
        "train['race'].value_counts()"
      ],
      "execution_count": 38,
      "outputs": [
        {
          "output_type": "execute_result",
          "data": {
            "text/plain": [
              "White                21222\n",
              "Black                 2118\n",
              "Hispanic              1755\n",
              "Other or Multiple     1612\n",
              "Name: race, dtype: int64"
            ]
          },
          "metadata": {
            "tags": []
          },
          "execution_count": 38
        }
      ]
    },
    {
      "cell_type": "code",
      "metadata": {
        "id": "QQCJLffWeatU",
        "outputId": "5a4676bb-ef52-4b7a-c533-cc33682f37e7",
        "colab": {
          "base_uri": "https://localhost:8080/"
        }
      },
      "source": [
        "train['income_poverty'].value_counts()"
      ],
      "execution_count": 39,
      "outputs": [
        {
          "output_type": "execute_result",
          "data": {
            "text/plain": [
              "<= $75,000, Above Poverty    12777\n",
              "> $75,000                     6810\n",
              "Below Poverty                 2697\n",
              "Name: income_poverty, dtype: int64"
            ]
          },
          "metadata": {
            "tags": []
          },
          "execution_count": 39
        }
      ]
    },
    {
      "cell_type": "code",
      "metadata": {
        "id": "xBJAs7ZSeUN1",
        "outputId": "0f272d63-ad41-4e28-e37f-5a4d69badb2f",
        "colab": {
          "base_uri": "https://localhost:8080/"
        }
      },
      "source": [
        "train['education'].value_counts()"
      ],
      "execution_count": 40,
      "outputs": [
        {
          "output_type": "execute_result",
          "data": {
            "text/plain": [
              "College Graduate    10097\n",
              "Some College         7043\n",
              "12 Years             5797\n",
              "< 12 Years           2363\n",
              "Name: education, dtype: int64"
            ]
          },
          "metadata": {
            "tags": []
          },
          "execution_count": 40
        }
      ]
    },
    {
      "cell_type": "markdown",
      "metadata": {
        "id": "0FmBtuUKd2ak"
      },
      "source": [
        "# Preprocessing"
      ]
    },
    {
      "cell_type": "code",
      "metadata": {
        "id": "ua4hoSfFXC5Y"
      },
      "source": [
        "train = train.drop(columns=['hhs_geo_region', 'employment_industry', 'employment_occupation'])\r\n",
        "test = test.drop(columns=['hhs_geo_region', 'employment_industry', 'employment_occupation'])"
      ],
      "execution_count": 36,
      "outputs": []
    },
    {
      "cell_type": "code",
      "metadata": {
        "id": "ZZtM8dC4ixdN"
      },
      "source": [
        "arg_age_group = {'65+ Years': 70, '55 - 64 Years': 60, '45 - 54 Years': 50, '35 - 44 Years': 40, '18 - 34 Years': 26}\r\n",
        "arg_income = {'Below Poverty': 1, '<= $75,000, Above Poverty': 2, '<= $75,000, Above Poverty': 3}\r\n",
        "arg_education = {'< 12 Years': 1, '12 Years': 2, 'Some College': 3, 'College Graduate': 4}\r\n",
        "arg_employment = {'Unemployed': 1, 'Not in Labor Force': 2, 'Employed': 3}\r\n",
        "label_enc = ['sex', 'marital_status', 'rent_or_own']\r\n",
        "onehot_enc = ['race', 'census_msa']\r\n",
        "\r\n",
        "train['age_group'] = train['age_group'].map(arg_age_group)\r\n",
        "test['age_group'] = test['age_group'].map(arg_age_group)\r\n",
        "train['income_poverty'] = train['income_poverty'].map(arg_income)\r\n",
        "test['income_poverty'] = test['age_group'].map(arg_income)\r\n",
        "train['education'] = train['education'].map(arg_education)\r\n",
        "test['education'] = test['education'].map(arg_education)\r\n",
        "train['employment_status'] = train['employment_status'].map(arg_employment)\r\n",
        "test['employment_status'] = test['employment_status'].map(arg_employment)"
      ],
      "execution_count": 50,
      "outputs": []
    },
    {
      "cell_type": "code",
      "metadata": {
        "id": "pZu4I1btoMNT",
        "outputId": "c46d55f0-bec6-4a02-ab76-c65aef2a574b",
        "colab": {
          "base_uri": "https://localhost:8080/"
        }
      },
      "source": [
        "from sklearn.preprocessing import LabelEncoder"
      ],
      "execution_count": 51,
      "outputs": [
        {
          "output_type": "stream",
          "text": [
            "<class 'pandas.core.frame.DataFrame'>\n",
            "Int64Index: 26707 entries, 0 to 26706\n",
            "Data columns (total 35 columns):\n",
            " #   Column                       Non-Null Count  Dtype  \n",
            "---  ------                       --------------  -----  \n",
            " 0   h1n1_concern                 26615 non-null  float64\n",
            " 1   h1n1_knowledge               26591 non-null  float64\n",
            " 2   behavioral_antiviral_meds    26636 non-null  float64\n",
            " 3   behavioral_avoidance         26499 non-null  float64\n",
            " 4   behavioral_face_mask         26688 non-null  float64\n",
            " 5   behavioral_wash_hands        26665 non-null  float64\n",
            " 6   behavioral_large_gatherings  26620 non-null  float64\n",
            " 7   behavioral_outside_home      26625 non-null  float64\n",
            " 8   behavioral_touch_face        26579 non-null  float64\n",
            " 9   doctor_recc_h1n1             24547 non-null  float64\n",
            " 10  doctor_recc_seasonal         24547 non-null  float64\n",
            " 11  chronic_med_condition        25736 non-null  float64\n",
            " 12  child_under_6_months         25887 non-null  float64\n",
            " 13  health_worker                25903 non-null  float64\n",
            " 14  health_insurance             14433 non-null  float64\n",
            " 15  opinion_h1n1_vacc_effective  26316 non-null  float64\n",
            " 16  opinion_h1n1_risk            26319 non-null  float64\n",
            " 17  opinion_h1n1_sick_from_vacc  26312 non-null  float64\n",
            " 18  opinion_seas_vacc_effective  26245 non-null  float64\n",
            " 19  opinion_seas_risk            26193 non-null  float64\n",
            " 20  opinion_seas_sick_from_vacc  26170 non-null  float64\n",
            " 21  age_group                    26707 non-null  int64  \n",
            " 22  education                    25300 non-null  float64\n",
            " 23  race                         26707 non-null  object \n",
            " 24  sex                          26707 non-null  object \n",
            " 25  income_poverty               15474 non-null  float64\n",
            " 26  marital_status               25299 non-null  object \n",
            " 27  rent_or_own                  24665 non-null  object \n",
            " 28  employment_status            25244 non-null  float64\n",
            " 29  census_msa                   26707 non-null  object \n",
            " 30  household_adults             26458 non-null  float64\n",
            " 31  household_children           26458 non-null  float64\n",
            " 32  h1n1_vaccine                 26707 non-null  int64  \n",
            " 33  seasonal_vaccine             26707 non-null  int64  \n",
            " 34  num_of_vacc                  26707 non-null  int64  \n",
            "dtypes: float64(26), int64(4), object(5)\n",
            "memory usage: 7.3+ MB\n"
          ],
          "name": "stdout"
        }
      ]
    },
    {
      "cell_type": "code",
      "metadata": {
        "id": "EUcQgpNUoMFF"
      },
      "source": [
        ""
      ],
      "execution_count": null,
      "outputs": []
    },
    {
      "cell_type": "code",
      "metadata": {
        "id": "aFAv4YUOc1y6"
      },
      "source": [
        "from sklearn.experimental import enable_iterative_imputer\r\n",
        "from sklearn.impute import IterativeImputer"
      ],
      "execution_count": 41,
      "outputs": []
    },
    {
      "cell_type": "code",
      "metadata": {
        "id": "gvcBqgMriSEC"
      },
      "source": [
        ""
      ],
      "execution_count": null,
      "outputs": []
    },
    {
      "cell_type": "code",
      "metadata": {
        "id": "xLdkLv6qc1mR"
      },
      "source": [
        "train1 = train\r\n",
        "test1 = test\r\n",
        "\r\n",
        "iterimp = IterativeImputer()\r\n",
        "train1 = pd.DataFrame(iterimp.fit_transform(train1), columns=train1.columns, index=train.index)\r\n",
        "test1 = pd.DataFrame(iterimp.transform(test1), columns=test1.columns, index=test1.index)"
      ],
      "execution_count": null,
      "outputs": []
    },
    {
      "cell_type": "code",
      "metadata": {
        "id": "aiYdsPLBc1RO"
      },
      "source": [
        ""
      ],
      "execution_count": null,
      "outputs": []
    },
    {
      "cell_type": "code",
      "metadata": {
        "id": "HNr4pOMLXCw2"
      },
      "source": [
        ""
      ],
      "execution_count": null,
      "outputs": []
    },
    {
      "cell_type": "code",
      "metadata": {
        "id": "cguafzaIXCoP"
      },
      "source": [
        ""
      ],
      "execution_count": null,
      "outputs": []
    },
    {
      "cell_type": "code",
      "metadata": {
        "id": "GMiPZTqQXCf9"
      },
      "source": [
        ""
      ],
      "execution_count": null,
      "outputs": []
    },
    {
      "cell_type": "code",
      "metadata": {
        "id": "HRUWe-wyXCS6"
      },
      "source": [
        ""
      ],
      "execution_count": null,
      "outputs": []
    },
    {
      "cell_type": "code",
      "metadata": {
        "id": "84njLtFLXCKr"
      },
      "source": [
        ""
      ],
      "execution_count": null,
      "outputs": []
    },
    {
      "cell_type": "code",
      "metadata": {
        "id": "jya8yGtqXCD4"
      },
      "source": [
        ""
      ],
      "execution_count": null,
      "outputs": []
    },
    {
      "cell_type": "code",
      "metadata": {
        "id": "SqFEDVRiXBnL"
      },
      "source": [
        ""
      ],
      "execution_count": null,
      "outputs": []
    },
    {
      "cell_type": "code",
      "metadata": {
        "id": "R30IRZgWWq7g"
      },
      "source": [
        ""
      ],
      "execution_count": null,
      "outputs": []
    },
    {
      "cell_type": "code",
      "metadata": {
        "id": "7Yoa0bqKdxtE"
      },
      "source": [
        ""
      ],
      "execution_count": null,
      "outputs": []
    }
  ]
}