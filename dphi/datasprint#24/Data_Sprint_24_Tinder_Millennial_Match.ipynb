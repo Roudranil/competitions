{
  "nbformat": 4,
  "nbformat_minor": 0,
  "metadata": {
    "colab": {
      "name": "Data Sprint #24: Tinder Millennial Match.ipynb",
      "provenance": [],
      "toc_visible": true,
      "authorship_tag": "ABX9TyNsJDV5nJMKw6Br3YKQtyxU",
      "include_colab_link": true
    },
    "kernelspec": {
      "name": "python3",
      "display_name": "Python 3"
    }
  },
  "cells": [
    {
      "cell_type": "markdown",
      "metadata": {
        "id": "view-in-github",
        "colab_type": "text"
      },
      "source": [
        "<a href=\"https://colab.research.google.com/github/Roudranil/competitions/blob/main/dphi/datasprint%2324/Data_Sprint_24_Tinder_Millennial_Match.ipynb\" target=\"_parent\"><img src=\"https://colab.research.google.com/assets/colab-badge.svg\" alt=\"Open In Colab\"/></a>"
      ]
    },
    {
      "cell_type": "markdown",
      "metadata": {
        "id": "k3zkr-GAdbGe"
      },
      "source": [
        "# download bullshits\r\n",
        "---\r\n",
        "\r\n",
        "\r\n"
      ]
    },
    {
      "cell_type": "code",
      "metadata": {
        "colab": {
          "base_uri": "https://localhost:8080/",
          "height": 445
        },
        "id": "ZrDuE3RiQuti",
        "outputId": "e766817d-e4ee-4969-fcf5-ef75681df8af"
      },
      "source": [
        "!pip install feature_engine"
      ],
      "execution_count": 46,
      "outputs": [
        {
          "output_type": "stream",
          "text": [
            "Collecting feature_engine\n",
            "\u001b[?25l  Downloading https://files.pythonhosted.org/packages/57/6d/0c7594c89bf07a7c447b1a251d4e04b07104d4a9332de71e1de42b78b838/feature_engine-1.0.2-py2.py3-none-any.whl (152kB)\n",
            "\u001b[K     |████████████████████████████████| 153kB 8.5MB/s \n",
            "\u001b[?25hCollecting statsmodels>=0.11.1\n",
            "\u001b[?25l  Downloading https://files.pythonhosted.org/packages/0d/7b/c17815648dc31396af865b9c6627cc3f95705954e30f61106795361c39ee/statsmodels-0.12.2-cp36-cp36m-manylinux1_x86_64.whl (9.5MB)\n",
            "\u001b[K     |████████████████████████████████| 9.5MB 10.7MB/s \n",
            "\u001b[?25hRequirement already satisfied: pandas>=1.0.3 in /usr/local/lib/python3.6/dist-packages (from feature_engine) (1.1.5)\n",
            "Requirement already satisfied: numpy>=1.18.2 in /usr/local/lib/python3.6/dist-packages (from feature_engine) (1.19.5)\n",
            "Requirement already satisfied: scikit-learn>=0.22.2 in /usr/local/lib/python3.6/dist-packages (from feature_engine) (0.22.2.post1)\n",
            "Requirement already satisfied: scipy>=1.4.1 in /usr/local/lib/python3.6/dist-packages (from feature_engine) (1.4.1)\n",
            "Requirement already satisfied: patsy>=0.5 in /usr/local/lib/python3.6/dist-packages (from statsmodels>=0.11.1->feature_engine) (0.5.1)\n",
            "Requirement already satisfied: python-dateutil>=2.7.3 in /usr/local/lib/python3.6/dist-packages (from pandas>=1.0.3->feature_engine) (2.8.1)\n",
            "Requirement already satisfied: pytz>=2017.2 in /usr/local/lib/python3.6/dist-packages (from pandas>=1.0.3->feature_engine) (2018.9)\n",
            "Requirement already satisfied: joblib>=0.11 in /usr/local/lib/python3.6/dist-packages (from scikit-learn>=0.22.2->feature_engine) (1.0.0)\n",
            "Requirement already satisfied: six in /usr/local/lib/python3.6/dist-packages (from patsy>=0.5->statsmodels>=0.11.1->feature_engine) (1.15.0)\n",
            "Installing collected packages: statsmodels, feature-engine\n",
            "  Found existing installation: statsmodels 0.10.2\n",
            "    Uninstalling statsmodels-0.10.2:\n",
            "      Successfully uninstalled statsmodels-0.10.2\n",
            "Successfully installed feature-engine-1.0.2 statsmodels-0.12.2\n"
          ],
          "name": "stdout"
        },
        {
          "output_type": "display_data",
          "data": {
            "application/vnd.colab-display-data+json": {
              "pip_warning": {
                "packages": [
                  "statsmodels"
                ]
              }
            }
          },
          "metadata": {
            "tags": []
          }
        }
      ]
    },
    {
      "cell_type": "code",
      "metadata": {
        "colab": {
          "base_uri": "https://localhost:8080/"
        },
        "id": "yg2Fzd1dZfIU",
        "outputId": "e7463d42-d190-4e77-b0b0-2538784742d2"
      },
      "source": [
        "!pip install requests\r\n",
        "!pip install tabulate\r\n",
        "!pip install \"colorama>=0.3.8\"\r\n",
        "!pip install future"
      ],
      "execution_count": 88,
      "outputs": [
        {
          "output_type": "stream",
          "text": [
            "Requirement already satisfied: requests in /usr/local/lib/python3.6/dist-packages (2.23.0)\n",
            "Requirement already satisfied: chardet<4,>=3.0.2 in /usr/local/lib/python3.6/dist-packages (from requests) (3.0.4)\n",
            "Requirement already satisfied: certifi>=2017.4.17 in /usr/local/lib/python3.6/dist-packages (from requests) (2020.12.5)\n",
            "Requirement already satisfied: urllib3!=1.25.0,!=1.25.1,<1.26,>=1.21.1 in /usr/local/lib/python3.6/dist-packages (from requests) (1.24.3)\n",
            "Requirement already satisfied: idna<3,>=2.5 in /usr/local/lib/python3.6/dist-packages (from requests) (2.10)\n",
            "Requirement already satisfied: tabulate in /usr/local/lib/python3.6/dist-packages (0.8.7)\n",
            "Collecting colorama>=0.3.8\n",
            "  Downloading https://files.pythonhosted.org/packages/44/98/5b86278fbbf250d239ae0ecb724f8572af1c91f4a11edf4d36a206189440/colorama-0.4.4-py2.py3-none-any.whl\n",
            "Installing collected packages: colorama\n",
            "Successfully installed colorama-0.4.4\n",
            "Requirement already satisfied: future in /usr/local/lib/python3.6/dist-packages (0.16.0)\n"
          ],
          "name": "stdout"
        }
      ]
    },
    {
      "cell_type": "code",
      "metadata": {
        "colab": {
          "base_uri": "https://localhost:8080/"
        },
        "id": "7Cl9x68WaMbh",
        "outputId": "64d81dd8-a4e8-4e0f-b935-e5690a8ad03f"
      },
      "source": [
        "!pip install -f http://h2o-release.s3.amazonaws.com/h2o/latest_stable_Py.html h2o"
      ],
      "execution_count": 89,
      "outputs": [
        {
          "output_type": "stream",
          "text": [
            "Looking in links: http://h2o-release.s3.amazonaws.com/h2o/latest_stable_Py.html\n",
            "\u001b[33mWARNING: The repository located at h2o-release.s3.amazonaws.com is not a trusted or secure host and is being ignored. If this repository is available via HTTPS we recommend you use HTTPS instead, otherwise you may silence this warning and allow it anyway with '--trusted-host h2o-release.s3.amazonaws.com'.\u001b[0m\n",
            "Collecting h2o\n",
            "\u001b[?25l  Downloading https://files.pythonhosted.org/packages/d4/d4/5c07504a392e94786e7cf33554d961ac4b2863aa22a07b8579940ea1f6b5/h2o-3.32.0.4.tar.gz (164.6MB)\n",
            "\u001b[K     |████████████████████████████████| 164.6MB 89kB/s \n",
            "\u001b[?25hRequirement already satisfied: requests in /usr/local/lib/python3.6/dist-packages (from h2o) (2.23.0)\n",
            "Requirement already satisfied: tabulate in /usr/local/lib/python3.6/dist-packages (from h2o) (0.8.7)\n",
            "Requirement already satisfied: future in /usr/local/lib/python3.6/dist-packages (from h2o) (0.16.0)\n",
            "Requirement already satisfied: colorama>=0.3.8 in /usr/local/lib/python3.6/dist-packages (from h2o) (0.4.4)\n",
            "Requirement already satisfied: urllib3!=1.25.0,!=1.25.1,<1.26,>=1.21.1 in /usr/local/lib/python3.6/dist-packages (from requests->h2o) (1.24.3)\n",
            "Requirement already satisfied: certifi>=2017.4.17 in /usr/local/lib/python3.6/dist-packages (from requests->h2o) (2020.12.5)\n",
            "Requirement already satisfied: chardet<4,>=3.0.2 in /usr/local/lib/python3.6/dist-packages (from requests->h2o) (3.0.4)\n",
            "Requirement already satisfied: idna<3,>=2.5 in /usr/local/lib/python3.6/dist-packages (from requests->h2o) (2.10)\n",
            "Building wheels for collected packages: h2o\n",
            "  Building wheel for h2o (setup.py) ... \u001b[?25l\u001b[?25hdone\n",
            "  Created wheel for h2o: filename=h2o-3.32.0.4-py2.py3-none-any.whl size=164670979 sha256=10bd5872df3cc863581b3a3f6b4153ca0abf0c8ebd0df03f271f386b322f71f1\n",
            "  Stored in directory: /root/.cache/pip/wheels/65/f4/0d/c9bb958d70c2e015c968cb91cbd7f1b486933056d422337d75\n",
            "Successfully built h2o\n",
            "Installing collected packages: h2o\n",
            "Successfully installed h2o-3.32.0.4\n"
          ],
          "name": "stdout"
        }
      ]
    },
    {
      "cell_type": "markdown",
      "metadata": {
        "id": "15g1pf37ditT"
      },
      "source": [
        "# load packages\r\n",
        "\r\n",
        "\r\n",
        "---\r\n",
        "\r\n",
        "\r\n",
        "\r\n",
        "\r\n"
      ]
    },
    {
      "cell_type": "code",
      "metadata": {
        "id": "dftm23pHGcX2"
      },
      "source": [
        "import numpy as np\r\n",
        "import pandas as pd\r\n",
        "import matplotlib.pyplot as plt\r\n",
        "import seaborn as sns"
      ],
      "execution_count": 1,
      "outputs": []
    },
    {
      "cell_type": "code",
      "metadata": {
        "id": "2p_cZqmmXbER"
      },
      "source": [
        "import sklearn"
      ],
      "execution_count": 78,
      "outputs": []
    },
    {
      "cell_type": "code",
      "metadata": {
        "colab": {
          "base_uri": "https://localhost:8080/",
          "height": 481
        },
        "id": "avw1xo7FavOK",
        "outputId": "194c4b5d-f920-413d-e28e-e294c0c03dfa"
      },
      "source": [
        "import h2o\r\n",
        "h2o.init()\r\n",
        "from h2o.estimators import H2OTargetEncoderEstimator"
      ],
      "execution_count": 91,
      "outputs": [
        {
          "output_type": "stream",
          "text": [
            "Checking whether there is an H2O instance running at http://localhost:54321 ..... not found.\n",
            "Attempting to start a local H2O server...\n",
            "  Java Version: openjdk version \"11.0.10\" 2021-01-19; OpenJDK Runtime Environment (build 11.0.10+9-Ubuntu-0ubuntu1.18.04); OpenJDK 64-Bit Server VM (build 11.0.10+9-Ubuntu-0ubuntu1.18.04, mixed mode, sharing)\n",
            "  Starting server from /usr/local/lib/python3.6/dist-packages/h2o/backend/bin/h2o.jar\n",
            "  Ice root: /tmp/tmp9ro3a55w\n",
            "  JVM stdout: /tmp/tmp9ro3a55w/h2o_unknownUser_started_from_python.out\n",
            "  JVM stderr: /tmp/tmp9ro3a55w/h2o_unknownUser_started_from_python.err\n",
            "  Server is running at http://127.0.0.1:54321\n",
            "Connecting to H2O server at http://127.0.0.1:54321 ... successful.\n"
          ],
          "name": "stdout"
        },
        {
          "output_type": "display_data",
          "data": {
            "text/html": [
              "<div style=\"overflow:auto\"><table style=\"width:50%\"><tr><td>H2O_cluster_uptime:</td>\n",
              "<td>03 secs</td></tr>\n",
              "<tr><td>H2O_cluster_timezone:</td>\n",
              "<td>Etc/UTC</td></tr>\n",
              "<tr><td>H2O_data_parsing_timezone:</td>\n",
              "<td>UTC</td></tr>\n",
              "<tr><td>H2O_cluster_version:</td>\n",
              "<td>3.32.0.4</td></tr>\n",
              "<tr><td>H2O_cluster_version_age:</td>\n",
              "<td>11 days </td></tr>\n",
              "<tr><td>H2O_cluster_name:</td>\n",
              "<td>H2O_from_python_unknownUser_f6xcqq</td></tr>\n",
              "<tr><td>H2O_cluster_total_nodes:</td>\n",
              "<td>1</td></tr>\n",
              "<tr><td>H2O_cluster_free_memory:</td>\n",
              "<td>3.180 Gb</td></tr>\n",
              "<tr><td>H2O_cluster_total_cores:</td>\n",
              "<td>2</td></tr>\n",
              "<tr><td>H2O_cluster_allowed_cores:</td>\n",
              "<td>2</td></tr>\n",
              "<tr><td>H2O_cluster_status:</td>\n",
              "<td>accepting new members, healthy</td></tr>\n",
              "<tr><td>H2O_connection_url:</td>\n",
              "<td>http://127.0.0.1:54321</td></tr>\n",
              "<tr><td>H2O_connection_proxy:</td>\n",
              "<td>{\"http\": null, \"https\": null}</td></tr>\n",
              "<tr><td>H2O_internal_security:</td>\n",
              "<td>False</td></tr>\n",
              "<tr><td>H2O_API_Extensions:</td>\n",
              "<td>Amazon S3, XGBoost, Algos, AutoML, Core V3, TargetEncoder, Core V4</td></tr>\n",
              "<tr><td>Python_version:</td>\n",
              "<td>3.6.9 final</td></tr></table></div>"
            ],
            "text/plain": [
              "--------------------------  ------------------------------------------------------------------\n",
              "H2O_cluster_uptime:         03 secs\n",
              "H2O_cluster_timezone:       Etc/UTC\n",
              "H2O_data_parsing_timezone:  UTC\n",
              "H2O_cluster_version:        3.32.0.4\n",
              "H2O_cluster_version_age:    11 days\n",
              "H2O_cluster_name:           H2O_from_python_unknownUser_f6xcqq\n",
              "H2O_cluster_total_nodes:    1\n",
              "H2O_cluster_free_memory:    3.180 Gb\n",
              "H2O_cluster_total_cores:    2\n",
              "H2O_cluster_allowed_cores:  2\n",
              "H2O_cluster_status:         accepting new members, healthy\n",
              "H2O_connection_url:         http://127.0.0.1:54321\n",
              "H2O_connection_proxy:       {\"http\": null, \"https\": null}\n",
              "H2O_internal_security:      False\n",
              "H2O_API_Extensions:         Amazon S3, XGBoost, Algos, AutoML, Core V3, TargetEncoder, Core V4\n",
              "Python_version:             3.6.9 final\n",
              "--------------------------  ------------------------------------------------------------------"
            ]
          },
          "metadata": {
            "tags": []
          }
        }
      ]
    },
    {
      "cell_type": "code",
      "metadata": {
        "id": "4HPdSV_KHjRp"
      },
      "source": [
        "train_data = pd.read_csv(\"https://raw.githubusercontent.com/dphi-official/Datasets/master/Tinder_Millennial_Match/train_set_label.csv\")\r\n",
        "test_data = pd.read_csv('https://raw.githubusercontent.com/dphi-official/Datasets/master/Tinder_Millennial_Match/test_set_label.csv')\r\n",
        "submission = pd.read_csv('https://raw.githubusercontent.com/dphi-official/Datasets/master/Tinder_Millennial_Match/sample_submission.csv')"
      ],
      "execution_count": 2,
      "outputs": []
    },
    {
      "cell_type": "markdown",
      "metadata": {
        "id": "a9WzLN2aLXpJ"
      },
      "source": [
        "# random stuff\r\n",
        "---"
      ]
    },
    {
      "cell_type": "code",
      "metadata": {
        "colab": {
          "base_uri": "https://localhost:8080/",
          "height": 391
        },
        "id": "89E7kwmsJAPi",
        "outputId": "8c2fb196-ced2-4575-8804-870f7cc95193"
      },
      "source": [
        "test_data"
      ],
      "execution_count": 12,
      "outputs": [
        {
          "output_type": "execute_result",
          "data": {
            "text/html": [
              "<div>\n",
              "<style scoped>\n",
              "    .dataframe tbody tr th:only-of-type {\n",
              "        vertical-align: middle;\n",
              "    }\n",
              "\n",
              "    .dataframe tbody tr th {\n",
              "        vertical-align: top;\n",
              "    }\n",
              "\n",
              "    .dataframe thead th {\n",
              "        text-align: right;\n",
              "    }\n",
              "</style>\n",
              "<table border=\"1\" class=\"dataframe\">\n",
              "  <thead>\n",
              "    <tr style=\"text-align: right;\">\n",
              "      <th></th>\n",
              "      <th>ID</th>\n",
              "      <th>Segment type</th>\n",
              "      <th>Segment Description</th>\n",
              "      <th>Answer</th>\n",
              "      <th>Count</th>\n",
              "      <th>Percentage</th>\n",
              "    </tr>\n",
              "  </thead>\n",
              "  <tbody>\n",
              "    <tr>\n",
              "      <th>0</th>\n",
              "      <td>292974.2311</td>\n",
              "      <td>university</td>\n",
              "      <td>University of California, Davis</td>\n",
              "      <td>Yes</td>\n",
              "      <td>0.230742</td>\n",
              "      <td>0.115371</td>\n",
              "    </tr>\n",
              "    <tr>\n",
              "      <th>1</th>\n",
              "      <td>292889.7996</td>\n",
              "      <td>web</td>\n",
              "      <td>Meridian, Idaho</td>\n",
              "      <td>No</td>\n",
              "      <td>0.000000</td>\n",
              "      <td>0.000000</td>\n",
              "    </tr>\n",
              "    <tr>\n",
              "      <th>2</th>\n",
              "      <td>293724.0350</td>\n",
              "      <td>university</td>\n",
              "      <td>Westport, CT</td>\n",
              "      <td>Yes</td>\n",
              "      <td>0.000000</td>\n",
              "      <td>0.000000</td>\n",
              "    </tr>\n",
              "    <tr>\n",
              "      <th>3</th>\n",
              "      <td>292884.0724</td>\n",
              "      <td>mobile</td>\n",
              "      <td>Meridian, Idaho</td>\n",
              "      <td>No</td>\n",
              "      <td>1497.699982</td>\n",
              "      <td>0.388752</td>\n",
              "    </tr>\n",
              "    <tr>\n",
              "      <th>4</th>\n",
              "      <td>292882.0964</td>\n",
              "      <td>mobile</td>\n",
              "      <td>Meridian, Idaho</td>\n",
              "      <td>No</td>\n",
              "      <td>1439.464988</td>\n",
              "      <td>0.373646</td>\n",
              "    </tr>\n",
              "    <tr>\n",
              "      <th>...</th>\n",
              "      <td>...</td>\n",
              "      <td>...</td>\n",
              "      <td>...</td>\n",
              "      <td>...</td>\n",
              "      <td>...</td>\n",
              "      <td>...</td>\n",
              "    </tr>\n",
              "    <tr>\n",
              "      <th>627</th>\n",
              "      <td>293085.4757</td>\n",
              "      <td>university</td>\n",
              "      <td>University of Miami</td>\n",
              "      <td>Yes</td>\n",
              "      <td>1.000000</td>\n",
              "      <td>0.743904</td>\n",
              "    </tr>\n",
              "    <tr>\n",
              "      <th>628</th>\n",
              "      <td>292890.5771</td>\n",
              "      <td>web</td>\n",
              "      <td>Meridian, Idaho</td>\n",
              "      <td>No</td>\n",
              "      <td>0.000000</td>\n",
              "      <td>0.000000</td>\n",
              "    </tr>\n",
              "    <tr>\n",
              "      <th>629</th>\n",
              "      <td>292891.5922</td>\n",
              "      <td>gender</td>\n",
              "      <td>Meridian, Idaho</td>\n",
              "      <td>No</td>\n",
              "      <td>1104.827490</td>\n",
              "      <td>0.411368</td>\n",
              "    </tr>\n",
              "    <tr>\n",
              "      <th>630</th>\n",
              "      <td>292889.9699</td>\n",
              "      <td>web</td>\n",
              "      <td>Meridian, Idaho</td>\n",
              "      <td>No</td>\n",
              "      <td>0.000000</td>\n",
              "      <td>0.000000</td>\n",
              "    </tr>\n",
              "    <tr>\n",
              "      <th>631</th>\n",
              "      <td>292890.3568</td>\n",
              "      <td>web</td>\n",
              "      <td>Meridian, Idaho</td>\n",
              "      <td>No</td>\n",
              "      <td>0.000000</td>\n",
              "      <td>0.000000</td>\n",
              "    </tr>\n",
              "  </tbody>\n",
              "</table>\n",
              "<p>632 rows × 6 columns</p>\n",
              "</div>"
            ],
            "text/plain": [
              "              ID Segment type  ...        Count Percentage\n",
              "0    292974.2311   university  ...     0.230742   0.115371\n",
              "1    292889.7996          web  ...     0.000000   0.000000\n",
              "2    293724.0350   university  ...     0.000000   0.000000\n",
              "3    292884.0724       mobile  ...  1497.699982   0.388752\n",
              "4    292882.0964       mobile  ...  1439.464988   0.373646\n",
              "..           ...          ...  ...          ...        ...\n",
              "627  293085.4757   university  ...     1.000000   0.743904\n",
              "628  292890.5771          web  ...     0.000000   0.000000\n",
              "629  292891.5922       gender  ...  1104.827490   0.411368\n",
              "630  292889.9699          web  ...     0.000000   0.000000\n",
              "631  292890.3568          web  ...     0.000000   0.000000\n",
              "\n",
              "[632 rows x 6 columns]"
            ]
          },
          "metadata": {
            "tags": []
          },
          "execution_count": 12
        }
      ]
    },
    {
      "cell_type": "code",
      "metadata": {
        "id": "ft9G9mBpHxTV"
      },
      "source": [
        ""
      ],
      "execution_count": 22,
      "outputs": []
    },
    {
      "cell_type": "code",
      "metadata": {
        "colab": {
          "base_uri": "https://localhost:8080/",
          "height": 391
        },
        "id": "CPxQvbBULDzZ",
        "outputId": "1a224f06-b5cd-4797-b4bf-43fe734af7ef"
      },
      "source": [
        "train_data"
      ],
      "execution_count": 23,
      "outputs": [
        {
          "output_type": "execute_result",
          "data": {
            "text/html": [
              "<div>\n",
              "<style scoped>\n",
              "    .dataframe tbody tr th:only-of-type {\n",
              "        vertical-align: middle;\n",
              "    }\n",
              "\n",
              "    .dataframe tbody tr th {\n",
              "        vertical-align: top;\n",
              "    }\n",
              "\n",
              "    .dataframe thead th {\n",
              "        text-align: right;\n",
              "    }\n",
              "</style>\n",
              "<table border=\"1\" class=\"dataframe\">\n",
              "  <thead>\n",
              "    <tr style=\"text-align: right;\">\n",
              "      <th></th>\n",
              "      <th>ID</th>\n",
              "      <th>Segment type</th>\n",
              "      <th>Segment Description</th>\n",
              "      <th>Answer</th>\n",
              "      <th>Count</th>\n",
              "      <th>Percentage</th>\n",
              "      <th>It became a relationship</th>\n",
              "    </tr>\n",
              "  </thead>\n",
              "  <tbody>\n",
              "    <tr>\n",
              "      <th>0</th>\n",
              "      <td>292890.8970</td>\n",
              "      <td>web</td>\n",
              "      <td>Meridian, Idaho</td>\n",
              "      <td>No</td>\n",
              "      <td>0.000000</td>\n",
              "      <td>0.000000</td>\n",
              "      <td>0</td>\n",
              "    </tr>\n",
              "    <tr>\n",
              "      <th>1</th>\n",
              "      <td>292887.9870</td>\n",
              "      <td>web</td>\n",
              "      <td>Meridian, Idaho</td>\n",
              "      <td>No</td>\n",
              "      <td>0.000000</td>\n",
              "      <td>0.000000</td>\n",
              "      <td>0</td>\n",
              "    </tr>\n",
              "    <tr>\n",
              "      <th>2</th>\n",
              "      <td>292894.0656</td>\n",
              "      <td>gender</td>\n",
              "      <td>Meridian, Idaho</td>\n",
              "      <td>No</td>\n",
              "      <td>499.173606</td>\n",
              "      <td>0.225255</td>\n",
              "      <td>0</td>\n",
              "    </tr>\n",
              "    <tr>\n",
              "      <th>3</th>\n",
              "      <td>292887.1180</td>\n",
              "      <td>web</td>\n",
              "      <td>Meridian, Idaho</td>\n",
              "      <td>No</td>\n",
              "      <td>0.000000</td>\n",
              "      <td>0.000000</td>\n",
              "      <td>0</td>\n",
              "    </tr>\n",
              "    <tr>\n",
              "      <th>4</th>\n",
              "      <td>292893.6561</td>\n",
              "      <td>gender</td>\n",
              "      <td>Meridian, Idaho</td>\n",
              "      <td>No</td>\n",
              "      <td>455.925963</td>\n",
              "      <td>0.211360</td>\n",
              "      <td>0</td>\n",
              "    </tr>\n",
              "    <tr>\n",
              "      <th>...</th>\n",
              "      <td>...</td>\n",
              "      <td>...</td>\n",
              "      <td>...</td>\n",
              "      <td>...</td>\n",
              "      <td>...</td>\n",
              "      <td>...</td>\n",
              "      <td>...</td>\n",
              "    </tr>\n",
              "    <tr>\n",
              "      <th>1891</th>\n",
              "      <td>292887.5496</td>\n",
              "      <td>web</td>\n",
              "      <td>Meridian, Idaho</td>\n",
              "      <td>No</td>\n",
              "      <td>0.000000</td>\n",
              "      <td>0.000000</td>\n",
              "      <td>0</td>\n",
              "    </tr>\n",
              "    <tr>\n",
              "      <th>1892</th>\n",
              "      <td>292881.6932</td>\n",
              "      <td>mobile</td>\n",
              "      <td>Meridian, Idaho</td>\n",
              "      <td>No</td>\n",
              "      <td>1203.190399</td>\n",
              "      <td>0.312360</td>\n",
              "      <td>0</td>\n",
              "    </tr>\n",
              "    <tr>\n",
              "      <th>1893</th>\n",
              "      <td>292900.8499</td>\n",
              "      <td>gender</td>\n",
              "      <td>Meridian, Idaho</td>\n",
              "      <td>No</td>\n",
              "      <td>806.378820</td>\n",
              "      <td>0.488025</td>\n",
              "      <td>0</td>\n",
              "    </tr>\n",
              "    <tr>\n",
              "      <th>1894</th>\n",
              "      <td>292893.8600</td>\n",
              "      <td>gender</td>\n",
              "      <td>Meridian, Idaho</td>\n",
              "      <td>No</td>\n",
              "      <td>1149.529381</td>\n",
              "      <td>0.488984</td>\n",
              "      <td>0</td>\n",
              "    </tr>\n",
              "    <tr>\n",
              "      <th>1895</th>\n",
              "      <td>292890.2944</td>\n",
              "      <td>web</td>\n",
              "      <td>Meridian, Idaho</td>\n",
              "      <td>No</td>\n",
              "      <td>0.000000</td>\n",
              "      <td>0.000000</td>\n",
              "      <td>0</td>\n",
              "    </tr>\n",
              "  </tbody>\n",
              "</table>\n",
              "<p>1894 rows × 7 columns</p>\n",
              "</div>"
            ],
            "text/plain": [
              "               ID Segment type  ... Percentage It became a relationship\n",
              "0     292890.8970          web  ...   0.000000                        0\n",
              "1     292887.9870          web  ...   0.000000                        0\n",
              "2     292894.0656       gender  ...   0.225255                        0\n",
              "3     292887.1180          web  ...   0.000000                        0\n",
              "4     292893.6561       gender  ...   0.211360                        0\n",
              "...           ...          ...  ...        ...                      ...\n",
              "1891  292887.5496          web  ...   0.000000                        0\n",
              "1892  292881.6932       mobile  ...   0.312360                        0\n",
              "1893  292900.8499       gender  ...   0.488025                        0\n",
              "1894  292893.8600       gender  ...   0.488984                        0\n",
              "1895  292890.2944          web  ...   0.000000                        0\n",
              "\n",
              "[1894 rows x 7 columns]"
            ]
          },
          "metadata": {
            "tags": []
          },
          "execution_count": 23
        }
      ]
    },
    {
      "cell_type": "code",
      "metadata": {
        "colab": {
          "base_uri": "https://localhost:8080/"
        },
        "id": "n4aZb17mHzFm",
        "outputId": "11d22711-8a3c-477e-89e7-427d6e344d74"
      },
      "source": [
        "train_data['Segment type'].unique()"
      ],
      "execution_count": 6,
      "outputs": [
        {
          "output_type": "execute_result",
          "data": {
            "text/plain": [
              "array(['web', 'gender', 'university', 'mobile'], dtype=object)"
            ]
          },
          "metadata": {
            "tags": []
          },
          "execution_count": 6
        }
      ]
    },
    {
      "cell_type": "code",
      "metadata": {
        "colab": {
          "base_uri": "https://localhost:8080/"
        },
        "id": "gnYL3b-BH3IU",
        "outputId": "39865288-be90-48ee-fdba-3945f0a5c1b1"
      },
      "source": [
        "train_data['Segment Description'].value_counts()"
      ],
      "execution_count": 9,
      "outputs": [
        {
          "output_type": "execute_result",
          "data": {
            "text/plain": [
              "Meridian, Idaho                       1421\n",
              "Westport, CT                            14\n",
              "University of Pennsylvania              12\n",
              "University of Washington                10\n",
              "University of Mississippi               10\n",
              "                                      ... \n",
              "Centre College                           1\n",
              "Penn State University                    1\n",
              "Castleton State College                  1\n",
              "University of Wisconsin-Madison          1\n",
              "Washington University in St. Louis       1\n",
              "Name: Segment Description, Length: 148, dtype: int64"
            ]
          },
          "metadata": {
            "tags": []
          },
          "execution_count": 9
        }
      ]
    },
    {
      "cell_type": "code",
      "metadata": {
        "colab": {
          "base_uri": "https://localhost:8080/"
        },
        "id": "oeZOkzIlJhub",
        "outputId": "6acccbea-5dfa-40ec-b992-1aa5be03501c"
      },
      "source": [
        "train_data['It became a relationship'].value_counts()"
      ],
      "execution_count": 15,
      "outputs": [
        {
          "output_type": "execute_result",
          "data": {
            "text/plain": [
              "0    1231\n",
              "1     665\n",
              "Name: It became a relationship, dtype: int64"
            ]
          },
          "metadata": {
            "tags": []
          },
          "execution_count": 15
        }
      ]
    },
    {
      "cell_type": "code",
      "metadata": {
        "colab": {
          "base_uri": "https://localhost:8080/"
        },
        "id": "HV84S93BIU_Q",
        "outputId": "6333e3d8-bf4e-4ed2-958a-d8c6481aab4a"
      },
      "source": [
        "train_data['Answer'].unique()"
      ],
      "execution_count": 10,
      "outputs": [
        {
          "output_type": "execute_result",
          "data": {
            "text/plain": [
              "array(['No', 'Yes', \"I don't use Tinder\"], dtype=object)"
            ]
          },
          "metadata": {
            "tags": []
          },
          "execution_count": 10
        }
      ]
    },
    {
      "cell_type": "code",
      "metadata": {
        "colab": {
          "base_uri": "https://localhost:8080/",
          "height": 191
        },
        "id": "LobFxuvqIhu6",
        "outputId": "0ed9bd14-537d-4a96-cfd4-68cd77c874b3"
      },
      "source": [
        "train_data.groupby('Segment type')['Count'].describe()"
      ],
      "execution_count": 11,
      "outputs": [
        {
          "output_type": "execute_result",
          "data": {
            "text/html": [
              "<div>\n",
              "<style scoped>\n",
              "    .dataframe tbody tr th:only-of-type {\n",
              "        vertical-align: middle;\n",
              "    }\n",
              "\n",
              "    .dataframe tbody tr th {\n",
              "        vertical-align: top;\n",
              "    }\n",
              "\n",
              "    .dataframe thead th {\n",
              "        text-align: right;\n",
              "    }\n",
              "</style>\n",
              "<table border=\"1\" class=\"dataframe\">\n",
              "  <thead>\n",
              "    <tr style=\"text-align: right;\">\n",
              "      <th></th>\n",
              "      <th>count</th>\n",
              "      <th>mean</th>\n",
              "      <th>std</th>\n",
              "      <th>min</th>\n",
              "      <th>25%</th>\n",
              "      <th>50%</th>\n",
              "      <th>75%</th>\n",
              "      <th>max</th>\n",
              "    </tr>\n",
              "    <tr>\n",
              "      <th>Segment type</th>\n",
              "      <th></th>\n",
              "      <th></th>\n",
              "      <th></th>\n",
              "      <th></th>\n",
              "      <th></th>\n",
              "      <th></th>\n",
              "      <th></th>\n",
              "      <th></th>\n",
              "    </tr>\n",
              "  </thead>\n",
              "  <tbody>\n",
              "    <tr>\n",
              "      <th>gender</th>\n",
              "      <td>488.0</td>\n",
              "      <td>696.694593</td>\n",
              "      <td>251.192948</td>\n",
              "      <td>325.000000</td>\n",
              "      <td>499.441557</td>\n",
              "      <td>562.983279</td>\n",
              "      <td>927.345270</td>\n",
              "      <td>1172.0</td>\n",
              "    </tr>\n",
              "    <tr>\n",
              "      <th>mobile</th>\n",
              "      <td>483.0</td>\n",
              "      <td>1044.103188</td>\n",
              "      <td>312.427120</td>\n",
              "      <td>794.126865</td>\n",
              "      <td>798.593448</td>\n",
              "      <td>930.728003</td>\n",
              "      <td>1077.826444</td>\n",
              "      <td>1969.0</td>\n",
              "    </tr>\n",
              "    <tr>\n",
              "      <th>university</th>\n",
              "      <td>464.0</td>\n",
              "      <td>6.461382</td>\n",
              "      <td>13.570453</td>\n",
              "      <td>0.000000</td>\n",
              "      <td>0.000000</td>\n",
              "      <td>1.000000</td>\n",
              "      <td>4.925250</td>\n",
              "      <td>95.0</td>\n",
              "    </tr>\n",
              "    <tr>\n",
              "      <th>web</th>\n",
              "      <td>461.0</td>\n",
              "      <td>0.000000</td>\n",
              "      <td>0.000000</td>\n",
              "      <td>0.000000</td>\n",
              "      <td>0.000000</td>\n",
              "      <td>0.000000</td>\n",
              "      <td>0.000000</td>\n",
              "      <td>0.0</td>\n",
              "    </tr>\n",
              "  </tbody>\n",
              "</table>\n",
              "</div>"
            ],
            "text/plain": [
              "              count         mean         std  ...         50%          75%     max\n",
              "Segment type                                  ...                                 \n",
              "gender        488.0   696.694593  251.192948  ...  562.983279   927.345270  1172.0\n",
              "mobile        483.0  1044.103188  312.427120  ...  930.728003  1077.826444  1969.0\n",
              "university    464.0     6.461382   13.570453  ...    1.000000     4.925250    95.0\n",
              "web           461.0     0.000000    0.000000  ...    0.000000     0.000000     0.0\n",
              "\n",
              "[4 rows x 8 columns]"
            ]
          },
          "metadata": {
            "tags": []
          },
          "execution_count": 11
        }
      ]
    },
    {
      "cell_type": "code",
      "metadata": {
        "colab": {
          "base_uri": "https://localhost:8080/",
          "height": 105
        },
        "id": "khMeZWtLLNS2",
        "outputId": "0f3af9d8-dd44-46a9-c3c7-47078a8e3e9e"
      },
      "source": [
        "train_data[train_data['ID'] == 292898.6134]"
      ],
      "execution_count": 25,
      "outputs": [
        {
          "output_type": "execute_result",
          "data": {
            "text/html": [
              "<div>\n",
              "<style scoped>\n",
              "    .dataframe tbody tr th:only-of-type {\n",
              "        vertical-align: middle;\n",
              "    }\n",
              "\n",
              "    .dataframe tbody tr th {\n",
              "        vertical-align: top;\n",
              "    }\n",
              "\n",
              "    .dataframe thead th {\n",
              "        text-align: right;\n",
              "    }\n",
              "</style>\n",
              "<table border=\"1\" class=\"dataframe\">\n",
              "  <thead>\n",
              "    <tr style=\"text-align: right;\">\n",
              "      <th></th>\n",
              "      <th>ID</th>\n",
              "      <th>Segment type</th>\n",
              "      <th>Segment Description</th>\n",
              "      <th>Answer</th>\n",
              "      <th>Count</th>\n",
              "      <th>Percentage</th>\n",
              "      <th>It became a relationship</th>\n",
              "    </tr>\n",
              "  </thead>\n",
              "  <tbody>\n",
              "    <tr>\n",
              "      <th>1170</th>\n",
              "      <td>292898.6134</td>\n",
              "      <td>gender</td>\n",
              "      <td>Meridian, Idaho</td>\n",
              "      <td>No</td>\n",
              "      <td>334.472011</td>\n",
              "      <td>0.198967</td>\n",
              "      <td>0</td>\n",
              "    </tr>\n",
              "    <tr>\n",
              "      <th>1819</th>\n",
              "      <td>292898.6134</td>\n",
              "      <td>gender</td>\n",
              "      <td>Meridian, Idaho</td>\n",
              "      <td>No</td>\n",
              "      <td>946.164059</td>\n",
              "      <td>0.503309</td>\n",
              "      <td>0</td>\n",
              "    </tr>\n",
              "  </tbody>\n",
              "</table>\n",
              "</div>"
            ],
            "text/plain": [
              "               ID Segment type  ... Percentage It became a relationship\n",
              "1170  292898.6134       gender  ...   0.198967                        0\n",
              "1819  292898.6134       gender  ...   0.503309                        0\n",
              "\n",
              "[2 rows x 7 columns]"
            ]
          },
          "metadata": {
            "tags": []
          },
          "execution_count": 25
        }
      ]
    },
    {
      "cell_type": "code",
      "metadata": {
        "colab": {
          "base_uri": "https://localhost:8080/"
        },
        "id": "LSUZnY_2K2cB",
        "outputId": "dd0b909d-5848-4534-a571-3391c6d5d9ef"
      },
      "source": [
        "train_data['ID'].value_counts()"
      ],
      "execution_count": 24,
      "outputs": [
        {
          "output_type": "execute_result",
          "data": {
            "text/plain": [
              "292898.6134    2\n",
              "292888.8583    2\n",
              "292889.1977    2\n",
              "292882.7654    2\n",
              "292890.6779    2\n",
              "              ..\n",
              "292897.7541    1\n",
              "292899.9143    1\n",
              "292890.7376    1\n",
              "292891.3274    1\n",
              "292890.3132    1\n",
              "Name: ID, Length: 1888, dtype: int64"
            ]
          },
          "metadata": {
            "tags": []
          },
          "execution_count": 24
        }
      ]
    },
    {
      "cell_type": "code",
      "metadata": {
        "colab": {
          "base_uri": "https://localhost:8080/"
        },
        "id": "Pyk8w0P4I6LE",
        "outputId": "52f0545f-e025-4b84-c623-fdcc4de8e687"
      },
      "source": [
        "train_data.Count.sum()"
      ],
      "execution_count": 14,
      "outputs": [
        {
          "output_type": "execute_result",
          "data": {
            "text/plain": [
              "847286.8819436389"
            ]
          },
          "metadata": {
            "tags": []
          },
          "execution_count": 14
        }
      ]
    },
    {
      "cell_type": "code",
      "metadata": {
        "id": "CkqDc1EqKapT"
      },
      "source": [
        "common = pd.merge(how='inner', on='ID', left=train_data, right=test_data, indicator=True)"
      ],
      "execution_count": 19,
      "outputs": []
    },
    {
      "cell_type": "code",
      "metadata": {
        "colab": {
          "base_uri": "https://localhost:8080/",
          "height": 121
        },
        "id": "BQUYG6o2KqlQ",
        "outputId": "8f1d82a2-c234-4eac-d828-6beb9f9793e8"
      },
      "source": [
        "common"
      ],
      "execution_count": 20,
      "outputs": [
        {
          "output_type": "execute_result",
          "data": {
            "text/html": [
              "<div>\n",
              "<style scoped>\n",
              "    .dataframe tbody tr th:only-of-type {\n",
              "        vertical-align: middle;\n",
              "    }\n",
              "\n",
              "    .dataframe tbody tr th {\n",
              "        vertical-align: top;\n",
              "    }\n",
              "\n",
              "    .dataframe thead th {\n",
              "        text-align: right;\n",
              "    }\n",
              "</style>\n",
              "<table border=\"1\" class=\"dataframe\">\n",
              "  <thead>\n",
              "    <tr style=\"text-align: right;\">\n",
              "      <th></th>\n",
              "      <th>ID</th>\n",
              "      <th>Segment type_x</th>\n",
              "      <th>Segment Description_x</th>\n",
              "      <th>Answer_x</th>\n",
              "      <th>Count_x</th>\n",
              "      <th>Percentage_x</th>\n",
              "      <th>It became a relationship</th>\n",
              "      <th>Segment type_y</th>\n",
              "      <th>Segment Description_y</th>\n",
              "      <th>Answer_y</th>\n",
              "      <th>Count_y</th>\n",
              "      <th>Percentage_y</th>\n",
              "      <th>_merge</th>\n",
              "    </tr>\n",
              "  </thead>\n",
              "  <tbody>\n",
              "    <tr>\n",
              "      <th>0</th>\n",
              "      <td>292900.5822</td>\n",
              "      <td>gender</td>\n",
              "      <td>Meridian, Idaho</td>\n",
              "      <td>No</td>\n",
              "      <td>400.548871</td>\n",
              "      <td>0.244279</td>\n",
              "      <td>0</td>\n",
              "      <td>gender</td>\n",
              "      <td>Meridian, Idaho</td>\n",
              "      <td>No</td>\n",
              "      <td>804.913545</td>\n",
              "      <td>0.480765</td>\n",
              "      <td>both</td>\n",
              "    </tr>\n",
              "    <tr>\n",
              "      <th>1</th>\n",
              "      <td>292888.0153</td>\n",
              "      <td>web</td>\n",
              "      <td>Meridian, Idaho</td>\n",
              "      <td>No</td>\n",
              "      <td>0.000000</td>\n",
              "      <td>0.000000</td>\n",
              "      <td>0</td>\n",
              "      <td>web</td>\n",
              "      <td>Meridian, Idaho</td>\n",
              "      <td>No</td>\n",
              "      <td>0.000000</td>\n",
              "      <td>0.000000</td>\n",
              "      <td>both</td>\n",
              "    </tr>\n",
              "  </tbody>\n",
              "</table>\n",
              "</div>"
            ],
            "text/plain": [
              "            ID Segment type_x  ... Percentage_y _merge\n",
              "0  292900.5822         gender  ...     0.480765   both\n",
              "1  292888.0153            web  ...     0.000000   both\n",
              "\n",
              "[2 rows x 13 columns]"
            ]
          },
          "metadata": {
            "tags": []
          },
          "execution_count": 20
        }
      ]
    },
    {
      "cell_type": "code",
      "metadata": {
        "colab": {
          "base_uri": "https://localhost:8080/"
        },
        "id": "6lCKplbVNM6C",
        "outputId": "05ebfdd9-cb3e-4f49-c90b-e2e4a1aad479"
      },
      "source": [
        "train_data.groupby('Answer')['It became a relationship'].value_counts()"
      ],
      "execution_count": 31,
      "outputs": [
        {
          "output_type": "execute_result",
          "data": {
            "text/plain": [
              "Answer              It became a relationship\n",
              "I don't use Tinder  1                             81\n",
              "                    0                             80\n",
              "No                  0                           1071\n",
              "                    1                            498\n",
              "Yes                 1                             86\n",
              "                    0                             78\n",
              "Name: It became a relationship, dtype: int64"
            ]
          },
          "metadata": {
            "tags": []
          },
          "execution_count": 31
        }
      ]
    },
    {
      "cell_type": "code",
      "metadata": {
        "colab": {
          "base_uri": "https://localhost:8080/"
        },
        "id": "FwAyHCJ7NhRu",
        "outputId": "1ee02e89-bdd8-40a2-fcec-7c3ec8446ba2"
      },
      "source": [
        "train_data['Answer'].value_counts()"
      ],
      "execution_count": 32,
      "outputs": [
        {
          "output_type": "execute_result",
          "data": {
            "text/plain": [
              "No                    1569\n",
              "Yes                    164\n",
              "I don't use Tinder     161\n",
              "Name: Answer, dtype: int64"
            ]
          },
          "metadata": {
            "tags": []
          },
          "execution_count": 32
        }
      ]
    },
    {
      "cell_type": "code",
      "metadata": {
        "colab": {
          "base_uri": "https://localhost:8080/"
        },
        "id": "uhQg11I0NnNa",
        "outputId": "e9760fcf-5fa8-4f86-a013-d0b952e87119"
      },
      "source": [
        "test_data['Answer'].value_counts()"
      ],
      "execution_count": 33,
      "outputs": [
        {
          "output_type": "execute_result",
          "data": {
            "text/plain": [
              "No                    522\n",
              "I don't use Tinder     56\n",
              "Yes                    54\n",
              "Name: Answer, dtype: int64"
            ]
          },
          "metadata": {
            "tags": []
          },
          "execution_count": 33
        }
      ]
    },
    {
      "cell_type": "code",
      "metadata": {
        "id": "BN2tI5oRShDS"
      },
      "source": [
        "l1 = train_data['Segment Description'].unique()\r\n",
        "l2 = test_data['Segment Description'].unique()\r\n",
        "\r\n",
        "new_seg = [seg for seg in l2 if seg not in l1]"
      ],
      "execution_count": 60,
      "outputs": []
    },
    {
      "cell_type": "code",
      "metadata": {
        "colab": {
          "base_uri": "https://localhost:8080/"
        },
        "id": "Vrn0yh1iSxGt",
        "outputId": "9cdb4b1f-2846-42df-fb2e-28ad344dc457"
      },
      "source": [
        "new_seg"
      ],
      "execution_count": 61,
      "outputs": [
        {
          "output_type": "execute_result",
          "data": {
            "text/plain": [
              "['Minnesota State University Mankato',\n",
              " 'Oregon State University',\n",
              " 'Bucknell University']"
            ]
          },
          "metadata": {
            "tags": []
          },
          "execution_count": 61
        }
      ]
    },
    {
      "cell_type": "markdown",
      "metadata": {
        "id": "MB1hcWA0Lm0I"
      },
      "source": [
        "# preprocessing\r\n",
        "----"
      ]
    },
    {
      "cell_type": "code",
      "metadata": {
        "id": "2vsxDrJYLqhe"
      },
      "source": [
        "# pipeline 1\r\n",
        "\r\n",
        "train_data.drop_duplicates(inplace=True)\r\n",
        "\r\n",
        "train = train_data.drop(columns='ID')\r\n",
        "test = test_data.drop(columns=\"ID\")\r\n",
        "\r\n",
        "answer = {'No': 0, 'Yes': 1, \"I don't use Tinder\":0}\r\n",
        "train['Answer'] = train['Answer'].map(answer)\r\n",
        "test['Answer'] = test['Answer'].map(answer)\r\n",
        "\r\n",
        "from sklearn.preprocessing import OneHotEncoder\r\n",
        "onehot = OneHotEncoder(drop='first', sparse=False)\r\n",
        "encoded_train = pd.DataFrame(onehot.fit_transform(train.iloc[:, 0:1]), index=train.index)\r\n",
        "encoded_test = pd.DataFrame(onehot.transform(test.iloc[:, 0:1]), index=test.index)\r\n",
        "train = pd.concat([encoded_train, train.drop(columns='Segment type')], axis=1)\r\n",
        "test = pd.concat([encoded_test, test.drop(columns='Segment type')], axis=1)\r\n",
        "\r\n",
        "from feature_engine.encoding import CountFrequencyEncoder\r\n",
        "cfe = CountFrequencyEncoder(encoding_method='frequency')\r\n",
        "train['Segment Description'] = cfe.fit_transform(train.iloc[:, 3:4])\r\n",
        "test['Segment Description'] = cfe.transform(test.iloc[:, 3:4])\r\n",
        "\r\n",
        "from sklearn.impute import SimpleImputer\r\n",
        "imp = SimpleImputer()\r\n",
        "test['Segment Description'] = imp.fit_transform(test.iloc[:, 3:4])"
      ],
      "execution_count": null,
      "outputs": []
    },
    {
      "cell_type": "code",
      "metadata": {
        "colab": {
          "base_uri": "https://localhost:8080/"
        },
        "id": "Gz7PjPl9Y2lR",
        "outputId": "f9377f18-eb16-4258-f099-dea92301ff81"
      },
      "source": [
        "# pipeline 2\r\n",
        "\r\n",
        "train_data.drop_duplicates(inplace=True)\r\n",
        "\r\n",
        "train1 = train_data.drop(columns='ID')\r\n",
        "test1 = test_data.drop(columns=\"ID\")\r\n",
        "\r\n",
        "hf_tr = h2o.H2OFrame(train1)\r\n",
        "hf_test = h2o.H2OFrame(test1)\r\n",
        "fold_column = \"kfold_column\"\r\n",
        "hf_tr[fold_column] = hf_tr.kfold_column(n_folds=5, seed=123)\r\n",
        "enc = H2OTargetEncoderEstimator(data_leakage_handling=\"k_fold\",\r\n",
        "                                blending=True,\r\n",
        "                                inflection_point=3,\r\n",
        "                                smoothing=10,\r\n",
        "                                noise=0.15,     # In general, the less data you have the more regularization you need\r\n",
        "                                seed=123,\r\n",
        "                                fold_column=fold_column)\r\n",
        "enc.train(x='Answer', y='It became a relationship', training_frame=hf_tr)\r\n",
        "hf_tr = enc.transform(hf_tr, as_training=True)\r\n",
        "hf_test = enc.transform(hf_test, noise=0)\r\n",
        "\r\n",
        "train1 = hf_tr.as_data_frame()\r\n",
        "train1.drop(columns=['Answer', 'kfold_column'], inplace=True)\r\n",
        "test1 = hf_test.as_data_frame()\r\n",
        "test1.drop(columns=['Answer'], inplace=True)\r\n",
        "\r\n",
        "# check iloc indexes\r\n",
        "\r\n",
        "# from sklearn.preprocessing import OneHotEncoder\r\n",
        "# onehot = OneHotEncoder(drop='first', sparse=False)\r\n",
        "# encoded_train1 = pd.DataFrame(onehot.fit_transform(train.iloc[:, 0:1]), index=train.index)\r\n",
        "# encoded_test1 = pd.DataFrame(onehot.transform(test.iloc[:, 0:1]), index=test.index)\r\n",
        "# train = pd.concat([encoded_train, train.drop(columns='Segment type')], axis=1)\r\n",
        "# test = pd.concat([encoded_test, test.drop(columns='Segment type')], axis=1)\r\n",
        "\r\n",
        "# from feature_engine.encoding import CountFrequencyEncoder\r\n",
        "# cfe = CountFrequencyEncoder(encoding_method='frequency')\r\n",
        "# train['Segment Description'] = cfe.fit_transform(train.iloc[:, 3:4])\r\n",
        "# test['Segment Description'] = cfe.transform(test.iloc[:, 3:4])\r\n",
        "\r\n",
        "# from sklearn.impute import SimpleImputer\r\n",
        "# imp = SimpleImputer()\r\n",
        "# test['Segment Description'] = imp.fit_transform(test.iloc[:, 3:4])"
      ],
      "execution_count": 117,
      "outputs": [
        {
          "output_type": "stream",
          "text": [
            "Parse progress: |█████████████████████████████████████████████████████████| 100%\n",
            "Parse progress: |█████████████████████████████████████████████████████████| 100%\n",
            "targetencoder Model Build progress: |█████████████████████████████████████| 100%\n"
          ],
          "name": "stdout"
        }
      ]
    },
    {
      "cell_type": "code",
      "metadata": {
        "id": "BdpLB9MEj7TR"
      },
      "source": [
        ""
      ],
      "execution_count": null,
      "outputs": []
    },
    {
      "cell_type": "markdown",
      "metadata": {
        "id": "7tEp2hNtUGOf"
      },
      "source": [
        "# Model\r\n",
        "---"
      ]
    },
    {
      "cell_type": "code",
      "metadata": {
        "id": "F_UazkPEW1v5"
      },
      "source": [
        "y = train['It became a relationship']\r\n",
        "X = train.drop(columns='It became a relationship')"
      ],
      "execution_count": 75,
      "outputs": []
    },
    {
      "cell_type": "code",
      "metadata": {
        "id": "F_kqYmz0UIVh"
      },
      "source": [
        "from sklearn.model_selection import KFold"
      ],
      "execution_count": 72,
      "outputs": []
    },
    {
      "cell_type": "code",
      "metadata": {
        "id": "tbKCVwksUaTJ"
      },
      "source": [
        "cv = KFold(n_splits=4, shuffle=True, random_state=123)"
      ],
      "execution_count": 80,
      "outputs": []
    },
    {
      "cell_type": "code",
      "metadata": {
        "id": "Wwhk-J6gVGsE"
      },
      "source": [
        "from sklearn.metrics import accuracy_score as acc"
      ],
      "execution_count": 74,
      "outputs": []
    },
    {
      "cell_type": "code",
      "metadata": {
        "id": "1DLWXo3EUo2v"
      },
      "source": [
        "from xgboost import XGBClassifier\r\n",
        "from sklearn.model_selection import cross_val_score\r\n",
        "xgbc = XGBClassifier()\r\n",
        "\r\n",
        "scores = cross_val_score(xgbc, X, y, cv=cv, scoring='accuracy')"
      ],
      "execution_count": 81,
      "outputs": []
    },
    {
      "cell_type": "code",
      "metadata": {
        "colab": {
          "base_uri": "https://localhost:8080/"
        },
        "id": "7dDqcK2VXt-Q",
        "outputId": "2459be5e-ac7e-4687-d008-c47443ae1587"
      },
      "source": [
        "scores.mean()"
      ],
      "execution_count": 82,
      "outputs": [
        {
          "output_type": "execute_result",
          "data": {
            "text/plain": [
              "0.9197531690172256"
            ]
          },
          "metadata": {
            "tags": []
          },
          "execution_count": 82
        }
      ]
    },
    {
      "cell_type": "markdown",
      "metadata": {
        "id": "EkIl5KfCJvzg"
      },
      "source": [
        "# submission\r\n",
        "---"
      ]
    },
    {
      "cell_type": "code",
      "metadata": {
        "id": "-3NpiljsX7sc"
      },
      "source": [
        "xgbc.fit(X, y)\r\n",
        "submission['prediction'] = xgbc.predict(test)"
      ],
      "execution_count": 84,
      "outputs": []
    },
    {
      "cell_type": "code",
      "metadata": {
        "id": "H2KgAz8_L8lH"
      },
      "source": [
        "submission.iloc[444, 0] = 0"
      ],
      "execution_count": 85,
      "outputs": []
    },
    {
      "cell_type": "code",
      "metadata": {
        "id": "YRekX_PwJKW2"
      },
      "source": [
        "submission.to_csv('submission2.csv', index=False)"
      ],
      "execution_count": 86,
      "outputs": []
    },
    {
      "cell_type": "code",
      "metadata": {
        "id": "gTgdzHTYJo0_"
      },
      "source": [
        ""
      ],
      "execution_count": null,
      "outputs": []
    }
  ]
}