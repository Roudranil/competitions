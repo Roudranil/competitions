{
  "nbformat": 4,
  "nbformat_minor": 0,
  "metadata": {
    "colab": {
      "name": "Data Sprint #24: hyper opt.ipynb",
      "provenance": [],
      "authorship_tag": "ABX9TyMNmmyLYJUwz32gpmynbQwh",
      "include_colab_link": true
    },
    "kernelspec": {
      "name": "python3",
      "display_name": "Python 3"
    },
    "accelerator": "GPU"
  },
  "cells": [
    {
      "cell_type": "markdown",
      "metadata": {
        "id": "view-in-github",
        "colab_type": "text"
      },
      "source": [
        "<a href=\"https://colab.research.google.com/github/Roudranil/competitions/blob/main/dphi/datasprint%2324/Data_Sprint_24_hyper_opt.ipynb\" target=\"_parent\"><img src=\"https://colab.research.google.com/assets/colab-badge.svg\" alt=\"Open In Colab\"/></a>"
      ]
    },
    {
      "cell_type": "code",
      "metadata": {
        "id": "UK2KfJ3p5eNC"
      },
      "source": [
        "import numpy as np\r\n",
        "import pandas as pd"
      ],
      "execution_count": 1,
      "outputs": []
    },
    {
      "cell_type": "code",
      "metadata": {
        "id": "yZtqQqxS5o0V"
      },
      "source": [
        "X = pd.read_csv('https://raw.githubusercontent.com/Roudranil/competitions/main/dphi/datasprint%2324/X.csv', index_col=0)\r\n",
        "y = np.ravel(pd.read_csv('https://raw.githubusercontent.com/Roudranil/competitions/main/dphi/datasprint%2324/y.csv', index_col=0))\r\n",
        "test = pd.read_csv('https://raw.githubusercontent.com/Roudranil/competitions/main/dphi/datasprint%2324/test.csv', index_col=0)\r\n",
        "submission = pd.read_csv('https://raw.githubusercontent.com/dphi-official/Datasets/master/Tinder_Millennial_Match/sample_submission.csv')"
      ],
      "execution_count": 36,
      "outputs": []
    },
    {
      "cell_type": "code",
      "metadata": {
        "id": "_xHDwr7G6KnT"
      },
      "source": [
        "s1 = pd.read_csv('/content/submission2.csv', names=['xgb'])\n",
        "s2 = pd.read_csv('/content/submission8.csv', names=['rf1'])\n",
        "s3 = pd.read_csv('/content/submission4.csv', names=['rf2'])\n",
        "s = pd.concat([s1, s2, s3], axis=1)\n",
        "s = s.drop(index=0)\n",
        "s = s.astype(int)"
      ],
      "execution_count": 21,
      "outputs": []
    },
    {
      "cell_type": "code",
      "metadata": {
        "id": "OUuaCXaRMP-K"
      },
      "source": [
        "s['diff_atleast1'] = np.abs(s['xgb'] - s['rf1'] + s['xgb'] - s['rf2'])"
      ],
      "execution_count": 22,
      "outputs": []
    },
    {
      "cell_type": "code",
      "metadata": {
        "id": "GPiS9zIRMZuI"
      },
      "source": [
        "s[s['diff_atleast1'] > 0]"
      ],
      "execution_count": null,
      "outputs": []
    },
    {
      "cell_type": "markdown",
      "metadata": {
        "id": "DLKR01vwUNEY"
      },
      "source": [
        "# model\r\n",
        "---"
      ]
    },
    {
      "cell_type": "code",
      "metadata": {
        "id": "qfCskC1ybBBp"
      },
      "source": [
        "!pip install optuna"
      ],
      "execution_count": null,
      "outputs": []
    },
    {
      "cell_type": "code",
      "metadata": {
        "id": "IyM0pDUMmOSL",
        "outputId": "a1387e28-7cdc-4457-a49c-020215e2ccd6",
        "colab": {
          "base_uri": "https://localhost:8080/"
        }
      },
      "source": [
        "!pip uninstall lightgbm"
      ],
      "execution_count": 54,
      "outputs": [
        {
          "output_type": "stream",
          "text": [
            "Uninstalling lightgbm-2.2.3:\n",
            "  Would remove:\n",
            "    /usr/local/lib/python3.6/dist-packages/lightgbm-2.2.3.dist-info/*\n",
            "    /usr/local/lib/python3.6/dist-packages/lightgbm/*\n",
            "Proceed (y/n)? y\n",
            "  Successfully uninstalled lightgbm-2.2.3\n"
          ],
          "name": "stdout"
        }
      ]
    },
    {
      "cell_type": "code",
      "metadata": {
        "id": "MZ9iYUo7mTbn",
        "outputId": "64f68949-02df-46db-98d4-76e616b42061",
        "colab": {
          "base_uri": "https://localhost:8080/"
        }
      },
      "source": [
        "!pip install lightgbm --install-option=--gpu"
      ],
      "execution_count": 55,
      "outputs": [
        {
          "output_type": "stream",
          "text": [
            "/usr/local/lib/python3.6/dist-packages/pip/_internal/commands/install.py:283: UserWarning: Disabling all use of wheels due to the use of --build-options / --global-options / --install-options.\n",
            "  cmdoptions.check_install_build_global(options)\n",
            "Collecting lightgbm\n",
            "\u001b[?25l  Downloading https://files.pythonhosted.org/packages/cf/65/368931f1f234149e14fc6075dbeb1ad8a8aebb105aa11fe8631c72c1bdcf/lightgbm-3.1.1.tar.gz (588kB)\n",
            "\u001b[K     |████████████████████████████████| 593kB 16.0MB/s \n",
            "\u001b[?25hRequirement already satisfied: wheel in /usr/local/lib/python3.6/dist-packages (from lightgbm) (0.36.2)\n",
            "Requirement already satisfied: numpy in /usr/local/lib/python3.6/dist-packages (from lightgbm) (1.19.5)\n",
            "Requirement already satisfied: scipy in /usr/local/lib/python3.6/dist-packages (from lightgbm) (1.4.1)\n",
            "Requirement already satisfied: scikit-learn!=0.22.0 in /usr/local/lib/python3.6/dist-packages (from lightgbm) (0.22.2.post1)\n",
            "Requirement already satisfied: joblib>=0.11 in /usr/local/lib/python3.6/dist-packages (from scikit-learn!=0.22.0->lightgbm) (1.0.0)\n",
            "Skipping wheel build for lightgbm, due to binaries being disabled for it.\n",
            "Installing collected packages: lightgbm\n",
            "    Running setup.py install for lightgbm ... \u001b[?25l\u001b[?25hdone\n",
            "Successfully installed lightgbm-3.1.1\n"
          ],
          "name": "stdout"
        }
      ]
    },
    {
      "cell_type": "code",
      "metadata": {
        "id": "Z09dSzigUMZb"
      },
      "source": [
        "\r\n",
        "from xgboost import XGBClassifier\r\n",
        "import optuna\r\n",
        "from optuna import Trial, visualization"
      ],
      "execution_count": 4,
      "outputs": []
    },
    {
      "cell_type": "code",
      "metadata": {
        "id": "xnR4KHmpbfbf"
      },
      "source": [
        "from sklearn.model_selection import KFold, cross_val_score"
      ],
      "execution_count": 5,
      "outputs": []
    },
    {
      "cell_type": "code",
      "metadata": {
        "id": "ZYdt4_PSm58H"
      },
      "source": [
        "from lightgbm import LGBMClassifier"
      ],
      "execution_count": 56,
      "outputs": []
    },
    {
      "cell_type": "code",
      "metadata": {
        "id": "cQ2L3v1tbgsX"
      },
      "source": [
        "kf = KFold(n_splits=5, shuffle=True, random_state=0)"
      ],
      "execution_count": 6,
      "outputs": []
    },
    {
      "cell_type": "code",
      "metadata": {
        "id": "nX21p-GDbHWg"
      },
      "source": [
        "def Objective(trial):\r\n",
        "    params = {\r\n",
        "        \"n_estimators\": trial.suggest_categorical(\"n_estimators\", [90,100,125,150,175,200,225]),\r\n",
        "        \"eta\": trial.suggest_loguniform(\"eta\",1e-2,0.1),\r\n",
        "        \"subsample\": trial.suggest_discrete_uniform(\"subsample\", 0.7,1,0.05),\r\n",
        "        \"min_child_weight\": trial.suggest_int(\"min_child_weight\",1,12),\r\n",
        "        \"colsample_bytree\": trial.suggest_discrete_uniform(\"colsample_bytree\", 0,1,0.05),\r\n",
        "        \"max_depth\": trial.suggest_categorical(\"max_depth\",[3,4,5,7,9,11]),\r\n",
        "        \"base_score\": trial.suggest_loguniform(\"base_score\", 0.3, 0.5),\r\n",
        "        \"random_state\": 2021\r\n",
        "    }\r\n",
        "    \r\n",
        "    model = XGBClassifier(**params, tree_method='gpu_hist')\r\n",
        "    \r\n",
        "    \r\n",
        "    scores = cross_val_score(model, X, y, cv=kf, scoring='accuracy')\r\n",
        "    \r\n",
        "    return sum(scores)/len(scores)"
      ],
      "execution_count": 51,
      "outputs": []
    },
    {
      "cell_type": "code",
      "metadata": {
        "id": "qUndUbHJd6bS",
        "outputId": "146f5965-9efd-46a2-eb91-7b13cd10d5e7",
        "colab": {
          "base_uri": "https://localhost:8080/"
        }
      },
      "source": [
        "study = optuna.create_study(direction=\"maximize\", study_name='Xgboost optimization')\r\n",
        "study.optimize(Objective, n_trials=40)"
      ],
      "execution_count": 52,
      "outputs": [
        {
          "output_type": "stream",
          "text": [
            "\u001b[32m[I 2021-02-13 18:07:03,671]\u001b[0m A new study created in memory with name: Xgboost optimization\u001b[0m\n",
            "\u001b[32m[I 2021-02-13 18:07:07,859]\u001b[0m Trial 0 finished with value: 0.9176306347810306 and parameters: {'n_estimators': 200, 'eta': 0.03670757204128871, 'subsample': 0.75, 'min_child_weight': 8, 'colsample_bytree': 0.9, 'max_depth': 3, 'base_score': 0.30243330082933007}. Best is trial 0 with value: 0.9176306347810306.\u001b[0m\n",
            "\u001b[32m[I 2021-02-13 18:07:09,907]\u001b[0m Trial 1 finished with value: 0.9186874397956192 and parameters: {'n_estimators': 90, 'eta': 0.09677112480819501, 'subsample': 1.0, 'min_child_weight': 6, 'colsample_bytree': 0.45, 'max_depth': 4, 'base_score': 0.4169622917155342}. Best is trial 1 with value: 0.9186874397956192.\u001b[0m\n",
            "\u001b[32m[I 2021-02-13 18:07:12,998]\u001b[0m Trial 2 finished with value: 0.9113009730423979 and parameters: {'n_estimators': 150, 'eta': 0.02744609900946724, 'subsample': 1.0, 'min_child_weight': 4, 'colsample_bytree': 0.1, 'max_depth': 3, 'base_score': 0.3379990971768708}. Best is trial 1 with value: 0.9186874397956192.\u001b[0m\n",
            "\u001b[32m[I 2021-02-13 18:07:15,510]\u001b[0m Trial 3 finished with value: 0.9107760606441346 and parameters: {'n_estimators': 90, 'eta': 0.07803049746365534, 'subsample': 0.7999999999999999, 'min_child_weight': 3, 'colsample_bytree': 0.8, 'max_depth': 11, 'base_score': 0.38871099045011115}. Best is trial 1 with value: 0.9186874397956192.\u001b[0m\n",
            "\u001b[32m[I 2021-02-13 18:07:20,852]\u001b[0m Trial 4 finished with value: 0.9086610545713448 and parameters: {'n_estimators': 225, 'eta': 0.015336913722328692, 'subsample': 0.75, 'min_child_weight': 5, 'colsample_bytree': 0.8500000000000001, 'max_depth': 9, 'base_score': 0.31172308715226693}. Best is trial 1 with value: 0.9186874397956192.\u001b[0m\n",
            "\u001b[32m[I 2021-02-13 18:07:25,737]\u001b[0m Trial 5 finished with value: 0.9186902318828439 and parameters: {'n_estimators': 225, 'eta': 0.05908931898126534, 'subsample': 0.7, 'min_child_weight': 12, 'colsample_bytree': 0.6000000000000001, 'max_depth': 7, 'base_score': 0.31139279794640895}. Best is trial 5 with value: 0.9186902318828439.\u001b[0m\n",
            "\u001b[32m[I 2021-02-13 18:07:27,867]\u001b[0m Trial 6 finished with value: 0.9054920355711913 and parameters: {'n_estimators': 100, 'eta': 0.010376700943164922, 'subsample': 0.7999999999999999, 'min_child_weight': 10, 'colsample_bytree': 0.05, 'max_depth': 3, 'base_score': 0.46949026864440474}. Best is trial 5 with value: 0.9186902318828439.\u001b[0m\n",
            "\u001b[32m[I 2021-02-13 18:07:30,131]\u001b[0m Trial 7 finished with value: 0.9160517094554035 and parameters: {'n_estimators': 100, 'eta': 0.01427781958353583, 'subsample': 0.85, 'min_child_weight': 1, 'colsample_bytree': 0.35000000000000003, 'max_depth': 4, 'base_score': 0.3250132504896281}. Best is trial 5 with value: 0.9186902318828439.\u001b[0m\n",
            "\u001b[32m[I 2021-02-13 18:07:33,568]\u001b[0m Trial 8 finished with value: 0.9165710376792171 and parameters: {'n_estimators': 150, 'eta': 0.010800814089763987, 'subsample': 0.85, 'min_child_weight': 11, 'colsample_bytree': 0.6000000000000001, 'max_depth': 9, 'base_score': 0.35147243646330134}. Best is trial 5 with value: 0.9186902318828439.\u001b[0m\n",
            "\u001b[32m[I 2021-02-13 18:07:37,369]\u001b[0m Trial 9 finished with value: 0.9081319540422443 and parameters: {'n_estimators': 175, 'eta': 0.031750229784747674, 'subsample': 0.7, 'min_child_weight': 4, 'colsample_bytree': 0.15000000000000002, 'max_depth': 5, 'base_score': 0.3874165015762877}. Best is trial 5 with value: 0.9186902318828439.\u001b[0m\n",
            "\u001b[32m[I 2021-02-13 18:07:40,265]\u001b[0m Trial 10 finished with value: 0.9176292387374183 and parameters: {'n_estimators': 125, 'eta': 0.05862469451655903, 'subsample': 0.8999999999999999, 'min_child_weight': 12, 'colsample_bytree': 0.65, 'max_depth': 7, 'base_score': 0.48065194648319715}. Best is trial 5 with value: 0.9186902318828439.\u001b[0m\n",
            "\u001b[32m[I 2021-02-13 18:07:42,468]\u001b[0m Trial 11 finished with value: 0.9171057223827672 and parameters: {'n_estimators': 90, 'eta': 0.09413381393108253, 'subsample': 1.0, 'min_child_weight': 7, 'colsample_bytree': 0.4, 'max_depth': 7, 'base_score': 0.4316994305807284}. Best is trial 5 with value: 0.9186902318828439.\u001b[0m\n",
            "\u001b[32m[I 2021-02-13 18:07:47,302]\u001b[0m Trial 12 finished with value: 0.9155212128826905 and parameters: {'n_estimators': 225, 'eta': 0.05781400463635211, 'subsample': 0.95, 'min_child_weight': 9, 'colsample_bytree': 0.45, 'max_depth': 4, 'base_score': 0.43521182631020217}. Best is trial 5 with value: 0.9186902318828439.\u001b[0m\n",
            "\u001b[32m[I 2021-02-13 18:07:52,021]\u001b[0m Trial 13 finished with value: 0.9107718725132973 and parameters: {'n_estimators': 225, 'eta': 0.09606846969578539, 'subsample': 0.7, 'min_child_weight': 6, 'colsample_bytree': 0.25, 'max_depth': 4, 'base_score': 0.42039352343898617}. Best is trial 5 with value: 0.9186902318828439.\u001b[0m\n",
            "\u001b[32m[I 2021-02-13 18:07:54,510]\u001b[0m Trial 14 finished with value: 0.911298180955173 and parameters: {'n_estimators': 90, 'eta': 0.05873186547265673, 'subsample': 0.95, 'min_child_weight': 1, 'colsample_bytree': 0.6000000000000001, 'max_depth': 7, 'base_score': 0.36528058664842555}. Best is trial 5 with value: 0.9186902318828439.\u001b[0m\n",
            "\u001b[32m[I 2021-02-13 18:07:56,646]\u001b[0m Trial 15 finished with value: 0.9149921123535899 and parameters: {'n_estimators': 90, 'eta': 0.043283027459274405, 'subsample': 0.8999999999999999, 'min_child_weight': 7, 'colsample_bytree': 0.7000000000000001, 'max_depth': 5, 'base_score': 0.4039724420533064}. Best is trial 5 with value: 0.9186902318828439.\u001b[0m\n",
            "\u001b[32m[I 2021-02-13 18:08:01,651]\u001b[0m Trial 16 finished with value: 0.9149949044408145 and parameters: {'n_estimators': 225, 'eta': 0.075725524869946, 'subsample': 0.95, 'min_child_weight': 12, 'colsample_bytree': 1.0, 'max_depth': 11, 'base_score': 0.45895693093043805}. Best is trial 5 with value: 0.9186902318828439.\u001b[0m\n",
            "\u001b[32m[I 2021-02-13 18:08:05,603]\u001b[0m Trial 17 finished with value: 0.9139339112953889 and parameters: {'n_estimators': 175, 'eta': 0.023455029934684415, 'subsample': 0.75, 'min_child_weight': 9, 'colsample_bytree': 0.30000000000000004, 'max_depth': 7, 'base_score': 0.3682924044998635}. Best is trial 5 with value: 0.9186902318828439.\u001b[0m\n",
            "\u001b[32m[I 2021-02-13 18:08:09,945]\u001b[0m Trial 18 finished with value: 0.912879898368025 and parameters: {'n_estimators': 200, 'eta': 0.04954561716890019, 'subsample': 0.7999999999999999, 'min_child_weight': 6, 'colsample_bytree': 0.55, 'max_depth': 4, 'base_score': 0.4098367832616264}. Best is trial 5 with value: 0.9186902318828439.\u001b[0m\n",
            "\u001b[32m[I 2021-02-13 18:08:12,730]\u001b[0m Trial 19 finished with value: 0.9165794139408915 and parameters: {'n_estimators': 125, 'eta': 0.07680069388551579, 'subsample': 0.8999999999999999, 'min_child_weight': 3, 'colsample_bytree': 0.5, 'max_depth': 4, 'base_score': 0.4491357853657747}. Best is trial 5 with value: 0.9186902318828439.\u001b[0m\n",
            "\u001b[32m[I 2021-02-13 18:08:17,797]\u001b[0m Trial 20 finished with value: 0.913940891513451 and parameters: {'n_estimators': 225, 'eta': 0.0967044945121942, 'subsample': 0.7, 'min_child_weight': 8, 'colsample_bytree': 0.75, 'max_depth': 7, 'base_score': 0.36465028447402775}. Best is trial 5 with value: 0.9186902318828439.\u001b[0m\n",
            "\u001b[32m[I 2021-02-13 18:08:21,928]\u001b[0m Trial 21 finished with value: 0.9155198168390781 and parameters: {'n_estimators': 200, 'eta': 0.03745126300006409, 'subsample': 0.75, 'min_child_weight': 8, 'colsample_bytree': 1.0, 'max_depth': 3, 'base_score': 0.30294462709951336}. Best is trial 5 with value: 0.9186902318828439.\u001b[0m\n",
            "\u001b[32m[I 2021-02-13 18:08:26,086]\u001b[0m Trial 22 finished with value: 0.9170973461210927 and parameters: {'n_estimators': 200, 'eta': 0.021644671969017853, 'subsample': 0.75, 'min_child_weight': 10, 'colsample_bytree': 0.8500000000000001, 'max_depth': 3, 'base_score': 0.30190925138836844}. Best is trial 5 with value: 0.9186902318828439.\u001b[0m\n",
            "\u001b[32m[I 2021-02-13 18:08:30,256]\u001b[0m Trial 23 finished with value: 0.9149921123535899 and parameters: {'n_estimators': 200, 'eta': 0.03565994290600967, 'subsample': 0.7, 'min_child_weight': 5, 'colsample_bytree': 0.9, 'max_depth': 3, 'base_score': 0.3147810437650787}. Best is trial 5 with value: 0.9186902318828439.\u001b[0m\n",
            "\u001b[32m[I 2021-02-13 18:08:34,694]\u001b[0m Trial 24 finished with value: 0.9144616157808769 and parameters: {'n_estimators': 200, 'eta': 0.04611533131444271, 'subsample': 0.7999999999999999, 'min_child_weight': 8, 'colsample_bytree': 0.5, 'max_depth': 5, 'base_score': 0.3262035682007775}. Best is trial 5 with value: 0.9186902318828439.\u001b[0m\n",
            "\u001b[32m[I 2021-02-13 18:08:36,729]\u001b[0m Trial 25 finished with value: 0.9160475213245661 and parameters: {'n_estimators': 90, 'eta': 0.06828835958990773, 'subsample': 0.75, 'min_child_weight': 11, 'colsample_bytree': 0.7000000000000001, 'max_depth': 4, 'base_score': 0.33771001379763}. Best is trial 5 with value: 0.9186902318828439.\u001b[0m\n",
            "\u001b[32m[I 2021-02-13 18:08:40,659]\u001b[0m Trial 26 finished with value: 0.9065446524549428 and parameters: {'n_estimators': 175, 'eta': 0.03955124625423982, 'subsample': 0.7, 'min_child_weight': 5, 'colsample_bytree': 0.2, 'max_depth': 7, 'base_score': 0.3004129437195202}. Best is trial 5 with value: 0.9186902318828439.\u001b[0m\n",
            "\u001b[32m[I 2021-02-13 18:08:43,818]\u001b[0m Trial 27 finished with value: 0.9160461252809536 and parameters: {'n_estimators': 150, 'eta': 0.030072401491937992, 'subsample': 0.75, 'min_child_weight': 7, 'colsample_bytree': 0.9500000000000001, 'max_depth': 3, 'base_score': 0.39895586400534133}. Best is trial 5 with value: 0.9186902318828439.\u001b[0m\n",
            "\u001b[32m[I 2021-02-13 18:08:46,242]\u001b[0m Trial 28 finished with value: 0.9171029302955424 and parameters: {'n_estimators': 100, 'eta': 0.049798804402172686, 'subsample': 0.85, 'min_child_weight': 9, 'colsample_bytree': 0.45, 'max_depth': 9, 'base_score': 0.4919093997415509}. Best is trial 5 with value: 0.9186902318828439.\u001b[0m\n",
            "\u001b[32m[I 2021-02-13 18:08:51,905]\u001b[0m Trial 29 finished with value: 0.9076014574695315 and parameters: {'n_estimators': 225, 'eta': 0.026064586511253537, 'subsample': 1.0, 'min_child_weight': 3, 'colsample_bytree': 0.35000000000000003, 'max_depth': 11, 'base_score': 0.33977503351961214}. Best is trial 5 with value: 0.9186902318828439.\u001b[0m\n",
            "\u001b[32m[I 2021-02-13 18:08:53,864]\u001b[0m Trial 30 finished with value: 0.9207982577375718 and parameters: {'n_estimators': 90, 'eta': 0.019105374932841777, 'subsample': 0.7, 'min_child_weight': 4, 'colsample_bytree': 0.6000000000000001, 'max_depth': 3, 'base_score': 0.3140487577985729}. Best is trial 30 with value: 0.9207982577375718.\u001b[0m\n",
            "\u001b[32m[I 2021-02-13 18:08:55,819]\u001b[0m Trial 31 finished with value: 0.9202705532520836 and parameters: {'n_estimators': 90, 'eta': 0.01966506722837584, 'subsample': 0.7, 'min_child_weight': 4, 'colsample_bytree': 0.6000000000000001, 'max_depth': 3, 'base_score': 0.31595028892056}. Best is trial 30 with value: 0.9207982577375718.\u001b[0m\n",
            "\u001b[32m[I 2021-02-13 18:08:57,779]\u001b[0m Trial 32 finished with value: 0.9223841632812608 and parameters: {'n_estimators': 90, 'eta': 0.018439538618899406, 'subsample': 0.7, 'min_child_weight': 2, 'colsample_bytree': 0.6000000000000001, 'max_depth': 3, 'base_score': 0.31458509669541074}. Best is trial 32 with value: 0.9223841632812608.\u001b[0m\n",
            "\u001b[32m[I 2021-02-13 18:08:59,740]\u001b[0m Trial 33 finished with value: 0.9208010498247965 and parameters: {'n_estimators': 90, 'eta': 0.01796402554177555, 'subsample': 0.7, 'min_child_weight': 2, 'colsample_bytree': 0.65, 'max_depth': 3, 'base_score': 0.31336965531075067}. Best is trial 32 with value: 0.9223841632812608.\u001b[0m\n",
            "\u001b[32m[I 2021-02-13 18:09:01,703]\u001b[0m Trial 34 finished with value: 0.9202705532520836 and parameters: {'n_estimators': 90, 'eta': 0.018111524660485805, 'subsample': 0.7, 'min_child_weight': 2, 'colsample_bytree': 0.7000000000000001, 'max_depth': 3, 'base_score': 0.3226839980151379}. Best is trial 32 with value: 0.9223841632812608.\u001b[0m\n",
            "\u001b[32m[I 2021-02-13 18:09:03,671]\u001b[0m Trial 35 finished with value: 0.9213273582666723 and parameters: {'n_estimators': 90, 'eta': 0.01771538077468827, 'subsample': 0.7, 'min_child_weight': 2, 'colsample_bytree': 0.75, 'max_depth': 3, 'base_score': 0.32578876712126253}. Best is trial 32 with value: 0.9223841632812608.\u001b[0m\n",
            "\u001b[32m[I 2021-02-13 18:09:05,635]\u001b[0m Trial 36 finished with value: 0.9197428487665954 and parameters: {'n_estimators': 90, 'eta': 0.01360272737873832, 'subsample': 0.75, 'min_child_weight': 2, 'colsample_bytree': 0.75, 'max_depth': 3, 'base_score': 0.33487346013202796}. Best is trial 32 with value: 0.9223841632812608.\u001b[0m\n",
            "\u001b[32m[I 2021-02-13 18:09:07,596]\u001b[0m Trial 37 finished with value: 0.9202733453393084 and parameters: {'n_estimators': 90, 'eta': 0.017131385181722948, 'subsample': 0.7, 'min_child_weight': 2, 'colsample_bytree': 0.8, 'max_depth': 3, 'base_score': 0.3527795298245862}. Best is trial 32 with value: 0.9223841632812608.\u001b[0m\n",
            "\u001b[32m[I 2021-02-13 18:09:09,561]\u001b[0m Trial 38 finished with value: 0.9202733453393084 and parameters: {'n_estimators': 90, 'eta': 0.013020508406733196, 'subsample': 0.7999999999999999, 'min_child_weight': 1, 'colsample_bytree': 0.65, 'max_depth': 3, 'base_score': 0.30908368721522744}. Best is trial 32 with value: 0.9223841632812608.\u001b[0m\n",
            "\u001b[32m[I 2021-02-13 18:09:11,517]\u001b[0m Trial 39 finished with value: 0.9192165403247197 and parameters: {'n_estimators': 90, 'eta': 0.011619862926917794, 'subsample': 0.7, 'min_child_weight': 2, 'colsample_bytree': 0.55, 'max_depth': 3, 'base_score': 0.3267379262691859}. Best is trial 32 with value: 0.9223841632812608.\u001b[0m\n"
          ],
          "name": "stderr"
        }
      ]
    },
    {
      "cell_type": "code",
      "metadata": {
        "id": "nAVX_s2ElSL6",
        "outputId": "fad23a07-2959-43ca-9926-677c76329d8f",
        "colab": {
          "base_uri": "https://localhost:8080/"
        }
      },
      "source": [
        "study.best_params"
      ],
      "execution_count": 53,
      "outputs": [
        {
          "output_type": "execute_result",
          "data": {
            "text/plain": [
              "{'base_score': 0.31458509669541074,\n",
              " 'colsample_bytree': 0.6000000000000001,\n",
              " 'eta': 0.018439538618899406,\n",
              " 'max_depth': 3,\n",
              " 'min_child_weight': 2,\n",
              " 'n_estimators': 90,\n",
              " 'subsample': 0.7}"
            ]
          },
          "metadata": {
            "tags": []
          },
          "execution_count": 53
        }
      ]
    },
    {
      "cell_type": "code",
      "metadata": {
        "id": "hY4QOjljgj9O"
      },
      "source": [
        "XGB_params = study.best_params"
      ],
      "execution_count": 60,
      "outputs": []
    },
    {
      "cell_type": "code",
      "metadata": {
        "id": "8byCftc4ncNZ"
      },
      "source": [
        ""
      ],
      "execution_count": null,
      "outputs": []
    },
    {
      "cell_type": "code",
      "metadata": {
        "id": "Q21m1emdiqgg"
      },
      "source": [
        "xgb = XGBClassifier(tree_method='gpu_hist')\n",
        "scores = cross_val_score(xgb, X, y, cv=kf, scoring='accuracy')\n",
        "scores.mean()"
      ],
      "execution_count": 43,
      "outputs": []
    },
    {
      "cell_type": "code",
      "metadata": {
        "id": "49dHxMAym44L",
        "outputId": "3fe7ec1d-22f2-4a52-91c7-60dd086f3e1b",
        "colab": {
          "base_uri": "https://localhost:8080/"
        }
      },
      "source": [
        "lgb = LGBMClassifier(device_type='gpu')\r\n",
        "scores = cross_val_score(lgb, X, y, cv=kf, scoring='accuracy')\r\n",
        "scores.mean()"
      ],
      "execution_count": 58,
      "outputs": [
        {
          "output_type": "execute_result",
          "data": {
            "text/plain": [
              "0.9033812176292386"
            ]
          },
          "metadata": {
            "tags": []
          },
          "execution_count": 58
        }
      ]
    },
    {
      "cell_type": "code",
      "metadata": {
        "id": "Yz-vPj0RnOpb",
        "outputId": "5877fc3e-5be3-4385-f954-68bfa58fdaf3",
        "colab": {
          "base_uri": "https://localhost:8080/"
        }
      },
      "source": [
        "lgb.fit(X, y)"
      ],
      "execution_count": 59,
      "outputs": [
        {
          "output_type": "execute_result",
          "data": {
            "text/plain": [
              "LGBMClassifier(boosting_type='gbdt', class_weight=None, colsample_bytree=1.0,\n",
              "               device_type='gpu', importance_type='split', learning_rate=0.1,\n",
              "               max_depth=-1, min_child_samples=20, min_child_weight=0.001,\n",
              "               min_split_gain=0.0, n_estimators=100, n_jobs=-1, num_leaves=31,\n",
              "               objective=None, random_state=None, reg_alpha=0.0, reg_lambda=0.0,\n",
              "               silent=True, subsample=1.0, subsample_for_bin=200000,\n",
              "               subsample_freq=0)"
            ]
          },
          "metadata": {
            "tags": []
          },
          "execution_count": 59
        }
      ]
    },
    {
      "cell_type": "markdown",
      "metadata": {
        "id": "Yswn_IPe6T2-"
      },
      "source": [
        "# submission\r\n",
        "---"
      ]
    },
    {
      "cell_type": "code",
      "metadata": {
        "id": "unn5tB55Nrw7"
      },
      "source": [
        "submission['prediction'] = s1.drop(index=0)\r\n",
        "submission.iloc[132, 0] = 1\r\n",
        "submission.iloc[190, 0] = 1\r\n",
        "submission.iloc[444, 0] = 0\r\n",
        "submission.iloc[478, 0] = 1\r\n",
        "submission.iloc[609, 0] = 1"
      ],
      "execution_count": 27,
      "outputs": []
    },
    {
      "cell_type": "code",
      "metadata": {
        "id": "BI56ygxy6Wtd"
      },
      "source": [
        "submission['prediction'] = xgb.predict(test)\r\n",
        "submission.iloc[444, 0] = 0\r\n",
        "# submission.to_csv('submission11.csv', index=False)"
      ],
      "execution_count": 46,
      "outputs": []
    },
    {
      "cell_type": "code",
      "metadata": {
        "id": "f2eCdb5HjmRP",
        "outputId": "588a1da0-46d4-4977-d73a-d3fd2f0561d3",
        "colab": {
          "base_uri": "https://localhost:8080/"
        }
      },
      "source": [
        "submission['prediction'].mean()"
      ],
      "execution_count": 47,
      "outputs": [
        {
          "output_type": "execute_result",
          "data": {
            "text/plain": [
              "0.310126582278481"
            ]
          },
          "metadata": {
            "tags": []
          },
          "execution_count": 47
        }
      ]
    },
    {
      "cell_type": "code",
      "metadata": {
        "id": "sPQQfZZ4jodG"
      },
      "source": [
        ""
      ],
      "execution_count": null,
      "outputs": []
    }
  ]
}