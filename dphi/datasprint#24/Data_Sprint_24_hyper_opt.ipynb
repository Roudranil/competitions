{
  "nbformat": 4,
  "nbformat_minor": 0,
  "metadata": {
    "colab": {
      "name": "Data Sprint #24: hyper opt.ipynb",
      "provenance": [],
      "authorship_tag": "ABX9TyMc5saK2u79VuDpw1ROhfx9",
      "include_colab_link": true
    },
    "kernelspec": {
      "name": "python3",
      "display_name": "Python 3"
    },
    "accelerator": "GPU"
  },
  "cells": [
    {
      "cell_type": "markdown",
      "metadata": {
        "id": "view-in-github",
        "colab_type": "text"
      },
      "source": [
        "<a href=\"https://colab.research.google.com/github/Roudranil/competitions/blob/main/dphi/datasprint%2324/Data_Sprint_24_hyper_opt.ipynb\" target=\"_parent\"><img src=\"https://colab.research.google.com/assets/colab-badge.svg\" alt=\"Open In Colab\"/></a>"
      ]
    },
    {
      "cell_type": "code",
      "metadata": {
        "id": "UK2KfJ3p5eNC"
      },
      "source": [
        "import numpy as np\r\n",
        "import pandas as pd"
      ],
      "execution_count": 1,
      "outputs": []
    },
    {
      "cell_type": "code",
      "metadata": {
        "id": "yZtqQqxS5o0V"
      },
      "source": [
        "X = pd.read_csv('https://raw.githubusercontent.com/Roudranil/competitions/main/dphi/datasprint%2324/X.csv', index_col=0)\r\n",
        "y = np.ravel(pd.read_csv('https://raw.githubusercontent.com/Roudranil/competitions/main/dphi/datasprint%2324/y.csv', index_col=0))\r\n",
        "test = pd.read_csv('https://raw.githubusercontent.com/Roudranil/competitions/main/dphi/datasprint%2324/test.csv', index_col=0)\r\n",
        "submission = pd.read_csv('https://raw.githubusercontent.com/dphi-official/Datasets/master/Tinder_Millennial_Match/sample_submission.csv')"
      ],
      "execution_count": 36,
      "outputs": []
    },
    {
      "cell_type": "code",
      "metadata": {
        "id": "_xHDwr7G6KnT"
      },
      "source": [
        "s1 = pd.read_csv('/content/submission2.csv', names=['xgb'])\n",
        "s2 = pd.read_csv('/content/submission8.csv', names=['rf1'])\n",
        "s3 = pd.read_csv('/content/submission4.csv', names=['rf2'])\n",
        "s = pd.concat([s1, s2, s3], axis=1)\n",
        "s = s.drop(index=0)\n",
        "s = s.astype(int)"
      ],
      "execution_count": 21,
      "outputs": []
    },
    {
      "cell_type": "code",
      "metadata": {
        "id": "OUuaCXaRMP-K"
      },
      "source": [
        "s['diff_atleast1'] = np.abs(s['xgb'] - s['rf1'] + s['xgb'] - s['rf2'])"
      ],
      "execution_count": 22,
      "outputs": []
    },
    {
      "cell_type": "code",
      "metadata": {
        "id": "GPiS9zIRMZuI"
      },
      "source": [
        "s[s['diff_atleast1'] > 0]"
      ],
      "execution_count": null,
      "outputs": []
    },
    {
      "cell_type": "markdown",
      "metadata": {
        "id": "DLKR01vwUNEY"
      },
      "source": [
        "# model\r\n",
        "---"
      ]
    },
    {
      "cell_type": "code",
      "metadata": {
        "id": "qfCskC1ybBBp"
      },
      "source": [
        "!pip install optuna"
      ],
      "execution_count": null,
      "outputs": []
    },
    {
      "cell_type": "code",
      "metadata": {
        "colab": {
          "base_uri": "https://localhost:8080/"
        },
        "id": "IyM0pDUMmOSL",
        "outputId": "a1387e28-7cdc-4457-a49c-020215e2ccd6"
      },
      "source": [
        "!pip uninstall lightgbm"
      ],
      "execution_count": 54,
      "outputs": [
        {
          "output_type": "stream",
          "text": [
            "Uninstalling lightgbm-2.2.3:\n",
            "  Would remove:\n",
            "    /usr/local/lib/python3.6/dist-packages/lightgbm-2.2.3.dist-info/*\n",
            "    /usr/local/lib/python3.6/dist-packages/lightgbm/*\n",
            "Proceed (y/n)? y\n",
            "  Successfully uninstalled lightgbm-2.2.3\n"
          ],
          "name": "stdout"
        }
      ]
    },
    {
      "cell_type": "code",
      "metadata": {
        "colab": {
          "base_uri": "https://localhost:8080/"
        },
        "id": "MZ9iYUo7mTbn",
        "outputId": "64f68949-02df-46db-98d4-76e616b42061"
      },
      "source": [
        "!pip install lightgbm --install-option=--gpu"
      ],
      "execution_count": 55,
      "outputs": [
        {
          "output_type": "stream",
          "text": [
            "/usr/local/lib/python3.6/dist-packages/pip/_internal/commands/install.py:283: UserWarning: Disabling all use of wheels due to the use of --build-options / --global-options / --install-options.\n",
            "  cmdoptions.check_install_build_global(options)\n",
            "Collecting lightgbm\n",
            "\u001b[?25l  Downloading https://files.pythonhosted.org/packages/cf/65/368931f1f234149e14fc6075dbeb1ad8a8aebb105aa11fe8631c72c1bdcf/lightgbm-3.1.1.tar.gz (588kB)\n",
            "\u001b[K     |████████████████████████████████| 593kB 16.0MB/s \n",
            "\u001b[?25hRequirement already satisfied: wheel in /usr/local/lib/python3.6/dist-packages (from lightgbm) (0.36.2)\n",
            "Requirement already satisfied: numpy in /usr/local/lib/python3.6/dist-packages (from lightgbm) (1.19.5)\n",
            "Requirement already satisfied: scipy in /usr/local/lib/python3.6/dist-packages (from lightgbm) (1.4.1)\n",
            "Requirement already satisfied: scikit-learn!=0.22.0 in /usr/local/lib/python3.6/dist-packages (from lightgbm) (0.22.2.post1)\n",
            "Requirement already satisfied: joblib>=0.11 in /usr/local/lib/python3.6/dist-packages (from scikit-learn!=0.22.0->lightgbm) (1.0.0)\n",
            "Skipping wheel build for lightgbm, due to binaries being disabled for it.\n",
            "Installing collected packages: lightgbm\n",
            "    Running setup.py install for lightgbm ... \u001b[?25l\u001b[?25hdone\n",
            "Successfully installed lightgbm-3.1.1\n"
          ],
          "name": "stdout"
        }
      ]
    },
    {
      "cell_type": "code",
      "metadata": {
        "id": "Z09dSzigUMZb"
      },
      "source": [
        "\r\n",
        "from xgboost import XGBClassifier\r\n",
        "import optuna\r\n",
        "from optuna import Trial, visualization"
      ],
      "execution_count": 4,
      "outputs": []
    },
    {
      "cell_type": "code",
      "metadata": {
        "id": "xnR4KHmpbfbf"
      },
      "source": [
        "from sklearn.model_selection import KFold, cross_val_score"
      ],
      "execution_count": 5,
      "outputs": []
    },
    {
      "cell_type": "code",
      "metadata": {
        "id": "ZYdt4_PSm58H"
      },
      "source": [
        "from lightgbm import LGBMClassifier"
      ],
      "execution_count": 56,
      "outputs": []
    },
    {
      "cell_type": "code",
      "metadata": {
        "id": "cQ2L3v1tbgsX"
      },
      "source": [
        "kf = KFold(n_splits=5, shuffle=True, random_state=0)"
      ],
      "execution_count": 6,
      "outputs": []
    },
    {
      "cell_type": "code",
      "metadata": {
        "id": "nX21p-GDbHWg"
      },
      "source": [
        "def Objective(trial):\r\n",
        "    params = {\r\n",
        "        \"n_estimators\": trial.suggest_categorical(\"n_estimators\", [90,100,125,150,175,200,225]),\r\n",
        "        \"eta\": trial.suggest_loguniform(\"eta\",1e-2,0.1),\r\n",
        "        \"subsample\": trial.suggest_discrete_uniform(\"subsample\", 0.7,1,0.05),\r\n",
        "        \"min_child_weight\": trial.suggest_int(\"min_child_weight\",1,12),\r\n",
        "        \"colsample_bytree\": trial.suggest_discrete_uniform(\"colsample_bytree\", 0,1,0.05),\r\n",
        "        \"max_depth\": trial.suggest_categorical(\"max_depth\",[3,4,5,7,9,11]),\r\n",
        "        \"base_score\": trial.suggest_loguniform(\"base_score\", 0.3, 0.5),\r\n",
        "        \"random_state\": 2021\r\n",
        "    }\r\n",
        "    \r\n",
        "    model = XGBClassifier(**params, tree_method='gpu_hist')\r\n",
        "    \r\n",
        "    \r\n",
        "    scores = cross_val_score(model, X, y, cv=kf, scoring='accuracy')\r\n",
        "    \r\n",
        "    return sum(scores)/len(scores)"
      ],
      "execution_count": 51,
      "outputs": []
    },
    {
      "cell_type": "code",
      "metadata": {
        "colab": {
          "base_uri": "https://localhost:8080/"
        },
        "id": "qUndUbHJd6bS",
        "outputId": "146f5965-9efd-46a2-eb91-7b13cd10d5e7"
      },
      "source": [
        "study = optuna.create_study(direction=\"maximize\", study_name='Xgboost optimization')\r\n",
        "study.optimize(Objective, n_trials=40)"
      ],
      "execution_count": 52,
      "outputs": [
        {
          "output_type": "stream",
          "text": [
            "\u001b[32m[I 2021-02-13 18:07:03,671]\u001b[0m A new study created in memory with name: Xgboost optimization\u001b[0m\n",
            "\u001b[32m[I 2021-02-13 18:07:07,859]\u001b[0m Trial 0 finished with value: 0.9176306347810306 and parameters: {'n_estimators': 200, 'eta': 0.03670757204128871, 'subsample': 0.75, 'min_child_weight': 8, 'colsample_bytree': 0.9, 'max_depth': 3, 'base_score': 0.30243330082933007}. Best is trial 0 with value: 0.9176306347810306.\u001b[0m\n",
            "\u001b[32m[I 2021-02-13 18:07:09,907]\u001b[0m Trial 1 finished with value: 0.9186874397956192 and parameters: {'n_estimators': 90, 'eta': 0.09677112480819501, 'subsample': 1.0, 'min_child_weight': 6, 'colsample_bytree': 0.45, 'max_depth': 4, 'base_score': 0.4169622917155342}. Best is trial 1 with value: 0.9186874397956192.\u001b[0m\n",
            "\u001b[32m[I 2021-02-13 18:07:12,998]\u001b[0m Trial 2 finished with value: 0.9113009730423979 and parameters: {'n_estimators': 150, 'eta': 0.02744609900946724, 'subsample': 1.0, 'min_child_weight': 4, 'colsample_bytree': 0.1, 'max_depth': 3, 'base_score': 0.3379990971768708}. Best is trial 1 with value: 0.9186874397956192.\u001b[0m\n",
            "\u001b[32m[I 2021-02-13 18:07:15,510]\u001b[0m Trial 3 finished with value: 0.9107760606441346 and parameters: {'n_estimators': 90, 'eta': 0.07803049746365534, 'subsample': 0.7999999999999999, 'min_child_weight': 3, 'colsample_bytree': 0.8, 'max_depth': 11, 'base_score': 0.38871099045011115}. Best is trial 1 with value: 0.9186874397956192.\u001b[0m\n",
            "\u001b[32m[I 2021-02-13 18:07:20,852]\u001b[0m Trial 4 finished with value: 0.9086610545713448 and parameters: {'n_estimators': 225, 'eta': 0.015336913722328692, 'subsample': 0.75, 'min_child_weight': 5, 'colsample_bytree': 0.8500000000000001, 'max_depth': 9, 'base_score': 0.31172308715226693}. Best is trial 1 with value: 0.9186874397956192.\u001b[0m\n",
            "\u001b[32m[I 2021-02-13 18:07:25,737]\u001b[0m Trial 5 finished with value: 0.9186902318828439 and parameters: {'n_estimators': 225, 'eta': 0.05908931898126534, 'subsample': 0.7, 'min_child_weight': 12, 'colsample_bytree': 0.6000000000000001, 'max_depth': 7, 'base_score': 0.31139279794640895}. Best is trial 5 with value: 0.9186902318828439.\u001b[0m\n",
            "\u001b[32m[I 2021-02-13 18:07:27,867]\u001b[0m Trial 6 finished with value: 0.9054920355711913 and parameters: {'n_estimators': 100, 'eta': 0.010376700943164922, 'subsample': 0.7999999999999999, 'min_child_weight': 10, 'colsample_bytree': 0.05, 'max_depth': 3, 'base_score': 0.46949026864440474}. Best is trial 5 with value: 0.9186902318828439.\u001b[0m\n",
            "\u001b[32m[I 2021-02-13 18:07:30,131]\u001b[0m Trial 7 finished with value: 0.9160517094554035 and parameters: {'n_estimators': 100, 'eta': 0.01427781958353583, 'subsample': 0.85, 'min_child_weight': 1, 'colsample_bytree': 0.35000000000000003, 'max_depth': 4, 'base_score': 0.3250132504896281}. Best is trial 5 with value: 0.9186902318828439.\u001b[0m\n",
            "\u001b[32m[I 2021-02-13 18:07:33,568]\u001b[0m Trial 8 finished with value: 0.9165710376792171 and parameters: {'n_estimators': 150, 'eta': 0.010800814089763987, 'subsample': 0.85, 'min_child_weight': 11, 'colsample_bytree': 0.6000000000000001, 'max_depth': 9, 'base_score': 0.35147243646330134}. Best is trial 5 with value: 0.9186902318828439.\u001b[0m\n",
            "\u001b[32m[I 2021-02-13 18:07:37,369]\u001b[0m Trial 9 finished with value: 0.9081319540422443 and parameters: {'n_estimators': 175, 'eta': 0.031750229784747674, 'subsample': 0.7, 'min_child_weight': 4, 'colsample_bytree': 0.15000000000000002, 'max_depth': 5, 'base_score': 0.3874165015762877}. Best is trial 5 with value: 0.9186902318828439.\u001b[0m\n",
            "\u001b[32m[I 2021-02-13 18:07:40,265]\u001b[0m Trial 10 finished with value: 0.9176292387374183 and parameters: {'n_estimators': 125, 'eta': 0.05862469451655903, 'subsample': 0.8999999999999999, 'min_child_weight': 12, 'colsample_bytree': 0.65, 'max_depth': 7, 'base_score': 0.48065194648319715}. Best is trial 5 with value: 0.9186902318828439.\u001b[0m\n",
            "\u001b[32m[I 2021-02-13 18:07:42,468]\u001b[0m Trial 11 finished with value: 0.9171057223827672 and parameters: {'n_estimators': 90, 'eta': 0.09413381393108253, 'subsample': 1.0, 'min_child_weight': 7, 'colsample_bytree': 0.4, 'max_depth': 7, 'base_score': 0.4316994305807284}. Best is trial 5 with value: 0.9186902318828439.\u001b[0m\n",
            "\u001b[32m[I 2021-02-13 18:07:47,302]\u001b[0m Trial 12 finished with value: 0.9155212128826905 and parameters: {'n_estimators': 225, 'eta': 0.05781400463635211, 'subsample': 0.95, 'min_child_weight': 9, 'colsample_bytree': 0.45, 'max_depth': 4, 'base_score': 0.43521182631020217}. Best is trial 5 with value: 0.9186902318828439.\u001b[0m\n",
            "\u001b[32m[I 2021-02-13 18:07:52,021]\u001b[0m Trial 13 finished with value: 0.9107718725132973 and parameters: {'n_estimators': 225, 'eta': 0.09606846969578539, 'subsample': 0.7, 'min_child_weight': 6, 'colsample_bytree': 0.25, 'max_depth': 4, 'base_score': 0.42039352343898617}. Best is trial 5 with value: 0.9186902318828439.\u001b[0m\n",
            "\u001b[32m[I 2021-02-13 18:07:54,510]\u001b[0m Trial 14 finished with value: 0.911298180955173 and parameters: {'n_estimators': 90, 'eta': 0.05873186547265673, 'subsample': 0.95, 'min_child_weight': 1, 'colsample_bytree': 0.6000000000000001, 'max_depth': 7, 'base_score': 0.36528058664842555}. Best is trial 5 with value: 0.9186902318828439.\u001b[0m\n",
            "\u001b[32m[I 2021-02-13 18:07:56,646]\u001b[0m Trial 15 finished with value: 0.9149921123535899 and parameters: {'n_estimators': 90, 'eta': 0.043283027459274405, 'subsample': 0.8999999999999999, 'min_child_weight': 7, 'colsample_bytree': 0.7000000000000001, 'max_depth': 5, 'base_score': 0.4039724420533064}. Best is trial 5 with value: 0.9186902318828439.\u001b[0m\n",
            "\u001b[32m[I 2021-02-13 18:08:01,651]\u001b[0m Trial 16 finished with value: 0.9149949044408145 and parameters: {'n_estimators': 225, 'eta': 0.075725524869946, 'subsample': 0.95, 'min_child_weight': 12, 'colsample_bytree': 1.0, 'max_depth': 11, 'base_score': 0.45895693093043805}. Best is trial 5 with value: 0.9186902318828439.\u001b[0m\n",
            "\u001b[32m[I 2021-02-13 18:08:05,603]\u001b[0m Trial 17 finished with value: 0.9139339112953889 and parameters: {'n_estimators': 175, 'eta': 0.023455029934684415, 'subsample': 0.75, 'min_child_weight': 9, 'colsample_bytree': 0.30000000000000004, 'max_depth': 7, 'base_score': 0.3682924044998635}. Best is trial 5 with value: 0.9186902318828439.\u001b[0m\n",
            "\u001b[32m[I 2021-02-13 18:08:09,945]\u001b[0m Trial 18 finished with value: 0.912879898368025 and parameters: {'n_estimators': 200, 'eta': 0.04954561716890019, 'subsample': 0.7999999999999999, 'min_child_weight': 6, 'colsample_bytree': 0.55, 'max_depth': 4, 'base_score': 0.4098367832616264}. Best is trial 5 with value: 0.9186902318828439.\u001b[0m\n",
            "\u001b[32m[I 2021-02-13 18:08:12,730]\u001b[0m Trial 19 finished with value: 0.9165794139408915 and parameters: {'n_estimators': 125, 'eta': 0.07680069388551579, 'subsample': 0.8999999999999999, 'min_child_weight': 3, 'colsample_bytree': 0.5, 'max_depth': 4, 'base_score': 0.4491357853657747}. Best is trial 5 with value: 0.9186902318828439.\u001b[0m\n",
            "\u001b[32m[I 2021-02-13 18:08:17,797]\u001b[0m Trial 20 finished with value: 0.913940891513451 and parameters: {'n_estimators': 225, 'eta': 0.0967044945121942, 'subsample': 0.7, 'min_child_weight': 8, 'colsample_bytree': 0.75, 'max_depth': 7, 'base_score': 0.36465028447402775}. Best is trial 5 with value: 0.9186902318828439.\u001b[0m\n",
            "\u001b[32m[I 2021-02-13 18:08:21,928]\u001b[0m Trial 21 finished with value: 0.9155198168390781 and parameters: {'n_estimators': 200, 'eta': 0.03745126300006409, 'subsample': 0.75, 'min_child_weight': 8, 'colsample_bytree': 1.0, 'max_depth': 3, 'base_score': 0.30294462709951336}. Best is trial 5 with value: 0.9186902318828439.\u001b[0m\n",
            "\u001b[32m[I 2021-02-13 18:08:26,086]\u001b[0m Trial 22 finished with value: 0.9170973461210927 and parameters: {'n_estimators': 200, 'eta': 0.021644671969017853, 'subsample': 0.75, 'min_child_weight': 10, 'colsample_bytree': 0.8500000000000001, 'max_depth': 3, 'base_score': 0.30190925138836844}. Best is trial 5 with value: 0.9186902318828439.\u001b[0m\n",
            "\u001b[32m[I 2021-02-13 18:08:30,256]\u001b[0m Trial 23 finished with value: 0.9149921123535899 and parameters: {'n_estimators': 200, 'eta': 0.03565994290600967, 'subsample': 0.7, 'min_child_weight': 5, 'colsample_bytree': 0.9, 'max_depth': 3, 'base_score': 0.3147810437650787}. Best is trial 5 with value: 0.9186902318828439.\u001b[0m\n",
            "\u001b[32m[I 2021-02-13 18:08:34,694]\u001b[0m Trial 24 finished with value: 0.9144616157808769 and parameters: {'n_estimators': 200, 'eta': 0.04611533131444271, 'subsample': 0.7999999999999999, 'min_child_weight': 8, 'colsample_bytree': 0.5, 'max_depth': 5, 'base_score': 0.3262035682007775}. Best is trial 5 with value: 0.9186902318828439.\u001b[0m\n",
            "\u001b[32m[I 2021-02-13 18:08:36,729]\u001b[0m Trial 25 finished with value: 0.9160475213245661 and parameters: {'n_estimators': 90, 'eta': 0.06828835958990773, 'subsample': 0.75, 'min_child_weight': 11, 'colsample_bytree': 0.7000000000000001, 'max_depth': 4, 'base_score': 0.33771001379763}. Best is trial 5 with value: 0.9186902318828439.\u001b[0m\n",
            "\u001b[32m[I 2021-02-13 18:08:40,659]\u001b[0m Trial 26 finished with value: 0.9065446524549428 and parameters: {'n_estimators': 175, 'eta': 0.03955124625423982, 'subsample': 0.7, 'min_child_weight': 5, 'colsample_bytree': 0.2, 'max_depth': 7, 'base_score': 0.3004129437195202}. Best is trial 5 with value: 0.9186902318828439.\u001b[0m\n",
            "\u001b[32m[I 2021-02-13 18:08:43,818]\u001b[0m Trial 27 finished with value: 0.9160461252809536 and parameters: {'n_estimators': 150, 'eta': 0.030072401491937992, 'subsample': 0.75, 'min_child_weight': 7, 'colsample_bytree': 0.9500000000000001, 'max_depth': 3, 'base_score': 0.39895586400534133}. Best is trial 5 with value: 0.9186902318828439.\u001b[0m\n",
            "\u001b[32m[I 2021-02-13 18:08:46,242]\u001b[0m Trial 28 finished with value: 0.9171029302955424 and parameters: {'n_estimators': 100, 'eta': 0.049798804402172686, 'subsample': 0.85, 'min_child_weight': 9, 'colsample_bytree': 0.45, 'max_depth': 9, 'base_score': 0.4919093997415509}. Best is trial 5 with value: 0.9186902318828439.\u001b[0m\n",
            "\u001b[32m[I 2021-02-13 18:08:51,905]\u001b[0m Trial 29 finished with value: 0.9076014574695315 and parameters: {'n_estimators': 225, 'eta': 0.026064586511253537, 'subsample': 1.0, 'min_child_weight': 3, 'colsample_bytree': 0.35000000000000003, 'max_depth': 11, 'base_score': 0.33977503351961214}. Best is trial 5 with value: 0.9186902318828439.\u001b[0m\n",
            "\u001b[32m[I 2021-02-13 18:08:53,864]\u001b[0m Trial 30 finished with value: 0.9207982577375718 and parameters: {'n_estimators': 90, 'eta': 0.019105374932841777, 'subsample': 0.7, 'min_child_weight': 4, 'colsample_bytree': 0.6000000000000001, 'max_depth': 3, 'base_score': 0.3140487577985729}. Best is trial 30 with value: 0.9207982577375718.\u001b[0m\n",
            "\u001b[32m[I 2021-02-13 18:08:55,819]\u001b[0m Trial 31 finished with value: 0.9202705532520836 and parameters: {'n_estimators': 90, 'eta': 0.01966506722837584, 'subsample': 0.7, 'min_child_weight': 4, 'colsample_bytree': 0.6000000000000001, 'max_depth': 3, 'base_score': 0.31595028892056}. Best is trial 30 with value: 0.9207982577375718.\u001b[0m\n",
            "\u001b[32m[I 2021-02-13 18:08:57,779]\u001b[0m Trial 32 finished with value: 0.9223841632812608 and parameters: {'n_estimators': 90, 'eta': 0.018439538618899406, 'subsample': 0.7, 'min_child_weight': 2, 'colsample_bytree': 0.6000000000000001, 'max_depth': 3, 'base_score': 0.31458509669541074}. Best is trial 32 with value: 0.9223841632812608.\u001b[0m\n",
            "\u001b[32m[I 2021-02-13 18:08:59,740]\u001b[0m Trial 33 finished with value: 0.9208010498247965 and parameters: {'n_estimators': 90, 'eta': 0.01796402554177555, 'subsample': 0.7, 'min_child_weight': 2, 'colsample_bytree': 0.65, 'max_depth': 3, 'base_score': 0.31336965531075067}. Best is trial 32 with value: 0.9223841632812608.\u001b[0m\n",
            "\u001b[32m[I 2021-02-13 18:09:01,703]\u001b[0m Trial 34 finished with value: 0.9202705532520836 and parameters: {'n_estimators': 90, 'eta': 0.018111524660485805, 'subsample': 0.7, 'min_child_weight': 2, 'colsample_bytree': 0.7000000000000001, 'max_depth': 3, 'base_score': 0.3226839980151379}. Best is trial 32 with value: 0.9223841632812608.\u001b[0m\n",
            "\u001b[32m[I 2021-02-13 18:09:03,671]\u001b[0m Trial 35 finished with value: 0.9213273582666723 and parameters: {'n_estimators': 90, 'eta': 0.01771538077468827, 'subsample': 0.7, 'min_child_weight': 2, 'colsample_bytree': 0.75, 'max_depth': 3, 'base_score': 0.32578876712126253}. Best is trial 32 with value: 0.9223841632812608.\u001b[0m\n",
            "\u001b[32m[I 2021-02-13 18:09:05,635]\u001b[0m Trial 36 finished with value: 0.9197428487665954 and parameters: {'n_estimators': 90, 'eta': 0.01360272737873832, 'subsample': 0.75, 'min_child_weight': 2, 'colsample_bytree': 0.75, 'max_depth': 3, 'base_score': 0.33487346013202796}. Best is trial 32 with value: 0.9223841632812608.\u001b[0m\n",
            "\u001b[32m[I 2021-02-13 18:09:07,596]\u001b[0m Trial 37 finished with value: 0.9202733453393084 and parameters: {'n_estimators': 90, 'eta': 0.017131385181722948, 'subsample': 0.7, 'min_child_weight': 2, 'colsample_bytree': 0.8, 'max_depth': 3, 'base_score': 0.3527795298245862}. Best is trial 32 with value: 0.9223841632812608.\u001b[0m\n",
            "\u001b[32m[I 2021-02-13 18:09:09,561]\u001b[0m Trial 38 finished with value: 0.9202733453393084 and parameters: {'n_estimators': 90, 'eta': 0.013020508406733196, 'subsample': 0.7999999999999999, 'min_child_weight': 1, 'colsample_bytree': 0.65, 'max_depth': 3, 'base_score': 0.30908368721522744}. Best is trial 32 with value: 0.9223841632812608.\u001b[0m\n",
            "\u001b[32m[I 2021-02-13 18:09:11,517]\u001b[0m Trial 39 finished with value: 0.9192165403247197 and parameters: {'n_estimators': 90, 'eta': 0.011619862926917794, 'subsample': 0.7, 'min_child_weight': 2, 'colsample_bytree': 0.55, 'max_depth': 3, 'base_score': 0.3267379262691859}. Best is trial 32 with value: 0.9223841632812608.\u001b[0m\n"
          ],
          "name": "stderr"
        }
      ]
    },
    {
      "cell_type": "code",
      "metadata": {
        "colab": {
          "base_uri": "https://localhost:8080/"
        },
        "id": "nAVX_s2ElSL6",
        "outputId": "fad23a07-2959-43ca-9926-677c76329d8f"
      },
      "source": [
        "study.best_params"
      ],
      "execution_count": 53,
      "outputs": [
        {
          "output_type": "execute_result",
          "data": {
            "text/plain": [
              "{'base_score': 0.31458509669541074,\n",
              " 'colsample_bytree': 0.6000000000000001,\n",
              " 'eta': 0.018439538618899406,\n",
              " 'max_depth': 3,\n",
              " 'min_child_weight': 2,\n",
              " 'n_estimators': 90,\n",
              " 'subsample': 0.7}"
            ]
          },
          "metadata": {
            "tags": []
          },
          "execution_count": 53
        }
      ]
    },
    {
      "cell_type": "code",
      "metadata": {
        "id": "hY4QOjljgj9O"
      },
      "source": [
        "XGB_params = study.best_params"
      ],
      "execution_count": 60,
      "outputs": []
    },
    {
      "cell_type": "code",
      "metadata": {
        "id": "8byCftc4ncNZ"
      },
      "source": [
        "def Objective(trial):\r\n",
        "    params = {\r\n",
        "        'lambda_l1': trial.suggest_loguniform('lambda_l1', 1e-8, 10.0),\r\n",
        "        'lambda_l2': trial.suggest_loguniform('lambda_l2', 1e-8, 10.0),\r\n",
        "        'num_leaves': trial.suggest_int('num_leaves', 2, 256),\r\n",
        "        'feature_fraction': trial.suggest_uniform('feature_fraction', 0.4, 1.0),\r\n",
        "        'bagging_fraction': trial.suggest_uniform('bagging_fraction', 0.4, 1.0),\r\n",
        "        'bagging_freq': trial.suggest_int('bagging_freq', 1, 7),\r\n",
        "        'min_child_samples': trial.suggest_int('min_child_samples', 5, 100),\r\n",
        "    }\r\n",
        "    \r\n",
        "    model = LGBMClassifier(**params, device_type='GPU')\r\n",
        "    scores = cross_val_score(model, X, y, cv=kf, scoring='accuracy')\r\n",
        "    \r\n",
        "    return sum(scores)/len(scores)"
      ],
      "execution_count": 61,
      "outputs": []
    },
    {
      "cell_type": "code",
      "metadata": {
        "id": "oXs29TGFoC-O",
        "outputId": "e9b6fe5f-56f1-48cb-d22c-697867a2e06f",
        "colab": {
          "base_uri": "https://localhost:8080/"
        }
      },
      "source": [
        "study = optuna.create_study(direction=\"maximize\", study_name='LGBM optimization')\r\n",
        "study.optimize(Objective, n_trials=40)"
      ],
      "execution_count": 62,
      "outputs": [
        {
          "output_type": "stream",
          "text": [
            "\u001b[32m[I 2021-02-13 18:21:47,079]\u001b[0m A new study created in memory with name: LGBM optimization\u001b[0m\n"
          ],
          "name": "stderr"
        },
        {
          "output_type": "stream",
          "text": [
            "[LightGBM] [Warning] feature_fraction is set=0.5847569979917171, colsample_bytree=1.0 will be ignored. Current value: feature_fraction=0.5847569979917171\n",
            "[LightGBM] [Warning] bagging_freq is set=2, subsample_freq=0 will be ignored. Current value: bagging_freq=2\n",
            "[LightGBM] [Warning] lambda_l2 is set=0.0003007187689105893, reg_lambda=0.0 will be ignored. Current value: lambda_l2=0.0003007187689105893\n",
            "[LightGBM] [Warning] lambda_l1 is set=0.00010256085623167177, reg_alpha=0.0 will be ignored. Current value: lambda_l1=0.00010256085623167177\n",
            "[LightGBM] [Warning] bagging_fraction is set=0.5268641914914194, subsample=1.0 will be ignored. Current value: bagging_fraction=0.5268641914914194\n",
            "[LightGBM] [Warning] feature_fraction is set=0.5847569979917171, colsample_bytree=1.0 will be ignored. Current value: feature_fraction=0.5847569979917171\n",
            "[LightGBM] [Warning] bagging_freq is set=2, subsample_freq=0 will be ignored. Current value: bagging_freq=2\n",
            "[LightGBM] [Warning] lambda_l2 is set=0.0003007187689105893, reg_lambda=0.0 will be ignored. Current value: lambda_l2=0.0003007187689105893\n",
            "[LightGBM] [Warning] lambda_l1 is set=0.00010256085623167177, reg_alpha=0.0 will be ignored. Current value: lambda_l1=0.00010256085623167177\n",
            "[LightGBM] [Warning] bagging_fraction is set=0.5268641914914194, subsample=1.0 will be ignored. Current value: bagging_fraction=0.5268641914914194\n",
            "[LightGBM] [Warning] feature_fraction is set=0.5847569979917171, colsample_bytree=1.0 will be ignored. Current value: feature_fraction=0.5847569979917171\n",
            "[LightGBM] [Warning] bagging_freq is set=2, subsample_freq=0 will be ignored. Current value: bagging_freq=2\n",
            "[LightGBM] [Warning] lambda_l2 is set=0.0003007187689105893, reg_lambda=0.0 will be ignored. Current value: lambda_l2=0.0003007187689105893\n",
            "[LightGBM] [Warning] lambda_l1 is set=0.00010256085623167177, reg_alpha=0.0 will be ignored. Current value: lambda_l1=0.00010256085623167177\n",
            "[LightGBM] [Warning] bagging_fraction is set=0.5268641914914194, subsample=1.0 will be ignored. Current value: bagging_fraction=0.5268641914914194\n",
            "[LightGBM] [Warning] feature_fraction is set=0.5847569979917171, colsample_bytree=1.0 will be ignored. Current value: feature_fraction=0.5847569979917171\n",
            "[LightGBM] [Warning] bagging_freq is set=2, subsample_freq=0 will be ignored. Current value: bagging_freq=2\n",
            "[LightGBM] [Warning] lambda_l2 is set=0.0003007187689105893, reg_lambda=0.0 will be ignored. Current value: lambda_l2=0.0003007187689105893\n",
            "[LightGBM] [Warning] lambda_l1 is set=0.00010256085623167177, reg_alpha=0.0 will be ignored. Current value: lambda_l1=0.00010256085623167177\n",
            "[LightGBM] [Warning] bagging_fraction is set=0.5268641914914194, subsample=1.0 will be ignored. Current value: bagging_fraction=0.5268641914914194\n"
          ],
          "name": "stdout"
        },
        {
          "output_type": "stream",
          "text": [
            "\u001b[32m[I 2021-02-13 18:21:48,999]\u001b[0m Trial 0 finished with value: 0.9186916279264565 and parameters: {'lambda_l1': 0.00010256085623167177, 'lambda_l2': 0.0003007187689105893, 'num_leaves': 161, 'feature_fraction': 0.5847569979917171, 'bagging_fraction': 0.5268641914914194, 'bagging_freq': 2, 'min_child_samples': 61}. Best is trial 0 with value: 0.9186916279264565.\u001b[0m\n"
          ],
          "name": "stderr"
        },
        {
          "output_type": "stream",
          "text": [
            "[LightGBM] [Warning] feature_fraction is set=0.6402782005291808, colsample_bytree=1.0 will be ignored. Current value: feature_fraction=0.6402782005291808\n",
            "[LightGBM] [Warning] bagging_freq is set=5, subsample_freq=0 will be ignored. Current value: bagging_freq=5\n",
            "[LightGBM] [Warning] lambda_l2 is set=0.00317809931278659, reg_lambda=0.0 will be ignored. Current value: lambda_l2=0.00317809931278659\n",
            "[LightGBM] [Warning] lambda_l1 is set=1.5733706297029726, reg_alpha=0.0 will be ignored. Current value: lambda_l1=1.5733706297029726\n",
            "[LightGBM] [Warning] bagging_fraction is set=0.7825654082552838, subsample=1.0 will be ignored. Current value: bagging_fraction=0.7825654082552838\n",
            "[LightGBM] [Warning] feature_fraction is set=0.6402782005291808, colsample_bytree=1.0 will be ignored. Current value: feature_fraction=0.6402782005291808\n",
            "[LightGBM] [Warning] bagging_freq is set=5, subsample_freq=0 will be ignored. Current value: bagging_freq=5\n",
            "[LightGBM] [Warning] lambda_l2 is set=0.00317809931278659, reg_lambda=0.0 will be ignored. Current value: lambda_l2=0.00317809931278659\n",
            "[LightGBM] [Warning] lambda_l1 is set=1.5733706297029726, reg_alpha=0.0 will be ignored. Current value: lambda_l1=1.5733706297029726\n",
            "[LightGBM] [Warning] bagging_fraction is set=0.7825654082552838, subsample=1.0 will be ignored. Current value: bagging_fraction=0.7825654082552838\n",
            "[LightGBM] [Warning] feature_fraction is set=0.6402782005291808, colsample_bytree=1.0 will be ignored. Current value: feature_fraction=0.6402782005291808\n",
            "[LightGBM] [Warning] bagging_freq is set=5, subsample_freq=0 will be ignored. Current value: bagging_freq=5\n",
            "[LightGBM] [Warning] lambda_l2 is set=0.00317809931278659, reg_lambda=0.0 will be ignored. Current value: lambda_l2=0.00317809931278659\n",
            "[LightGBM] [Warning] lambda_l1 is set=1.5733706297029726, reg_alpha=0.0 will be ignored. Current value: lambda_l1=1.5733706297029726\n",
            "[LightGBM] [Warning] bagging_fraction is set=0.7825654082552838, subsample=1.0 will be ignored. Current value: bagging_fraction=0.7825654082552838\n",
            "[LightGBM] [Warning] feature_fraction is set=0.6402782005291808, colsample_bytree=1.0 will be ignored. Current value: feature_fraction=0.6402782005291808\n",
            "[LightGBM] [Warning] bagging_freq is set=5, subsample_freq=0 will be ignored. Current value: bagging_freq=5\n",
            "[LightGBM] [Warning] lambda_l2 is set=0.00317809931278659, reg_lambda=0.0 will be ignored. Current value: lambda_l2=0.00317809931278659\n",
            "[LightGBM] [Warning] lambda_l1 is set=1.5733706297029726, reg_alpha=0.0 will be ignored. Current value: lambda_l1=1.5733706297029726\n",
            "[LightGBM] [Warning] bagging_fraction is set=0.7825654082552838, subsample=1.0 will be ignored. Current value: bagging_fraction=0.7825654082552838\n",
            "[LightGBM] [Warning] feature_fraction is set=0.6402782005291808, colsample_bytree=1.0 will be ignored. Current value: feature_fraction=0.6402782005291808\n",
            "[LightGBM] [Warning] bagging_freq is set=5, subsample_freq=0 will be ignored. Current value: bagging_freq=5\n",
            "[LightGBM] [Warning] lambda_l2 is set=0.00317809931278659, reg_lambda=0.0 will be ignored. Current value: lambda_l2=0.00317809931278659\n",
            "[LightGBM] [Warning] lambda_l1 is set=1.5733706297029726, reg_alpha=0.0 will be ignored. Current value: lambda_l1=1.5733706297029726\n",
            "[LightGBM] [Warning] bagging_fraction is set=0.7825654082552838, subsample=1.0 will be ignored. Current value: bagging_fraction=0.7825654082552838\n"
          ],
          "name": "stdout"
        },
        {
          "output_type": "stream",
          "text": [
            "\u001b[32m[I 2021-02-13 18:21:50,412]\u001b[0m Trial 1 finished with value: 0.9171029302955425 and parameters: {'lambda_l1': 1.5733706297029726, 'lambda_l2': 0.00317809931278659, 'num_leaves': 71, 'feature_fraction': 0.6402782005291808, 'bagging_fraction': 0.7825654082552838, 'bagging_freq': 5, 'min_child_samples': 87}. Best is trial 0 with value: 0.9186916279264565.\u001b[0m\n"
          ],
          "name": "stderr"
        },
        {
          "output_type": "stream",
          "text": [
            "[LightGBM] [Warning] feature_fraction is set=0.7577438967854969, colsample_bytree=1.0 will be ignored. Current value: feature_fraction=0.7577438967854969\n",
            "[LightGBM] [Warning] bagging_freq is set=5, subsample_freq=0 will be ignored. Current value: bagging_freq=5\n",
            "[LightGBM] [Warning] lambda_l2 is set=0.002534087956304238, reg_lambda=0.0 will be ignored. Current value: lambda_l2=0.002534087956304238\n",
            "[LightGBM] [Warning] lambda_l1 is set=0.05284344344391241, reg_alpha=0.0 will be ignored. Current value: lambda_l1=0.05284344344391241\n",
            "[LightGBM] [Warning] bagging_fraction is set=0.9848401048730321, subsample=1.0 will be ignored. Current value: bagging_fraction=0.9848401048730321\n",
            "[LightGBM] [Warning] feature_fraction is set=0.7577438967854969, colsample_bytree=1.0 will be ignored. Current value: feature_fraction=0.7577438967854969\n",
            "[LightGBM] [Warning] bagging_freq is set=5, subsample_freq=0 will be ignored. Current value: bagging_freq=5\n",
            "[LightGBM] [Warning] lambda_l2 is set=0.002534087956304238, reg_lambda=0.0 will be ignored. Current value: lambda_l2=0.002534087956304238\n",
            "[LightGBM] [Warning] lambda_l1 is set=0.05284344344391241, reg_alpha=0.0 will be ignored. Current value: lambda_l1=0.05284344344391241\n",
            "[LightGBM] [Warning] bagging_fraction is set=0.9848401048730321, subsample=1.0 will be ignored. Current value: bagging_fraction=0.9848401048730321\n",
            "[LightGBM] [Warning] feature_fraction is set=0.7577438967854969, colsample_bytree=1.0 will be ignored. Current value: feature_fraction=0.7577438967854969\n",
            "[LightGBM] [Warning] bagging_freq is set=5, subsample_freq=0 will be ignored. Current value: bagging_freq=5\n",
            "[LightGBM] [Warning] lambda_l2 is set=0.002534087956304238, reg_lambda=0.0 will be ignored. Current value: lambda_l2=0.002534087956304238\n",
            "[LightGBM] [Warning] lambda_l1 is set=0.05284344344391241, reg_alpha=0.0 will be ignored. Current value: lambda_l1=0.05284344344391241\n",
            "[LightGBM] [Warning] bagging_fraction is set=0.9848401048730321, subsample=1.0 will be ignored. Current value: bagging_fraction=0.9848401048730321\n",
            "[LightGBM] [Warning] feature_fraction is set=0.7577438967854969, colsample_bytree=1.0 will be ignored. Current value: feature_fraction=0.7577438967854969\n",
            "[LightGBM] [Warning] bagging_freq is set=5, subsample_freq=0 will be ignored. Current value: bagging_freq=5\n",
            "[LightGBM] [Warning] lambda_l2 is set=0.002534087956304238, reg_lambda=0.0 will be ignored. Current value: lambda_l2=0.002534087956304238\n",
            "[LightGBM] [Warning] lambda_l1 is set=0.05284344344391241, reg_alpha=0.0 will be ignored. Current value: lambda_l1=0.05284344344391241\n",
            "[LightGBM] [Warning] bagging_fraction is set=0.9848401048730321, subsample=1.0 will be ignored. Current value: bagging_fraction=0.9848401048730321\n",
            "[LightGBM] [Warning] feature_fraction is set=0.7577438967854969, colsample_bytree=1.0 will be ignored. Current value: feature_fraction=0.7577438967854969\n",
            "[LightGBM] [Warning] bagging_freq is set=5, subsample_freq=0 will be ignored. Current value: bagging_freq=5\n",
            "[LightGBM] [Warning] lambda_l2 is set=0.002534087956304238, reg_lambda=0.0 will be ignored. Current value: lambda_l2=0.002534087956304238\n",
            "[LightGBM] [Warning] lambda_l1 is set=0.05284344344391241, reg_alpha=0.0 will be ignored. Current value: lambda_l1=0.05284344344391241\n",
            "[LightGBM] [Warning] bagging_fraction is set=0.9848401048730321, subsample=1.0 will be ignored. Current value: bagging_fraction=0.9848401048730321\n"
          ],
          "name": "stdout"
        },
        {
          "output_type": "stream",
          "text": [
            "\u001b[32m[I 2021-02-13 18:21:52,181]\u001b[0m Trial 2 finished with value: 0.9128826904552498 and parameters: {'lambda_l1': 0.05284344344391241, 'lambda_l2': 0.002534087956304238, 'num_leaves': 75, 'feature_fraction': 0.7577438967854969, 'bagging_fraction': 0.9848401048730321, 'bagging_freq': 5, 'min_child_samples': 52}. Best is trial 0 with value: 0.9186916279264565.\u001b[0m\n"
          ],
          "name": "stderr"
        },
        {
          "output_type": "stream",
          "text": [
            "[LightGBM] [Warning] feature_fraction is set=0.7800424698700452, colsample_bytree=1.0 will be ignored. Current value: feature_fraction=0.7800424698700452\n",
            "[LightGBM] [Warning] bagging_freq is set=1, subsample_freq=0 will be ignored. Current value: bagging_freq=1\n",
            "[LightGBM] [Warning] lambda_l2 is set=0.0004759301884703894, reg_lambda=0.0 will be ignored. Current value: lambda_l2=0.0004759301884703894\n",
            "[LightGBM] [Warning] lambda_l1 is set=8.422025578337852, reg_alpha=0.0 will be ignored. Current value: lambda_l1=8.422025578337852\n",
            "[LightGBM] [Warning] bagging_fraction is set=0.4681724602116846, subsample=1.0 will be ignored. Current value: bagging_fraction=0.4681724602116846\n",
            "[LightGBM] [Warning] feature_fraction is set=0.7800424698700452, colsample_bytree=1.0 will be ignored. Current value: feature_fraction=0.7800424698700452\n",
            "[LightGBM] [Warning] bagging_freq is set=1, subsample_freq=0 will be ignored. Current value: bagging_freq=1\n",
            "[LightGBM] [Warning] lambda_l2 is set=0.0004759301884703894, reg_lambda=0.0 will be ignored. Current value: lambda_l2=0.0004759301884703894\n",
            "[LightGBM] [Warning] lambda_l1 is set=8.422025578337852, reg_alpha=0.0 will be ignored. Current value: lambda_l1=8.422025578337852\n",
            "[LightGBM] [Warning] bagging_fraction is set=0.4681724602116846, subsample=1.0 will be ignored. Current value: bagging_fraction=0.4681724602116846\n",
            "[LightGBM] [Warning] feature_fraction is set=0.7800424698700452, colsample_bytree=1.0 will be ignored. Current value: feature_fraction=0.7800424698700452\n",
            "[LightGBM] [Warning] bagging_freq is set=1, subsample_freq=0 will be ignored. Current value: bagging_freq=1\n",
            "[LightGBM] [Warning] lambda_l2 is set=0.0004759301884703894, reg_lambda=0.0 will be ignored. Current value: lambda_l2=0.0004759301884703894\n",
            "[LightGBM] [Warning] lambda_l1 is set=8.422025578337852, reg_alpha=0.0 will be ignored. Current value: lambda_l1=8.422025578337852\n",
            "[LightGBM] [Warning] bagging_fraction is set=0.4681724602116846, subsample=1.0 will be ignored. Current value: bagging_fraction=0.4681724602116846\n",
            "[LightGBM] [Warning] feature_fraction is set=0.7800424698700452, colsample_bytree=1.0 will be ignored. Current value: feature_fraction=0.7800424698700452\n",
            "[LightGBM] [Warning] bagging_freq is set=1, subsample_freq=0 will be ignored. Current value: bagging_freq=1\n",
            "[LightGBM] [Warning] lambda_l2 is set=0.0004759301884703894, reg_lambda=0.0 will be ignored. Current value: lambda_l2=0.0004759301884703894\n",
            "[LightGBM] [Warning] lambda_l1 is set=8.422025578337852, reg_alpha=0.0 will be ignored. Current value: lambda_l1=8.422025578337852\n",
            "[LightGBM] [Warning] bagging_fraction is set=0.4681724602116846, subsample=1.0 will be ignored. Current value: bagging_fraction=0.4681724602116846\n",
            "[LightGBM] [Warning] feature_fraction is set=0.7800424698700452, colsample_bytree=1.0 will be ignored. Current value: feature_fraction=0.7800424698700452\n",
            "[LightGBM] [Warning] bagging_freq is set=1, subsample_freq=0 will be ignored. Current value: bagging_freq=1\n",
            "[LightGBM] [Warning] lambda_l2 is set=0.0004759301884703894, reg_lambda=0.0 will be ignored. Current value: lambda_l2=0.0004759301884703894\n",
            "[LightGBM] [Warning] lambda_l1 is set=8.422025578337852, reg_alpha=0.0 will be ignored. Current value: lambda_l1=8.422025578337852\n",
            "[LightGBM] [Warning] bagging_fraction is set=0.4681724602116846, subsample=1.0 will be ignored. Current value: bagging_fraction=0.4681724602116846\n"
          ],
          "name": "stdout"
        },
        {
          "output_type": "stream",
          "text": [
            "\u001b[32m[I 2021-02-13 18:21:54,717]\u001b[0m Trial 3 finished with value: 0.9123591741005989 and parameters: {'lambda_l1': 8.422025578337852, 'lambda_l2': 0.0004759301884703894, 'num_leaves': 193, 'feature_fraction': 0.7800424698700452, 'bagging_fraction': 0.4681724602116846, 'bagging_freq': 1, 'min_child_samples': 36}. Best is trial 0 with value: 0.9186916279264565.\u001b[0m\n"
          ],
          "name": "stderr"
        },
        {
          "output_type": "stream",
          "text": [
            "[LightGBM] [Warning] feature_fraction is set=0.9248300177477653, colsample_bytree=1.0 will be ignored. Current value: feature_fraction=0.9248300177477653\n",
            "[LightGBM] [Warning] bagging_freq is set=3, subsample_freq=0 will be ignored. Current value: bagging_freq=3\n",
            "[LightGBM] [Warning] lambda_l2 is set=0.006845372741159373, reg_lambda=0.0 will be ignored. Current value: lambda_l2=0.006845372741159373\n",
            "[LightGBM] [Warning] lambda_l1 is set=2.5677611811938617e-07, reg_alpha=0.0 will be ignored. Current value: lambda_l1=2.5677611811938617e-07\n",
            "[LightGBM] [Warning] bagging_fraction is set=0.6276852499772246, subsample=1.0 will be ignored. Current value: bagging_fraction=0.6276852499772246\n",
            "[LightGBM] [Warning] feature_fraction is set=0.9248300177477653, colsample_bytree=1.0 will be ignored. Current value: feature_fraction=0.9248300177477653\n",
            "[LightGBM] [Warning] bagging_freq is set=3, subsample_freq=0 will be ignored. Current value: bagging_freq=3\n",
            "[LightGBM] [Warning] lambda_l2 is set=0.006845372741159373, reg_lambda=0.0 will be ignored. Current value: lambda_l2=0.006845372741159373\n",
            "[LightGBM] [Warning] lambda_l1 is set=2.5677611811938617e-07, reg_alpha=0.0 will be ignored. Current value: lambda_l1=2.5677611811938617e-07\n",
            "[LightGBM] [Warning] bagging_fraction is set=0.6276852499772246, subsample=1.0 will be ignored. Current value: bagging_fraction=0.6276852499772246\n",
            "[LightGBM] [Warning] feature_fraction is set=0.9248300177477653, colsample_bytree=1.0 will be ignored. Current value: feature_fraction=0.9248300177477653\n",
            "[LightGBM] [Warning] bagging_freq is set=3, subsample_freq=0 will be ignored. Current value: bagging_freq=3\n",
            "[LightGBM] [Warning] lambda_l2 is set=0.006845372741159373, reg_lambda=0.0 will be ignored. Current value: lambda_l2=0.006845372741159373\n",
            "[LightGBM] [Warning] lambda_l1 is set=2.5677611811938617e-07, reg_alpha=0.0 will be ignored. Current value: lambda_l1=2.5677611811938617e-07\n",
            "[LightGBM] [Warning] bagging_fraction is set=0.6276852499772246, subsample=1.0 will be ignored. Current value: bagging_fraction=0.6276852499772246\n",
            "[LightGBM] [Warning] feature_fraction is set=0.9248300177477653, colsample_bytree=1.0 will be ignored. Current value: feature_fraction=0.9248300177477653\n",
            "[LightGBM] [Warning] bagging_freq is set=3, subsample_freq=0 will be ignored. Current value: bagging_freq=3\n",
            "[LightGBM] [Warning] lambda_l2 is set=0.006845372741159373, reg_lambda=0.0 will be ignored. Current value: lambda_l2=0.006845372741159373\n",
            "[LightGBM] [Warning] lambda_l1 is set=2.5677611811938617e-07, reg_alpha=0.0 will be ignored. Current value: lambda_l1=2.5677611811938617e-07\n",
            "[LightGBM] [Warning] bagging_fraction is set=0.6276852499772246, subsample=1.0 will be ignored. Current value: bagging_fraction=0.6276852499772246\n",
            "[LightGBM] [Warning] feature_fraction is set=0.9248300177477653, colsample_bytree=1.0 will be ignored. Current value: feature_fraction=0.9248300177477653\n",
            "[LightGBM] [Warning] bagging_freq is set=3, subsample_freq=0 will be ignored. Current value: bagging_freq=3\n",
            "[LightGBM] [Warning] lambda_l2 is set=0.006845372741159373, reg_lambda=0.0 will be ignored. Current value: lambda_l2=0.006845372741159373\n",
            "[LightGBM] [Warning] lambda_l1 is set=2.5677611811938617e-07, reg_alpha=0.0 will be ignored. Current value: lambda_l1=2.5677611811938617e-07\n",
            "[LightGBM] [Warning] bagging_fraction is set=0.6276852499772246, subsample=1.0 will be ignored. Current value: bagging_fraction=0.6276852499772246\n"
          ],
          "name": "stdout"
        },
        {
          "output_type": "stream",
          "text": [
            "\u001b[32m[I 2021-02-13 18:21:56,909]\u001b[0m Trial 4 finished with value: 0.9081305579986318 and parameters: {'lambda_l1': 2.5677611811938617e-07, 'lambda_l2': 0.006845372741159373, 'num_leaves': 26, 'feature_fraction': 0.9248300177477653, 'bagging_fraction': 0.6276852499772246, 'bagging_freq': 3, 'min_child_samples': 17}. Best is trial 0 with value: 0.9186916279264565.\u001b[0m\n"
          ],
          "name": "stderr"
        },
        {
          "output_type": "stream",
          "text": [
            "[LightGBM] [Warning] feature_fraction is set=0.7037616475465804, colsample_bytree=1.0 will be ignored. Current value: feature_fraction=0.7037616475465804\n",
            "[LightGBM] [Warning] bagging_freq is set=4, subsample_freq=0 will be ignored. Current value: bagging_freq=4\n",
            "[LightGBM] [Warning] lambda_l2 is set=0.001648055468916106, reg_lambda=0.0 will be ignored. Current value: lambda_l2=0.001648055468916106\n",
            "[LightGBM] [Warning] lambda_l1 is set=1.288322163493324e-06, reg_alpha=0.0 will be ignored. Current value: lambda_l1=1.288322163493324e-06\n",
            "[LightGBM] [Warning] bagging_fraction is set=0.42869722140025546, subsample=1.0 will be ignored. Current value: bagging_fraction=0.42869722140025546\n",
            "[LightGBM] [Warning] feature_fraction is set=0.7037616475465804, colsample_bytree=1.0 will be ignored. Current value: feature_fraction=0.7037616475465804\n",
            "[LightGBM] [Warning] bagging_freq is set=4, subsample_freq=0 will be ignored. Current value: bagging_freq=4\n",
            "[LightGBM] [Warning] lambda_l2 is set=0.001648055468916106, reg_lambda=0.0 will be ignored. Current value: lambda_l2=0.001648055468916106\n",
            "[LightGBM] [Warning] lambda_l1 is set=1.288322163493324e-06, reg_alpha=0.0 will be ignored. Current value: lambda_l1=1.288322163493324e-06\n",
            "[LightGBM] [Warning] bagging_fraction is set=0.42869722140025546, subsample=1.0 will be ignored. Current value: bagging_fraction=0.42869722140025546\n",
            "[LightGBM] [Warning] feature_fraction is set=0.7037616475465804, colsample_bytree=1.0 will be ignored. Current value: feature_fraction=0.7037616475465804\n",
            "[LightGBM] [Warning] bagging_freq is set=4, subsample_freq=0 will be ignored. Current value: bagging_freq=4\n",
            "[LightGBM] [Warning] lambda_l2 is set=0.001648055468916106, reg_lambda=0.0 will be ignored. Current value: lambda_l2=0.001648055468916106\n",
            "[LightGBM] [Warning] lambda_l1 is set=1.288322163493324e-06, reg_alpha=0.0 will be ignored. Current value: lambda_l1=1.288322163493324e-06\n",
            "[LightGBM] [Warning] bagging_fraction is set=0.42869722140025546, subsample=1.0 will be ignored. Current value: bagging_fraction=0.42869722140025546\n",
            "[LightGBM] [Warning] feature_fraction is set=0.7037616475465804, colsample_bytree=1.0 will be ignored. Current value: feature_fraction=0.7037616475465804\n",
            "[LightGBM] [Warning] bagging_freq is set=4, subsample_freq=0 will be ignored. Current value: bagging_freq=4\n",
            "[LightGBM] [Warning] lambda_l2 is set=0.001648055468916106, reg_lambda=0.0 will be ignored. Current value: lambda_l2=0.001648055468916106\n",
            "[LightGBM] [Warning] lambda_l1 is set=1.288322163493324e-06, reg_alpha=0.0 will be ignored. Current value: lambda_l1=1.288322163493324e-06\n",
            "[LightGBM] [Warning] bagging_fraction is set=0.42869722140025546, subsample=1.0 will be ignored. Current value: bagging_fraction=0.42869722140025546\n",
            "[LightGBM] [Warning] feature_fraction is set=0.7037616475465804, colsample_bytree=1.0 will be ignored. Current value: feature_fraction=0.7037616475465804\n",
            "[LightGBM] [Warning] bagging_freq is set=4, subsample_freq=0 will be ignored. Current value: bagging_freq=4\n",
            "[LightGBM] [Warning] lambda_l2 is set=0.001648055468916106, reg_lambda=0.0 will be ignored. Current value: lambda_l2=0.001648055468916106\n",
            "[LightGBM] [Warning] lambda_l1 is set=1.288322163493324e-06, reg_alpha=0.0 will be ignored. Current value: lambda_l1=1.288322163493324e-06\n",
            "[LightGBM] [Warning] bagging_fraction is set=0.42869722140025546, subsample=1.0 will be ignored. Current value: bagging_fraction=0.42869722140025546\n"
          ],
          "name": "stdout"
        },
        {
          "output_type": "stream",
          "text": [
            "\u001b[32m[I 2021-02-13 18:21:58,360]\u001b[0m Trial 5 finished with value: 0.9149907163099776 and parameters: {'lambda_l1': 1.288322163493324e-06, 'lambda_l2': 0.001648055468916106, 'num_leaves': 11, 'feature_fraction': 0.7037616475465804, 'bagging_fraction': 0.42869722140025546, 'bagging_freq': 4, 'min_child_samples': 62}. Best is trial 0 with value: 0.9186916279264565.\u001b[0m\n"
          ],
          "name": "stderr"
        },
        {
          "output_type": "stream",
          "text": [
            "[LightGBM] [Warning] feature_fraction is set=0.6145802146533583, colsample_bytree=1.0 will be ignored. Current value: feature_fraction=0.6145802146533583\n",
            "[LightGBM] [Warning] bagging_freq is set=6, subsample_freq=0 will be ignored. Current value: bagging_freq=6\n",
            "[LightGBM] [Warning] lambda_l2 is set=2.679807165919679e-06, reg_lambda=0.0 will be ignored. Current value: lambda_l2=2.679807165919679e-06\n",
            "[LightGBM] [Warning] lambda_l1 is set=8.893100920497581e-06, reg_alpha=0.0 will be ignored. Current value: lambda_l1=8.893100920497581e-06\n",
            "[LightGBM] [Warning] bagging_fraction is set=0.45909901214108223, subsample=1.0 will be ignored. Current value: bagging_fraction=0.45909901214108223\n",
            "[LightGBM] [Warning] feature_fraction is set=0.6145802146533583, colsample_bytree=1.0 will be ignored. Current value: feature_fraction=0.6145802146533583\n",
            "[LightGBM] [Warning] bagging_freq is set=6, subsample_freq=0 will be ignored. Current value: bagging_freq=6\n",
            "[LightGBM] [Warning] lambda_l2 is set=2.679807165919679e-06, reg_lambda=0.0 will be ignored. Current value: lambda_l2=2.679807165919679e-06\n",
            "[LightGBM] [Warning] lambda_l1 is set=8.893100920497581e-06, reg_alpha=0.0 will be ignored. Current value: lambda_l1=8.893100920497581e-06\n",
            "[LightGBM] [Warning] bagging_fraction is set=0.45909901214108223, subsample=1.0 will be ignored. Current value: bagging_fraction=0.45909901214108223\n",
            "[LightGBM] [Warning] feature_fraction is set=0.6145802146533583, colsample_bytree=1.0 will be ignored. Current value: feature_fraction=0.6145802146533583\n",
            "[LightGBM] [Warning] bagging_freq is set=6, subsample_freq=0 will be ignored. Current value: bagging_freq=6\n",
            "[LightGBM] [Warning] lambda_l2 is set=2.679807165919679e-06, reg_lambda=0.0 will be ignored. Current value: lambda_l2=2.679807165919679e-06\n",
            "[LightGBM] [Warning] lambda_l1 is set=8.893100920497581e-06, reg_alpha=0.0 will be ignored. Current value: lambda_l1=8.893100920497581e-06\n",
            "[LightGBM] [Warning] bagging_fraction is set=0.45909901214108223, subsample=1.0 will be ignored. Current value: bagging_fraction=0.45909901214108223\n",
            "[LightGBM] [Warning] feature_fraction is set=0.6145802146533583, colsample_bytree=1.0 will be ignored. Current value: feature_fraction=0.6145802146533583\n",
            "[LightGBM] [Warning] bagging_freq is set=6, subsample_freq=0 will be ignored. Current value: bagging_freq=6\n",
            "[LightGBM] [Warning] lambda_l2 is set=2.679807165919679e-06, reg_lambda=0.0 will be ignored. Current value: lambda_l2=2.679807165919679e-06\n",
            "[LightGBM] [Warning] lambda_l1 is set=8.893100920497581e-06, reg_alpha=0.0 will be ignored. Current value: lambda_l1=8.893100920497581e-06\n",
            "[LightGBM] [Warning] bagging_fraction is set=0.45909901214108223, subsample=1.0 will be ignored. Current value: bagging_fraction=0.45909901214108223\n",
            "[LightGBM] [Warning] feature_fraction is set=0.6145802146533583, colsample_bytree=1.0 will be ignored. Current value: feature_fraction=0.6145802146533583\n",
            "[LightGBM] [Warning] bagging_freq is set=6, subsample_freq=0 will be ignored. Current value: bagging_freq=6\n",
            "[LightGBM] [Warning] lambda_l2 is set=2.679807165919679e-06, reg_lambda=0.0 will be ignored. Current value: lambda_l2=2.679807165919679e-06\n",
            "[LightGBM] [Warning] lambda_l1 is set=8.893100920497581e-06, reg_alpha=0.0 will be ignored. Current value: lambda_l1=8.893100920497581e-06\n",
            "[LightGBM] [Warning] bagging_fraction is set=0.45909901214108223, subsample=1.0 will be ignored. Current value: bagging_fraction=0.45909901214108223\n"
          ],
          "name": "stdout"
        },
        {
          "output_type": "stream",
          "text": [
            "\u001b[32m[I 2021-02-13 18:21:59,629]\u001b[0m Trial 6 finished with value: 0.9070709608968184 and parameters: {'lambda_l1': 8.893100920497581e-06, 'lambda_l2': 2.679807165919679e-06, 'num_leaves': 215, 'feature_fraction': 0.6145802146533583, 'bagging_fraction': 0.45909901214108223, 'bagging_freq': 6, 'min_child_samples': 94}. Best is trial 0 with value: 0.9186916279264565.\u001b[0m\n"
          ],
          "name": "stderr"
        },
        {
          "output_type": "stream",
          "text": [
            "[LightGBM] [Warning] feature_fraction is set=0.4999416608402357, colsample_bytree=1.0 will be ignored. Current value: feature_fraction=0.4999416608402357\n",
            "[LightGBM] [Warning] bagging_freq is set=2, subsample_freq=0 will be ignored. Current value: bagging_freq=2\n",
            "[LightGBM] [Warning] lambda_l2 is set=0.0003013277599320925, reg_lambda=0.0 will be ignored. Current value: lambda_l2=0.0003013277599320925\n",
            "[LightGBM] [Warning] lambda_l1 is set=0.0006343258802684586, reg_alpha=0.0 will be ignored. Current value: lambda_l1=0.0006343258802684586\n",
            "[LightGBM] [Warning] bagging_fraction is set=0.5550078648353668, subsample=1.0 will be ignored. Current value: bagging_fraction=0.5550078648353668\n",
            "[LightGBM] [Warning] feature_fraction is set=0.4999416608402357, colsample_bytree=1.0 will be ignored. Current value: feature_fraction=0.4999416608402357\n",
            "[LightGBM] [Warning] bagging_freq is set=2, subsample_freq=0 will be ignored. Current value: bagging_freq=2\n",
            "[LightGBM] [Warning] lambda_l2 is set=0.0003013277599320925, reg_lambda=0.0 will be ignored. Current value: lambda_l2=0.0003013277599320925\n",
            "[LightGBM] [Warning] lambda_l1 is set=0.0006343258802684586, reg_alpha=0.0 will be ignored. Current value: lambda_l1=0.0006343258802684586\n",
            "[LightGBM] [Warning] bagging_fraction is set=0.5550078648353668, subsample=1.0 will be ignored. Current value: bagging_fraction=0.5550078648353668\n",
            "[LightGBM] [Warning] feature_fraction is set=0.4999416608402357, colsample_bytree=1.0 will be ignored. Current value: feature_fraction=0.4999416608402357\n",
            "[LightGBM] [Warning] bagging_freq is set=2, subsample_freq=0 will be ignored. Current value: bagging_freq=2\n",
            "[LightGBM] [Warning] lambda_l2 is set=0.0003013277599320925, reg_lambda=0.0 will be ignored. Current value: lambda_l2=0.0003013277599320925\n",
            "[LightGBM] [Warning] lambda_l1 is set=0.0006343258802684586, reg_alpha=0.0 will be ignored. Current value: lambda_l1=0.0006343258802684586\n",
            "[LightGBM] [Warning] bagging_fraction is set=0.5550078648353668, subsample=1.0 will be ignored. Current value: bagging_fraction=0.5550078648353668\n",
            "[LightGBM] [Warning] feature_fraction is set=0.4999416608402357, colsample_bytree=1.0 will be ignored. Current value: feature_fraction=0.4999416608402357\n",
            "[LightGBM] [Warning] bagging_freq is set=2, subsample_freq=0 will be ignored. Current value: bagging_freq=2\n",
            "[LightGBM] [Warning] lambda_l2 is set=0.0003013277599320925, reg_lambda=0.0 will be ignored. Current value: lambda_l2=0.0003013277599320925\n",
            "[LightGBM] [Warning] lambda_l1 is set=0.0006343258802684586, reg_alpha=0.0 will be ignored. Current value: lambda_l1=0.0006343258802684586\n",
            "[LightGBM] [Warning] bagging_fraction is set=0.5550078648353668, subsample=1.0 will be ignored. Current value: bagging_fraction=0.5550078648353668\n",
            "[LightGBM] [Warning] feature_fraction is set=0.4999416608402357, colsample_bytree=1.0 will be ignored. Current value: feature_fraction=0.4999416608402357\n",
            "[LightGBM] [Warning] bagging_freq is set=2, subsample_freq=0 will be ignored. Current value: bagging_freq=2\n",
            "[LightGBM] [Warning] lambda_l2 is set=0.0003013277599320925, reg_lambda=0.0 will be ignored. Current value: lambda_l2=0.0003013277599320925\n",
            "[LightGBM] [Warning] lambda_l1 is set=0.0006343258802684586, reg_alpha=0.0 will be ignored. Current value: lambda_l1=0.0006343258802684586\n",
            "[LightGBM] [Warning] bagging_fraction is set=0.5550078648353668, subsample=1.0 will be ignored. Current value: bagging_fraction=0.5550078648353668\n"
          ],
          "name": "stdout"
        },
        {
          "output_type": "stream",
          "text": [
            "\u001b[32m[I 2021-02-13 18:22:01,435]\u001b[0m Trial 7 finished with value: 0.912352193882537 and parameters: {'lambda_l1': 0.0006343258802684586, 'lambda_l2': 0.0003013277599320925, 'num_leaves': 107, 'feature_fraction': 0.4999416608402357, 'bagging_fraction': 0.5550078648353668, 'bagging_freq': 2, 'min_child_samples': 88}. Best is trial 0 with value: 0.9186916279264565.\u001b[0m\n"
          ],
          "name": "stderr"
        },
        {
          "output_type": "stream",
          "text": [
            "[LightGBM] [Warning] feature_fraction is set=0.908673509764101, colsample_bytree=1.0 will be ignored. Current value: feature_fraction=0.908673509764101\n",
            "[LightGBM] [Warning] bagging_freq is set=1, subsample_freq=0 will be ignored. Current value: bagging_freq=1\n",
            "[LightGBM] [Warning] lambda_l2 is set=2.3680787964392476e-05, reg_lambda=0.0 will be ignored. Current value: lambda_l2=2.3680787964392476e-05\n",
            "[LightGBM] [Warning] lambda_l1 is set=2.0420409331853916e-06, reg_alpha=0.0 will be ignored. Current value: lambda_l1=2.0420409331853916e-06\n",
            "[LightGBM] [Warning] bagging_fraction is set=0.555272386619303, subsample=1.0 will be ignored. Current value: bagging_fraction=0.555272386619303\n",
            "[LightGBM] [Warning] feature_fraction is set=0.908673509764101, colsample_bytree=1.0 will be ignored. Current value: feature_fraction=0.908673509764101\n",
            "[LightGBM] [Warning] bagging_freq is set=1, subsample_freq=0 will be ignored. Current value: bagging_freq=1\n",
            "[LightGBM] [Warning] lambda_l2 is set=2.3680787964392476e-05, reg_lambda=0.0 will be ignored. Current value: lambda_l2=2.3680787964392476e-05\n",
            "[LightGBM] [Warning] lambda_l1 is set=2.0420409331853916e-06, reg_alpha=0.0 will be ignored. Current value: lambda_l1=2.0420409331853916e-06\n",
            "[LightGBM] [Warning] bagging_fraction is set=0.555272386619303, subsample=1.0 will be ignored. Current value: bagging_fraction=0.555272386619303\n",
            "[LightGBM] [Warning] feature_fraction is set=0.908673509764101, colsample_bytree=1.0 will be ignored. Current value: feature_fraction=0.908673509764101\n",
            "[LightGBM] [Warning] bagging_freq is set=1, subsample_freq=0 will be ignored. Current value: bagging_freq=1\n",
            "[LightGBM] [Warning] lambda_l2 is set=2.3680787964392476e-05, reg_lambda=0.0 will be ignored. Current value: lambda_l2=2.3680787964392476e-05\n",
            "[LightGBM] [Warning] lambda_l1 is set=2.0420409331853916e-06, reg_alpha=0.0 will be ignored. Current value: lambda_l1=2.0420409331853916e-06\n",
            "[LightGBM] [Warning] bagging_fraction is set=0.555272386619303, subsample=1.0 will be ignored. Current value: bagging_fraction=0.555272386619303\n",
            "[LightGBM] [Warning] feature_fraction is set=0.908673509764101, colsample_bytree=1.0 will be ignored. Current value: feature_fraction=0.908673509764101\n",
            "[LightGBM] [Warning] bagging_freq is set=1, subsample_freq=0 will be ignored. Current value: bagging_freq=1\n",
            "[LightGBM] [Warning] lambda_l2 is set=2.3680787964392476e-05, reg_lambda=0.0 will be ignored. Current value: lambda_l2=2.3680787964392476e-05\n",
            "[LightGBM] [Warning] lambda_l1 is set=2.0420409331853916e-06, reg_alpha=0.0 will be ignored. Current value: lambda_l1=2.0420409331853916e-06\n",
            "[LightGBM] [Warning] bagging_fraction is set=0.555272386619303, subsample=1.0 will be ignored. Current value: bagging_fraction=0.555272386619303\n",
            "[LightGBM] [Warning] feature_fraction is set=0.908673509764101, colsample_bytree=1.0 will be ignored. Current value: feature_fraction=0.908673509764101\n",
            "[LightGBM] [Warning] bagging_freq is set=1, subsample_freq=0 will be ignored. Current value: bagging_freq=1\n",
            "[LightGBM] [Warning] lambda_l2 is set=2.3680787964392476e-05, reg_lambda=0.0 will be ignored. Current value: lambda_l2=2.3680787964392476e-05\n",
            "[LightGBM] [Warning] lambda_l1 is set=2.0420409331853916e-06, reg_alpha=0.0 will be ignored. Current value: lambda_l1=2.0420409331853916e-06\n",
            "[LightGBM] [Warning] bagging_fraction is set=0.555272386619303, subsample=1.0 will be ignored. Current value: bagging_fraction=0.555272386619303\n"
          ],
          "name": "stdout"
        },
        {
          "output_type": "stream",
          "text": [
            "\u001b[32m[I 2021-02-13 18:22:03,490]\u001b[0m Trial 8 finished with value: 0.9118286775278859 and parameters: {'lambda_l1': 2.0420409331853916e-06, 'lambda_l2': 2.3680787964392476e-05, 'num_leaves': 153, 'feature_fraction': 0.908673509764101, 'bagging_fraction': 0.555272386619303, 'bagging_freq': 1, 'min_child_samples': 15}. Best is trial 0 with value: 0.9186916279264565.\u001b[0m\n"
          ],
          "name": "stderr"
        },
        {
          "output_type": "stream",
          "text": [
            "[LightGBM] [Warning] feature_fraction is set=0.8658423470673897, colsample_bytree=1.0 will be ignored. Current value: feature_fraction=0.8658423470673897\n",
            "[LightGBM] [Warning] bagging_freq is set=5, subsample_freq=0 will be ignored. Current value: bagging_freq=5\n",
            "[LightGBM] [Warning] lambda_l2 is set=9.648894188160757e-05, reg_lambda=0.0 will be ignored. Current value: lambda_l2=9.648894188160757e-05\n",
            "[LightGBM] [Warning] lambda_l1 is set=0.020474675410904163, reg_alpha=0.0 will be ignored. Current value: lambda_l1=0.020474675410904163\n",
            "[LightGBM] [Warning] bagging_fraction is set=0.776003145468349, subsample=1.0 will be ignored. Current value: bagging_fraction=0.776003145468349\n",
            "[LightGBM] [Warning] feature_fraction is set=0.8658423470673897, colsample_bytree=1.0 will be ignored. Current value: feature_fraction=0.8658423470673897\n",
            "[LightGBM] [Warning] bagging_freq is set=5, subsample_freq=0 will be ignored. Current value: bagging_freq=5\n",
            "[LightGBM] [Warning] lambda_l2 is set=9.648894188160757e-05, reg_lambda=0.0 will be ignored. Current value: lambda_l2=9.648894188160757e-05\n",
            "[LightGBM] [Warning] lambda_l1 is set=0.020474675410904163, reg_alpha=0.0 will be ignored. Current value: lambda_l1=0.020474675410904163\n",
            "[LightGBM] [Warning] bagging_fraction is set=0.776003145468349, subsample=1.0 will be ignored. Current value: bagging_fraction=0.776003145468349\n",
            "[LightGBM] [Warning] feature_fraction is set=0.8658423470673897, colsample_bytree=1.0 will be ignored. Current value: feature_fraction=0.8658423470673897\n",
            "[LightGBM] [Warning] bagging_freq is set=5, subsample_freq=0 will be ignored. Current value: bagging_freq=5\n",
            "[LightGBM] [Warning] lambda_l2 is set=9.648894188160757e-05, reg_lambda=0.0 will be ignored. Current value: lambda_l2=9.648894188160757e-05\n",
            "[LightGBM] [Warning] lambda_l1 is set=0.020474675410904163, reg_alpha=0.0 will be ignored. Current value: lambda_l1=0.020474675410904163\n",
            "[LightGBM] [Warning] bagging_fraction is set=0.776003145468349, subsample=1.0 will be ignored. Current value: bagging_fraction=0.776003145468349\n",
            "[LightGBM] [Warning] feature_fraction is set=0.8658423470673897, colsample_bytree=1.0 will be ignored. Current value: feature_fraction=0.8658423470673897\n",
            "[LightGBM] [Warning] bagging_freq is set=5, subsample_freq=0 will be ignored. Current value: bagging_freq=5\n",
            "[LightGBM] [Warning] lambda_l2 is set=9.648894188160757e-05, reg_lambda=0.0 will be ignored. Current value: lambda_l2=9.648894188160757e-05\n",
            "[LightGBM] [Warning] lambda_l1 is set=0.020474675410904163, reg_alpha=0.0 will be ignored. Current value: lambda_l1=0.020474675410904163\n",
            "[LightGBM] [Warning] bagging_fraction is set=0.776003145468349, subsample=1.0 will be ignored. Current value: bagging_fraction=0.776003145468349\n",
            "[LightGBM] [Warning] feature_fraction is set=0.8658423470673897, colsample_bytree=1.0 will be ignored. Current value: feature_fraction=0.8658423470673897\n",
            "[LightGBM] [Warning] bagging_freq is set=5, subsample_freq=0 will be ignored. Current value: bagging_freq=5\n",
            "[LightGBM] [Warning] lambda_l2 is set=9.648894188160757e-05, reg_lambda=0.0 will be ignored. Current value: lambda_l2=9.648894188160757e-05\n",
            "[LightGBM] [Warning] lambda_l1 is set=0.020474675410904163, reg_alpha=0.0 will be ignored. Current value: lambda_l1=0.020474675410904163\n",
            "[LightGBM] [Warning] bagging_fraction is set=0.776003145468349, subsample=1.0 will be ignored. Current value: bagging_fraction=0.776003145468349\n"
          ],
          "name": "stdout"
        },
        {
          "output_type": "stream",
          "text": [
            "\u001b[32m[I 2021-02-13 18:22:05,429]\u001b[0m Trial 9 finished with value: 0.9097178595859334 and parameters: {'lambda_l1': 0.020474675410904163, 'lambda_l2': 9.648894188160757e-05, 'num_leaves': 228, 'feature_fraction': 0.8658423470673897, 'bagging_fraction': 0.776003145468349, 'bagging_freq': 5, 'min_child_samples': 34}. Best is trial 0 with value: 0.9186916279264565.\u001b[0m\n"
          ],
          "name": "stderr"
        },
        {
          "output_type": "stream",
          "text": [
            "[LightGBM] [Warning] feature_fraction is set=0.42657077474344396, colsample_bytree=1.0 will be ignored. Current value: feature_fraction=0.42657077474344396\n",
            "[LightGBM] [Warning] bagging_freq is set=3, subsample_freq=0 will be ignored. Current value: bagging_freq=3\n",
            "[LightGBM] [Warning] lambda_l2 is set=5.58116599508472, reg_lambda=0.0 will be ignored. Current value: lambda_l2=5.58116599508472\n",
            "[LightGBM] [Warning] lambda_l1 is set=0.00018762957023022705, reg_alpha=0.0 will be ignored. Current value: lambda_l1=0.00018762957023022705\n",
            "[LightGBM] [Warning] bagging_fraction is set=0.9774789714279126, subsample=1.0 will be ignored. Current value: bagging_fraction=0.9774789714279126\n",
            "[LightGBM] [Warning] feature_fraction is set=0.42657077474344396, colsample_bytree=1.0 will be ignored. Current value: feature_fraction=0.42657077474344396\n",
            "[LightGBM] [Warning] bagging_freq is set=3, subsample_freq=0 will be ignored. Current value: bagging_freq=3\n",
            "[LightGBM] [Warning] lambda_l2 is set=5.58116599508472, reg_lambda=0.0 will be ignored. Current value: lambda_l2=5.58116599508472\n",
            "[LightGBM] [Warning] lambda_l1 is set=0.00018762957023022705, reg_alpha=0.0 will be ignored. Current value: lambda_l1=0.00018762957023022705\n",
            "[LightGBM] [Warning] bagging_fraction is set=0.9774789714279126, subsample=1.0 will be ignored. Current value: bagging_fraction=0.9774789714279126\n",
            "[LightGBM] [Warning] feature_fraction is set=0.42657077474344396, colsample_bytree=1.0 will be ignored. Current value: feature_fraction=0.42657077474344396\n",
            "[LightGBM] [Warning] bagging_freq is set=3, subsample_freq=0 will be ignored. Current value: bagging_freq=3\n",
            "[LightGBM] [Warning] lambda_l2 is set=5.58116599508472, reg_lambda=0.0 will be ignored. Current value: lambda_l2=5.58116599508472\n",
            "[LightGBM] [Warning] lambda_l1 is set=0.00018762957023022705, reg_alpha=0.0 will be ignored. Current value: lambda_l1=0.00018762957023022705\n",
            "[LightGBM] [Warning] bagging_fraction is set=0.9774789714279126, subsample=1.0 will be ignored. Current value: bagging_fraction=0.9774789714279126\n",
            "[LightGBM] [Warning] feature_fraction is set=0.42657077474344396, colsample_bytree=1.0 will be ignored. Current value: feature_fraction=0.42657077474344396\n",
            "[LightGBM] [Warning] bagging_freq is set=3, subsample_freq=0 will be ignored. Current value: bagging_freq=3\n",
            "[LightGBM] [Warning] lambda_l2 is set=5.58116599508472, reg_lambda=0.0 will be ignored. Current value: lambda_l2=5.58116599508472\n",
            "[LightGBM] [Warning] lambda_l1 is set=0.00018762957023022705, reg_alpha=0.0 will be ignored. Current value: lambda_l1=0.00018762957023022705\n",
            "[LightGBM] [Warning] bagging_fraction is set=0.9774789714279126, subsample=1.0 will be ignored. Current value: bagging_fraction=0.9774789714279126\n",
            "[LightGBM] [Warning] feature_fraction is set=0.42657077474344396, colsample_bytree=1.0 will be ignored. Current value: feature_fraction=0.42657077474344396\n",
            "[LightGBM] [Warning] bagging_freq is set=3, subsample_freq=0 will be ignored. Current value: bagging_freq=3\n",
            "[LightGBM] [Warning] lambda_l2 is set=5.58116599508472, reg_lambda=0.0 will be ignored. Current value: lambda_l2=5.58116599508472\n",
            "[LightGBM] [Warning] lambda_l1 is set=0.00018762957023022705, reg_alpha=0.0 will be ignored. Current value: lambda_l1=0.00018762957023022705\n",
            "[LightGBM] [Warning] bagging_fraction is set=0.9774789714279126, subsample=1.0 will be ignored. Current value: bagging_fraction=0.9774789714279126\n"
          ],
          "name": "stdout"
        },
        {
          "output_type": "stream",
          "text": [
            "\u001b[32m[I 2021-02-13 18:22:07,135]\u001b[0m Trial 10 finished with value: 0.9171015342519301 and parameters: {'lambda_l1': 0.00018762957023022705, 'lambda_l2': 5.58116599508472, 'num_leaves': 161, 'feature_fraction': 0.42657077474344396, 'bagging_fraction': 0.9774789714279126, 'bagging_freq': 3, 'min_child_samples': 70}. Best is trial 0 with value: 0.9186916279264565.\u001b[0m\n"
          ],
          "name": "stderr"
        },
        {
          "output_type": "stream",
          "text": [
            "[LightGBM] [Warning] feature_fraction is set=0.5659282279386281, colsample_bytree=1.0 will be ignored. Current value: feature_fraction=0.5659282279386281\n",
            "[LightGBM] [Warning] bagging_freq is set=7, subsample_freq=0 will be ignored. Current value: bagging_freq=7\n",
            "[LightGBM] [Warning] lambda_l2 is set=0.27850776598704996, reg_lambda=0.0 will be ignored. Current value: lambda_l2=0.27850776598704996\n",
            "[LightGBM] [Warning] lambda_l1 is set=1.6968705408025033, reg_alpha=0.0 will be ignored. Current value: lambda_l1=1.6968705408025033\n",
            "[LightGBM] [Warning] bagging_fraction is set=0.7968866222733816, subsample=1.0 will be ignored. Current value: bagging_fraction=0.7968866222733816\n",
            "[LightGBM] [Warning] feature_fraction is set=0.5659282279386281, colsample_bytree=1.0 will be ignored. Current value: feature_fraction=0.5659282279386281\n",
            "[LightGBM] [Warning] bagging_freq is set=7, subsample_freq=0 will be ignored. Current value: bagging_freq=7\n",
            "[LightGBM] [Warning] lambda_l2 is set=0.27850776598704996, reg_lambda=0.0 will be ignored. Current value: lambda_l2=0.27850776598704996\n",
            "[LightGBM] [Warning] lambda_l1 is set=1.6968705408025033, reg_alpha=0.0 will be ignored. Current value: lambda_l1=1.6968705408025033\n",
            "[LightGBM] [Warning] bagging_fraction is set=0.7968866222733816, subsample=1.0 will be ignored. Current value: bagging_fraction=0.7968866222733816\n",
            "[LightGBM] [Warning] feature_fraction is set=0.5659282279386281, colsample_bytree=1.0 will be ignored. Current value: feature_fraction=0.5659282279386281\n",
            "[LightGBM] [Warning] bagging_freq is set=7, subsample_freq=0 will be ignored. Current value: bagging_freq=7\n",
            "[LightGBM] [Warning] lambda_l2 is set=0.27850776598704996, reg_lambda=0.0 will be ignored. Current value: lambda_l2=0.27850776598704996\n",
            "[LightGBM] [Warning] lambda_l1 is set=1.6968705408025033, reg_alpha=0.0 will be ignored. Current value: lambda_l1=1.6968705408025033\n",
            "[LightGBM] [Warning] bagging_fraction is set=0.7968866222733816, subsample=1.0 will be ignored. Current value: bagging_fraction=0.7968866222733816\n",
            "[LightGBM] [Warning] feature_fraction is set=0.5659282279386281, colsample_bytree=1.0 will be ignored. Current value: feature_fraction=0.5659282279386281\n",
            "[LightGBM] [Warning] bagging_freq is set=7, subsample_freq=0 will be ignored. Current value: bagging_freq=7\n",
            "[LightGBM] [Warning] lambda_l2 is set=0.27850776598704996, reg_lambda=0.0 will be ignored. Current value: lambda_l2=0.27850776598704996\n",
            "[LightGBM] [Warning] lambda_l1 is set=1.6968705408025033, reg_alpha=0.0 will be ignored. Current value: lambda_l1=1.6968705408025033\n",
            "[LightGBM] [Warning] bagging_fraction is set=0.7968866222733816, subsample=1.0 will be ignored. Current value: bagging_fraction=0.7968866222733816\n",
            "[LightGBM] [Warning] feature_fraction is set=0.5659282279386281, colsample_bytree=1.0 will be ignored. Current value: feature_fraction=0.5659282279386281\n",
            "[LightGBM] [Warning] bagging_freq is set=7, subsample_freq=0 will be ignored. Current value: bagging_freq=7\n",
            "[LightGBM] [Warning] lambda_l2 is set=0.27850776598704996, reg_lambda=0.0 will be ignored. Current value: lambda_l2=0.27850776598704996\n",
            "[LightGBM] [Warning] lambda_l1 is set=1.6968705408025033, reg_alpha=0.0 will be ignored. Current value: lambda_l1=1.6968705408025033\n",
            "[LightGBM] [Warning] bagging_fraction is set=0.7968866222733816, subsample=1.0 will be ignored. Current value: bagging_fraction=0.7968866222733816\n"
          ],
          "name": "stdout"
        },
        {
          "output_type": "stream",
          "text": [
            "\u001b[32m[I 2021-02-13 18:22:08,467]\u001b[0m Trial 11 finished with value: 0.9181583392665187 and parameters: {'lambda_l1': 1.6968705408025033, 'lambda_l2': 0.27850776598704996, 'num_leaves': 74, 'feature_fraction': 0.5659282279386281, 'bagging_fraction': 0.7968866222733816, 'bagging_freq': 7, 'min_child_samples': 78}. Best is trial 0 with value: 0.9186916279264565.\u001b[0m\n"
          ],
          "name": "stderr"
        },
        {
          "output_type": "stream",
          "text": [
            "[LightGBM] [Warning] feature_fraction is set=0.532900723102684, colsample_bytree=1.0 will be ignored. Current value: feature_fraction=0.532900723102684\n",
            "[LightGBM] [Warning] bagging_freq is set=7, subsample_freq=0 will be ignored. Current value: bagging_freq=7\n",
            "[LightGBM] [Warning] lambda_l2 is set=1.111575131677047e-08, reg_lambda=0.0 will be ignored. Current value: lambda_l2=1.111575131677047e-08\n",
            "[LightGBM] [Warning] lambda_l1 is set=0.0003887836741206263, reg_alpha=0.0 will be ignored. Current value: lambda_l1=0.0003887836741206263\n",
            "[LightGBM] [Warning] bagging_fraction is set=0.8598205842856479, subsample=1.0 will be ignored. Current value: bagging_fraction=0.8598205842856479\n",
            "[LightGBM] [Warning] feature_fraction is set=0.532900723102684, colsample_bytree=1.0 will be ignored. Current value: feature_fraction=0.532900723102684\n",
            "[LightGBM] [Warning] bagging_freq is set=7, subsample_freq=0 will be ignored. Current value: bagging_freq=7\n",
            "[LightGBM] [Warning] lambda_l2 is set=1.111575131677047e-08, reg_lambda=0.0 will be ignored. Current value: lambda_l2=1.111575131677047e-08\n",
            "[LightGBM] [Warning] lambda_l1 is set=0.0003887836741206263, reg_alpha=0.0 will be ignored. Current value: lambda_l1=0.0003887836741206263\n",
            "[LightGBM] [Warning] bagging_fraction is set=0.8598205842856479, subsample=1.0 will be ignored. Current value: bagging_fraction=0.8598205842856479\n",
            "[LightGBM] [Warning] feature_fraction is set=0.532900723102684, colsample_bytree=1.0 will be ignored. Current value: feature_fraction=0.532900723102684\n",
            "[LightGBM] [Warning] bagging_freq is set=7, subsample_freq=0 will be ignored. Current value: bagging_freq=7\n",
            "[LightGBM] [Warning] lambda_l2 is set=1.111575131677047e-08, reg_lambda=0.0 will be ignored. Current value: lambda_l2=1.111575131677047e-08\n",
            "[LightGBM] [Warning] lambda_l1 is set=0.0003887836741206263, reg_alpha=0.0 will be ignored. Current value: lambda_l1=0.0003887836741206263\n",
            "[LightGBM] [Warning] bagging_fraction is set=0.8598205842856479, subsample=1.0 will be ignored. Current value: bagging_fraction=0.8598205842856479\n",
            "[LightGBM] [Warning] feature_fraction is set=0.532900723102684, colsample_bytree=1.0 will be ignored. Current value: feature_fraction=0.532900723102684\n",
            "[LightGBM] [Warning] bagging_freq is set=7, subsample_freq=0 will be ignored. Current value: bagging_freq=7\n",
            "[LightGBM] [Warning] lambda_l2 is set=1.111575131677047e-08, reg_lambda=0.0 will be ignored. Current value: lambda_l2=1.111575131677047e-08\n",
            "[LightGBM] [Warning] lambda_l1 is set=0.0003887836741206263, reg_alpha=0.0 will be ignored. Current value: lambda_l1=0.0003887836741206263\n",
            "[LightGBM] [Warning] bagging_fraction is set=0.8598205842856479, subsample=1.0 will be ignored. Current value: bagging_fraction=0.8598205842856479\n",
            "[LightGBM] [Warning] feature_fraction is set=0.532900723102684, colsample_bytree=1.0 will be ignored. Current value: feature_fraction=0.532900723102684\n",
            "[LightGBM] [Warning] bagging_freq is set=7, subsample_freq=0 will be ignored. Current value: bagging_freq=7\n",
            "[LightGBM] [Warning] lambda_l2 is set=1.111575131677047e-08, reg_lambda=0.0 will be ignored. Current value: lambda_l2=1.111575131677047e-08\n",
            "[LightGBM] [Warning] lambda_l1 is set=0.0003887836741206263, reg_alpha=0.0 will be ignored. Current value: lambda_l1=0.0003887836741206263\n",
            "[LightGBM] [Warning] bagging_fraction is set=0.8598205842856479, subsample=1.0 will be ignored. Current value: bagging_fraction=0.8598205842856479\n"
          ],
          "name": "stdout"
        },
        {
          "output_type": "stream",
          "text": [
            "\u001b[32m[I 2021-02-13 18:22:09,960]\u001b[0m Trial 12 finished with value: 0.9155226089263028 and parameters: {'lambda_l1': 0.0003887836741206263, 'lambda_l2': 1.111575131677047e-08, 'num_leaves': 116, 'feature_fraction': 0.532900723102684, 'bagging_fraction': 0.8598205842856479, 'bagging_freq': 7, 'min_child_samples': 72}. Best is trial 0 with value: 0.9186916279264565.\u001b[0m\n"
          ],
          "name": "stderr"
        },
        {
          "output_type": "stream",
          "text": [
            "[LightGBM] [Warning] feature_fraction is set=0.5690087361858346, colsample_bytree=1.0 will be ignored. Current value: feature_fraction=0.5690087361858346\n",
            "[LightGBM] [Warning] bagging_freq is set=7, subsample_freq=0 will be ignored. Current value: bagging_freq=7\n",
            "[LightGBM] [Warning] lambda_l2 is set=0.38832864569484843, reg_lambda=0.0 will be ignored. Current value: lambda_l2=0.38832864569484843\n",
            "[LightGBM] [Warning] lambda_l1 is set=0.04330783298273605, reg_alpha=0.0 will be ignored. Current value: lambda_l1=0.04330783298273605\n",
            "[LightGBM] [Warning] bagging_fraction is set=0.7126656132876189, subsample=1.0 will be ignored. Current value: bagging_fraction=0.7126656132876189\n",
            "[LightGBM] [Warning] feature_fraction is set=0.5690087361858346, colsample_bytree=1.0 will be ignored. Current value: feature_fraction=0.5690087361858346\n",
            "[LightGBM] [Warning] bagging_freq is set=7, subsample_freq=0 will be ignored. Current value: bagging_freq=7\n",
            "[LightGBM] [Warning] lambda_l2 is set=0.38832864569484843, reg_lambda=0.0 will be ignored. Current value: lambda_l2=0.38832864569484843\n",
            "[LightGBM] [Warning] lambda_l1 is set=0.04330783298273605, reg_alpha=0.0 will be ignored. Current value: lambda_l1=0.04330783298273605\n",
            "[LightGBM] [Warning] bagging_fraction is set=0.7126656132876189, subsample=1.0 will be ignored. Current value: bagging_fraction=0.7126656132876189\n",
            "[LightGBM] [Warning] feature_fraction is set=0.5690087361858346, colsample_bytree=1.0 will be ignored. Current value: feature_fraction=0.5690087361858346\n",
            "[LightGBM] [Warning] bagging_freq is set=7, subsample_freq=0 will be ignored. Current value: bagging_freq=7\n",
            "[LightGBM] [Warning] lambda_l2 is set=0.38832864569484843, reg_lambda=0.0 will be ignored. Current value: lambda_l2=0.38832864569484843\n",
            "[LightGBM] [Warning] lambda_l1 is set=0.04330783298273605, reg_alpha=0.0 will be ignored. Current value: lambda_l1=0.04330783298273605\n",
            "[LightGBM] [Warning] bagging_fraction is set=0.7126656132876189, subsample=1.0 will be ignored. Current value: bagging_fraction=0.7126656132876189\n",
            "[LightGBM] [Warning] feature_fraction is set=0.5690087361858346, colsample_bytree=1.0 will be ignored. Current value: feature_fraction=0.5690087361858346\n",
            "[LightGBM] [Warning] bagging_freq is set=7, subsample_freq=0 will be ignored. Current value: bagging_freq=7\n",
            "[LightGBM] [Warning] lambda_l2 is set=0.38832864569484843, reg_lambda=0.0 will be ignored. Current value: lambda_l2=0.38832864569484843\n",
            "[LightGBM] [Warning] lambda_l1 is set=0.04330783298273605, reg_alpha=0.0 will be ignored. Current value: lambda_l1=0.04330783298273605\n",
            "[LightGBM] [Warning] bagging_fraction is set=0.7126656132876189, subsample=1.0 will be ignored. Current value: bagging_fraction=0.7126656132876189\n",
            "[LightGBM] [Warning] feature_fraction is set=0.5690087361858346, colsample_bytree=1.0 will be ignored. Current value: feature_fraction=0.5690087361858346\n",
            "[LightGBM] [Warning] bagging_freq is set=7, subsample_freq=0 will be ignored. Current value: bagging_freq=7\n",
            "[LightGBM] [Warning] lambda_l2 is set=0.38832864569484843, reg_lambda=0.0 will be ignored. Current value: lambda_l2=0.38832864569484843\n",
            "[LightGBM] [Warning] lambda_l1 is set=0.04330783298273605, reg_alpha=0.0 will be ignored. Current value: lambda_l1=0.04330783298273605\n",
            "[LightGBM] [Warning] bagging_fraction is set=0.7126656132876189, subsample=1.0 will be ignored. Current value: bagging_fraction=0.7126656132876189\n"
          ],
          "name": "stdout"
        },
        {
          "output_type": "stream",
          "text": [
            "\u001b[32m[I 2021-02-13 18:22:11,447]\u001b[0m Trial 13 finished with value: 0.9128785023244127 and parameters: {'lambda_l1': 0.04330783298273605, 'lambda_l2': 0.38832864569484843, 'num_leaves': 41, 'feature_fraction': 0.5690087361858346, 'bagging_fraction': 0.7126656132876189, 'bagging_freq': 7, 'min_child_samples': 48}. Best is trial 0 with value: 0.9186916279264565.\u001b[0m\n"
          ],
          "name": "stderr"
        },
        {
          "output_type": "stream",
          "text": [
            "[LightGBM] [Warning] feature_fraction is set=0.4355209388979629, colsample_bytree=1.0 will be ignored. Current value: feature_fraction=0.4355209388979629\n",
            "[LightGBM] [Warning] bagging_freq is set=2, subsample_freq=0 will be ignored. Current value: bagging_freq=2\n",
            "[LightGBM] [Warning] lambda_l2 is set=0.10330485971758423, reg_lambda=0.0 will be ignored. Current value: lambda_l2=0.10330485971758423\n",
            "[LightGBM] [Warning] lambda_l1 is set=3.5409999403789726e-05, reg_alpha=0.0 will be ignored. Current value: lambda_l1=3.5409999403789726e-05\n",
            "[LightGBM] [Warning] bagging_fraction is set=0.8633908826264168, subsample=1.0 will be ignored. Current value: bagging_fraction=0.8633908826264168\n",
            "[LightGBM] [Warning] feature_fraction is set=0.4355209388979629, colsample_bytree=1.0 will be ignored. Current value: feature_fraction=0.4355209388979629\n",
            "[LightGBM] [Warning] bagging_freq is set=2, subsample_freq=0 will be ignored. Current value: bagging_freq=2\n",
            "[LightGBM] [Warning] lambda_l2 is set=0.10330485971758423, reg_lambda=0.0 will be ignored. Current value: lambda_l2=0.10330485971758423\n",
            "[LightGBM] [Warning] lambda_l1 is set=3.5409999403789726e-05, reg_alpha=0.0 will be ignored. Current value: lambda_l1=3.5409999403789726e-05\n",
            "[LightGBM] [Warning] bagging_fraction is set=0.8633908826264168, subsample=1.0 will be ignored. Current value: bagging_fraction=0.8633908826264168\n",
            "[LightGBM] [Warning] feature_fraction is set=0.4355209388979629, colsample_bytree=1.0 will be ignored. Current value: feature_fraction=0.4355209388979629\n",
            "[LightGBM] [Warning] bagging_freq is set=2, subsample_freq=0 will be ignored. Current value: bagging_freq=2\n",
            "[LightGBM] [Warning] lambda_l2 is set=0.10330485971758423, reg_lambda=0.0 will be ignored. Current value: lambda_l2=0.10330485971758423\n",
            "[LightGBM] [Warning] lambda_l1 is set=3.5409999403789726e-05, reg_alpha=0.0 will be ignored. Current value: lambda_l1=3.5409999403789726e-05\n",
            "[LightGBM] [Warning] bagging_fraction is set=0.8633908826264168, subsample=1.0 will be ignored. Current value: bagging_fraction=0.8633908826264168\n",
            "[LightGBM] [Warning] feature_fraction is set=0.4355209388979629, colsample_bytree=1.0 will be ignored. Current value: feature_fraction=0.4355209388979629\n",
            "[LightGBM] [Warning] bagging_freq is set=2, subsample_freq=0 will be ignored. Current value: bagging_freq=2\n",
            "[LightGBM] [Warning] lambda_l2 is set=0.10330485971758423, reg_lambda=0.0 will be ignored. Current value: lambda_l2=0.10330485971758423\n",
            "[LightGBM] [Warning] lambda_l1 is set=3.5409999403789726e-05, reg_alpha=0.0 will be ignored. Current value: lambda_l1=3.5409999403789726e-05\n",
            "[LightGBM] [Warning] bagging_fraction is set=0.8633908826264168, subsample=1.0 will be ignored. Current value: bagging_fraction=0.8633908826264168\n",
            "[LightGBM] [Warning] feature_fraction is set=0.4355209388979629, colsample_bytree=1.0 will be ignored. Current value: feature_fraction=0.4355209388979629\n",
            "[LightGBM] [Warning] bagging_freq is set=2, subsample_freq=0 will be ignored. Current value: bagging_freq=2\n",
            "[LightGBM] [Warning] lambda_l2 is set=0.10330485971758423, reg_lambda=0.0 will be ignored. Current value: lambda_l2=0.10330485971758423\n",
            "[LightGBM] [Warning] lambda_l1 is set=3.5409999403789726e-05, reg_alpha=0.0 will be ignored. Current value: lambda_l1=3.5409999403789726e-05\n",
            "[LightGBM] [Warning] bagging_fraction is set=0.8633908826264168, subsample=1.0 will be ignored. Current value: bagging_fraction=0.8633908826264168\n"
          ],
          "name": "stdout"
        },
        {
          "output_type": "stream",
          "text": [
            "\u001b[32m[I 2021-02-13 18:22:13,415]\u001b[0m Trial 14 finished with value: 0.9155184207954656 and parameters: {'lambda_l1': 3.5409999403789726e-05, 'lambda_l2': 0.10330485971758423, 'num_leaves': 172, 'feature_fraction': 0.4355209388979629, 'bagging_fraction': 0.8633908826264168, 'bagging_freq': 2, 'min_child_samples': 77}. Best is trial 0 with value: 0.9186916279264565.\u001b[0m\n"
          ],
          "name": "stderr"
        },
        {
          "output_type": "stream",
          "text": [
            "[LightGBM] [Warning] feature_fraction is set=0.4979788641955854, colsample_bytree=1.0 will be ignored. Current value: feature_fraction=0.4979788641955854\n",
            "[LightGBM] [Warning] bagging_freq is set=3, subsample_freq=0 will be ignored. Current value: bagging_freq=3\n",
            "[LightGBM] [Warning] lambda_l2 is set=3.499431260179359e-06, reg_lambda=0.0 will be ignored. Current value: lambda_l2=3.499431260179359e-06\n",
            "[LightGBM] [Warning] lambda_l1 is set=1.299336647596157e-08, reg_alpha=0.0 will be ignored. Current value: lambda_l1=1.299336647596157e-08\n",
            "[LightGBM] [Warning] bagging_fraction is set=0.6395651527225374, subsample=1.0 will be ignored. Current value: bagging_fraction=0.6395651527225374\n",
            "[LightGBM] [Warning] feature_fraction is set=0.4979788641955854, colsample_bytree=1.0 will be ignored. Current value: feature_fraction=0.4979788641955854\n",
            "[LightGBM] [Warning] bagging_freq is set=3, subsample_freq=0 will be ignored. Current value: bagging_freq=3\n",
            "[LightGBM] [Warning] lambda_l2 is set=3.499431260179359e-06, reg_lambda=0.0 will be ignored. Current value: lambda_l2=3.499431260179359e-06\n",
            "[LightGBM] [Warning] lambda_l1 is set=1.299336647596157e-08, reg_alpha=0.0 will be ignored. Current value: lambda_l1=1.299336647596157e-08\n",
            "[LightGBM] [Warning] bagging_fraction is set=0.6395651527225374, subsample=1.0 will be ignored. Current value: bagging_fraction=0.6395651527225374\n",
            "[LightGBM] [Warning] feature_fraction is set=0.4979788641955854, colsample_bytree=1.0 will be ignored. Current value: feature_fraction=0.4979788641955854\n",
            "[LightGBM] [Warning] bagging_freq is set=3, subsample_freq=0 will be ignored. Current value: bagging_freq=3\n",
            "[LightGBM] [Warning] lambda_l2 is set=3.499431260179359e-06, reg_lambda=0.0 will be ignored. Current value: lambda_l2=3.499431260179359e-06\n",
            "[LightGBM] [Warning] lambda_l1 is set=1.299336647596157e-08, reg_alpha=0.0 will be ignored. Current value: lambda_l1=1.299336647596157e-08\n",
            "[LightGBM] [Warning] bagging_fraction is set=0.6395651527225374, subsample=1.0 will be ignored. Current value: bagging_fraction=0.6395651527225374\n",
            "[LightGBM] [Warning] feature_fraction is set=0.4979788641955854, colsample_bytree=1.0 will be ignored. Current value: feature_fraction=0.4979788641955854\n",
            "[LightGBM] [Warning] bagging_freq is set=3, subsample_freq=0 will be ignored. Current value: bagging_freq=3\n",
            "[LightGBM] [Warning] lambda_l2 is set=3.499431260179359e-06, reg_lambda=0.0 will be ignored. Current value: lambda_l2=3.499431260179359e-06\n",
            "[LightGBM] [Warning] lambda_l1 is set=1.299336647596157e-08, reg_alpha=0.0 will be ignored. Current value: lambda_l1=1.299336647596157e-08\n",
            "[LightGBM] [Warning] bagging_fraction is set=0.6395651527225374, subsample=1.0 will be ignored. Current value: bagging_fraction=0.6395651527225374\n",
            "[LightGBM] [Warning] feature_fraction is set=0.4979788641955854, colsample_bytree=1.0 will be ignored. Current value: feature_fraction=0.4979788641955854\n",
            "[LightGBM] [Warning] bagging_freq is set=3, subsample_freq=0 will be ignored. Current value: bagging_freq=3\n",
            "[LightGBM] [Warning] lambda_l2 is set=3.499431260179359e-06, reg_lambda=0.0 will be ignored. Current value: lambda_l2=3.499431260179359e-06\n",
            "[LightGBM] [Warning] lambda_l1 is set=1.299336647596157e-08, reg_alpha=0.0 will be ignored. Current value: lambda_l1=1.299336647596157e-08\n",
            "[LightGBM] [Warning] bagging_fraction is set=0.6395651527225374, subsample=1.0 will be ignored. Current value: bagging_fraction=0.6395651527225374\n"
          ],
          "name": "stdout"
        },
        {
          "output_type": "stream",
          "text": [
            "\u001b[32m[I 2021-02-13 18:22:15,000]\u001b[0m Trial 15 finished with value: 0.9123535899261492 and parameters: {'lambda_l1': 1.299336647596157e-08, 'lambda_l2': 3.499431260179359e-06, 'num_leaves': 88, 'feature_fraction': 0.4979788641955854, 'bagging_fraction': 0.6395651527225374, 'bagging_freq': 3, 'min_child_samples': 99}. Best is trial 0 with value: 0.9186916279264565.\u001b[0m\n"
          ],
          "name": "stderr"
        },
        {
          "output_type": "stream",
          "text": [
            "[LightGBM] [Warning] feature_fraction is set=0.6462061919003138, colsample_bytree=1.0 will be ignored. Current value: feature_fraction=0.6462061919003138\n",
            "[LightGBM] [Warning] bagging_freq is set=2, subsample_freq=0 will be ignored. Current value: bagging_freq=2\n",
            "[LightGBM] [Warning] lambda_l2 is set=0.12602894649384913, reg_lambda=0.0 will be ignored. Current value: lambda_l2=0.12602894649384913\n",
            "[LightGBM] [Warning] lambda_l1 is set=0.006335574639236183, reg_alpha=0.0 will be ignored. Current value: lambda_l1=0.006335574639236183\n",
            "[LightGBM] [Warning] bagging_fraction is set=0.9129122348656092, subsample=1.0 will be ignored. Current value: bagging_fraction=0.9129122348656092\n",
            "[LightGBM] [Warning] feature_fraction is set=0.6462061919003138, colsample_bytree=1.0 will be ignored. Current value: feature_fraction=0.6462061919003138\n",
            "[LightGBM] [Warning] bagging_freq is set=2, subsample_freq=0 will be ignored. Current value: bagging_freq=2\n",
            "[LightGBM] [Warning] lambda_l2 is set=0.12602894649384913, reg_lambda=0.0 will be ignored. Current value: lambda_l2=0.12602894649384913\n",
            "[LightGBM] [Warning] lambda_l1 is set=0.006335574639236183, reg_alpha=0.0 will be ignored. Current value: lambda_l1=0.006335574639236183\n",
            "[LightGBM] [Warning] bagging_fraction is set=0.9129122348656092, subsample=1.0 will be ignored. Current value: bagging_fraction=0.9129122348656092\n",
            "[LightGBM] [Warning] feature_fraction is set=0.6462061919003138, colsample_bytree=1.0 will be ignored. Current value: feature_fraction=0.6462061919003138\n",
            "[LightGBM] [Warning] bagging_freq is set=2, subsample_freq=0 will be ignored. Current value: bagging_freq=2\n",
            "[LightGBM] [Warning] lambda_l2 is set=0.12602894649384913, reg_lambda=0.0 will be ignored. Current value: lambda_l2=0.12602894649384913\n",
            "[LightGBM] [Warning] lambda_l1 is set=0.006335574639236183, reg_alpha=0.0 will be ignored. Current value: lambda_l1=0.006335574639236183\n",
            "[LightGBM] [Warning] bagging_fraction is set=0.9129122348656092, subsample=1.0 will be ignored. Current value: bagging_fraction=0.9129122348656092\n",
            "[LightGBM] [Warning] feature_fraction is set=0.6462061919003138, colsample_bytree=1.0 will be ignored. Current value: feature_fraction=0.6462061919003138\n",
            "[LightGBM] [Warning] bagging_freq is set=2, subsample_freq=0 will be ignored. Current value: bagging_freq=2\n",
            "[LightGBM] [Warning] lambda_l2 is set=0.12602894649384913, reg_lambda=0.0 will be ignored. Current value: lambda_l2=0.12602894649384913\n",
            "[LightGBM] [Warning] lambda_l1 is set=0.006335574639236183, reg_alpha=0.0 will be ignored. Current value: lambda_l1=0.006335574639236183\n",
            "[LightGBM] [Warning] bagging_fraction is set=0.9129122348656092, subsample=1.0 will be ignored. Current value: bagging_fraction=0.9129122348656092\n",
            "[LightGBM] [Warning] feature_fraction is set=0.6462061919003138, colsample_bytree=1.0 will be ignored. Current value: feature_fraction=0.6462061919003138\n",
            "[LightGBM] [Warning] bagging_freq is set=2, subsample_freq=0 will be ignored. Current value: bagging_freq=2\n",
            "[LightGBM] [Warning] lambda_l2 is set=0.12602894649384913, reg_lambda=0.0 will be ignored. Current value: lambda_l2=0.12602894649384913\n",
            "[LightGBM] [Warning] lambda_l1 is set=0.006335574639236183, reg_alpha=0.0 will be ignored. Current value: lambda_l1=0.006335574639236183\n",
            "[LightGBM] [Warning] bagging_fraction is set=0.9129122348656092, subsample=1.0 will be ignored. Current value: bagging_fraction=0.9129122348656092\n"
          ],
          "name": "stdout"
        },
        {
          "output_type": "stream",
          "text": [
            "\u001b[32m[I 2021-02-13 18:22:17,138]\u001b[0m Trial 16 finished with value: 0.9139380994262261 and parameters: {'lambda_l1': 0.006335574639236183, 'lambda_l2': 0.12602894649384913, 'num_leaves': 251, 'feature_fraction': 0.6462061919003138, 'bagging_fraction': 0.9129122348656092, 'bagging_freq': 2, 'min_child_samples': 61}. Best is trial 0 with value: 0.9186916279264565.\u001b[0m\n"
          ],
          "name": "stderr"
        },
        {
          "output_type": "stream",
          "text": [
            "[LightGBM] [Warning] feature_fraction is set=0.5786290094346591, colsample_bytree=1.0 will be ignored. Current value: feature_fraction=0.5786290094346591\n",
            "[LightGBM] [Warning] bagging_freq is set=6, subsample_freq=0 will be ignored. Current value: bagging_freq=6\n",
            "[LightGBM] [Warning] lambda_l2 is set=5.700887691755794, reg_lambda=0.0 will be ignored. Current value: lambda_l2=5.700887691755794\n",
            "[LightGBM] [Warning] lambda_l1 is set=0.7066744459879425, reg_alpha=0.0 will be ignored. Current value: lambda_l1=0.7066744459879425\n",
            "[LightGBM] [Warning] bagging_fraction is set=0.7504108792559642, subsample=1.0 will be ignored. Current value: bagging_fraction=0.7504108792559642\n",
            "[LightGBM] [Warning] feature_fraction is set=0.5786290094346591, colsample_bytree=1.0 will be ignored. Current value: feature_fraction=0.5786290094346591\n",
            "[LightGBM] [Warning] bagging_freq is set=6, subsample_freq=0 will be ignored. Current value: bagging_freq=6\n",
            "[LightGBM] [Warning] lambda_l2 is set=5.700887691755794, reg_lambda=0.0 will be ignored. Current value: lambda_l2=5.700887691755794\n",
            "[LightGBM] [Warning] lambda_l1 is set=0.7066744459879425, reg_alpha=0.0 will be ignored. Current value: lambda_l1=0.7066744459879425\n",
            "[LightGBM] [Warning] bagging_fraction is set=0.7504108792559642, subsample=1.0 will be ignored. Current value: bagging_fraction=0.7504108792559642\n",
            "[LightGBM] [Warning] feature_fraction is set=0.5786290094346591, colsample_bytree=1.0 will be ignored. Current value: feature_fraction=0.5786290094346591\n",
            "[LightGBM] [Warning] bagging_freq is set=6, subsample_freq=0 will be ignored. Current value: bagging_freq=6\n",
            "[LightGBM] [Warning] lambda_l2 is set=5.700887691755794, reg_lambda=0.0 will be ignored. Current value: lambda_l2=5.700887691755794\n",
            "[LightGBM] [Warning] lambda_l1 is set=0.7066744459879425, reg_alpha=0.0 will be ignored. Current value: lambda_l1=0.7066744459879425\n",
            "[LightGBM] [Warning] bagging_fraction is set=0.7504108792559642, subsample=1.0 will be ignored. Current value: bagging_fraction=0.7504108792559642\n",
            "[LightGBM] [Warning] feature_fraction is set=0.5786290094346591, colsample_bytree=1.0 will be ignored. Current value: feature_fraction=0.5786290094346591\n",
            "[LightGBM] [Warning] bagging_freq is set=6, subsample_freq=0 will be ignored. Current value: bagging_freq=6\n",
            "[LightGBM] [Warning] lambda_l2 is set=5.700887691755794, reg_lambda=0.0 will be ignored. Current value: lambda_l2=5.700887691755794\n",
            "[LightGBM] [Warning] lambda_l1 is set=0.7066744459879425, reg_alpha=0.0 will be ignored. Current value: lambda_l1=0.7066744459879425\n",
            "[LightGBM] [Warning] bagging_fraction is set=0.7504108792559642, subsample=1.0 will be ignored. Current value: bagging_fraction=0.7504108792559642\n",
            "[LightGBM] [Warning] feature_fraction is set=0.5786290094346591, colsample_bytree=1.0 will be ignored. Current value: feature_fraction=0.5786290094346591\n",
            "[LightGBM] [Warning] bagging_freq is set=6, subsample_freq=0 will be ignored. Current value: bagging_freq=6\n",
            "[LightGBM] [Warning] lambda_l2 is set=5.700887691755794, reg_lambda=0.0 will be ignored. Current value: lambda_l2=5.700887691755794\n",
            "[LightGBM] [Warning] lambda_l1 is set=0.7066744459879425, reg_alpha=0.0 will be ignored. Current value: lambda_l1=0.7066744459879425\n",
            "[LightGBM] [Warning] bagging_fraction is set=0.7504108792559642, subsample=1.0 will be ignored. Current value: bagging_fraction=0.7504108792559642\n"
          ],
          "name": "stdout"
        },
        {
          "output_type": "stream",
          "text": [
            "\u001b[32m[I 2021-02-13 18:22:18,479]\u001b[0m Trial 17 finished with value: 0.9218550627521603 and parameters: {'lambda_l1': 0.7066744459879425, 'lambda_l2': 5.700887691755794, 'num_leaves': 131, 'feature_fraction': 0.5786290094346591, 'bagging_fraction': 0.7504108792559642, 'bagging_freq': 6, 'min_child_samples': 80}. Best is trial 17 with value: 0.9218550627521603.\u001b[0m\n"
          ],
          "name": "stderr"
        },
        {
          "output_type": "stream",
          "text": [
            "[LightGBM] [Warning] feature_fraction is set=0.6794790641165936, colsample_bytree=1.0 will be ignored. Current value: feature_fraction=0.6794790641165936\n",
            "[LightGBM] [Warning] bagging_freq is set=6, subsample_freq=0 will be ignored. Current value: bagging_freq=6\n",
            "[LightGBM] [Warning] lambda_l2 is set=1.9285667618974132e-07, reg_lambda=0.0 will be ignored. Current value: lambda_l2=1.9285667618974132e-07\n",
            "[LightGBM] [Warning] lambda_l1 is set=0.0018685749374511816, reg_alpha=0.0 will be ignored. Current value: lambda_l1=0.0018685749374511816\n",
            "[LightGBM] [Warning] bagging_fraction is set=0.5563148047622255, subsample=1.0 will be ignored. Current value: bagging_fraction=0.5563148047622255\n",
            "[LightGBM] [Warning] feature_fraction is set=0.6794790641165936, colsample_bytree=1.0 will be ignored. Current value: feature_fraction=0.6794790641165936\n",
            "[LightGBM] [Warning] bagging_freq is set=6, subsample_freq=0 will be ignored. Current value: bagging_freq=6\n",
            "[LightGBM] [Warning] lambda_l2 is set=1.9285667618974132e-07, reg_lambda=0.0 will be ignored. Current value: lambda_l2=1.9285667618974132e-07\n",
            "[LightGBM] [Warning] lambda_l1 is set=0.0018685749374511816, reg_alpha=0.0 will be ignored. Current value: lambda_l1=0.0018685749374511816\n",
            "[LightGBM] [Warning] bagging_fraction is set=0.5563148047622255, subsample=1.0 will be ignored. Current value: bagging_fraction=0.5563148047622255\n",
            "[LightGBM] [Warning] feature_fraction is set=0.6794790641165936, colsample_bytree=1.0 will be ignored. Current value: feature_fraction=0.6794790641165936\n",
            "[LightGBM] [Warning] bagging_freq is set=6, subsample_freq=0 will be ignored. Current value: bagging_freq=6\n",
            "[LightGBM] [Warning] lambda_l2 is set=1.9285667618974132e-07, reg_lambda=0.0 will be ignored. Current value: lambda_l2=1.9285667618974132e-07\n",
            "[LightGBM] [Warning] lambda_l1 is set=0.0018685749374511816, reg_alpha=0.0 will be ignored. Current value: lambda_l1=0.0018685749374511816\n",
            "[LightGBM] [Warning] bagging_fraction is set=0.5563148047622255, subsample=1.0 will be ignored. Current value: bagging_fraction=0.5563148047622255\n",
            "[LightGBM] [Warning] feature_fraction is set=0.6794790641165936, colsample_bytree=1.0 will be ignored. Current value: feature_fraction=0.6794790641165936\n",
            "[LightGBM] [Warning] bagging_freq is set=6, subsample_freq=0 will be ignored. Current value: bagging_freq=6\n",
            "[LightGBM] [Warning] lambda_l2 is set=1.9285667618974132e-07, reg_lambda=0.0 will be ignored. Current value: lambda_l2=1.9285667618974132e-07\n",
            "[LightGBM] [Warning] lambda_l1 is set=0.0018685749374511816, reg_alpha=0.0 will be ignored. Current value: lambda_l1=0.0018685749374511816\n",
            "[LightGBM] [Warning] bagging_fraction is set=0.5563148047622255, subsample=1.0 will be ignored. Current value: bagging_fraction=0.5563148047622255\n",
            "[LightGBM] [Warning] feature_fraction is set=0.6794790641165936, colsample_bytree=1.0 will be ignored. Current value: feature_fraction=0.6794790641165936\n",
            "[LightGBM] [Warning] bagging_freq is set=6, subsample_freq=0 will be ignored. Current value: bagging_freq=6\n",
            "[LightGBM] [Warning] lambda_l2 is set=1.9285667618974132e-07, reg_lambda=0.0 will be ignored. Current value: lambda_l2=1.9285667618974132e-07\n",
            "[LightGBM] [Warning] lambda_l1 is set=0.0018685749374511816, reg_alpha=0.0 will be ignored. Current value: lambda_l1=0.0018685749374511816\n",
            "[LightGBM] [Warning] bagging_fraction is set=0.5563148047622255, subsample=1.0 will be ignored. Current value: bagging_fraction=0.5563148047622255\n"
          ],
          "name": "stdout"
        },
        {
          "output_type": "stream",
          "text": [
            "\u001b[32m[I 2021-02-13 18:22:20,042]\u001b[0m Trial 18 finished with value: 0.9128826904552498 and parameters: {'lambda_l1': 0.0018685749374511816, 'lambda_l2': 1.9285667618974132e-07, 'num_leaves': 139, 'feature_fraction': 0.6794790641165936, 'bagging_fraction': 0.5563148047622255, 'bagging_freq': 6, 'min_child_samples': 40}. Best is trial 17 with value: 0.9218550627521603.\u001b[0m\n"
          ],
          "name": "stderr"
        },
        {
          "output_type": "stream",
          "text": [
            "[LightGBM] [Warning] feature_fraction is set=0.4060810223340326, colsample_bytree=1.0 will be ignored. Current value: feature_fraction=0.4060810223340326\n",
            "[LightGBM] [Warning] bagging_freq is set=4, subsample_freq=0 will be ignored. Current value: bagging_freq=4\n",
            "[LightGBM] [Warning] lambda_l2 is set=5.071277784746586, reg_lambda=0.0 will be ignored. Current value: lambda_l2=5.071277784746586\n",
            "[LightGBM] [Warning] lambda_l1 is set=0.18047758186585436, reg_alpha=0.0 will be ignored. Current value: lambda_l1=0.18047758186585436\n",
            "[LightGBM] [Warning] bagging_fraction is set=0.6848376206843448, subsample=1.0 will be ignored. Current value: bagging_fraction=0.6848376206843448\n",
            "[LightGBM] [Warning] feature_fraction is set=0.4060810223340326, colsample_bytree=1.0 will be ignored. Current value: feature_fraction=0.4060810223340326\n",
            "[LightGBM] [Warning] bagging_freq is set=4, subsample_freq=0 will be ignored. Current value: bagging_freq=4\n",
            "[LightGBM] [Warning] lambda_l2 is set=5.071277784746586, reg_lambda=0.0 will be ignored. Current value: lambda_l2=5.071277784746586\n",
            "[LightGBM] [Warning] lambda_l1 is set=0.18047758186585436, reg_alpha=0.0 will be ignored. Current value: lambda_l1=0.18047758186585436\n",
            "[LightGBM] [Warning] bagging_fraction is set=0.6848376206843448, subsample=1.0 will be ignored. Current value: bagging_fraction=0.6848376206843448\n",
            "[LightGBM] [Warning] feature_fraction is set=0.4060810223340326, colsample_bytree=1.0 will be ignored. Current value: feature_fraction=0.4060810223340326\n",
            "[LightGBM] [Warning] bagging_freq is set=4, subsample_freq=0 will be ignored. Current value: bagging_freq=4\n",
            "[LightGBM] [Warning] lambda_l2 is set=5.071277784746586, reg_lambda=0.0 will be ignored. Current value: lambda_l2=5.071277784746586\n",
            "[LightGBM] [Warning] lambda_l1 is set=0.18047758186585436, reg_alpha=0.0 will be ignored. Current value: lambda_l1=0.18047758186585436\n",
            "[LightGBM] [Warning] bagging_fraction is set=0.6848376206843448, subsample=1.0 will be ignored. Current value: bagging_fraction=0.6848376206843448\n",
            "[LightGBM] [Warning] feature_fraction is set=0.4060810223340326, colsample_bytree=1.0 will be ignored. Current value: feature_fraction=0.4060810223340326\n",
            "[LightGBM] [Warning] bagging_freq is set=4, subsample_freq=0 will be ignored. Current value: bagging_freq=4\n",
            "[LightGBM] [Warning] lambda_l2 is set=5.071277784746586, reg_lambda=0.0 will be ignored. Current value: lambda_l2=5.071277784746586\n",
            "[LightGBM] [Warning] lambda_l1 is set=0.18047758186585436, reg_alpha=0.0 will be ignored. Current value: lambda_l1=0.18047758186585436\n",
            "[LightGBM] [Warning] bagging_fraction is set=0.6848376206843448, subsample=1.0 will be ignored. Current value: bagging_fraction=0.6848376206843448\n",
            "[LightGBM] [Warning] feature_fraction is set=0.4060810223340326, colsample_bytree=1.0 will be ignored. Current value: feature_fraction=0.4060810223340326\n",
            "[LightGBM] [Warning] bagging_freq is set=4, subsample_freq=0 will be ignored. Current value: bagging_freq=4\n",
            "[LightGBM] [Warning] lambda_l2 is set=5.071277784746586, reg_lambda=0.0 will be ignored. Current value: lambda_l2=5.071277784746586\n",
            "[LightGBM] [Warning] lambda_l1 is set=0.18047758186585436, reg_alpha=0.0 will be ignored. Current value: lambda_l1=0.18047758186585436\n",
            "[LightGBM] [Warning] bagging_fraction is set=0.6848376206843448, subsample=1.0 will be ignored. Current value: bagging_fraction=0.6848376206843448\n"
          ],
          "name": "stdout"
        },
        {
          "output_type": "stream",
          "text": [
            "\u001b[32m[I 2021-02-13 18:22:21,518]\u001b[0m Trial 19 finished with value: 0.9186902318828439 and parameters: {'lambda_l1': 0.18047758186585436, 'lambda_l2': 5.071277784746586, 'num_leaves': 182, 'feature_fraction': 0.4060810223340326, 'bagging_fraction': 0.6848376206843448, 'bagging_freq': 4, 'min_child_samples': 60}. Best is trial 17 with value: 0.9218550627521603.\u001b[0m\n"
          ],
          "name": "stderr"
        },
        {
          "output_type": "stream",
          "text": [
            "[LightGBM] [Warning] feature_fraction is set=0.776484093086992, colsample_bytree=1.0 will be ignored. Current value: feature_fraction=0.776484093086992\n",
            "[LightGBM] [Warning] bagging_freq is set=6, subsample_freq=0 will be ignored. Current value: bagging_freq=6\n",
            "[LightGBM] [Warning] lambda_l2 is set=0.014112895843487227, reg_lambda=0.0 will be ignored. Current value: lambda_l2=0.014112895843487227\n",
            "[LightGBM] [Warning] lambda_l1 is set=3.958331350849512e-05, reg_alpha=0.0 will be ignored. Current value: lambda_l1=3.958331350849512e-05\n",
            "[LightGBM] [Warning] bagging_fraction is set=0.5079107885719625, subsample=1.0 will be ignored. Current value: bagging_fraction=0.5079107885719625\n",
            "[LightGBM] [Warning] feature_fraction is set=0.776484093086992, colsample_bytree=1.0 will be ignored. Current value: feature_fraction=0.776484093086992\n",
            "[LightGBM] [Warning] bagging_freq is set=6, subsample_freq=0 will be ignored. Current value: bagging_freq=6\n",
            "[LightGBM] [Warning] lambda_l2 is set=0.014112895843487227, reg_lambda=0.0 will be ignored. Current value: lambda_l2=0.014112895843487227\n",
            "[LightGBM] [Warning] lambda_l1 is set=3.958331350849512e-05, reg_alpha=0.0 will be ignored. Current value: lambda_l1=3.958331350849512e-05\n",
            "[LightGBM] [Warning] bagging_fraction is set=0.5079107885719625, subsample=1.0 will be ignored. Current value: bagging_fraction=0.5079107885719625\n",
            "[LightGBM] [Warning] feature_fraction is set=0.776484093086992, colsample_bytree=1.0 will be ignored. Current value: feature_fraction=0.776484093086992\n",
            "[LightGBM] [Warning] bagging_freq is set=6, subsample_freq=0 will be ignored. Current value: bagging_freq=6\n",
            "[LightGBM] [Warning] lambda_l2 is set=0.014112895843487227, reg_lambda=0.0 will be ignored. Current value: lambda_l2=0.014112895843487227\n",
            "[LightGBM] [Warning] lambda_l1 is set=3.958331350849512e-05, reg_alpha=0.0 will be ignored. Current value: lambda_l1=3.958331350849512e-05\n",
            "[LightGBM] [Warning] bagging_fraction is set=0.5079107885719625, subsample=1.0 will be ignored. Current value: bagging_fraction=0.5079107885719625\n",
            "[LightGBM] [Warning] feature_fraction is set=0.776484093086992, colsample_bytree=1.0 will be ignored. Current value: feature_fraction=0.776484093086992\n",
            "[LightGBM] [Warning] bagging_freq is set=6, subsample_freq=0 will be ignored. Current value: bagging_freq=6\n",
            "[LightGBM] [Warning] lambda_l2 is set=0.014112895843487227, reg_lambda=0.0 will be ignored. Current value: lambda_l2=0.014112895843487227\n",
            "[LightGBM] [Warning] lambda_l1 is set=3.958331350849512e-05, reg_alpha=0.0 will be ignored. Current value: lambda_l1=3.958331350849512e-05\n",
            "[LightGBM] [Warning] bagging_fraction is set=0.5079107885719625, subsample=1.0 will be ignored. Current value: bagging_fraction=0.5079107885719625\n",
            "[LightGBM] [Warning] feature_fraction is set=0.776484093086992, colsample_bytree=1.0 will be ignored. Current value: feature_fraction=0.776484093086992\n",
            "[LightGBM] [Warning] bagging_freq is set=6, subsample_freq=0 will be ignored. Current value: bagging_freq=6\n",
            "[LightGBM] [Warning] lambda_l2 is set=0.014112895843487227, reg_lambda=0.0 will be ignored. Current value: lambda_l2=0.014112895843487227\n",
            "[LightGBM] [Warning] lambda_l1 is set=3.958331350849512e-05, reg_alpha=0.0 will be ignored. Current value: lambda_l1=3.958331350849512e-05\n",
            "[LightGBM] [Warning] bagging_fraction is set=0.5079107885719625, subsample=1.0 will be ignored. Current value: bagging_fraction=0.5079107885719625\n"
          ],
          "name": "stdout"
        },
        {
          "output_type": "stream",
          "text": [
            "\u001b[32m[I 2021-02-13 18:22:22,852]\u001b[0m Trial 20 finished with value: 0.9091789867515461 and parameters: {'lambda_l1': 3.958331350849512e-05, 'lambda_l2': 0.014112895843487227, 'num_leaves': 135, 'feature_fraction': 0.776484093086992, 'bagging_fraction': 0.5079107885719625, 'bagging_freq': 6, 'min_child_samples': 84}. Best is trial 17 with value: 0.9218550627521603.\u001b[0m\n"
          ],
          "name": "stderr"
        },
        {
          "output_type": "stream",
          "text": [
            "[LightGBM] [Warning] feature_fraction is set=0.40846457717470136, colsample_bytree=1.0 will be ignored. Current value: feature_fraction=0.40846457717470136\n",
            "[LightGBM] [Warning] bagging_freq is set=4, subsample_freq=0 will be ignored. Current value: bagging_freq=4\n",
            "[LightGBM] [Warning] lambda_l2 is set=2.3272118129154187, reg_lambda=0.0 will be ignored. Current value: lambda_l2=2.3272118129154187\n",
            "[LightGBM] [Warning] lambda_l1 is set=0.31244232266802063, reg_alpha=0.0 will be ignored. Current value: lambda_l1=0.31244232266802063\n",
            "[LightGBM] [Warning] bagging_fraction is set=0.6967069138409112, subsample=1.0 will be ignored. Current value: bagging_fraction=0.6967069138409112\n",
            "[LightGBM] [Warning] feature_fraction is set=0.40846457717470136, colsample_bytree=1.0 will be ignored. Current value: feature_fraction=0.40846457717470136\n",
            "[LightGBM] [Warning] bagging_freq is set=4, subsample_freq=0 will be ignored. Current value: bagging_freq=4\n",
            "[LightGBM] [Warning] lambda_l2 is set=2.3272118129154187, reg_lambda=0.0 will be ignored. Current value: lambda_l2=2.3272118129154187\n",
            "[LightGBM] [Warning] lambda_l1 is set=0.31244232266802063, reg_alpha=0.0 will be ignored. Current value: lambda_l1=0.31244232266802063\n",
            "[LightGBM] [Warning] bagging_fraction is set=0.6967069138409112, subsample=1.0 will be ignored. Current value: bagging_fraction=0.6967069138409112\n",
            "[LightGBM] [Warning] feature_fraction is set=0.40846457717470136, colsample_bytree=1.0 will be ignored. Current value: feature_fraction=0.40846457717470136\n",
            "[LightGBM] [Warning] bagging_freq is set=4, subsample_freq=0 will be ignored. Current value: bagging_freq=4\n",
            "[LightGBM] [Warning] lambda_l2 is set=2.3272118129154187, reg_lambda=0.0 will be ignored. Current value: lambda_l2=2.3272118129154187\n",
            "[LightGBM] [Warning] lambda_l1 is set=0.31244232266802063, reg_alpha=0.0 will be ignored. Current value: lambda_l1=0.31244232266802063\n",
            "[LightGBM] [Warning] bagging_fraction is set=0.6967069138409112, subsample=1.0 will be ignored. Current value: bagging_fraction=0.6967069138409112\n",
            "[LightGBM] [Warning] feature_fraction is set=0.40846457717470136, colsample_bytree=1.0 will be ignored. Current value: feature_fraction=0.40846457717470136\n",
            "[LightGBM] [Warning] bagging_freq is set=4, subsample_freq=0 will be ignored. Current value: bagging_freq=4\n",
            "[LightGBM] [Warning] lambda_l2 is set=2.3272118129154187, reg_lambda=0.0 will be ignored. Current value: lambda_l2=2.3272118129154187\n",
            "[LightGBM] [Warning] lambda_l1 is set=0.31244232266802063, reg_alpha=0.0 will be ignored. Current value: lambda_l1=0.31244232266802063\n",
            "[LightGBM] [Warning] bagging_fraction is set=0.6967069138409112, subsample=1.0 will be ignored. Current value: bagging_fraction=0.6967069138409112\n",
            "[LightGBM] [Warning] feature_fraction is set=0.40846457717470136, colsample_bytree=1.0 will be ignored. Current value: feature_fraction=0.40846457717470136\n",
            "[LightGBM] [Warning] bagging_freq is set=4, subsample_freq=0 will be ignored. Current value: bagging_freq=4\n",
            "[LightGBM] [Warning] lambda_l2 is set=2.3272118129154187, reg_lambda=0.0 will be ignored. Current value: lambda_l2=2.3272118129154187\n",
            "[LightGBM] [Warning] lambda_l1 is set=0.31244232266802063, reg_alpha=0.0 will be ignored. Current value: lambda_l1=0.31244232266802063\n",
            "[LightGBM] [Warning] bagging_fraction is set=0.6967069138409112, subsample=1.0 will be ignored. Current value: bagging_fraction=0.6967069138409112\n"
          ],
          "name": "stdout"
        },
        {
          "output_type": "stream",
          "text": [
            "\u001b[32m[I 2021-02-13 18:22:24,359]\u001b[0m Trial 21 finished with value: 0.9155212128826905 and parameters: {'lambda_l1': 0.31244232266802063, 'lambda_l2': 2.3272118129154187, 'num_leaves': 188, 'feature_fraction': 0.40846457717470136, 'bagging_fraction': 0.6967069138409112, 'bagging_freq': 4, 'min_child_samples': 63}. Best is trial 17 with value: 0.9218550627521603.\u001b[0m\n"
          ],
          "name": "stderr"
        },
        {
          "output_type": "stream",
          "text": [
            "[LightGBM] [Warning] feature_fraction is set=0.47552647548972093, colsample_bytree=1.0 will be ignored. Current value: feature_fraction=0.47552647548972093\n",
            "[LightGBM] [Warning] bagging_freq is set=4, subsample_freq=0 will be ignored. Current value: bagging_freq=4\n",
            "[LightGBM] [Warning] lambda_l2 is set=6.852225790610648, reg_lambda=0.0 will be ignored. Current value: lambda_l2=6.852225790610648\n",
            "[LightGBM] [Warning] lambda_l1 is set=7.212595743265974, reg_alpha=0.0 will be ignored. Current value: lambda_l1=7.212595743265974\n",
            "[LightGBM] [Warning] bagging_fraction is set=0.673605731208494, subsample=1.0 will be ignored. Current value: bagging_fraction=0.673605731208494\n",
            "[LightGBM] [Warning] feature_fraction is set=0.47552647548972093, colsample_bytree=1.0 will be ignored. Current value: feature_fraction=0.47552647548972093\n",
            "[LightGBM] [Warning] bagging_freq is set=4, subsample_freq=0 will be ignored. Current value: bagging_freq=4\n",
            "[LightGBM] [Warning] lambda_l2 is set=6.852225790610648, reg_lambda=0.0 will be ignored. Current value: lambda_l2=6.852225790610648\n",
            "[LightGBM] [Warning] lambda_l1 is set=7.212595743265974, reg_alpha=0.0 will be ignored. Current value: lambda_l1=7.212595743265974\n",
            "[LightGBM] [Warning] bagging_fraction is set=0.673605731208494, subsample=1.0 will be ignored. Current value: bagging_fraction=0.673605731208494\n",
            "[LightGBM] [Warning] feature_fraction is set=0.47552647548972093, colsample_bytree=1.0 will be ignored. Current value: feature_fraction=0.47552647548972093\n",
            "[LightGBM] [Warning] bagging_freq is set=4, subsample_freq=0 will be ignored. Current value: bagging_freq=4\n",
            "[LightGBM] [Warning] lambda_l2 is set=6.852225790610648, reg_lambda=0.0 will be ignored. Current value: lambda_l2=6.852225790610648\n",
            "[LightGBM] [Warning] lambda_l1 is set=7.212595743265974, reg_alpha=0.0 will be ignored. Current value: lambda_l1=7.212595743265974\n",
            "[LightGBM] [Warning] bagging_fraction is set=0.673605731208494, subsample=1.0 will be ignored. Current value: bagging_fraction=0.673605731208494\n",
            "[LightGBM] [Warning] feature_fraction is set=0.47552647548972093, colsample_bytree=1.0 will be ignored. Current value: feature_fraction=0.47552647548972093\n",
            "[LightGBM] [Warning] bagging_freq is set=4, subsample_freq=0 will be ignored. Current value: bagging_freq=4\n",
            "[LightGBM] [Warning] lambda_l2 is set=6.852225790610648, reg_lambda=0.0 will be ignored. Current value: lambda_l2=6.852225790610648\n",
            "[LightGBM] [Warning] lambda_l1 is set=7.212595743265974, reg_alpha=0.0 will be ignored. Current value: lambda_l1=7.212595743265974\n",
            "[LightGBM] [Warning] bagging_fraction is set=0.673605731208494, subsample=1.0 will be ignored. Current value: bagging_fraction=0.673605731208494\n",
            "[LightGBM] [Warning] feature_fraction is set=0.47552647548972093, colsample_bytree=1.0 will be ignored. Current value: feature_fraction=0.47552647548972093\n",
            "[LightGBM] [Warning] bagging_freq is set=4, subsample_freq=0 will be ignored. Current value: bagging_freq=4\n",
            "[LightGBM] [Warning] lambda_l2 is set=6.852225790610648, reg_lambda=0.0 will be ignored. Current value: lambda_l2=6.852225790610648\n",
            "[LightGBM] [Warning] lambda_l1 is set=7.212595743265974, reg_alpha=0.0 will be ignored. Current value: lambda_l1=7.212595743265974\n",
            "[LightGBM] [Warning] bagging_fraction is set=0.673605731208494, subsample=1.0 will be ignored. Current value: bagging_fraction=0.673605731208494\n"
          ],
          "name": "stdout"
        },
        {
          "output_type": "stream",
          "text": [
            "\u001b[32m[I 2021-02-13 18:22:25,767]\u001b[0m Trial 22 finished with value: 0.9102441680278093 and parameters: {'lambda_l1': 7.212595743265974, 'lambda_l2': 6.852225790610648, 'num_leaves': 196, 'feature_fraction': 0.47552647548972093, 'bagging_fraction': 0.673605731208494, 'bagging_freq': 4, 'min_child_samples': 57}. Best is trial 17 with value: 0.9218550627521603.\u001b[0m\n"
          ],
          "name": "stderr"
        },
        {
          "output_type": "stream",
          "text": [
            "[LightGBM] [Warning] feature_fraction is set=0.5853454379796608, colsample_bytree=1.0 will be ignored. Current value: feature_fraction=0.5853454379796608\n",
            "[LightGBM] [Warning] bagging_freq is set=3, subsample_freq=0 will be ignored. Current value: bagging_freq=3\n",
            "[LightGBM] [Warning] lambda_l2 is set=0.02415245324473944, reg_lambda=0.0 will be ignored. Current value: lambda_l2=0.02415245324473944\n",
            "[LightGBM] [Warning] lambda_l1 is set=0.20171749793114238, reg_alpha=0.0 will be ignored. Current value: lambda_l1=0.20171749793114238\n",
            "[LightGBM] [Warning] bagging_fraction is set=0.7389471782385978, subsample=1.0 will be ignored. Current value: bagging_fraction=0.7389471782385978\n",
            "[LightGBM] [Warning] feature_fraction is set=0.5853454379796608, colsample_bytree=1.0 will be ignored. Current value: feature_fraction=0.5853454379796608\n",
            "[LightGBM] [Warning] bagging_freq is set=3, subsample_freq=0 will be ignored. Current value: bagging_freq=3\n",
            "[LightGBM] [Warning] lambda_l2 is set=0.02415245324473944, reg_lambda=0.0 will be ignored. Current value: lambda_l2=0.02415245324473944\n",
            "[LightGBM] [Warning] lambda_l1 is set=0.20171749793114238, reg_alpha=0.0 will be ignored. Current value: lambda_l1=0.20171749793114238\n",
            "[LightGBM] [Warning] bagging_fraction is set=0.7389471782385978, subsample=1.0 will be ignored. Current value: bagging_fraction=0.7389471782385978\n",
            "[LightGBM] [Warning] feature_fraction is set=0.5853454379796608, colsample_bytree=1.0 will be ignored. Current value: feature_fraction=0.5853454379796608\n",
            "[LightGBM] [Warning] bagging_freq is set=3, subsample_freq=0 will be ignored. Current value: bagging_freq=3\n",
            "[LightGBM] [Warning] lambda_l2 is set=0.02415245324473944, reg_lambda=0.0 will be ignored. Current value: lambda_l2=0.02415245324473944\n",
            "[LightGBM] [Warning] lambda_l1 is set=0.20171749793114238, reg_alpha=0.0 will be ignored. Current value: lambda_l1=0.20171749793114238\n",
            "[LightGBM] [Warning] bagging_fraction is set=0.7389471782385978, subsample=1.0 will be ignored. Current value: bagging_fraction=0.7389471782385978\n",
            "[LightGBM] [Warning] feature_fraction is set=0.5853454379796608, colsample_bytree=1.0 will be ignored. Current value: feature_fraction=0.5853454379796608\n",
            "[LightGBM] [Warning] bagging_freq is set=3, subsample_freq=0 will be ignored. Current value: bagging_freq=3\n",
            "[LightGBM] [Warning] lambda_l2 is set=0.02415245324473944, reg_lambda=0.0 will be ignored. Current value: lambda_l2=0.02415245324473944\n",
            "[LightGBM] [Warning] lambda_l1 is set=0.20171749793114238, reg_alpha=0.0 will be ignored. Current value: lambda_l1=0.20171749793114238\n",
            "[LightGBM] [Warning] bagging_fraction is set=0.7389471782385978, subsample=1.0 will be ignored. Current value: bagging_fraction=0.7389471782385978\n",
            "[LightGBM] [Warning] feature_fraction is set=0.5853454379796608, colsample_bytree=1.0 will be ignored. Current value: feature_fraction=0.5853454379796608\n",
            "[LightGBM] [Warning] bagging_freq is set=3, subsample_freq=0 will be ignored. Current value: bagging_freq=3\n",
            "[LightGBM] [Warning] lambda_l2 is set=0.02415245324473944, reg_lambda=0.0 will be ignored. Current value: lambda_l2=0.02415245324473944\n",
            "[LightGBM] [Warning] lambda_l1 is set=0.20171749793114238, reg_alpha=0.0 will be ignored. Current value: lambda_l1=0.20171749793114238\n",
            "[LightGBM] [Warning] bagging_fraction is set=0.7389471782385978, subsample=1.0 will be ignored. Current value: bagging_fraction=0.7389471782385978\n"
          ],
          "name": "stdout"
        },
        {
          "output_type": "stream",
          "text": [
            "\u001b[32m[I 2021-02-13 18:22:27,601]\u001b[0m Trial 23 finished with value: 0.9176292387374183 and parameters: {'lambda_l1': 0.20171749793114238, 'lambda_l2': 0.02415245324473944, 'num_leaves': 174, 'feature_fraction': 0.5853454379796608, 'bagging_fraction': 0.7389471782385978, 'bagging_freq': 3, 'min_child_samples': 46}. Best is trial 17 with value: 0.9218550627521603.\u001b[0m\n"
          ],
          "name": "stderr"
        },
        {
          "output_type": "stream",
          "text": [
            "[LightGBM] [Warning] feature_fraction is set=0.4684540521471241, colsample_bytree=1.0 will be ignored. Current value: feature_fraction=0.4684540521471241\n",
            "[LightGBM] [Warning] bagging_freq is set=1, subsample_freq=0 will be ignored. Current value: bagging_freq=1\n",
            "[LightGBM] [Warning] lambda_l2 is set=2.0078260636753828e-05, reg_lambda=0.0 will be ignored. Current value: lambda_l2=2.0078260636753828e-05\n",
            "[LightGBM] [Warning] lambda_l1 is set=0.0032616860378927737, reg_alpha=0.0 will be ignored. Current value: lambda_l1=0.0032616860378927737\n",
            "[LightGBM] [Warning] bagging_fraction is set=0.6110420826173357, subsample=1.0 will be ignored. Current value: bagging_fraction=0.6110420826173357\n",
            "[LightGBM] [Warning] feature_fraction is set=0.4684540521471241, colsample_bytree=1.0 will be ignored. Current value: feature_fraction=0.4684540521471241\n",
            "[LightGBM] [Warning] bagging_freq is set=1, subsample_freq=0 will be ignored. Current value: bagging_freq=1\n",
            "[LightGBM] [Warning] lambda_l2 is set=2.0078260636753828e-05, reg_lambda=0.0 will be ignored. Current value: lambda_l2=2.0078260636753828e-05\n",
            "[LightGBM] [Warning] lambda_l1 is set=0.0032616860378927737, reg_alpha=0.0 will be ignored. Current value: lambda_l1=0.0032616860378927737\n",
            "[LightGBM] [Warning] bagging_fraction is set=0.6110420826173357, subsample=1.0 will be ignored. Current value: bagging_fraction=0.6110420826173357\n",
            "[LightGBM] [Warning] feature_fraction is set=0.4684540521471241, colsample_bytree=1.0 will be ignored. Current value: feature_fraction=0.4684540521471241\n",
            "[LightGBM] [Warning] bagging_freq is set=1, subsample_freq=0 will be ignored. Current value: bagging_freq=1\n",
            "[LightGBM] [Warning] lambda_l2 is set=2.0078260636753828e-05, reg_lambda=0.0 will be ignored. Current value: lambda_l2=2.0078260636753828e-05\n",
            "[LightGBM] [Warning] lambda_l1 is set=0.0032616860378927737, reg_alpha=0.0 will be ignored. Current value: lambda_l1=0.0032616860378927737\n",
            "[LightGBM] [Warning] bagging_fraction is set=0.6110420826173357, subsample=1.0 will be ignored. Current value: bagging_fraction=0.6110420826173357\n",
            "[LightGBM] [Warning] feature_fraction is set=0.4684540521471241, colsample_bytree=1.0 will be ignored. Current value: feature_fraction=0.4684540521471241\n",
            "[LightGBM] [Warning] bagging_freq is set=1, subsample_freq=0 will be ignored. Current value: bagging_freq=1\n",
            "[LightGBM] [Warning] lambda_l2 is set=2.0078260636753828e-05, reg_lambda=0.0 will be ignored. Current value: lambda_l2=2.0078260636753828e-05\n",
            "[LightGBM] [Warning] lambda_l1 is set=0.0032616860378927737, reg_alpha=0.0 will be ignored. Current value: lambda_l1=0.0032616860378927737\n",
            "[LightGBM] [Warning] bagging_fraction is set=0.6110420826173357, subsample=1.0 will be ignored. Current value: bagging_fraction=0.6110420826173357\n",
            "[LightGBM] [Warning] feature_fraction is set=0.4684540521471241, colsample_bytree=1.0 will be ignored. Current value: feature_fraction=0.4684540521471241\n",
            "[LightGBM] [Warning] bagging_freq is set=1, subsample_freq=0 will be ignored. Current value: bagging_freq=1\n",
            "[LightGBM] [Warning] lambda_l2 is set=2.0078260636753828e-05, reg_lambda=0.0 will be ignored. Current value: lambda_l2=2.0078260636753828e-05\n",
            "[LightGBM] [Warning] lambda_l1 is set=0.0032616860378927737, reg_alpha=0.0 will be ignored. Current value: lambda_l1=0.0032616860378927737\n",
            "[LightGBM] [Warning] bagging_fraction is set=0.6110420826173357, subsample=1.0 will be ignored. Current value: bagging_fraction=0.6110420826173357\n"
          ],
          "name": "stdout"
        },
        {
          "output_type": "stream",
          "text": [
            "\u001b[32m[I 2021-02-13 18:22:28,683]\u001b[0m Trial 24 finished with value: 0.9134034147226758 and parameters: {'lambda_l1': 0.0032616860378927737, 'lambda_l2': 2.0078260636753828e-05, 'num_leaves': 116, 'feature_fraction': 0.4684540521471241, 'bagging_fraction': 0.6110420826173357, 'bagging_freq': 1, 'min_child_samples': 71}. Best is trial 17 with value: 0.9218550627521603.\u001b[0m\n"
          ],
          "name": "stderr"
        },
        {
          "output_type": "stream",
          "text": [
            "[LightGBM] [Warning] feature_fraction is set=0.713872282749601, colsample_bytree=1.0 will be ignored. Current value: feature_fraction=0.713872282749601\n",
            "[LightGBM] [Warning] bagging_freq is set=5, subsample_freq=0 will be ignored. Current value: bagging_freq=5\n",
            "[LightGBM] [Warning] lambda_l2 is set=1.8397830574000986, reg_lambda=0.0 will be ignored. Current value: lambda_l2=1.8397830574000986\n",
            "[LightGBM] [Warning] lambda_l1 is set=1.5363955736789408, reg_alpha=0.0 will be ignored. Current value: lambda_l1=1.5363955736789408\n",
            "[LightGBM] [Warning] bagging_fraction is set=0.4021818987398264, subsample=1.0 will be ignored. Current value: bagging_fraction=0.4021818987398264\n",
            "[LightGBM] [Warning] feature_fraction is set=0.713872282749601, colsample_bytree=1.0 will be ignored. Current value: feature_fraction=0.713872282749601\n",
            "[LightGBM] [Warning] bagging_freq is set=5, subsample_freq=0 will be ignored. Current value: bagging_freq=5\n",
            "[LightGBM] [Warning] lambda_l2 is set=1.8397830574000986, reg_lambda=0.0 will be ignored. Current value: lambda_l2=1.8397830574000986\n",
            "[LightGBM] [Warning] lambda_l1 is set=1.5363955736789408, reg_alpha=0.0 will be ignored. Current value: lambda_l1=1.5363955736789408\n",
            "[LightGBM] [Warning] bagging_fraction is set=0.4021818987398264, subsample=1.0 will be ignored. Current value: bagging_fraction=0.4021818987398264\n",
            "[LightGBM] [Warning] feature_fraction is set=0.713872282749601, colsample_bytree=1.0 will be ignored. Current value: feature_fraction=0.713872282749601\n",
            "[LightGBM] [Warning] bagging_freq is set=5, subsample_freq=0 will be ignored. Current value: bagging_freq=5\n",
            "[LightGBM] [Warning] lambda_l2 is set=1.8397830574000986, reg_lambda=0.0 will be ignored. Current value: lambda_l2=1.8397830574000986\n",
            "[LightGBM] [Warning] lambda_l1 is set=1.5363955736789408, reg_alpha=0.0 will be ignored. Current value: lambda_l1=1.5363955736789408\n",
            "[LightGBM] [Warning] bagging_fraction is set=0.4021818987398264, subsample=1.0 will be ignored. Current value: bagging_fraction=0.4021818987398264\n",
            "[LightGBM] [Warning] feature_fraction is set=0.713872282749601, colsample_bytree=1.0 will be ignored. Current value: feature_fraction=0.713872282749601\n",
            "[LightGBM] [Warning] bagging_freq is set=5, subsample_freq=0 will be ignored. Current value: bagging_freq=5\n",
            "[LightGBM] [Warning] lambda_l2 is set=1.8397830574000986, reg_lambda=0.0 will be ignored. Current value: lambda_l2=1.8397830574000986\n",
            "[LightGBM] [Warning] lambda_l1 is set=1.5363955736789408, reg_alpha=0.0 will be ignored. Current value: lambda_l1=1.5363955736789408\n",
            "[LightGBM] [Warning] bagging_fraction is set=0.4021818987398264, subsample=1.0 will be ignored. Current value: bagging_fraction=0.4021818987398264\n",
            "[LightGBM] [Warning] feature_fraction is set=0.713872282749601, colsample_bytree=1.0 will be ignored. Current value: feature_fraction=0.713872282749601\n",
            "[LightGBM] [Warning] bagging_freq is set=5, subsample_freq=0 will be ignored. Current value: bagging_freq=5\n",
            "[LightGBM] [Warning] lambda_l2 is set=1.8397830574000986, reg_lambda=0.0 will be ignored. Current value: lambda_l2=1.8397830574000986\n",
            "[LightGBM] [Warning] lambda_l1 is set=1.5363955736789408, reg_alpha=0.0 will be ignored. Current value: lambda_l1=1.5363955736789408\n",
            "[LightGBM] [Warning] bagging_fraction is set=0.4021818987398264, subsample=1.0 will be ignored. Current value: bagging_fraction=0.4021818987398264\n"
          ],
          "name": "stdout"
        },
        {
          "output_type": "stream",
          "text": [
            "\u001b[32m[I 2021-02-13 18:22:30,095]\u001b[0m Trial 25 finished with value: 0.9181597353101312 and parameters: {'lambda_l1': 1.5363955736789408, 'lambda_l2': 1.8397830574000986, 'num_leaves': 224, 'feature_fraction': 0.713872282749601, 'bagging_fraction': 0.4021818987398264, 'bagging_freq': 5, 'min_child_samples': 28}. Best is trial 17 with value: 0.9218550627521603.\u001b[0m\n"
          ],
          "name": "stderr"
        },
        {
          "output_type": "stream",
          "text": [
            "[LightGBM] [Warning] feature_fraction is set=0.5336473867732046, colsample_bytree=1.0 will be ignored. Current value: feature_fraction=0.5336473867732046\n",
            "[LightGBM] [Warning] bagging_freq is set=6, subsample_freq=0 will be ignored. Current value: bagging_freq=6\n",
            "[LightGBM] [Warning] lambda_l2 is set=9.294402432150628, reg_lambda=0.0 will be ignored. Current value: lambda_l2=9.294402432150628\n",
            "[LightGBM] [Warning] lambda_l1 is set=0.2654929746041392, reg_alpha=0.0 will be ignored. Current value: lambda_l1=0.2654929746041392\n",
            "[LightGBM] [Warning] bagging_fraction is set=0.8548988115355958, subsample=1.0 will be ignored. Current value: bagging_fraction=0.8548988115355958\n",
            "[LightGBM] [Warning] feature_fraction is set=0.5336473867732046, colsample_bytree=1.0 will be ignored. Current value: feature_fraction=0.5336473867732046\n",
            "[LightGBM] [Warning] bagging_freq is set=6, subsample_freq=0 will be ignored. Current value: bagging_freq=6\n",
            "[LightGBM] [Warning] lambda_l2 is set=9.294402432150628, reg_lambda=0.0 will be ignored. Current value: lambda_l2=9.294402432150628\n",
            "[LightGBM] [Warning] lambda_l1 is set=0.2654929746041392, reg_alpha=0.0 will be ignored. Current value: lambda_l1=0.2654929746041392\n",
            "[LightGBM] [Warning] bagging_fraction is set=0.8548988115355958, subsample=1.0 will be ignored. Current value: bagging_fraction=0.8548988115355958\n",
            "[LightGBM] [Warning] feature_fraction is set=0.5336473867732046, colsample_bytree=1.0 will be ignored. Current value: feature_fraction=0.5336473867732046\n",
            "[LightGBM] [Warning] bagging_freq is set=6, subsample_freq=0 will be ignored. Current value: bagging_freq=6\n",
            "[LightGBM] [Warning] lambda_l2 is set=9.294402432150628, reg_lambda=0.0 will be ignored. Current value: lambda_l2=9.294402432150628\n",
            "[LightGBM] [Warning] lambda_l1 is set=0.2654929746041392, reg_alpha=0.0 will be ignored. Current value: lambda_l1=0.2654929746041392\n",
            "[LightGBM] [Warning] bagging_fraction is set=0.8548988115355958, subsample=1.0 will be ignored. Current value: bagging_fraction=0.8548988115355958\n",
            "[LightGBM] [Warning] feature_fraction is set=0.5336473867732046, colsample_bytree=1.0 will be ignored. Current value: feature_fraction=0.5336473867732046\n",
            "[LightGBM] [Warning] bagging_freq is set=6, subsample_freq=0 will be ignored. Current value: bagging_freq=6\n",
            "[LightGBM] [Warning] lambda_l2 is set=9.294402432150628, reg_lambda=0.0 will be ignored. Current value: lambda_l2=9.294402432150628\n",
            "[LightGBM] [Warning] lambda_l1 is set=0.2654929746041392, reg_alpha=0.0 will be ignored. Current value: lambda_l1=0.2654929746041392\n",
            "[LightGBM] [Warning] bagging_fraction is set=0.8548988115355958, subsample=1.0 will be ignored. Current value: bagging_fraction=0.8548988115355958\n",
            "[LightGBM] [Warning] feature_fraction is set=0.5336473867732046, colsample_bytree=1.0 will be ignored. Current value: feature_fraction=0.5336473867732046\n",
            "[LightGBM] [Warning] bagging_freq is set=6, subsample_freq=0 will be ignored. Current value: bagging_freq=6\n",
            "[LightGBM] [Warning] lambda_l2 is set=9.294402432150628, reg_lambda=0.0 will be ignored. Current value: lambda_l2=9.294402432150628\n",
            "[LightGBM] [Warning] lambda_l1 is set=0.2654929746041392, reg_alpha=0.0 will be ignored. Current value: lambda_l1=0.2654929746041392\n",
            "[LightGBM] [Warning] bagging_fraction is set=0.8548988115355958, subsample=1.0 will be ignored. Current value: bagging_fraction=0.8548988115355958\n"
          ],
          "name": "stdout"
        },
        {
          "output_type": "stream",
          "text": [
            "\u001b[32m[I 2021-02-13 18:22:31,483]\u001b[0m Trial 26 finished with value: 0.9202719492956959 and parameters: {'lambda_l1': 0.2654929746041392, 'lambda_l2': 9.294402432150628, 'num_leaves': 145, 'feature_fraction': 0.5336473867732046, 'bagging_fraction': 0.8548988115355958, 'bagging_freq': 6, 'min_child_samples': 67}. Best is trial 17 with value: 0.9218550627521603.\u001b[0m\n"
          ],
          "name": "stderr"
        },
        {
          "output_type": "stream",
          "text": [
            "[LightGBM] [Warning] feature_fraction is set=0.5372992415452899, colsample_bytree=1.0 will be ignored. Current value: feature_fraction=0.5372992415452899\n",
            "[LightGBM] [Warning] bagging_freq is set=6, subsample_freq=0 will be ignored. Current value: bagging_freq=6\n",
            "[LightGBM] [Warning] lambda_l2 is set=0.6158793466480605, reg_lambda=0.0 will be ignored. Current value: lambda_l2=0.6158793466480605\n",
            "[LightGBM] [Warning] lambda_l1 is set=9.733119510174938e-05, reg_alpha=0.0 will be ignored. Current value: lambda_l1=9.733119510174938e-05\n",
            "[LightGBM] [Warning] bagging_fraction is set=0.8397301160778022, subsample=1.0 will be ignored. Current value: bagging_fraction=0.8397301160778022\n",
            "[LightGBM] [Warning] feature_fraction is set=0.5372992415452899, colsample_bytree=1.0 will be ignored. Current value: feature_fraction=0.5372992415452899\n",
            "[LightGBM] [Warning] bagging_freq is set=6, subsample_freq=0 will be ignored. Current value: bagging_freq=6\n",
            "[LightGBM] [Warning] lambda_l2 is set=0.6158793466480605, reg_lambda=0.0 will be ignored. Current value: lambda_l2=0.6158793466480605\n",
            "[LightGBM] [Warning] lambda_l1 is set=9.733119510174938e-05, reg_alpha=0.0 will be ignored. Current value: lambda_l1=9.733119510174938e-05\n",
            "[LightGBM] [Warning] bagging_fraction is set=0.8397301160778022, subsample=1.0 will be ignored. Current value: bagging_fraction=0.8397301160778022\n",
            "[LightGBM] [Warning] feature_fraction is set=0.5372992415452899, colsample_bytree=1.0 will be ignored. Current value: feature_fraction=0.5372992415452899\n",
            "[LightGBM] [Warning] bagging_freq is set=6, subsample_freq=0 will be ignored. Current value: bagging_freq=6\n",
            "[LightGBM] [Warning] lambda_l2 is set=0.6158793466480605, reg_lambda=0.0 will be ignored. Current value: lambda_l2=0.6158793466480605\n",
            "[LightGBM] [Warning] lambda_l1 is set=9.733119510174938e-05, reg_alpha=0.0 will be ignored. Current value: lambda_l1=9.733119510174938e-05\n",
            "[LightGBM] [Warning] bagging_fraction is set=0.8397301160778022, subsample=1.0 will be ignored. Current value: bagging_fraction=0.8397301160778022\n",
            "[LightGBM] [Warning] feature_fraction is set=0.5372992415452899, colsample_bytree=1.0 will be ignored. Current value: feature_fraction=0.5372992415452899\n",
            "[LightGBM] [Warning] bagging_freq is set=6, subsample_freq=0 will be ignored. Current value: bagging_freq=6\n",
            "[LightGBM] [Warning] lambda_l2 is set=0.6158793466480605, reg_lambda=0.0 will be ignored. Current value: lambda_l2=0.6158793466480605\n",
            "[LightGBM] [Warning] lambda_l1 is set=9.733119510174938e-05, reg_alpha=0.0 will be ignored. Current value: lambda_l1=9.733119510174938e-05\n",
            "[LightGBM] [Warning] bagging_fraction is set=0.8397301160778022, subsample=1.0 will be ignored. Current value: bagging_fraction=0.8397301160778022\n",
            "[LightGBM] [Warning] feature_fraction is set=0.5372992415452899, colsample_bytree=1.0 will be ignored. Current value: feature_fraction=0.5372992415452899\n",
            "[LightGBM] [Warning] bagging_freq is set=6, subsample_freq=0 will be ignored. Current value: bagging_freq=6\n",
            "[LightGBM] [Warning] lambda_l2 is set=0.6158793466480605, reg_lambda=0.0 will be ignored. Current value: lambda_l2=0.6158793466480605\n",
            "[LightGBM] [Warning] lambda_l1 is set=9.733119510174938e-05, reg_alpha=0.0 will be ignored. Current value: lambda_l1=9.733119510174938e-05\n",
            "[LightGBM] [Warning] bagging_fraction is set=0.8397301160778022, subsample=1.0 will be ignored. Current value: bagging_fraction=0.8397301160778022\n"
          ],
          "name": "stdout"
        },
        {
          "output_type": "stream",
          "text": [
            "\u001b[32m[I 2021-02-13 18:22:32,914]\u001b[0m Trial 27 finished with value: 0.9171029302955425 and parameters: {'lambda_l1': 9.733119510174938e-05, 'lambda_l2': 0.6158793466480605, 'num_leaves': 147, 'feature_fraction': 0.5372992415452899, 'bagging_fraction': 0.8397301160778022, 'bagging_freq': 6, 'min_child_samples': 78}. Best is trial 17 with value: 0.9218550627521603.\u001b[0m\n"
          ],
          "name": "stderr"
        },
        {
          "output_type": "stream",
          "text": [
            "[LightGBM] [Warning] feature_fraction is set=0.6003925347098112, colsample_bytree=1.0 will be ignored. Current value: feature_fraction=0.6003925347098112\n",
            "[LightGBM] [Warning] bagging_freq is set=6, subsample_freq=0 will be ignored. Current value: bagging_freq=6\n",
            "[LightGBM] [Warning] lambda_l2 is set=0.03849029539800461, reg_lambda=0.0 will be ignored. Current value: lambda_l2=0.03849029539800461\n",
            "[LightGBM] [Warning] lambda_l1 is set=0.013249293627530384, reg_alpha=0.0 will be ignored. Current value: lambda_l1=0.013249293627530384\n",
            "[LightGBM] [Warning] bagging_fraction is set=0.9263665799926499, subsample=1.0 will be ignored. Current value: bagging_fraction=0.9263665799926499\n",
            "[LightGBM] [Warning] feature_fraction is set=0.6003925347098112, colsample_bytree=1.0 will be ignored. Current value: feature_fraction=0.6003925347098112\n",
            "[LightGBM] [Warning] bagging_freq is set=6, subsample_freq=0 will be ignored. Current value: bagging_freq=6\n",
            "[LightGBM] [Warning] lambda_l2 is set=0.03849029539800461, reg_lambda=0.0 will be ignored. Current value: lambda_l2=0.03849029539800461\n",
            "[LightGBM] [Warning] lambda_l1 is set=0.013249293627530384, reg_alpha=0.0 will be ignored. Current value: lambda_l1=0.013249293627530384\n",
            "[LightGBM] [Warning] bagging_fraction is set=0.9263665799926499, subsample=1.0 will be ignored. Current value: bagging_fraction=0.9263665799926499\n",
            "[LightGBM] [Warning] feature_fraction is set=0.6003925347098112, colsample_bytree=1.0 will be ignored. Current value: feature_fraction=0.6003925347098112\n",
            "[LightGBM] [Warning] bagging_freq is set=6, subsample_freq=0 will be ignored. Current value: bagging_freq=6\n",
            "[LightGBM] [Warning] lambda_l2 is set=0.03849029539800461, reg_lambda=0.0 will be ignored. Current value: lambda_l2=0.03849029539800461\n",
            "[LightGBM] [Warning] lambda_l1 is set=0.013249293627530384, reg_alpha=0.0 will be ignored. Current value: lambda_l1=0.013249293627530384\n",
            "[LightGBM] [Warning] bagging_fraction is set=0.9263665799926499, subsample=1.0 will be ignored. Current value: bagging_fraction=0.9263665799926499\n",
            "[LightGBM] [Warning] feature_fraction is set=0.6003925347098112, colsample_bytree=1.0 will be ignored. Current value: feature_fraction=0.6003925347098112\n",
            "[LightGBM] [Warning] bagging_freq is set=6, subsample_freq=0 will be ignored. Current value: bagging_freq=6\n",
            "[LightGBM] [Warning] lambda_l2 is set=0.03849029539800461, reg_lambda=0.0 will be ignored. Current value: lambda_l2=0.03849029539800461\n",
            "[LightGBM] [Warning] lambda_l1 is set=0.013249293627530384, reg_alpha=0.0 will be ignored. Current value: lambda_l1=0.013249293627530384\n",
            "[LightGBM] [Warning] bagging_fraction is set=0.9263665799926499, subsample=1.0 will be ignored. Current value: bagging_fraction=0.9263665799926499\n",
            "[LightGBM] [Warning] feature_fraction is set=0.6003925347098112, colsample_bytree=1.0 will be ignored. Current value: feature_fraction=0.6003925347098112\n",
            "[LightGBM] [Warning] bagging_freq is set=6, subsample_freq=0 will be ignored. Current value: bagging_freq=6\n",
            "[LightGBM] [Warning] lambda_l2 is set=0.03849029539800461, reg_lambda=0.0 will be ignored. Current value: lambda_l2=0.03849029539800461\n",
            "[LightGBM] [Warning] lambda_l1 is set=0.013249293627530384, reg_alpha=0.0 will be ignored. Current value: lambda_l1=0.013249293627530384\n",
            "[LightGBM] [Warning] bagging_fraction is set=0.9263665799926499, subsample=1.0 will be ignored. Current value: bagging_fraction=0.9263665799926499\n"
          ],
          "name": "stdout"
        },
        {
          "output_type": "stream",
          "text": [
            "\u001b[32m[I 2021-02-13 18:22:34,415]\u001b[0m Trial 28 finished with value: 0.917632030824643 and parameters: {'lambda_l1': 0.013249293627530384, 'lambda_l2': 0.03849029539800461, 'num_leaves': 96, 'feature_fraction': 0.6003925347098112, 'bagging_fraction': 0.9263665799926499, 'bagging_freq': 6, 'min_child_samples': 70}. Best is trial 17 with value: 0.9218550627521603.\u001b[0m\n"
          ],
          "name": "stderr"
        },
        {
          "output_type": "stream",
          "text": [
            "[LightGBM] [Warning] feature_fraction is set=0.6610666008685429, colsample_bytree=1.0 will be ignored. Current value: feature_fraction=0.6610666008685429\n",
            "[LightGBM] [Warning] bagging_freq is set=7, subsample_freq=0 will be ignored. Current value: bagging_freq=7\n",
            "[LightGBM] [Warning] lambda_l2 is set=0.0006891401499686948, reg_lambda=0.0 will be ignored. Current value: lambda_l2=0.0006891401499686948\n",
            "[LightGBM] [Warning] lambda_l1 is set=1.339448464679425, reg_alpha=0.0 will be ignored. Current value: lambda_l1=1.339448464679425\n",
            "[LightGBM] [Warning] bagging_fraction is set=0.7734716342007975, subsample=1.0 will be ignored. Current value: bagging_fraction=0.7734716342007975\n",
            "[LightGBM] [Warning] feature_fraction is set=0.6610666008685429, colsample_bytree=1.0 will be ignored. Current value: feature_fraction=0.6610666008685429\n",
            "[LightGBM] [Warning] bagging_freq is set=7, subsample_freq=0 will be ignored. Current value: bagging_freq=7\n",
            "[LightGBM] [Warning] lambda_l2 is set=0.0006891401499686948, reg_lambda=0.0 will be ignored. Current value: lambda_l2=0.0006891401499686948\n",
            "[LightGBM] [Warning] lambda_l1 is set=1.339448464679425, reg_alpha=0.0 will be ignored. Current value: lambda_l1=1.339448464679425\n",
            "[LightGBM] [Warning] bagging_fraction is set=0.7734716342007975, subsample=1.0 will be ignored. Current value: bagging_fraction=0.7734716342007975\n",
            "[LightGBM] [Warning] feature_fraction is set=0.6610666008685429, colsample_bytree=1.0 will be ignored. Current value: feature_fraction=0.6610666008685429\n",
            "[LightGBM] [Warning] bagging_freq is set=7, subsample_freq=0 will be ignored. Current value: bagging_freq=7\n",
            "[LightGBM] [Warning] lambda_l2 is set=0.0006891401499686948, reg_lambda=0.0 will be ignored. Current value: lambda_l2=0.0006891401499686948\n",
            "[LightGBM] [Warning] lambda_l1 is set=1.339448464679425, reg_alpha=0.0 will be ignored. Current value: lambda_l1=1.339448464679425\n",
            "[LightGBM] [Warning] bagging_fraction is set=0.7734716342007975, subsample=1.0 will be ignored. Current value: bagging_fraction=0.7734716342007975\n",
            "[LightGBM] [Warning] feature_fraction is set=0.6610666008685429, colsample_bytree=1.0 will be ignored. Current value: feature_fraction=0.6610666008685429\n",
            "[LightGBM] [Warning] bagging_freq is set=7, subsample_freq=0 will be ignored. Current value: bagging_freq=7\n",
            "[LightGBM] [Warning] lambda_l2 is set=0.0006891401499686948, reg_lambda=0.0 will be ignored. Current value: lambda_l2=0.0006891401499686948\n",
            "[LightGBM] [Warning] lambda_l1 is set=1.339448464679425, reg_alpha=0.0 will be ignored. Current value: lambda_l1=1.339448464679425\n",
            "[LightGBM] [Warning] bagging_fraction is set=0.7734716342007975, subsample=1.0 will be ignored. Current value: bagging_fraction=0.7734716342007975\n",
            "[LightGBM] [Warning] feature_fraction is set=0.6610666008685429, colsample_bytree=1.0 will be ignored. Current value: feature_fraction=0.6610666008685429\n",
            "[LightGBM] [Warning] bagging_freq is set=7, subsample_freq=0 will be ignored. Current value: bagging_freq=7\n",
            "[LightGBM] [Warning] lambda_l2 is set=0.0006891401499686948, reg_lambda=0.0 will be ignored. Current value: lambda_l2=0.0006891401499686948\n",
            "[LightGBM] [Warning] lambda_l1 is set=1.339448464679425, reg_alpha=0.0 will be ignored. Current value: lambda_l1=1.339448464679425\n",
            "[LightGBM] [Warning] bagging_fraction is set=0.7734716342007975, subsample=1.0 will be ignored. Current value: bagging_fraction=0.7734716342007975\n"
          ],
          "name": "stdout"
        },
        {
          "output_type": "stream",
          "text": [
            "\u001b[32m[I 2021-02-13 18:22:35,745]\u001b[0m Trial 29 finished with value: 0.921330150353897 and parameters: {'lambda_l1': 1.339448464679425, 'lambda_l2': 0.0006891401499686948, 'num_leaves': 127, 'feature_fraction': 0.6610666008685429, 'bagging_fraction': 0.7734716342007975, 'bagging_freq': 7, 'min_child_samples': 91}. Best is trial 17 with value: 0.9218550627521603.\u001b[0m\n"
          ],
          "name": "stderr"
        },
        {
          "output_type": "stream",
          "text": [
            "[LightGBM] [Warning] feature_fraction is set=0.64216037606736, colsample_bytree=1.0 will be ignored. Current value: feature_fraction=0.64216037606736\n",
            "[LightGBM] [Warning] bagging_freq is set=7, subsample_freq=0 will be ignored. Current value: bagging_freq=7\n",
            "[LightGBM] [Warning] lambda_l2 is set=1.4078917921595882, reg_lambda=0.0 will be ignored. Current value: lambda_l2=1.4078917921595882\n",
            "[LightGBM] [Warning] lambda_l1 is set=0.6458934454166804, reg_alpha=0.0 will be ignored. Current value: lambda_l1=0.6458934454166804\n",
            "[LightGBM] [Warning] bagging_fraction is set=0.823223759807282, subsample=1.0 will be ignored. Current value: bagging_fraction=0.823223759807282\n",
            "[LightGBM] [Warning] feature_fraction is set=0.64216037606736, colsample_bytree=1.0 will be ignored. Current value: feature_fraction=0.64216037606736\n",
            "[LightGBM] [Warning] bagging_freq is set=7, subsample_freq=0 will be ignored. Current value: bagging_freq=7\n",
            "[LightGBM] [Warning] lambda_l2 is set=1.4078917921595882, reg_lambda=0.0 will be ignored. Current value: lambda_l2=1.4078917921595882\n",
            "[LightGBM] [Warning] lambda_l1 is set=0.6458934454166804, reg_alpha=0.0 will be ignored. Current value: lambda_l1=0.6458934454166804\n",
            "[LightGBM] [Warning] bagging_fraction is set=0.823223759807282, subsample=1.0 will be ignored. Current value: bagging_fraction=0.823223759807282\n",
            "[LightGBM] [Warning] feature_fraction is set=0.64216037606736, colsample_bytree=1.0 will be ignored. Current value: feature_fraction=0.64216037606736\n",
            "[LightGBM] [Warning] bagging_freq is set=7, subsample_freq=0 will be ignored. Current value: bagging_freq=7\n",
            "[LightGBM] [Warning] lambda_l2 is set=1.4078917921595882, reg_lambda=0.0 will be ignored. Current value: lambda_l2=1.4078917921595882\n",
            "[LightGBM] [Warning] lambda_l1 is set=0.6458934454166804, reg_alpha=0.0 will be ignored. Current value: lambda_l1=0.6458934454166804\n",
            "[LightGBM] [Warning] bagging_fraction is set=0.823223759807282, subsample=1.0 will be ignored. Current value: bagging_fraction=0.823223759807282\n",
            "[LightGBM] [Warning] feature_fraction is set=0.64216037606736, colsample_bytree=1.0 will be ignored. Current value: feature_fraction=0.64216037606736\n",
            "[LightGBM] [Warning] bagging_freq is set=7, subsample_freq=0 will be ignored. Current value: bagging_freq=7\n",
            "[LightGBM] [Warning] lambda_l2 is set=1.4078917921595882, reg_lambda=0.0 will be ignored. Current value: lambda_l2=1.4078917921595882\n",
            "[LightGBM] [Warning] lambda_l1 is set=0.6458934454166804, reg_alpha=0.0 will be ignored. Current value: lambda_l1=0.6458934454166804\n",
            "[LightGBM] [Warning] bagging_fraction is set=0.823223759807282, subsample=1.0 will be ignored. Current value: bagging_fraction=0.823223759807282\n",
            "[LightGBM] [Warning] feature_fraction is set=0.64216037606736, colsample_bytree=1.0 will be ignored. Current value: feature_fraction=0.64216037606736\n",
            "[LightGBM] [Warning] bagging_freq is set=7, subsample_freq=0 will be ignored. Current value: bagging_freq=7\n",
            "[LightGBM] [Warning] lambda_l2 is set=1.4078917921595882, reg_lambda=0.0 will be ignored. Current value: lambda_l2=1.4078917921595882\n",
            "[LightGBM] [Warning] lambda_l1 is set=0.6458934454166804, reg_alpha=0.0 will be ignored. Current value: lambda_l1=0.6458934454166804\n",
            "[LightGBM] [Warning] bagging_fraction is set=0.823223759807282, subsample=1.0 will be ignored. Current value: bagging_fraction=0.823223759807282\n"
          ],
          "name": "stdout"
        },
        {
          "output_type": "stream",
          "text": [
            "\u001b[32m[I 2021-02-13 18:22:37,067]\u001b[0m Trial 30 finished with value: 0.9197442448102079 and parameters: {'lambda_l1': 0.6458934454166804, 'lambda_l2': 1.4078917921595882, 'num_leaves': 129, 'feature_fraction': 0.64216037606736, 'bagging_fraction': 0.823223759807282, 'bagging_freq': 7, 'min_child_samples': 98}. Best is trial 17 with value: 0.9218550627521603.\u001b[0m\n"
          ],
          "name": "stderr"
        },
        {
          "output_type": "stream",
          "text": [
            "[LightGBM] [Warning] feature_fraction is set=0.6668926421359924, colsample_bytree=1.0 will be ignored. Current value: feature_fraction=0.6668926421359924\n",
            "[LightGBM] [Warning] bagging_freq is set=7, subsample_freq=0 will be ignored. Current value: bagging_freq=7\n",
            "[LightGBM] [Warning] lambda_l2 is set=1.2268420192920735, reg_lambda=0.0 will be ignored. Current value: lambda_l2=1.2268420192920735\n",
            "[LightGBM] [Warning] lambda_l1 is set=0.5827430154412844, reg_alpha=0.0 will be ignored. Current value: lambda_l1=0.5827430154412844\n",
            "[LightGBM] [Warning] bagging_fraction is set=0.8168712898287805, subsample=1.0 will be ignored. Current value: bagging_fraction=0.8168712898287805\n",
            "[LightGBM] [Warning] feature_fraction is set=0.6668926421359924, colsample_bytree=1.0 will be ignored. Current value: feature_fraction=0.6668926421359924\n",
            "[LightGBM] [Warning] bagging_freq is set=7, subsample_freq=0 will be ignored. Current value: bagging_freq=7\n",
            "[LightGBM] [Warning] lambda_l2 is set=1.2268420192920735, reg_lambda=0.0 will be ignored. Current value: lambda_l2=1.2268420192920735\n",
            "[LightGBM] [Warning] lambda_l1 is set=0.5827430154412844, reg_alpha=0.0 will be ignored. Current value: lambda_l1=0.5827430154412844\n",
            "[LightGBM] [Warning] bagging_fraction is set=0.8168712898287805, subsample=1.0 will be ignored. Current value: bagging_fraction=0.8168712898287805\n",
            "[LightGBM] [Warning] feature_fraction is set=0.6668926421359924, colsample_bytree=1.0 will be ignored. Current value: feature_fraction=0.6668926421359924\n",
            "[LightGBM] [Warning] bagging_freq is set=7, subsample_freq=0 will be ignored. Current value: bagging_freq=7\n",
            "[LightGBM] [Warning] lambda_l2 is set=1.2268420192920735, reg_lambda=0.0 will be ignored. Current value: lambda_l2=1.2268420192920735\n",
            "[LightGBM] [Warning] lambda_l1 is set=0.5827430154412844, reg_alpha=0.0 will be ignored. Current value: lambda_l1=0.5827430154412844\n",
            "[LightGBM] [Warning] bagging_fraction is set=0.8168712898287805, subsample=1.0 will be ignored. Current value: bagging_fraction=0.8168712898287805\n",
            "[LightGBM] [Warning] feature_fraction is set=0.6668926421359924, colsample_bytree=1.0 will be ignored. Current value: feature_fraction=0.6668926421359924\n",
            "[LightGBM] [Warning] bagging_freq is set=7, subsample_freq=0 will be ignored. Current value: bagging_freq=7\n",
            "[LightGBM] [Warning] lambda_l2 is set=1.2268420192920735, reg_lambda=0.0 will be ignored. Current value: lambda_l2=1.2268420192920735\n",
            "[LightGBM] [Warning] lambda_l1 is set=0.5827430154412844, reg_alpha=0.0 will be ignored. Current value: lambda_l1=0.5827430154412844\n",
            "[LightGBM] [Warning] bagging_fraction is set=0.8168712898287805, subsample=1.0 will be ignored. Current value: bagging_fraction=0.8168712898287805\n",
            "[LightGBM] [Warning] feature_fraction is set=0.6668926421359924, colsample_bytree=1.0 will be ignored. Current value: feature_fraction=0.6668926421359924\n",
            "[LightGBM] [Warning] bagging_freq is set=7, subsample_freq=0 will be ignored. Current value: bagging_freq=7\n",
            "[LightGBM] [Warning] lambda_l2 is set=1.2268420192920735, reg_lambda=0.0 will be ignored. Current value: lambda_l2=1.2268420192920735\n",
            "[LightGBM] [Warning] lambda_l1 is set=0.5827430154412844, reg_alpha=0.0 will be ignored. Current value: lambda_l1=0.5827430154412844\n",
            "[LightGBM] [Warning] bagging_fraction is set=0.8168712898287805, subsample=1.0 will be ignored. Current value: bagging_fraction=0.8168712898287805\n"
          ],
          "name": "stdout"
        },
        {
          "output_type": "stream",
          "text": [
            "\u001b[32m[I 2021-02-13 18:22:38,412]\u001b[0m Trial 31 finished with value: 0.9186846477083943 and parameters: {'lambda_l1': 0.5827430154412844, 'lambda_l2': 1.2268420192920735, 'num_leaves': 130, 'feature_fraction': 0.6668926421359924, 'bagging_fraction': 0.8168712898287805, 'bagging_freq': 7, 'min_child_samples': 99}. Best is trial 17 with value: 0.9218550627521603.\u001b[0m\n"
          ],
          "name": "stderr"
        },
        {
          "output_type": "stream",
          "text": [
            "[LightGBM] [Warning] feature_fraction is set=0.6252906774372533, colsample_bytree=1.0 will be ignored. Current value: feature_fraction=0.6252906774372533\n",
            "[LightGBM] [Warning] bagging_freq is set=7, subsample_freq=0 will be ignored. Current value: bagging_freq=7\n",
            "[LightGBM] [Warning] lambda_l2 is set=9.211437252493534, reg_lambda=0.0 will be ignored. Current value: lambda_l2=9.211437252493534\n",
            "[LightGBM] [Warning] lambda_l1 is set=4.210914709374861, reg_alpha=0.0 will be ignored. Current value: lambda_l1=4.210914709374861\n",
            "[LightGBM] [Warning] bagging_fraction is set=0.7517888458854194, subsample=1.0 will be ignored. Current value: bagging_fraction=0.7517888458854194\n",
            "[LightGBM] [Warning] feature_fraction is set=0.6252906774372533, colsample_bytree=1.0 will be ignored. Current value: feature_fraction=0.6252906774372533\n",
            "[LightGBM] [Warning] bagging_freq is set=7, subsample_freq=0 will be ignored. Current value: bagging_freq=7\n",
            "[LightGBM] [Warning] lambda_l2 is set=9.211437252493534, reg_lambda=0.0 will be ignored. Current value: lambda_l2=9.211437252493534\n",
            "[LightGBM] [Warning] lambda_l1 is set=4.210914709374861, reg_alpha=0.0 will be ignored. Current value: lambda_l1=4.210914709374861\n",
            "[LightGBM] [Warning] bagging_fraction is set=0.7517888458854194, subsample=1.0 will be ignored. Current value: bagging_fraction=0.7517888458854194\n",
            "[LightGBM] [Warning] feature_fraction is set=0.6252906774372533, colsample_bytree=1.0 will be ignored. Current value: feature_fraction=0.6252906774372533\n",
            "[LightGBM] [Warning] bagging_freq is set=7, subsample_freq=0 will be ignored. Current value: bagging_freq=7\n",
            "[LightGBM] [Warning] lambda_l2 is set=9.211437252493534, reg_lambda=0.0 will be ignored. Current value: lambda_l2=9.211437252493534\n",
            "[LightGBM] [Warning] lambda_l1 is set=4.210914709374861, reg_alpha=0.0 will be ignored. Current value: lambda_l1=4.210914709374861\n",
            "[LightGBM] [Warning] bagging_fraction is set=0.7517888458854194, subsample=1.0 will be ignored. Current value: bagging_fraction=0.7517888458854194\n",
            "[LightGBM] [Warning] feature_fraction is set=0.6252906774372533, colsample_bytree=1.0 will be ignored. Current value: feature_fraction=0.6252906774372533\n",
            "[LightGBM] [Warning] bagging_freq is set=7, subsample_freq=0 will be ignored. Current value: bagging_freq=7\n",
            "[LightGBM] [Warning] lambda_l2 is set=9.211437252493534, reg_lambda=0.0 will be ignored. Current value: lambda_l2=9.211437252493534\n",
            "[LightGBM] [Warning] lambda_l1 is set=4.210914709374861, reg_alpha=0.0 will be ignored. Current value: lambda_l1=4.210914709374861\n",
            "[LightGBM] [Warning] bagging_fraction is set=0.7517888458854194, subsample=1.0 will be ignored. Current value: bagging_fraction=0.7517888458854194\n",
            "[LightGBM] [Warning] feature_fraction is set=0.6252906774372533, colsample_bytree=1.0 will be ignored. Current value: feature_fraction=0.6252906774372533\n",
            "[LightGBM] [Warning] bagging_freq is set=7, subsample_freq=0 will be ignored. Current value: bagging_freq=7\n",
            "[LightGBM] [Warning] lambda_l2 is set=9.211437252493534, reg_lambda=0.0 will be ignored. Current value: lambda_l2=9.211437252493534\n",
            "[LightGBM] [Warning] lambda_l1 is set=4.210914709374861, reg_alpha=0.0 will be ignored. Current value: lambda_l1=4.210914709374861\n",
            "[LightGBM] [Warning] bagging_fraction is set=0.7517888458854194, subsample=1.0 will be ignored. Current value: bagging_fraction=0.7517888458854194\n"
          ],
          "name": "stdout"
        },
        {
          "output_type": "stream",
          "text": [
            "\u001b[32m[I 2021-02-13 18:22:39,651]\u001b[0m Trial 32 finished with value: 0.9202775334701455 and parameters: {'lambda_l1': 4.210914709374861, 'lambda_l2': 9.211437252493534, 'num_leaves': 122, 'feature_fraction': 0.6252906774372533, 'bagging_fraction': 0.7517888458854194, 'bagging_freq': 7, 'min_child_samples': 93}. Best is trial 17 with value: 0.9218550627521603.\u001b[0m\n"
          ],
          "name": "stderr"
        },
        {
          "output_type": "stream",
          "text": [
            "[LightGBM] [Warning] feature_fraction is set=0.7382380302328234, colsample_bytree=1.0 will be ignored. Current value: feature_fraction=0.7382380302328234\n",
            "[LightGBM] [Warning] bagging_freq is set=6, subsample_freq=0 will be ignored. Current value: bagging_freq=6\n",
            "[LightGBM] [Warning] lambda_l2 is set=9.225823517218725, reg_lambda=0.0 will be ignored. Current value: lambda_l2=9.225823517218725\n",
            "[LightGBM] [Warning] lambda_l1 is set=8.813688757408691, reg_alpha=0.0 will be ignored. Current value: lambda_l1=8.813688757408691\n",
            "[LightGBM] [Warning] bagging_fraction is set=0.7550028755360496, subsample=1.0 will be ignored. Current value: bagging_fraction=0.7550028755360496\n",
            "[LightGBM] [Warning] feature_fraction is set=0.7382380302328234, colsample_bytree=1.0 will be ignored. Current value: feature_fraction=0.7382380302328234\n",
            "[LightGBM] [Warning] bagging_freq is set=6, subsample_freq=0 will be ignored. Current value: bagging_freq=6\n",
            "[LightGBM] [Warning] lambda_l2 is set=9.225823517218725, reg_lambda=0.0 will be ignored. Current value: lambda_l2=9.225823517218725\n",
            "[LightGBM] [Warning] lambda_l1 is set=8.813688757408691, reg_alpha=0.0 will be ignored. Current value: lambda_l1=8.813688757408691\n",
            "[LightGBM] [Warning] bagging_fraction is set=0.7550028755360496, subsample=1.0 will be ignored. Current value: bagging_fraction=0.7550028755360496\n",
            "[LightGBM] [Warning] feature_fraction is set=0.7382380302328234, colsample_bytree=1.0 will be ignored. Current value: feature_fraction=0.7382380302328234\n",
            "[LightGBM] [Warning] bagging_freq is set=6, subsample_freq=0 will be ignored. Current value: bagging_freq=6\n",
            "[LightGBM] [Warning] lambda_l2 is set=9.225823517218725, reg_lambda=0.0 will be ignored. Current value: lambda_l2=9.225823517218725\n",
            "[LightGBM] [Warning] lambda_l1 is set=8.813688757408691, reg_alpha=0.0 will be ignored. Current value: lambda_l1=8.813688757408691\n",
            "[LightGBM] [Warning] bagging_fraction is set=0.7550028755360496, subsample=1.0 will be ignored. Current value: bagging_fraction=0.7550028755360496\n",
            "[LightGBM] [Warning] feature_fraction is set=0.7382380302328234, colsample_bytree=1.0 will be ignored. Current value: feature_fraction=0.7382380302328234\n",
            "[LightGBM] [Warning] bagging_freq is set=6, subsample_freq=0 will be ignored. Current value: bagging_freq=6\n",
            "[LightGBM] [Warning] lambda_l2 is set=9.225823517218725, reg_lambda=0.0 will be ignored. Current value: lambda_l2=9.225823517218725\n",
            "[LightGBM] [Warning] lambda_l1 is set=8.813688757408691, reg_alpha=0.0 will be ignored. Current value: lambda_l1=8.813688757408691\n",
            "[LightGBM] [Warning] bagging_fraction is set=0.7550028755360496, subsample=1.0 will be ignored. Current value: bagging_fraction=0.7550028755360496\n",
            "[LightGBM] [Warning] feature_fraction is set=0.7382380302328234, colsample_bytree=1.0 will be ignored. Current value: feature_fraction=0.7382380302328234\n",
            "[LightGBM] [Warning] bagging_freq is set=6, subsample_freq=0 will be ignored. Current value: bagging_freq=6\n",
            "[LightGBM] [Warning] lambda_l2 is set=9.225823517218725, reg_lambda=0.0 will be ignored. Current value: lambda_l2=9.225823517218725\n",
            "[LightGBM] [Warning] lambda_l1 is set=8.813688757408691, reg_alpha=0.0 will be ignored. Current value: lambda_l1=8.813688757408691\n",
            "[LightGBM] [Warning] bagging_fraction is set=0.7550028755360496, subsample=1.0 will be ignored. Current value: bagging_fraction=0.7550028755360496\n"
          ],
          "name": "stdout"
        },
        {
          "output_type": "stream",
          "text": [
            "\u001b[32m[I 2021-02-13 18:22:40,904]\u001b[0m Trial 33 finished with value: 0.9118314696151109 and parameters: {'lambda_l1': 8.813688757408691, 'lambda_l2': 9.225823517218725, 'num_leaves': 103, 'feature_fraction': 0.7382380302328234, 'bagging_fraction': 0.7550028755360496, 'bagging_freq': 6, 'min_child_samples': 89}. Best is trial 17 with value: 0.9218550627521603.\u001b[0m\n"
          ],
          "name": "stderr"
        },
        {
          "output_type": "stream",
          "text": [
            "[LightGBM] [Warning] feature_fraction is set=0.6146965281255885, colsample_bytree=1.0 will be ignored. Current value: feature_fraction=0.6146965281255885\n",
            "[LightGBM] [Warning] bagging_freq is set=7, subsample_freq=0 will be ignored. Current value: bagging_freq=7\n",
            "[LightGBM] [Warning] lambda_l2 is set=0.09851019160876644, reg_lambda=0.0 will be ignored. Current value: lambda_l2=0.09851019160876644\n",
            "[LightGBM] [Warning] lambda_l1 is set=3.1824546870982684, reg_alpha=0.0 will be ignored. Current value: lambda_l1=3.1824546870982684\n",
            "[LightGBM] [Warning] bagging_fraction is set=0.8905419817613509, subsample=1.0 will be ignored. Current value: bagging_fraction=0.8905419817613509\n",
            "[LightGBM] [Warning] feature_fraction is set=0.6146965281255885, colsample_bytree=1.0 will be ignored. Current value: feature_fraction=0.6146965281255885\n",
            "[LightGBM] [Warning] bagging_freq is set=7, subsample_freq=0 will be ignored. Current value: bagging_freq=7\n",
            "[LightGBM] [Warning] lambda_l2 is set=0.09851019160876644, reg_lambda=0.0 will be ignored. Current value: lambda_l2=0.09851019160876644\n",
            "[LightGBM] [Warning] lambda_l1 is set=3.1824546870982684, reg_alpha=0.0 will be ignored. Current value: lambda_l1=3.1824546870982684\n",
            "[LightGBM] [Warning] bagging_fraction is set=0.8905419817613509, subsample=1.0 will be ignored. Current value: bagging_fraction=0.8905419817613509\n",
            "[LightGBM] [Warning] feature_fraction is set=0.6146965281255885, colsample_bytree=1.0 will be ignored. Current value: feature_fraction=0.6146965281255885\n",
            "[LightGBM] [Warning] bagging_freq is set=7, subsample_freq=0 will be ignored. Current value: bagging_freq=7\n",
            "[LightGBM] [Warning] lambda_l2 is set=0.09851019160876644, reg_lambda=0.0 will be ignored. Current value: lambda_l2=0.09851019160876644\n",
            "[LightGBM] [Warning] lambda_l1 is set=3.1824546870982684, reg_alpha=0.0 will be ignored. Current value: lambda_l1=3.1824546870982684\n",
            "[LightGBM] [Warning] bagging_fraction is set=0.8905419817613509, subsample=1.0 will be ignored. Current value: bagging_fraction=0.8905419817613509\n",
            "[LightGBM] [Warning] feature_fraction is set=0.6146965281255885, colsample_bytree=1.0 will be ignored. Current value: feature_fraction=0.6146965281255885\n",
            "[LightGBM] [Warning] bagging_freq is set=7, subsample_freq=0 will be ignored. Current value: bagging_freq=7\n",
            "[LightGBM] [Warning] lambda_l2 is set=0.09851019160876644, reg_lambda=0.0 will be ignored. Current value: lambda_l2=0.09851019160876644\n",
            "[LightGBM] [Warning] lambda_l1 is set=3.1824546870982684, reg_alpha=0.0 will be ignored. Current value: lambda_l1=3.1824546870982684\n",
            "[LightGBM] [Warning] bagging_fraction is set=0.8905419817613509, subsample=1.0 will be ignored. Current value: bagging_fraction=0.8905419817613509\n",
            "[LightGBM] [Warning] feature_fraction is set=0.6146965281255885, colsample_bytree=1.0 will be ignored. Current value: feature_fraction=0.6146965281255885\n",
            "[LightGBM] [Warning] bagging_freq is set=7, subsample_freq=0 will be ignored. Current value: bagging_freq=7\n",
            "[LightGBM] [Warning] lambda_l2 is set=0.09851019160876644, reg_lambda=0.0 will be ignored. Current value: lambda_l2=0.09851019160876644\n",
            "[LightGBM] [Warning] lambda_l1 is set=3.1824546870982684, reg_alpha=0.0 will be ignored. Current value: lambda_l1=3.1824546870982684\n",
            "[LightGBM] [Warning] bagging_fraction is set=0.8905419817613509, subsample=1.0 will be ignored. Current value: bagging_fraction=0.8905419817613509\n"
          ],
          "name": "stdout"
        },
        {
          "output_type": "stream",
          "text": [
            "\u001b[32m[I 2021-02-13 18:22:42,217]\u001b[0m Trial 34 finished with value: 0.9234409682958494 and parameters: {'lambda_l1': 3.1824546870982684, 'lambda_l2': 0.09851019160876644, 'num_leaves': 53, 'feature_fraction': 0.6146965281255885, 'bagging_fraction': 0.8905419817613509, 'bagging_freq': 7, 'min_child_samples': 83}. Best is trial 34 with value: 0.9234409682958494.\u001b[0m\n"
          ],
          "name": "stderr"
        },
        {
          "output_type": "stream",
          "text": [
            "[LightGBM] [Warning] feature_fraction is set=0.8271314268565043, colsample_bytree=1.0 will be ignored. Current value: feature_fraction=0.8271314268565043\n",
            "[LightGBM] [Warning] bagging_freq is set=7, subsample_freq=0 will be ignored. Current value: bagging_freq=7\n",
            "[LightGBM] [Warning] lambda_l2 is set=0.0008307132187939101, reg_lambda=0.0 will be ignored. Current value: lambda_l2=0.0008307132187939101\n",
            "[LightGBM] [Warning] lambda_l1 is set=5.723892198046379, reg_alpha=0.0 will be ignored. Current value: lambda_l1=5.723892198046379\n",
            "[LightGBM] [Warning] bagging_fraction is set=0.9059704577022746, subsample=1.0 will be ignored. Current value: bagging_fraction=0.9059704577022746\n",
            "[LightGBM] [Warning] feature_fraction is set=0.8271314268565043, colsample_bytree=1.0 will be ignored. Current value: feature_fraction=0.8271314268565043\n",
            "[LightGBM] [Warning] bagging_freq is set=7, subsample_freq=0 will be ignored. Current value: bagging_freq=7\n",
            "[LightGBM] [Warning] lambda_l2 is set=0.0008307132187939101, reg_lambda=0.0 will be ignored. Current value: lambda_l2=0.0008307132187939101\n",
            "[LightGBM] [Warning] lambda_l1 is set=5.723892198046379, reg_alpha=0.0 will be ignored. Current value: lambda_l1=5.723892198046379\n",
            "[LightGBM] [Warning] bagging_fraction is set=0.9059704577022746, subsample=1.0 will be ignored. Current value: bagging_fraction=0.9059704577022746\n",
            "[LightGBM] [Warning] feature_fraction is set=0.8271314268565043, colsample_bytree=1.0 will be ignored. Current value: feature_fraction=0.8271314268565043\n",
            "[LightGBM] [Warning] bagging_freq is set=7, subsample_freq=0 will be ignored. Current value: bagging_freq=7\n",
            "[LightGBM] [Warning] lambda_l2 is set=0.0008307132187939101, reg_lambda=0.0 will be ignored. Current value: lambda_l2=0.0008307132187939101\n",
            "[LightGBM] [Warning] lambda_l1 is set=5.723892198046379, reg_alpha=0.0 will be ignored. Current value: lambda_l1=5.723892198046379\n",
            "[LightGBM] [Warning] bagging_fraction is set=0.9059704577022746, subsample=1.0 will be ignored. Current value: bagging_fraction=0.9059704577022746\n",
            "[LightGBM] [Warning] feature_fraction is set=0.8271314268565043, colsample_bytree=1.0 will be ignored. Current value: feature_fraction=0.8271314268565043\n",
            "[LightGBM] [Warning] bagging_freq is set=7, subsample_freq=0 will be ignored. Current value: bagging_freq=7\n",
            "[LightGBM] [Warning] lambda_l2 is set=0.0008307132187939101, reg_lambda=0.0 will be ignored. Current value: lambda_l2=0.0008307132187939101\n",
            "[LightGBM] [Warning] lambda_l1 is set=5.723892198046379, reg_alpha=0.0 will be ignored. Current value: lambda_l1=5.723892198046379\n",
            "[LightGBM] [Warning] bagging_fraction is set=0.9059704577022746, subsample=1.0 will be ignored. Current value: bagging_fraction=0.9059704577022746\n",
            "[LightGBM] [Warning] feature_fraction is set=0.8271314268565043, colsample_bytree=1.0 will be ignored. Current value: feature_fraction=0.8271314268565043\n",
            "[LightGBM] [Warning] bagging_freq is set=7, subsample_freq=0 will be ignored. Current value: bagging_freq=7\n",
            "[LightGBM] [Warning] lambda_l2 is set=0.0008307132187939101, reg_lambda=0.0 will be ignored. Current value: lambda_l2=0.0008307132187939101\n",
            "[LightGBM] [Warning] lambda_l1 is set=5.723892198046379, reg_alpha=0.0 will be ignored. Current value: lambda_l1=5.723892198046379\n",
            "[LightGBM] [Warning] bagging_fraction is set=0.9059704577022746, subsample=1.0 will be ignored. Current value: bagging_fraction=0.9059704577022746\n"
          ],
          "name": "stdout"
        },
        {
          "output_type": "stream",
          "text": [
            "\u001b[32m[I 2021-02-13 18:22:43,468]\u001b[0m Trial 35 finished with value: 0.9239714648685624 and parameters: {'lambda_l1': 5.723892198046379, 'lambda_l2': 0.0008307132187939101, 'num_leaves': 44, 'feature_fraction': 0.8271314268565043, 'bagging_fraction': 0.9059704577022746, 'bagging_freq': 7, 'min_child_samples': 84}. Best is trial 35 with value: 0.9239714648685624.\u001b[0m\n"
          ],
          "name": "stderr"
        },
        {
          "output_type": "stream",
          "text": [
            "[LightGBM] [Warning] feature_fraction is set=0.844666927695537, colsample_bytree=1.0 will be ignored. Current value: feature_fraction=0.844666927695537\n",
            "[LightGBM] [Warning] bagging_freq is set=5, subsample_freq=0 will be ignored. Current value: bagging_freq=5\n",
            "[LightGBM] [Warning] lambda_l2 is set=0.0017059520094943501, reg_lambda=0.0 will be ignored. Current value: lambda_l2=0.0017059520094943501\n",
            "[LightGBM] [Warning] lambda_l1 is set=3.3071704145497107, reg_alpha=0.0 will be ignored. Current value: lambda_l1=3.3071704145497107\n",
            "[LightGBM] [Warning] bagging_fraction is set=0.894259903949234, subsample=1.0 will be ignored. Current value: bagging_fraction=0.894259903949234\n",
            "[LightGBM] [Warning] feature_fraction is set=0.844666927695537, colsample_bytree=1.0 will be ignored. Current value: feature_fraction=0.844666927695537\n",
            "[LightGBM] [Warning] bagging_freq is set=5, subsample_freq=0 will be ignored. Current value: bagging_freq=5\n",
            "[LightGBM] [Warning] lambda_l2 is set=0.0017059520094943501, reg_lambda=0.0 will be ignored. Current value: lambda_l2=0.0017059520094943501\n",
            "[LightGBM] [Warning] lambda_l1 is set=3.3071704145497107, reg_alpha=0.0 will be ignored. Current value: lambda_l1=3.3071704145497107\n",
            "[LightGBM] [Warning] bagging_fraction is set=0.894259903949234, subsample=1.0 will be ignored. Current value: bagging_fraction=0.894259903949234\n",
            "[LightGBM] [Warning] feature_fraction is set=0.844666927695537, colsample_bytree=1.0 will be ignored. Current value: feature_fraction=0.844666927695537\n",
            "[LightGBM] [Warning] bagging_freq is set=5, subsample_freq=0 will be ignored. Current value: bagging_freq=5\n",
            "[LightGBM] [Warning] lambda_l2 is set=0.0017059520094943501, reg_lambda=0.0 will be ignored. Current value: lambda_l2=0.0017059520094943501\n",
            "[LightGBM] [Warning] lambda_l1 is set=3.3071704145497107, reg_alpha=0.0 will be ignored. Current value: lambda_l1=3.3071704145497107\n",
            "[LightGBM] [Warning] bagging_fraction is set=0.894259903949234, subsample=1.0 will be ignored. Current value: bagging_fraction=0.894259903949234\n",
            "[LightGBM] [Warning] feature_fraction is set=0.844666927695537, colsample_bytree=1.0 will be ignored. Current value: feature_fraction=0.844666927695537\n",
            "[LightGBM] [Warning] bagging_freq is set=5, subsample_freq=0 will be ignored. Current value: bagging_freq=5\n",
            "[LightGBM] [Warning] lambda_l2 is set=0.0017059520094943501, reg_lambda=0.0 will be ignored. Current value: lambda_l2=0.0017059520094943501\n",
            "[LightGBM] [Warning] lambda_l1 is set=3.3071704145497107, reg_alpha=0.0 will be ignored. Current value: lambda_l1=3.3071704145497107\n",
            "[LightGBM] [Warning] bagging_fraction is set=0.894259903949234, subsample=1.0 will be ignored. Current value: bagging_fraction=0.894259903949234\n",
            "[LightGBM] [Warning] feature_fraction is set=0.844666927695537, colsample_bytree=1.0 will be ignored. Current value: feature_fraction=0.844666927695537\n",
            "[LightGBM] [Warning] bagging_freq is set=5, subsample_freq=0 will be ignored. Current value: bagging_freq=5\n",
            "[LightGBM] [Warning] lambda_l2 is set=0.0017059520094943501, reg_lambda=0.0 will be ignored. Current value: lambda_l2=0.0017059520094943501\n",
            "[LightGBM] [Warning] lambda_l1 is set=3.3071704145497107, reg_alpha=0.0 will be ignored. Current value: lambda_l1=3.3071704145497107\n",
            "[LightGBM] [Warning] bagging_fraction is set=0.894259903949234, subsample=1.0 will be ignored. Current value: bagging_fraction=0.894259903949234\n"
          ],
          "name": "stdout"
        },
        {
          "output_type": "stream",
          "text": [
            "\u001b[32m[I 2021-02-13 18:22:44,908]\u001b[0m Trial 36 finished with value: 0.9202733453393084 and parameters: {'lambda_l1': 3.3071704145497107, 'lambda_l2': 0.0017059520094943501, 'num_leaves': 52, 'feature_fraction': 0.844666927695537, 'bagging_fraction': 0.894259903949234, 'bagging_freq': 5, 'min_child_samples': 82}. Best is trial 35 with value: 0.9239714648685624.\u001b[0m\n"
          ],
          "name": "stderr"
        },
        {
          "output_type": "stream",
          "text": [
            "[LightGBM] [Warning] feature_fraction is set=0.8324466243685166, colsample_bytree=1.0 will be ignored. Current value: feature_fraction=0.8324466243685166\n",
            "[LightGBM] [Warning] bagging_freq is set=7, subsample_freq=0 will be ignored. Current value: bagging_freq=7\n",
            "[LightGBM] [Warning] lambda_l2 is set=0.004633429754983468, reg_lambda=0.0 will be ignored. Current value: lambda_l2=0.004633429754983468\n",
            "[LightGBM] [Warning] lambda_l1 is set=0.06673638222412126, reg_alpha=0.0 will be ignored. Current value: lambda_l1=0.06673638222412126\n",
            "[LightGBM] [Warning] bagging_fraction is set=0.9561067079909004, subsample=1.0 will be ignored. Current value: bagging_fraction=0.9561067079909004\n",
            "[LightGBM] [Warning] feature_fraction is set=0.8324466243685166, colsample_bytree=1.0 will be ignored. Current value: feature_fraction=0.8324466243685166\n",
            "[LightGBM] [Warning] bagging_freq is set=7, subsample_freq=0 will be ignored. Current value: bagging_freq=7\n",
            "[LightGBM] [Warning] lambda_l2 is set=0.004633429754983468, reg_lambda=0.0 will be ignored. Current value: lambda_l2=0.004633429754983468\n",
            "[LightGBM] [Warning] lambda_l1 is set=0.06673638222412126, reg_alpha=0.0 will be ignored. Current value: lambda_l1=0.06673638222412126\n",
            "[LightGBM] [Warning] bagging_fraction is set=0.9561067079909004, subsample=1.0 will be ignored. Current value: bagging_fraction=0.9561067079909004\n",
            "[LightGBM] [Warning] feature_fraction is set=0.8324466243685166, colsample_bytree=1.0 will be ignored. Current value: feature_fraction=0.8324466243685166\n",
            "[LightGBM] [Warning] bagging_freq is set=7, subsample_freq=0 will be ignored. Current value: bagging_freq=7\n",
            "[LightGBM] [Warning] lambda_l2 is set=0.004633429754983468, reg_lambda=0.0 will be ignored. Current value: lambda_l2=0.004633429754983468\n",
            "[LightGBM] [Warning] lambda_l1 is set=0.06673638222412126, reg_alpha=0.0 will be ignored. Current value: lambda_l1=0.06673638222412126\n",
            "[LightGBM] [Warning] bagging_fraction is set=0.9561067079909004, subsample=1.0 will be ignored. Current value: bagging_fraction=0.9561067079909004\n",
            "[LightGBM] [Warning] feature_fraction is set=0.8324466243685166, colsample_bytree=1.0 will be ignored. Current value: feature_fraction=0.8324466243685166\n",
            "[LightGBM] [Warning] bagging_freq is set=7, subsample_freq=0 will be ignored. Current value: bagging_freq=7\n",
            "[LightGBM] [Warning] lambda_l2 is set=0.004633429754983468, reg_lambda=0.0 will be ignored. Current value: lambda_l2=0.004633429754983468\n",
            "[LightGBM] [Warning] lambda_l1 is set=0.06673638222412126, reg_alpha=0.0 will be ignored. Current value: lambda_l1=0.06673638222412126\n",
            "[LightGBM] [Warning] bagging_fraction is set=0.9561067079909004, subsample=1.0 will be ignored. Current value: bagging_fraction=0.9561067079909004\n",
            "[LightGBM] [Warning] feature_fraction is set=0.8324466243685166, colsample_bytree=1.0 will be ignored. Current value: feature_fraction=0.8324466243685166\n",
            "[LightGBM] [Warning] bagging_freq is set=7, subsample_freq=0 will be ignored. Current value: bagging_freq=7\n",
            "[LightGBM] [Warning] lambda_l2 is set=0.004633429754983468, reg_lambda=0.0 will be ignored. Current value: lambda_l2=0.004633429754983468\n",
            "[LightGBM] [Warning] lambda_l1 is set=0.06673638222412126, reg_alpha=0.0 will be ignored. Current value: lambda_l1=0.06673638222412126\n",
            "[LightGBM] [Warning] bagging_fraction is set=0.9561067079909004, subsample=1.0 will be ignored. Current value: bagging_fraction=0.9561067079909004\n"
          ],
          "name": "stdout"
        },
        {
          "output_type": "stream",
          "text": [
            "\u001b[32m[I 2021-02-13 18:22:46,362]\u001b[0m Trial 37 finished with value: 0.9123577780569864 and parameters: {'lambda_l1': 0.06673638222412126, 'lambda_l2': 0.004633429754983468, 'num_leaves': 52, 'feature_fraction': 0.8324466243685166, 'bagging_fraction': 0.9561067079909004, 'bagging_freq': 7, 'min_child_samples': 91}. Best is trial 35 with value: 0.9239714648685624.\u001b[0m\n"
          ],
          "name": "stderr"
        },
        {
          "output_type": "stream",
          "text": [
            "[LightGBM] [Warning] feature_fraction is set=0.9656771868660532, colsample_bytree=1.0 will be ignored. Current value: feature_fraction=0.9656771868660532\n",
            "[LightGBM] [Warning] bagging_freq is set=7, subsample_freq=0 will be ignored. Current value: bagging_freq=7\n",
            "[LightGBM] [Warning] lambda_l2 is set=0.0005786755863040118, reg_lambda=0.0 will be ignored. Current value: lambda_l2=0.0005786755863040118\n",
            "[LightGBM] [Warning] lambda_l1 is set=1.4611720054421837, reg_alpha=0.0 will be ignored. Current value: lambda_l1=1.4611720054421837\n",
            "[LightGBM] [Warning] bagging_fraction is set=0.8865407475018441, subsample=1.0 will be ignored. Current value: bagging_fraction=0.8865407475018441\n",
            "[LightGBM] [Warning] feature_fraction is set=0.9656771868660532, colsample_bytree=1.0 will be ignored. Current value: feature_fraction=0.9656771868660532\n",
            "[LightGBM] [Warning] bagging_freq is set=7, subsample_freq=0 will be ignored. Current value: bagging_freq=7\n",
            "[LightGBM] [Warning] lambda_l2 is set=0.0005786755863040118, reg_lambda=0.0 will be ignored. Current value: lambda_l2=0.0005786755863040118\n",
            "[LightGBM] [Warning] lambda_l1 is set=1.4611720054421837, reg_alpha=0.0 will be ignored. Current value: lambda_l1=1.4611720054421837\n",
            "[LightGBM] [Warning] bagging_fraction is set=0.8865407475018441, subsample=1.0 will be ignored. Current value: bagging_fraction=0.8865407475018441\n",
            "[LightGBM] [Warning] feature_fraction is set=0.9656771868660532, colsample_bytree=1.0 will be ignored. Current value: feature_fraction=0.9656771868660532\n",
            "[LightGBM] [Warning] bagging_freq is set=7, subsample_freq=0 will be ignored. Current value: bagging_freq=7\n",
            "[LightGBM] [Warning] lambda_l2 is set=0.0005786755863040118, reg_lambda=0.0 will be ignored. Current value: lambda_l2=0.0005786755863040118\n",
            "[LightGBM] [Warning] lambda_l1 is set=1.4611720054421837, reg_alpha=0.0 will be ignored. Current value: lambda_l1=1.4611720054421837\n",
            "[LightGBM] [Warning] bagging_fraction is set=0.8865407475018441, subsample=1.0 will be ignored. Current value: bagging_fraction=0.8865407475018441\n",
            "[LightGBM] [Warning] feature_fraction is set=0.9656771868660532, colsample_bytree=1.0 will be ignored. Current value: feature_fraction=0.9656771868660532\n",
            "[LightGBM] [Warning] bagging_freq is set=7, subsample_freq=0 will be ignored. Current value: bagging_freq=7\n",
            "[LightGBM] [Warning] lambda_l2 is set=0.0005786755863040118, reg_lambda=0.0 will be ignored. Current value: lambda_l2=0.0005786755863040118\n",
            "[LightGBM] [Warning] lambda_l1 is set=1.4611720054421837, reg_alpha=0.0 will be ignored. Current value: lambda_l1=1.4611720054421837\n",
            "[LightGBM] [Warning] bagging_fraction is set=0.8865407475018441, subsample=1.0 will be ignored. Current value: bagging_fraction=0.8865407475018441\n",
            "[LightGBM] [Warning] feature_fraction is set=0.9656771868660532, colsample_bytree=1.0 will be ignored. Current value: feature_fraction=0.9656771868660532\n",
            "[LightGBM] [Warning] bagging_freq is set=7, subsample_freq=0 will be ignored. Current value: bagging_freq=7\n",
            "[LightGBM] [Warning] lambda_l2 is set=0.0005786755863040118, reg_lambda=0.0 will be ignored. Current value: lambda_l2=0.0005786755863040118\n",
            "[LightGBM] [Warning] lambda_l1 is set=1.4611720054421837, reg_alpha=0.0 will be ignored. Current value: lambda_l1=1.4611720054421837\n",
            "[LightGBM] [Warning] bagging_fraction is set=0.8865407475018441, subsample=1.0 will be ignored. Current value: bagging_fraction=0.8865407475018441\n"
          ],
          "name": "stdout"
        },
        {
          "output_type": "stream",
          "text": [
            "\u001b[32m[I 2021-02-13 18:22:47,794]\u001b[0m Trial 38 finished with value: 0.9181639234409683 and parameters: {'lambda_l1': 1.4611720054421837, 'lambda_l2': 0.0005786755863040118, 'num_leaves': 23, 'feature_fraction': 0.9656771868660532, 'bagging_fraction': 0.8865407475018441, 'bagging_freq': 7, 'min_child_samples': 80}. Best is trial 35 with value: 0.9239714648685624.\u001b[0m\n"
          ],
          "name": "stderr"
        },
        {
          "output_type": "stream",
          "text": [
            "[LightGBM] [Warning] feature_fraction is set=0.8143651742329092, colsample_bytree=1.0 will be ignored. Current value: feature_fraction=0.8143651742329092\n",
            "[LightGBM] [Warning] bagging_freq is set=6, subsample_freq=0 will be ignored. Current value: bagging_freq=6\n",
            "[LightGBM] [Warning] lambda_l2 is set=0.0001135402576339061, reg_lambda=0.0 will be ignored. Current value: lambda_l2=0.0001135402576339061\n",
            "[LightGBM] [Warning] lambda_l1 is set=9.610572880172, reg_alpha=0.0 will be ignored. Current value: lambda_l1=9.610572880172\n",
            "[LightGBM] [Warning] bagging_fraction is set=0.957805811751374, subsample=1.0 will be ignored. Current value: bagging_fraction=0.957805811751374\n",
            "[LightGBM] [Warning] feature_fraction is set=0.8143651742329092, colsample_bytree=1.0 will be ignored. Current value: feature_fraction=0.8143651742329092\n",
            "[LightGBM] [Warning] bagging_freq is set=6, subsample_freq=0 will be ignored. Current value: bagging_freq=6\n",
            "[LightGBM] [Warning] lambda_l2 is set=0.0001135402576339061, reg_lambda=0.0 will be ignored. Current value: lambda_l2=0.0001135402576339061\n",
            "[LightGBM] [Warning] lambda_l1 is set=9.610572880172, reg_alpha=0.0 will be ignored. Current value: lambda_l1=9.610572880172\n",
            "[LightGBM] [Warning] bagging_fraction is set=0.957805811751374, subsample=1.0 will be ignored. Current value: bagging_fraction=0.957805811751374\n",
            "[LightGBM] [Warning] feature_fraction is set=0.8143651742329092, colsample_bytree=1.0 will be ignored. Current value: feature_fraction=0.8143651742329092\n",
            "[LightGBM] [Warning] bagging_freq is set=6, subsample_freq=0 will be ignored. Current value: bagging_freq=6\n",
            "[LightGBM] [Warning] lambda_l2 is set=0.0001135402576339061, reg_lambda=0.0 will be ignored. Current value: lambda_l2=0.0001135402576339061\n",
            "[LightGBM] [Warning] lambda_l1 is set=9.610572880172, reg_alpha=0.0 will be ignored. Current value: lambda_l1=9.610572880172\n",
            "[LightGBM] [Warning] bagging_fraction is set=0.957805811751374, subsample=1.0 will be ignored. Current value: bagging_fraction=0.957805811751374\n",
            "[LightGBM] [Warning] feature_fraction is set=0.8143651742329092, colsample_bytree=1.0 will be ignored. Current value: feature_fraction=0.8143651742329092\n",
            "[LightGBM] [Warning] bagging_freq is set=6, subsample_freq=0 will be ignored. Current value: bagging_freq=6\n",
            "[LightGBM] [Warning] lambda_l2 is set=0.0001135402576339061, reg_lambda=0.0 will be ignored. Current value: lambda_l2=0.0001135402576339061\n",
            "[LightGBM] [Warning] lambda_l1 is set=9.610572880172, reg_alpha=0.0 will be ignored. Current value: lambda_l1=9.610572880172\n",
            "[LightGBM] [Warning] bagging_fraction is set=0.957805811751374, subsample=1.0 will be ignored. Current value: bagging_fraction=0.957805811751374\n",
            "[LightGBM] [Warning] feature_fraction is set=0.8143651742329092, colsample_bytree=1.0 will be ignored. Current value: feature_fraction=0.8143651742329092\n",
            "[LightGBM] [Warning] bagging_freq is set=6, subsample_freq=0 will be ignored. Current value: bagging_freq=6\n",
            "[LightGBM] [Warning] lambda_l2 is set=0.0001135402576339061, reg_lambda=0.0 will be ignored. Current value: lambda_l2=0.0001135402576339061\n",
            "[LightGBM] [Warning] lambda_l1 is set=9.610572880172, reg_alpha=0.0 will be ignored. Current value: lambda_l1=9.610572880172\n",
            "[LightGBM] [Warning] bagging_fraction is set=0.957805811751374, subsample=1.0 will be ignored. Current value: bagging_fraction=0.957805811751374\n"
          ],
          "name": "stdout"
        },
        {
          "output_type": "stream",
          "text": [
            "\u001b[32m[I 2021-02-13 18:22:49,051]\u001b[0m Trial 39 finished with value: 0.9244991693540505 and parameters: {'lambda_l1': 9.610572880172, 'lambda_l2': 0.0001135402576339061, 'num_leaves': 62, 'feature_fraction': 0.8143651742329092, 'bagging_fraction': 0.957805811751374, 'bagging_freq': 6, 'min_child_samples': 85}. Best is trial 39 with value: 0.9244991693540505.\u001b[0m\n"
          ],
          "name": "stderr"
        }
      ]
    },
    {
      "cell_type": "code",
      "metadata": {
        "id": "ThP2k7w9obWq",
        "outputId": "43989a52-5dbc-4b80-c1e5-29912d30b150",
        "colab": {
          "base_uri": "https://localhost:8080/"
        }
      },
      "source": [
        "lgb_params = study.best_params\r\n",
        "study.best_params"
      ],
      "execution_count": 63,
      "outputs": [
        {
          "output_type": "execute_result",
          "data": {
            "text/plain": [
              "{'bagging_fraction': 0.957805811751374,\n",
              " 'bagging_freq': 6,\n",
              " 'feature_fraction': 0.8143651742329092,\n",
              " 'lambda_l1': 9.610572880172,\n",
              " 'lambda_l2': 0.0001135402576339061,\n",
              " 'min_child_samples': 85,\n",
              " 'num_leaves': 62}"
            ]
          },
          "metadata": {
            "tags": []
          },
          "execution_count": 63
        }
      ]
    },
    {
      "cell_type": "code",
      "metadata": {
        "id": "0GkEd7yioifr"
      },
      "source": [
        ""
      ],
      "execution_count": null,
      "outputs": []
    },
    {
      "cell_type": "code",
      "metadata": {
        "id": "F5rHILNaoiby"
      },
      "source": [
        ""
      ],
      "execution_count": null,
      "outputs": []
    },
    {
      "cell_type": "code",
      "metadata": {
        "id": "Q21m1emdiqgg"
      },
      "source": [
        "xgb = XGBClassifier(tree_method='gpu_hist')\n",
        "scores = cross_val_score(xgb, X, y, cv=kf, scoring='accuracy')\n",
        "scores.mean()"
      ],
      "execution_count": 43,
      "outputs": []
    },
    {
      "cell_type": "code",
      "metadata": {
        "colab": {
          "base_uri": "https://localhost:8080/"
        },
        "id": "49dHxMAym44L",
        "outputId": "3fe7ec1d-22f2-4a52-91c7-60dd086f3e1b"
      },
      "source": [
        "lgb = LGBMClassifier(device_type='gpu')\r\n",
        "scores = cross_val_score(lgb, X, y, cv=kf, scoring='accuracy')\r\n",
        "scores.mean()"
      ],
      "execution_count": 58,
      "outputs": [
        {
          "output_type": "execute_result",
          "data": {
            "text/plain": [
              "0.9033812176292386"
            ]
          },
          "metadata": {
            "tags": []
          },
          "execution_count": 58
        }
      ]
    },
    {
      "cell_type": "code",
      "metadata": {
        "colab": {
          "base_uri": "https://localhost:8080/"
        },
        "id": "Yz-vPj0RnOpb",
        "outputId": "5877fc3e-5be3-4385-f954-68bfa58fdaf3"
      },
      "source": [
        "lgb.fit(X, y)"
      ],
      "execution_count": 59,
      "outputs": [
        {
          "output_type": "execute_result",
          "data": {
            "text/plain": [
              "LGBMClassifier(boosting_type='gbdt', class_weight=None, colsample_bytree=1.0,\n",
              "               device_type='gpu', importance_type='split', learning_rate=0.1,\n",
              "               max_depth=-1, min_child_samples=20, min_child_weight=0.001,\n",
              "               min_split_gain=0.0, n_estimators=100, n_jobs=-1, num_leaves=31,\n",
              "               objective=None, random_state=None, reg_alpha=0.0, reg_lambda=0.0,\n",
              "               silent=True, subsample=1.0, subsample_for_bin=200000,\n",
              "               subsample_freq=0)"
            ]
          },
          "metadata": {
            "tags": []
          },
          "execution_count": 59
        }
      ]
    },
    {
      "cell_type": "markdown",
      "metadata": {
        "id": "Yswn_IPe6T2-"
      },
      "source": [
        "# submission\r\n",
        "---"
      ]
    },
    {
      "cell_type": "code",
      "metadata": {
        "id": "unn5tB55Nrw7"
      },
      "source": [
        "submission['prediction'] = s1.drop(index=0)\r\n",
        "submission.iloc[132, 0] = 1\r\n",
        "submission.iloc[190, 0] = 1\r\n",
        "submission.iloc[444, 0] = 0\r\n",
        "submission.iloc[478, 0] = 1\r\n",
        "submission.iloc[609, 0] = 1"
      ],
      "execution_count": 27,
      "outputs": []
    },
    {
      "cell_type": "code",
      "metadata": {
        "id": "BI56ygxy6Wtd"
      },
      "source": [
        "submission['prediction'] = xgb.predict(test)\r\n",
        "submission.iloc[444, 0] = 0\r\n",
        "# submission.to_csv('submission11.csv', index=False)"
      ],
      "execution_count": 46,
      "outputs": []
    },
    {
      "cell_type": "code",
      "metadata": {
        "colab": {
          "base_uri": "https://localhost:8080/"
        },
        "id": "f2eCdb5HjmRP",
        "outputId": "588a1da0-46d4-4977-d73a-d3fd2f0561d3"
      },
      "source": [
        "submission['prediction'].mean()"
      ],
      "execution_count": 47,
      "outputs": [
        {
          "output_type": "execute_result",
          "data": {
            "text/plain": [
              "0.310126582278481"
            ]
          },
          "metadata": {
            "tags": []
          },
          "execution_count": 47
        }
      ]
    },
    {
      "cell_type": "code",
      "metadata": {
        "id": "sPQQfZZ4jodG"
      },
      "source": [
        ""
      ],
      "execution_count": null,
      "outputs": []
    }
  ]
}