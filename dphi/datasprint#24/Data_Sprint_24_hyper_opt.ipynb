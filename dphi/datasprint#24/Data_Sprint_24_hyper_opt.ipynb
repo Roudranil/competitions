{
  "nbformat": 4,
  "nbformat_minor": 0,
  "metadata": {
    "colab": {
      "name": "Data Sprint #24: hyper opt.ipynb",
      "provenance": [],
      "authorship_tag": "ABX9TyMlb3esakRkoX59yF42uNqx",
      "include_colab_link": true
    },
    "kernelspec": {
      "name": "python3",
      "display_name": "Python 3"
    }
  },
  "cells": [
    {
      "cell_type": "markdown",
      "metadata": {
        "id": "view-in-github",
        "colab_type": "text"
      },
      "source": [
        "<a href=\"https://colab.research.google.com/github/Roudranil/competitions/blob/main/dphi/datasprint%2324/Data_Sprint_24_hyper_opt.ipynb\" target=\"_parent\"><img src=\"https://colab.research.google.com/assets/colab-badge.svg\" alt=\"Open In Colab\"/></a>"
      ]
    },
    {
      "cell_type": "code",
      "metadata": {
        "id": "UK2KfJ3p5eNC"
      },
      "source": [
        "import numpy as np\r\n",
        "import pandas as pd"
      ],
      "execution_count": 1,
      "outputs": []
    },
    {
      "cell_type": "code",
      "metadata": {
        "id": "yZtqQqxS5o0V"
      },
      "source": [
        "X = pd.read_csv('https://raw.githubusercontent.com/Roudranil/competitions/main/dphi/datasprint%2324/X.csv')\r\n",
        "y = pd.read_csv('https://raw.githubusercontent.com/Roudranil/competitions/main/dphi/datasprint%2324/y.csv')\r\n",
        "test = pd.read_csv('https://raw.githubusercontent.com/Roudranil/competitions/main/dphi/datasprint%2324/test.csv')\r\n",
        "submission = pd.read_csv('https://raw.githubusercontent.com/dphi-official/Datasets/master/Tinder_Millennial_Match/sample_submission.csv')"
      ],
      "execution_count": 2,
      "outputs": []
    },
    {
      "cell_type": "code",
      "metadata": {
        "id": "_xHDwr7G6KnT"
      },
      "source": [
        ""
      ],
      "execution_count": null,
      "outputs": []
    },
    {
      "cell_type": "markdown",
      "metadata": {
        "id": "Yswn_IPe6T2-"
      },
      "source": [
        "# submission\r\n",
        "---"
      ]
    },
    {
      "cell_type": "code",
      "metadata": {
        "id": "BI56ygxy6Wtd"
      },
      "source": [
        "submission['prediction'] = xgbc.predict(test)\r\n",
        "submission.iloc[444, 0] = 0\r\n",
        "submission.to_csv('submission9.csv', index=False)"
      ],
      "execution_count": null,
      "outputs": []
    }
  ]
}