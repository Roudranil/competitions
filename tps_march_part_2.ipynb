{
  "nbformat": 4,
  "nbformat_minor": 0,
  "metadata": {
    "colab": {
      "name": "tps march part 2.ipynb",
      "provenance": [],
      "authorship_tag": "ABX9TyNQ5K2GQsEcXqTdr8qZPVMe",
      "include_colab_link": true
    },
    "kernelspec": {
      "name": "python3",
      "display_name": "Python 3"
    },
    "language_info": {
      "name": "python"
    }
  },
  "cells": [
    {
      "cell_type": "markdown",
      "metadata": {
        "id": "view-in-github",
        "colab_type": "text"
      },
      "source": [
        "<a href=\"https://colab.research.google.com/github/Roudranil/competitions/blob/main/tps_march_part_2.ipynb\" target=\"_parent\"><img src=\"https://colab.research.google.com/assets/colab-badge.svg\" alt=\"Open In Colab\"/></a>"
      ]
    },
    {
      "cell_type": "code",
      "metadata": {
        "colab": {
          "base_uri": "https://localhost:8080/"
        },
        "id": "iWp2jlnvYLtV",
        "outputId": "68a1d1b1-346e-4b4a-af15-b08178f6c1d5"
      },
      "source": [
        "from google.colab import drive\n",
        "drive.mount('/content/drive')"
      ],
      "execution_count": 1,
      "outputs": [
        {
          "output_type": "stream",
          "text": [
            "Mounted at /content/drive\n"
          ],
          "name": "stdout"
        }
      ]
    },
    {
      "cell_type": "markdown",
      "metadata": {
        "id": "535hZPiWYWQS"
      },
      "source": [
        "#1. libraries and dataset"
      ]
    },
    {
      "cell_type": "code",
      "metadata": {
        "id": "BAvXb-OIYZog"
      },
      "source": [
        "!pip install category_encoders"
      ],
      "execution_count": null,
      "outputs": []
    },
    {
      "cell_type": "code",
      "metadata": {
        "id": "l5r98gseYgHp"
      },
      "source": [
        "!pip install catboost"
      ],
      "execution_count": null,
      "outputs": []
    },
    {
      "cell_type": "code",
      "metadata": {
        "id": "4-lhECWmYpOv"
      },
      "source": [
        "import numpy as np\n",
        "import pandas as pd\n",
        "from sklearn.model_selection import StratifiedKFold, cross_val_score\n",
        "from sklearn.ensemble import RandomForestClassifier\n",
        "\n",
        "from xgboost import XGBClassifier\n",
        "from lightgbm import LGBMClassifier\n",
        "from catboost import CatBoostClassifier"
      ],
      "execution_count": 6,
      "outputs": []
    },
    {
      "cell_type": "code",
      "metadata": {
        "id": "SRUqtmBAkRzS"
      },
      "source": [
        "from sklearn.metrics import roc_auc_score"
      ],
      "execution_count": 34,
      "outputs": []
    },
    {
      "cell_type": "code",
      "metadata": {
        "id": "2jIReA4OaXcg"
      },
      "source": [
        "traindata = pd.read_csv(\"/content/drive/MyDrive/data/kaggle_tabplayground_mar/train.csv\", index_col=0)\n",
        "testdata = pd.read_csv(\"/content/drive/MyDrive/data/kaggle_tabplayground_mar/test.csv\", index_col=0)\n",
        "submission = pd.read_csv(\"/content/drive/MyDrive/data/kaggle_tabplayground_mar/sample_submission.csv\", index_col=0)"
      ],
      "execution_count": 23,
      "outputs": []
    },
    {
      "cell_type": "code",
      "metadata": {
        "id": "3_ljJAcSbSAm"
      },
      "source": [
        "traindf = traindata.copy()\n",
        "testdf = testdata.copy()"
      ],
      "execution_count": 24,
      "outputs": []
    },
    {
      "cell_type": "markdown",
      "metadata": {
        "id": "ZjyvK4enbklh"
      },
      "source": [
        "#2. encoding"
      ]
    },
    {
      "cell_type": "code",
      "metadata": {
        "id": "EsrkrOxxbbcs"
      },
      "source": [
        "traindf.drop(columns=['cat5', 'cat13', 'cont2', 'cont7', 'cont10'], inplace=True)\n",
        "testdf.drop(columns=['cat5', 'cat13', 'cont2', 'cont7', 'cont10'], inplace=True)"
      ],
      "execution_count": 25,
      "outputs": []
    },
    {
      "cell_type": "code",
      "metadata": {
        "id": "Fhufhh_FcHKi"
      },
      "source": [
        "numcols = [col for col in traindf.columns if traindf[col].dtype != 'object']\n",
        "catcols = [col for col in traindf.columns if col not in numcols]"
      ],
      "execution_count": 11,
      "outputs": []
    },
    {
      "cell_type": "code",
      "metadata": {
        "colab": {
          "base_uri": "https://localhost:8080/"
        },
        "id": "31dW4Gd7cnKp",
        "outputId": "00bef80d-9e1f-4885-96c9-ed17eb0365b9"
      },
      "source": [
        "for col in catcols:\n",
        "    print(col, \"\\t\", traindf[col].nunique())"
      ],
      "execution_count": 13,
      "outputs": [
        {
          "output_type": "stream",
          "text": [
            "cat0 \t 2\n",
            "cat1 \t 15\n",
            "cat2 \t 19\n",
            "cat3 \t 13\n",
            "cat4 \t 20\n",
            "cat6 \t 16\n",
            "cat7 \t 51\n",
            "cat8 \t 61\n",
            "cat9 \t 19\n",
            "cat10 \t 299\n",
            "cat11 \t 2\n",
            "cat12 \t 2\n",
            "cat14 \t 2\n",
            "cat15 \t 4\n",
            "cat16 \t 4\n",
            "cat17 \t 4\n",
            "cat18 \t 4\n"
          ],
          "name": "stdout"
        }
      ]
    },
    {
      "cell_type": "code",
      "metadata": {
        "id": "Nn5L0UficyPo"
      },
      "source": [
        "catcols2 = ['cat0', 'cat11', 'cat12', 'cat14', 'cat15', 'cat16', 'cat17', 'cat18']\n",
        "catcols3 = [col for col in catcols if col not in catcols2]"
      ],
      "execution_count": 30,
      "outputs": []
    },
    {
      "cell_type": "code",
      "metadata": {
        "id": "LftEpeBMfCM3"
      },
      "source": [
        "X = traindf.drop(columns=['target'])\n",
        "y = traindf['target']"
      ],
      "execution_count": 36,
      "outputs": []
    },
    {
      "cell_type": "code",
      "metadata": {
        "colab": {
          "base_uri": "https://localhost:8080/"
        },
        "id": "AHpouCi_drYe",
        "outputId": "9ce4cd99-516f-46f3-db15-236de8966753"
      },
      "source": [
        "from category_encoders.one_hot import OneHotEncoder\n",
        "onehot = OneHotEncoder(cols = catcols2, return_df=True, handle_unknown=0, drop_invariant=True)\n",
        "X = onehot.fit_transform(X)\n",
        "testdf = onehot.transform(testdf)"
      ],
      "execution_count": 27,
      "outputs": [
        {
          "output_type": "stream",
          "text": [
            "/usr/local/lib/python3.7/dist-packages/category_encoders/utils.py:21: FutureWarning: is_categorical is deprecated and will be removed in a future version.  Use is_categorical_dtype instead\n",
            "  elif pd.api.types.is_categorical(cols):\n"
          ],
          "name": "stderr"
        }
      ]
    },
    {
      "cell_type": "code",
      "metadata": {
        "id": "bz6_eCUjhPAf"
      },
      "source": [
        "kf = StratifiedKFold(shuffle=True, random_state=42)"
      ],
      "execution_count": 32,
      "outputs": []
    },
    {
      "cell_type": "code",
      "metadata": {
        "id": "KYgGSml_ix1C"
      },
      "source": [
        "from category_encoders.target_encoder import TargetEncoder"
      ],
      "execution_count": 33,
      "outputs": []
    },
    {
      "cell_type": "code",
      "metadata": {
        "colab": {
          "base_uri": "https://localhost:8080/"
        },
        "id": "PYJOONtThUZD",
        "outputId": "bb159517-9d84-4c89-fd99-0c36f97defc4"
      },
      "source": [
        "ind = kf.split(X=np.zeros(300000), y=y)\n",
        "scores = []\n",
        "\n",
        "for tr_ind, val_ind in ind:\n",
        "    X_tr, X_val = X.iloc[tr_ind], X.iloc[val_ind]\n",
        "    y_tr, y_val = y.iloc[tr_ind], y.iloc[val_ind]\n",
        "\n",
        "    enc = TargetEncoder(cols=catcols3, return_df=True, handle_unknown=y.mean())\n",
        "    X_tr = enc.fit_transform(X_tr, y_tr)\n",
        "    X_val = enc.transform(X_val)\n",
        "\n",
        "    lgbm = LGBMClassifier()\n",
        "    lgbm.fit(X_tr, y_tr)\n",
        "    pred = lgbm.predict_proba(X_val)[:, 1]\n",
        "    scores.append(roc_auc_score(y_val, pred))"
      ],
      "execution_count": 46,
      "outputs": [
        {
          "output_type": "stream",
          "text": [
            "/usr/local/lib/python3.7/dist-packages/category_encoders/utils.py:21: FutureWarning: is_categorical is deprecated and will be removed in a future version.  Use is_categorical_dtype instead\n",
            "  elif pd.api.types.is_categorical(cols):\n",
            "/usr/local/lib/python3.7/dist-packages/category_encoders/utils.py:21: FutureWarning: is_categorical is deprecated and will be removed in a future version.  Use is_categorical_dtype instead\n",
            "  elif pd.api.types.is_categorical(cols):\n",
            "/usr/local/lib/python3.7/dist-packages/category_encoders/utils.py:21: FutureWarning: is_categorical is deprecated and will be removed in a future version.  Use is_categorical_dtype instead\n",
            "  elif pd.api.types.is_categorical(cols):\n",
            "/usr/local/lib/python3.7/dist-packages/category_encoders/utils.py:21: FutureWarning: is_categorical is deprecated and will be removed in a future version.  Use is_categorical_dtype instead\n",
            "  elif pd.api.types.is_categorical(cols):\n",
            "/usr/local/lib/python3.7/dist-packages/category_encoders/utils.py:21: FutureWarning: is_categorical is deprecated and will be removed in a future version.  Use is_categorical_dtype instead\n",
            "  elif pd.api.types.is_categorical(cols):\n"
          ],
          "name": "stderr"
        }
      ]
    },
    {
      "cell_type": "code",
      "metadata": {
        "colab": {
          "base_uri": "https://localhost:8080/"
        },
        "id": "TT7yKoPwhURH",
        "outputId": "c6c7c21c-10f4-412f-8445-ef0c21d74362"
      },
      "source": [
        "scores"
      ],
      "execution_count": 47,
      "outputs": [
        {
          "output_type": "execute_result",
          "data": {
            "text/plain": [
              "[0.8876715063004289,\n",
              " 0.888103496894598,\n",
              " 0.8894566805749728,\n",
              " 0.8881404017678868,\n",
              " 0.8899232154608159]"
            ]
          },
          "metadata": {
            "tags": []
          },
          "execution_count": 47
        }
      ]
    },
    {
      "cell_type": "code",
      "metadata": {
        "id": "t_FXcvU2lyEy"
      },
      "source": [
        "enc = TargetEncoder(cols=catcols3, return_df=True, handle_unknown=y.mean())\n",
        "X = enc.fit_transform(X, y)\n",
        "testdf = enc.transform(testdf)\n"
      ],
      "execution_count": null,
      "outputs": []
    },
    {
      "cell_type": "code",
      "metadata": {
        "id": "fc1PP2m7xwVP"
      },
      "source": [
        "X.to_csv(\"X.csv\")"
      ],
      "execution_count": 67,
      "outputs": []
    },
    {
      "cell_type": "code",
      "metadata": {
        "id": "mU_0g3CXyPe-"
      },
      "source": [
        "testdf.to_csv(\"test.csv\")"
      ],
      "execution_count": 68,
      "outputs": []
    },
    {
      "cell_type": "code",
      "metadata": {
        "id": "2RaTm1JamJMD"
      },
      "source": [
        "lgbm.fit(X, y)"
      ],
      "execution_count": null,
      "outputs": []
    },
    {
      "cell_type": "code",
      "metadata": {
        "colab": {
          "base_uri": "https://localhost:8080/"
        },
        "id": "5ZXmZ1d-w1hK",
        "outputId": "69dcd7ad-c313-405e-a4be-07a2d79c7b84"
      },
      "source": [
        "xgbc = XGBClassifier()\n",
        "xgbc.fit(X, y) "
      ],
      "execution_count": 65,
      "outputs": [
        {
          "output_type": "execute_result",
          "data": {
            "text/plain": [
              "XGBClassifier(base_score=0.5, booster='gbtree', colsample_bylevel=1,\n",
              "              colsample_bynode=1, colsample_bytree=1, gamma=0,\n",
              "              learning_rate=0.1, max_delta_step=0, max_depth=3,\n",
              "              min_child_weight=1, missing=None, n_estimators=100, n_jobs=1,\n",
              "              nthread=None, objective='binary:logistic', random_state=0,\n",
              "              reg_alpha=0, reg_lambda=1, scale_pos_weight=1, seed=None,\n",
              "              silent=None, subsample=1, verbosity=1)"
            ]
          },
          "metadata": {
            "tags": []
          },
          "execution_count": 65
        }
      ]
    },
    {
      "cell_type": "markdown",
      "metadata": {
        "id": "X2Owjln_zSfS"
      },
      "source": [
        "#3. feature generation"
      ]
    },
    {
      "cell_type": "code",
      "metadata": {
        "id": "nSESH0ow3cO4"
      },
      "source": [
        "X = pd"
      ],
      "execution_count": null,
      "outputs": []
    },
    {
      "cell_type": "code",
      "metadata": {
        "colab": {
          "base_uri": "https://localhost:8080/",
          "height": 613
        },
        "id": "SBK9eILozX8c",
        "outputId": "e3b7ddbf-6cf7-4f3d-bdca-3c454a689e3e"
      },
      "source": [
        "from sklearn.decomposition import PCA\n",
        "pca = PCA(20)\n",
        "X = pd.DataFrame(pca.fit_transform(X), index=X.index)\n",
        "testdf = pd.DataFrame(pca.transform(testdf), index=testdf.index)"
      ],
      "execution_count": 77,
      "outputs": [
        {
          "output_type": "error",
          "ename": "ValueError",
          "evalue": "ignored",
          "traceback": [
            "\u001b[0;31m---------------------------------------------------------------------------\u001b[0m",
            "\u001b[0;31mValueError\u001b[0m                                Traceback (most recent call last)",
            "\u001b[0;32m<ipython-input-77-cf88c02da62c>\u001b[0m in \u001b[0;36m<module>\u001b[0;34m()\u001b[0m\n\u001b[1;32m      2\u001b[0m \u001b[0mpca\u001b[0m \u001b[0;34m=\u001b[0m \u001b[0mPCA\u001b[0m\u001b[0;34m(\u001b[0m\u001b[0;36m20\u001b[0m\u001b[0;34m)\u001b[0m\u001b[0;34m\u001b[0m\u001b[0;34m\u001b[0m\u001b[0m\n\u001b[1;32m      3\u001b[0m \u001b[0mX\u001b[0m \u001b[0;34m=\u001b[0m \u001b[0mpd\u001b[0m\u001b[0;34m.\u001b[0m\u001b[0mDataFrame\u001b[0m\u001b[0;34m(\u001b[0m\u001b[0mpca\u001b[0m\u001b[0;34m.\u001b[0m\u001b[0mfit_transform\u001b[0m\u001b[0;34m(\u001b[0m\u001b[0mX\u001b[0m\u001b[0;34m)\u001b[0m\u001b[0;34m,\u001b[0m \u001b[0mindex\u001b[0m\u001b[0;34m=\u001b[0m\u001b[0mX\u001b[0m\u001b[0;34m.\u001b[0m\u001b[0mindex\u001b[0m\u001b[0;34m)\u001b[0m\u001b[0;34m\u001b[0m\u001b[0;34m\u001b[0m\u001b[0m\n\u001b[0;32m----> 4\u001b[0;31m \u001b[0mtestdf\u001b[0m \u001b[0;34m=\u001b[0m \u001b[0mpd\u001b[0m\u001b[0;34m.\u001b[0m\u001b[0mDataFrame\u001b[0m\u001b[0;34m(\u001b[0m\u001b[0mpca\u001b[0m\u001b[0;34m.\u001b[0m\u001b[0mtransform\u001b[0m\u001b[0;34m(\u001b[0m\u001b[0mtestdf\u001b[0m\u001b[0;34m)\u001b[0m\u001b[0;34m,\u001b[0m \u001b[0mindex\u001b[0m\u001b[0;34m=\u001b[0m\u001b[0mtestdf\u001b[0m\u001b[0;34m.\u001b[0m\u001b[0mindex\u001b[0m\u001b[0;34m)\u001b[0m\u001b[0;34m\u001b[0m\u001b[0;34m\u001b[0m\u001b[0m\n\u001b[0m",
            "\u001b[0;32m/usr/local/lib/python3.7/dist-packages/sklearn/decomposition/_base.py\u001b[0m in \u001b[0;36mtransform\u001b[0;34m(self, X)\u001b[0m\n\u001b[1;32m    125\u001b[0m         \u001b[0mcheck_is_fitted\u001b[0m\u001b[0;34m(\u001b[0m\u001b[0mself\u001b[0m\u001b[0;34m)\u001b[0m\u001b[0;34m\u001b[0m\u001b[0;34m\u001b[0m\u001b[0m\n\u001b[1;32m    126\u001b[0m \u001b[0;34m\u001b[0m\u001b[0m\n\u001b[0;32m--> 127\u001b[0;31m         \u001b[0mX\u001b[0m \u001b[0;34m=\u001b[0m \u001b[0mcheck_array\u001b[0m\u001b[0;34m(\u001b[0m\u001b[0mX\u001b[0m\u001b[0;34m)\u001b[0m\u001b[0;34m\u001b[0m\u001b[0;34m\u001b[0m\u001b[0m\n\u001b[0m\u001b[1;32m    128\u001b[0m         \u001b[0;32mif\u001b[0m \u001b[0mself\u001b[0m\u001b[0;34m.\u001b[0m\u001b[0mmean_\u001b[0m \u001b[0;32mis\u001b[0m \u001b[0;32mnot\u001b[0m \u001b[0;32mNone\u001b[0m\u001b[0;34m:\u001b[0m\u001b[0;34m\u001b[0m\u001b[0;34m\u001b[0m\u001b[0m\n\u001b[1;32m    129\u001b[0m             \u001b[0mX\u001b[0m \u001b[0;34m=\u001b[0m \u001b[0mX\u001b[0m \u001b[0;34m-\u001b[0m \u001b[0mself\u001b[0m\u001b[0;34m.\u001b[0m\u001b[0mmean_\u001b[0m\u001b[0;34m\u001b[0m\u001b[0;34m\u001b[0m\u001b[0m\n",
            "\u001b[0;32m/usr/local/lib/python3.7/dist-packages/sklearn/utils/validation.py\u001b[0m in \u001b[0;36mcheck_array\u001b[0;34m(array, accept_sparse, accept_large_sparse, dtype, order, copy, force_all_finite, ensure_2d, allow_nd, ensure_min_samples, ensure_min_features, warn_on_dtype, estimator)\u001b[0m\n\u001b[1;32m    576\u001b[0m         \u001b[0;32mif\u001b[0m \u001b[0mforce_all_finite\u001b[0m\u001b[0;34m:\u001b[0m\u001b[0;34m\u001b[0m\u001b[0;34m\u001b[0m\u001b[0m\n\u001b[1;32m    577\u001b[0m             _assert_all_finite(array,\n\u001b[0;32m--> 578\u001b[0;31m                                allow_nan=force_all_finite == 'allow-nan')\n\u001b[0m\u001b[1;32m    579\u001b[0m \u001b[0;34m\u001b[0m\u001b[0m\n\u001b[1;32m    580\u001b[0m     \u001b[0;32mif\u001b[0m \u001b[0mensure_min_samples\u001b[0m \u001b[0;34m>\u001b[0m \u001b[0;36m0\u001b[0m\u001b[0;34m:\u001b[0m\u001b[0;34m\u001b[0m\u001b[0;34m\u001b[0m\u001b[0m\n",
            "\u001b[0;32m/usr/local/lib/python3.7/dist-packages/sklearn/utils/validation.py\u001b[0m in \u001b[0;36m_assert_all_finite\u001b[0;34m(X, allow_nan, msg_dtype)\u001b[0m\n\u001b[1;32m     58\u001b[0m                     \u001b[0mmsg_err\u001b[0m\u001b[0;34m.\u001b[0m\u001b[0mformat\u001b[0m\u001b[0;34m\u001b[0m\u001b[0;34m\u001b[0m\u001b[0m\n\u001b[1;32m     59\u001b[0m                     (type_err,\n\u001b[0;32m---> 60\u001b[0;31m                      msg_dtype if msg_dtype is not None else X.dtype)\n\u001b[0m\u001b[1;32m     61\u001b[0m             )\n\u001b[1;32m     62\u001b[0m     \u001b[0;31m# for object dtype data, we only check for NaNs (GH-13254)\u001b[0m\u001b[0;34m\u001b[0m\u001b[0;34m\u001b[0m\u001b[0;34m\u001b[0m\u001b[0m\n",
            "\u001b[0;31mValueError\u001b[0m: Input contains NaN, infinity or a value too large for dtype('float64')."
          ]
        }
      ]
    },
    {
      "cell_type": "code",
      "metadata": {
        "colab": {
          "base_uri": "https://localhost:8080/",
          "height": 440
        },
        "id": "Fs1shJdZ1HrL",
        "outputId": "8db13256-911e-4acb-f0ea-e3190adfcd74"
      },
      "source": [
        "X"
      ],
      "execution_count": 82,
      "outputs": [
        {
          "output_type": "execute_result",
          "data": {
            "text/html": [
              "<div>\n",
              "<style scoped>\n",
              "    .dataframe tbody tr th:only-of-type {\n",
              "        vertical-align: middle;\n",
              "    }\n",
              "\n",
              "    .dataframe tbody tr th {\n",
              "        vertical-align: top;\n",
              "    }\n",
              "\n",
              "    .dataframe thead th {\n",
              "        text-align: right;\n",
              "    }\n",
              "</style>\n",
              "<table border=\"1\" class=\"dataframe\">\n",
              "  <thead>\n",
              "    <tr style=\"text-align: right;\">\n",
              "      <th></th>\n",
              "      <th>0</th>\n",
              "      <th>1</th>\n",
              "      <th>2</th>\n",
              "      <th>3</th>\n",
              "      <th>4</th>\n",
              "      <th>5</th>\n",
              "      <th>6</th>\n",
              "      <th>7</th>\n",
              "      <th>8</th>\n",
              "      <th>9</th>\n",
              "      <th>10</th>\n",
              "      <th>11</th>\n",
              "      <th>12</th>\n",
              "      <th>13</th>\n",
              "      <th>14</th>\n",
              "      <th>15</th>\n",
              "      <th>16</th>\n",
              "      <th>17</th>\n",
              "      <th>18</th>\n",
              "      <th>19</th>\n",
              "    </tr>\n",
              "    <tr>\n",
              "      <th>id</th>\n",
              "      <th></th>\n",
              "      <th></th>\n",
              "      <th></th>\n",
              "      <th></th>\n",
              "      <th></th>\n",
              "      <th></th>\n",
              "      <th></th>\n",
              "      <th></th>\n",
              "      <th></th>\n",
              "      <th></th>\n",
              "      <th></th>\n",
              "      <th></th>\n",
              "      <th></th>\n",
              "      <th></th>\n",
              "      <th></th>\n",
              "      <th></th>\n",
              "      <th></th>\n",
              "      <th></th>\n",
              "      <th></th>\n",
              "      <th></th>\n",
              "    </tr>\n",
              "  </thead>\n",
              "  <tbody>\n",
              "    <tr>\n",
              "      <th>0</th>\n",
              "      <td>-0.729142</td>\n",
              "      <td>0.191556</td>\n",
              "      <td>-0.476783</td>\n",
              "      <td>-0.238035</td>\n",
              "      <td>-0.499007</td>\n",
              "      <td>0.132304</td>\n",
              "      <td>-0.020962</td>\n",
              "      <td>-0.257435</td>\n",
              "      <td>0.560388</td>\n",
              "      <td>-0.286952</td>\n",
              "      <td>0.228270</td>\n",
              "      <td>0.200938</td>\n",
              "      <td>0.077807</td>\n",
              "      <td>0.013697</td>\n",
              "      <td>-0.038496</td>\n",
              "      <td>0.039144</td>\n",
              "      <td>0.230417</td>\n",
              "      <td>-0.172886</td>\n",
              "      <td>-0.064149</td>\n",
              "      <td>0.145778</td>\n",
              "    </tr>\n",
              "    <tr>\n",
              "      <th>1</th>\n",
              "      <td>1.185771</td>\n",
              "      <td>-0.117212</td>\n",
              "      <td>-0.264304</td>\n",
              "      <td>1.172481</td>\n",
              "      <td>0.624691</td>\n",
              "      <td>-0.870156</td>\n",
              "      <td>-0.305580</td>\n",
              "      <td>0.188648</td>\n",
              "      <td>0.303413</td>\n",
              "      <td>0.021777</td>\n",
              "      <td>-0.082846</td>\n",
              "      <td>-0.085171</td>\n",
              "      <td>-0.028639</td>\n",
              "      <td>-0.071167</td>\n",
              "      <td>-0.090677</td>\n",
              "      <td>0.000375</td>\n",
              "      <td>0.506500</td>\n",
              "      <td>-0.209603</td>\n",
              "      <td>-0.261265</td>\n",
              "      <td>-0.015194</td>\n",
              "    </tr>\n",
              "    <tr>\n",
              "      <th>2</th>\n",
              "      <td>-0.900448</td>\n",
              "      <td>0.191127</td>\n",
              "      <td>-0.920998</td>\n",
              "      <td>0.625336</td>\n",
              "      <td>0.643068</td>\n",
              "      <td>-0.083159</td>\n",
              "      <td>-0.002996</td>\n",
              "      <td>-0.095108</td>\n",
              "      <td>0.221936</td>\n",
              "      <td>0.116798</td>\n",
              "      <td>-0.014164</td>\n",
              "      <td>-0.098144</td>\n",
              "      <td>0.129974</td>\n",
              "      <td>-0.295217</td>\n",
              "      <td>-0.011816</td>\n",
              "      <td>-0.032903</td>\n",
              "      <td>-0.167895</td>\n",
              "      <td>0.050402</td>\n",
              "      <td>0.071898</td>\n",
              "      <td>0.030822</td>\n",
              "    </tr>\n",
              "    <tr>\n",
              "      <th>3</th>\n",
              "      <td>-0.772144</td>\n",
              "      <td>0.108224</td>\n",
              "      <td>-0.491037</td>\n",
              "      <td>-0.274756</td>\n",
              "      <td>-0.470758</td>\n",
              "      <td>0.090688</td>\n",
              "      <td>-0.010913</td>\n",
              "      <td>-0.130771</td>\n",
              "      <td>0.655054</td>\n",
              "      <td>0.066460</td>\n",
              "      <td>0.172831</td>\n",
              "      <td>0.018972</td>\n",
              "      <td>0.179563</td>\n",
              "      <td>-0.149270</td>\n",
              "      <td>-0.168250</td>\n",
              "      <td>0.018896</td>\n",
              "      <td>0.012580</td>\n",
              "      <td>0.135084</td>\n",
              "      <td>-0.105393</td>\n",
              "      <td>-0.105561</td>\n",
              "    </tr>\n",
              "    <tr>\n",
              "      <th>4</th>\n",
              "      <td>0.640608</td>\n",
              "      <td>-0.513696</td>\n",
              "      <td>-0.157929</td>\n",
              "      <td>-0.146063</td>\n",
              "      <td>-0.011917</td>\n",
              "      <td>-0.117137</td>\n",
              "      <td>-1.100399</td>\n",
              "      <td>0.328041</td>\n",
              "      <td>-0.335995</td>\n",
              "      <td>0.073723</td>\n",
              "      <td>-0.153199</td>\n",
              "      <td>-0.201454</td>\n",
              "      <td>0.005475</td>\n",
              "      <td>-0.126373</td>\n",
              "      <td>0.251043</td>\n",
              "      <td>-0.068264</td>\n",
              "      <td>0.148497</td>\n",
              "      <td>-0.128521</td>\n",
              "      <td>-0.116725</td>\n",
              "      <td>0.081548</td>\n",
              "    </tr>\n",
              "    <tr>\n",
              "      <th>...</th>\n",
              "      <td>...</td>\n",
              "      <td>...</td>\n",
              "      <td>...</td>\n",
              "      <td>...</td>\n",
              "      <td>...</td>\n",
              "      <td>...</td>\n",
              "      <td>...</td>\n",
              "      <td>...</td>\n",
              "      <td>...</td>\n",
              "      <td>...</td>\n",
              "      <td>...</td>\n",
              "      <td>...</td>\n",
              "      <td>...</td>\n",
              "      <td>...</td>\n",
              "      <td>...</td>\n",
              "      <td>...</td>\n",
              "      <td>...</td>\n",
              "      <td>...</td>\n",
              "      <td>...</td>\n",
              "      <td>...</td>\n",
              "    </tr>\n",
              "    <tr>\n",
              "      <th>499993</th>\n",
              "      <td>1.374619</td>\n",
              "      <td>-0.181054</td>\n",
              "      <td>0.091510</td>\n",
              "      <td>0.187049</td>\n",
              "      <td>-0.379384</td>\n",
              "      <td>-0.766984</td>\n",
              "      <td>-0.317002</td>\n",
              "      <td>0.315844</td>\n",
              "      <td>0.345137</td>\n",
              "      <td>0.208019</td>\n",
              "      <td>-0.043320</td>\n",
              "      <td>-0.102066</td>\n",
              "      <td>-0.129609</td>\n",
              "      <td>0.089151</td>\n",
              "      <td>0.078267</td>\n",
              "      <td>-0.013826</td>\n",
              "      <td>0.168004</td>\n",
              "      <td>0.070285</td>\n",
              "      <td>0.126656</td>\n",
              "      <td>-0.139464</td>\n",
              "    </tr>\n",
              "    <tr>\n",
              "      <th>499995</th>\n",
              "      <td>-0.202998</td>\n",
              "      <td>-0.926012</td>\n",
              "      <td>-0.618774</td>\n",
              "      <td>0.877355</td>\n",
              "      <td>0.646420</td>\n",
              "      <td>-0.039757</td>\n",
              "      <td>-0.114807</td>\n",
              "      <td>-0.328720</td>\n",
              "      <td>0.114921</td>\n",
              "      <td>-0.291583</td>\n",
              "      <td>0.091451</td>\n",
              "      <td>0.156965</td>\n",
              "      <td>-0.054594</td>\n",
              "      <td>0.110355</td>\n",
              "      <td>-0.018089</td>\n",
              "      <td>-0.031742</td>\n",
              "      <td>-0.290652</td>\n",
              "      <td>-0.050467</td>\n",
              "      <td>0.068633</td>\n",
              "      <td>0.114201</td>\n",
              "    </tr>\n",
              "    <tr>\n",
              "      <th>499996</th>\n",
              "      <td>2.094385</td>\n",
              "      <td>0.232467</td>\n",
              "      <td>0.219346</td>\n",
              "      <td>-0.773013</td>\n",
              "      <td>0.780451</td>\n",
              "      <td>-0.121908</td>\n",
              "      <td>0.236233</td>\n",
              "      <td>-0.367943</td>\n",
              "      <td>0.061195</td>\n",
              "      <td>-0.272505</td>\n",
              "      <td>0.615705</td>\n",
              "      <td>-0.176439</td>\n",
              "      <td>0.127022</td>\n",
              "      <td>-0.268777</td>\n",
              "      <td>0.222971</td>\n",
              "      <td>0.025876</td>\n",
              "      <td>0.033499</td>\n",
              "      <td>0.258292</td>\n",
              "      <td>0.147791</td>\n",
              "      <td>-0.031599</td>\n",
              "    </tr>\n",
              "    <tr>\n",
              "      <th>499997</th>\n",
              "      <td>-0.550067</td>\n",
              "      <td>0.789874</td>\n",
              "      <td>0.887389</td>\n",
              "      <td>-0.226966</td>\n",
              "      <td>0.153383</td>\n",
              "      <td>0.173425</td>\n",
              "      <td>-0.574278</td>\n",
              "      <td>-0.443591</td>\n",
              "      <td>-0.098843</td>\n",
              "      <td>0.017838</td>\n",
              "      <td>0.284580</td>\n",
              "      <td>0.206727</td>\n",
              "      <td>0.126165</td>\n",
              "      <td>0.305363</td>\n",
              "      <td>-0.072305</td>\n",
              "      <td>0.674152</td>\n",
              "      <td>-0.260826</td>\n",
              "      <td>-0.182035</td>\n",
              "      <td>0.288640</td>\n",
              "      <td>0.275807</td>\n",
              "    </tr>\n",
              "    <tr>\n",
              "      <th>499999</th>\n",
              "      <td>-0.775508</td>\n",
              "      <td>0.121851</td>\n",
              "      <td>-0.521537</td>\n",
              "      <td>-0.284578</td>\n",
              "      <td>-0.487283</td>\n",
              "      <td>0.060417</td>\n",
              "      <td>-0.036892</td>\n",
              "      <td>-0.083939</td>\n",
              "      <td>0.584736</td>\n",
              "      <td>0.181214</td>\n",
              "      <td>0.116935</td>\n",
              "      <td>-0.007913</td>\n",
              "      <td>0.087454</td>\n",
              "      <td>-0.058631</td>\n",
              "      <td>0.127981</td>\n",
              "      <td>-0.005670</td>\n",
              "      <td>-0.361923</td>\n",
              "      <td>-0.031311</td>\n",
              "      <td>-0.050216</td>\n",
              "      <td>-0.045490</td>\n",
              "    </tr>\n",
              "  </tbody>\n",
              "</table>\n",
              "<p>300000 rows × 20 columns</p>\n",
              "</div>"
            ],
            "text/plain": [
              "              0         1         2   ...        17        18        19\n",
              "id                                    ...                              \n",
              "0      -0.729142  0.191556 -0.476783  ... -0.172886 -0.064149  0.145778\n",
              "1       1.185771 -0.117212 -0.264304  ... -0.209603 -0.261265 -0.015194\n",
              "2      -0.900448  0.191127 -0.920998  ...  0.050402  0.071898  0.030822\n",
              "3      -0.772144  0.108224 -0.491037  ...  0.135084 -0.105393 -0.105561\n",
              "4       0.640608 -0.513696 -0.157929  ... -0.128521 -0.116725  0.081548\n",
              "...          ...       ...       ...  ...       ...       ...       ...\n",
              "499993  1.374619 -0.181054  0.091510  ...  0.070285  0.126656 -0.139464\n",
              "499995 -0.202998 -0.926012 -0.618774  ... -0.050467  0.068633  0.114201\n",
              "499996  2.094385  0.232467  0.219346  ...  0.258292  0.147791 -0.031599\n",
              "499997 -0.550067  0.789874  0.887389  ... -0.182035  0.288640  0.275807\n",
              "499999 -0.775508  0.121851 -0.521537  ... -0.031311 -0.050216 -0.045490\n",
              "\n",
              "[300000 rows x 20 columns]"
            ]
          },
          "metadata": {
            "tags": []
          },
          "execution_count": 82
        }
      ]
    },
    {
      "cell_type": "code",
      "metadata": {
        "colab": {
          "base_uri": "https://localhost:8080/",
          "height": 362
        },
        "id": "tf24d5UO26Bb",
        "outputId": "96438df2-6dd6-4b6e-bc27-d30689cd6d0e"
      },
      "source": [
        "X.describe()"
      ],
      "execution_count": 84,
      "outputs": [
        {
          "output_type": "execute_result",
          "data": {
            "text/html": [
              "<div>\n",
              "<style scoped>\n",
              "    .dataframe tbody tr th:only-of-type {\n",
              "        vertical-align: middle;\n",
              "    }\n",
              "\n",
              "    .dataframe tbody tr th {\n",
              "        vertical-align: top;\n",
              "    }\n",
              "\n",
              "    .dataframe thead th {\n",
              "        text-align: right;\n",
              "    }\n",
              "</style>\n",
              "<table border=\"1\" class=\"dataframe\">\n",
              "  <thead>\n",
              "    <tr style=\"text-align: right;\">\n",
              "      <th></th>\n",
              "      <th>0</th>\n",
              "      <th>1</th>\n",
              "      <th>2</th>\n",
              "      <th>3</th>\n",
              "      <th>4</th>\n",
              "      <th>5</th>\n",
              "      <th>6</th>\n",
              "      <th>7</th>\n",
              "      <th>8</th>\n",
              "      <th>9</th>\n",
              "      <th>10</th>\n",
              "      <th>11</th>\n",
              "      <th>12</th>\n",
              "      <th>13</th>\n",
              "      <th>14</th>\n",
              "      <th>15</th>\n",
              "      <th>16</th>\n",
              "      <th>17</th>\n",
              "      <th>18</th>\n",
              "      <th>19</th>\n",
              "    </tr>\n",
              "  </thead>\n",
              "  <tbody>\n",
              "    <tr>\n",
              "      <th>count</th>\n",
              "      <td>3.000000e+05</td>\n",
              "      <td>3.000000e+05</td>\n",
              "      <td>3.000000e+05</td>\n",
              "      <td>3.000000e+05</td>\n",
              "      <td>3.000000e+05</td>\n",
              "      <td>3.000000e+05</td>\n",
              "      <td>3.000000e+05</td>\n",
              "      <td>3.000000e+05</td>\n",
              "      <td>3.000000e+05</td>\n",
              "      <td>3.000000e+05</td>\n",
              "      <td>3.000000e+05</td>\n",
              "      <td>3.000000e+05</td>\n",
              "      <td>3.000000e+05</td>\n",
              "      <td>3.000000e+05</td>\n",
              "      <td>3.000000e+05</td>\n",
              "      <td>3.000000e+05</td>\n",
              "      <td>3.000000e+05</td>\n",
              "      <td>3.000000e+05</td>\n",
              "      <td>3.000000e+05</td>\n",
              "      <td>3.000000e+05</td>\n",
              "    </tr>\n",
              "    <tr>\n",
              "      <th>mean</th>\n",
              "      <td>-9.416727e-17</td>\n",
              "      <td>3.304070e-18</td>\n",
              "      <td>-1.168776e-16</td>\n",
              "      <td>-5.427455e-17</td>\n",
              "      <td>-2.413754e-17</td>\n",
              "      <td>1.597990e-17</td>\n",
              "      <td>2.795752e-17</td>\n",
              "      <td>9.255282e-18</td>\n",
              "      <td>-5.539199e-17</td>\n",
              "      <td>-6.877369e-17</td>\n",
              "      <td>-1.086358e-17</td>\n",
              "      <td>5.542222e-17</td>\n",
              "      <td>-4.645400e-17</td>\n",
              "      <td>2.007698e-16</td>\n",
              "      <td>-1.510192e-16</td>\n",
              "      <td>-3.434922e-17</td>\n",
              "      <td>-1.025086e-16</td>\n",
              "      <td>6.147971e-17</td>\n",
              "      <td>9.300014e-18</td>\n",
              "      <td>-1.736128e-16</td>\n",
              "    </tr>\n",
              "    <tr>\n",
              "      <th>std</th>\n",
              "      <td>1.020277e+00</td>\n",
              "      <td>6.083420e-01</td>\n",
              "      <td>5.620376e-01</td>\n",
              "      <td>5.064956e-01</td>\n",
              "      <td>4.709973e-01</td>\n",
              "      <td>4.353251e-01</td>\n",
              "      <td>3.632534e-01</td>\n",
              "      <td>3.421492e-01</td>\n",
              "      <td>3.329905e-01</td>\n",
              "      <td>2.834936e-01</td>\n",
              "      <td>2.737067e-01</td>\n",
              "      <td>2.534544e-01</td>\n",
              "      <td>2.259227e-01</td>\n",
              "      <td>2.194813e-01</td>\n",
              "      <td>1.946103e-01</td>\n",
              "      <td>1.675917e-01</td>\n",
              "      <td>1.525658e-01</td>\n",
              "      <td>1.391489e-01</td>\n",
              "      <td>1.310957e-01</td>\n",
              "      <td>1.222416e-01</td>\n",
              "    </tr>\n",
              "    <tr>\n",
              "      <th>min</th>\n",
              "      <td>-1.386353e+00</td>\n",
              "      <td>-1.156541e+00</td>\n",
              "      <td>-1.005756e+00</td>\n",
              "      <td>-1.410325e+00</td>\n",
              "      <td>-1.019787e+00</td>\n",
              "      <td>-1.015558e+00</td>\n",
              "      <td>-1.192748e+00</td>\n",
              "      <td>-1.301422e+00</td>\n",
              "      <td>-1.155664e+00</td>\n",
              "      <td>-1.153877e+00</td>\n",
              "      <td>-1.211195e+00</td>\n",
              "      <td>-1.215026e+00</td>\n",
              "      <td>-4.948501e-01</td>\n",
              "      <td>-6.660134e-01</td>\n",
              "      <td>-7.619616e-01</td>\n",
              "      <td>-3.598691e-01</td>\n",
              "      <td>-5.054230e-01</td>\n",
              "      <td>-6.846862e-01</td>\n",
              "      <td>-5.575414e-01</td>\n",
              "      <td>-5.037221e-01</td>\n",
              "    </tr>\n",
              "    <tr>\n",
              "      <th>25%</th>\n",
              "      <td>-7.588083e-01</td>\n",
              "      <td>-5.074915e-01</td>\n",
              "      <td>-4.916651e-01</td>\n",
              "      <td>-2.833802e-01</td>\n",
              "      <td>-3.450754e-01</td>\n",
              "      <td>-1.416095e-01</td>\n",
              "      <td>-1.127620e-01</td>\n",
              "      <td>-1.507196e-01</td>\n",
              "      <td>-2.373604e-01</td>\n",
              "      <td>-1.814598e-01</td>\n",
              "      <td>-9.931775e-02</td>\n",
              "      <td>-1.025493e-01</td>\n",
              "      <td>-1.324575e-01</td>\n",
              "      <td>-1.546404e-01</td>\n",
              "      <td>-1.368864e-01</td>\n",
              "      <td>-4.252315e-02</td>\n",
              "      <td>-1.099171e-01</td>\n",
              "      <td>-9.068421e-02</td>\n",
              "      <td>-8.985158e-02</td>\n",
              "      <td>-8.267030e-02</td>\n",
              "    </tr>\n",
              "    <tr>\n",
              "      <th>50%</th>\n",
              "      <td>-2.030325e-01</td>\n",
              "      <td>1.915464e-01</td>\n",
              "      <td>-1.222875e-01</td>\n",
              "      <td>-1.123578e-01</td>\n",
              "      <td>-1.586051e-01</td>\n",
              "      <td>-2.822045e-02</td>\n",
              "      <td>-2.717756e-02</td>\n",
              "      <td>-3.208785e-02</td>\n",
              "      <td>-2.928678e-02</td>\n",
              "      <td>-6.352225e-03</td>\n",
              "      <td>-6.814930e-03</td>\n",
              "      <td>-4.165144e-03</td>\n",
              "      <td>-2.550678e-02</td>\n",
              "      <td>-4.865789e-03</td>\n",
              "      <td>-1.768328e-03</td>\n",
              "      <td>-1.920780e-02</td>\n",
              "      <td>-9.315001e-03</td>\n",
              "      <td>-5.326172e-04</td>\n",
              "      <td>-1.027320e-02</td>\n",
              "      <td>-3.145579e-03</td>\n",
              "    </tr>\n",
              "    <tr>\n",
              "      <th>75%</th>\n",
              "      <td>6.913588e-01</td>\n",
              "      <td>3.232120e-01</td>\n",
              "      <td>3.807970e-01</td>\n",
              "      <td>2.670205e-01</td>\n",
              "      <td>4.057276e-01</td>\n",
              "      <td>1.048899e-01</td>\n",
              "      <td>1.431901e-01</td>\n",
              "      <td>1.229355e-01</td>\n",
              "      <td>1.969795e-01</td>\n",
              "      <td>1.736393e-01</td>\n",
              "      <td>1.059592e-01</td>\n",
              "      <td>1.150143e-01</td>\n",
              "      <td>7.383154e-02</td>\n",
              "      <td>1.446277e-01</td>\n",
              "      <td>1.334151e-01</td>\n",
              "      <td>4.364571e-03</td>\n",
              "      <td>1.012793e-01</td>\n",
              "      <td>9.027153e-02</td>\n",
              "      <td>7.989622e-02</td>\n",
              "      <td>7.652501e-02</td>\n",
              "    </tr>\n",
              "    <tr>\n",
              "      <th>max</th>\n",
              "      <td>2.406330e+00</td>\n",
              "      <td>1.765964e+00</td>\n",
              "      <td>1.712436e+00</td>\n",
              "      <td>1.791864e+00</td>\n",
              "      <td>2.257932e+00</td>\n",
              "      <td>1.627650e+00</td>\n",
              "      <td>1.579488e+00</td>\n",
              "      <td>1.524148e+00</td>\n",
              "      <td>1.302963e+00</td>\n",
              "      <td>1.411767e+00</td>\n",
              "      <td>1.310323e+00</td>\n",
              "      <td>1.309605e+00</td>\n",
              "      <td>1.424143e+00</td>\n",
              "      <td>1.080685e+00</td>\n",
              "      <td>8.883201e-01</td>\n",
              "      <td>1.238195e+00</td>\n",
              "      <td>7.107899e-01</td>\n",
              "      <td>7.316113e-01</td>\n",
              "      <td>6.826537e-01</td>\n",
              "      <td>6.962313e-01</td>\n",
              "    </tr>\n",
              "  </tbody>\n",
              "</table>\n",
              "</div>"
            ],
            "text/plain": [
              "                 0             1   ...            18            19\n",
              "count  3.000000e+05  3.000000e+05  ...  3.000000e+05  3.000000e+05\n",
              "mean  -9.416727e-17  3.304070e-18  ...  9.300014e-18 -1.736128e-16\n",
              "std    1.020277e+00  6.083420e-01  ...  1.310957e-01  1.222416e-01\n",
              "min   -1.386353e+00 -1.156541e+00  ... -5.575414e-01 -5.037221e-01\n",
              "25%   -7.588083e-01 -5.074915e-01  ... -8.985158e-02 -8.267030e-02\n",
              "50%   -2.030325e-01  1.915464e-01  ... -1.027320e-02 -3.145579e-03\n",
              "75%    6.913588e-01  3.232120e-01  ...  7.989622e-02  7.652501e-02\n",
              "max    2.406330e+00  1.765964e+00  ...  6.826537e-01  6.962313e-01\n",
              "\n",
              "[8 rows x 20 columns]"
            ]
          },
          "metadata": {
            "tags": []
          },
          "execution_count": 84
        }
      ]
    },
    {
      "cell_type": "markdown",
      "metadata": {
        "id": "ao_bfaoWmYhC"
      },
      "source": [
        "# Submission"
      ]
    },
    {
      "cell_type": "code",
      "metadata": {
        "id": "5HZzyd3Gma7P"
      },
      "source": [
        "submission['target'] = lgbm.predict_proba(testdf)[:, 1]"
      ],
      "execution_count": 50,
      "outputs": []
    },
    {
      "cell_type": "code",
      "metadata": {
        "id": "22J4L8CpmdCo"
      },
      "source": [
        "submission.to_csv(\"submission.csv\")"
      ],
      "execution_count": 52,
      "outputs": []
    },
    {
      "cell_type": "code",
      "metadata": {
        "id": "sEKRtEpdpDlh"
      },
      "source": [
        "submission['target'] = xgbc.predict_proba(testdf)[:, 1]\n",
        "submission.to_csv(\"submission_xgb.csv\")"
      ],
      "execution_count": 66,
      "outputs": []
    },
    {
      "cell_type": "code",
      "metadata": {
        "id": "6OWE1RUOxLt2"
      },
      "source": [
        ""
      ],
      "execution_count": null,
      "outputs": []
    }
  ]
}