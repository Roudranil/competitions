{
  "nbformat": 4,
  "nbformat_minor": 0,
  "metadata": {
    "colab": {
      "name": "tps march part 2.ipynb",
      "provenance": [],
      "authorship_tag": "ABX9TyPo6Ap7dwNvTl22WoPuZWmY",
      "include_colab_link": true
    },
    "kernelspec": {
      "name": "python3",
      "display_name": "Python 3"
    },
    "language_info": {
      "name": "python"
    }
  },
  "cells": [
    {
      "cell_type": "markdown",
      "metadata": {
        "id": "view-in-github",
        "colab_type": "text"
      },
      "source": [
        "<a href=\"https://colab.research.google.com/github/Roudranil/competitions/blob/main/tps_march_part_2.ipynb\" target=\"_parent\"><img src=\"https://colab.research.google.com/assets/colab-badge.svg\" alt=\"Open In Colab\"/></a>"
      ]
    },
    {
      "cell_type": "code",
      "metadata": {
        "colab": {
          "base_uri": "https://localhost:8080/"
        },
        "id": "iWp2jlnvYLtV",
        "outputId": "68a1d1b1-346e-4b4a-af15-b08178f6c1d5"
      },
      "source": [
        "from google.colab import drive\n",
        "drive.mount('/content/drive')"
      ],
      "execution_count": 1,
      "outputs": [
        {
          "output_type": "stream",
          "text": [
            "Mounted at /content/drive\n"
          ],
          "name": "stdout"
        }
      ]
    },
    {
      "cell_type": "markdown",
      "metadata": {
        "id": "535hZPiWYWQS"
      },
      "source": [
        "#1. libraries and dataset"
      ]
    },
    {
      "cell_type": "code",
      "metadata": {
        "id": "BAvXb-OIYZog"
      },
      "source": [
        "!pip install category_encoders"
      ],
      "execution_count": null,
      "outputs": []
    },
    {
      "cell_type": "code",
      "metadata": {
        "id": "l5r98gseYgHp"
      },
      "source": [
        "!pip install catboost"
      ],
      "execution_count": null,
      "outputs": []
    },
    {
      "cell_type": "code",
      "metadata": {
        "id": "4-lhECWmYpOv"
      },
      "source": [
        "import numpy as np\n",
        "import pandas as pd\n",
        "from sklearn.model_selection import StratifiedKFold, cross_val_score\n",
        "from sklearn.ensemble import RandomForestClassifier\n",
        "\n",
        "from xgboost import XGBClassifier\n",
        "from lightgbm import LGBMClassifier\n",
        "from catboost import CatBoostClassifier"
      ],
      "execution_count": 6,
      "outputs": []
    },
    {
      "cell_type": "code",
      "metadata": {
        "id": "SRUqtmBAkRzS"
      },
      "source": [
        "from sklearn.metrics import roc_auc_score"
      ],
      "execution_count": 34,
      "outputs": []
    },
    {
      "cell_type": "code",
      "metadata": {
        "id": "2jIReA4OaXcg"
      },
      "source": [
        "traindata = pd.read_csv(\"/content/drive/MyDrive/data/kaggle_tabplayground_mar/train.csv\", index_col=0)\n",
        "testdata = pd.read_csv(\"/content/drive/MyDrive/data/kaggle_tabplayground_mar/test.csv\", index_col=0)\n",
        "submission = pd.read_csv(\"/content/drive/MyDrive/data/kaggle_tabplayground_mar/sample_submission.csv\", index_col=0)"
      ],
      "execution_count": 23,
      "outputs": []
    },
    {
      "cell_type": "code",
      "metadata": {
        "id": "3_ljJAcSbSAm"
      },
      "source": [
        "traindf = traindata.copy()\n",
        "testdf = testdata.copy()"
      ],
      "execution_count": 24,
      "outputs": []
    },
    {
      "cell_type": "markdown",
      "metadata": {
        "id": "ZjyvK4enbklh"
      },
      "source": [
        "#2. encoding"
      ]
    },
    {
      "cell_type": "code",
      "metadata": {
        "id": "EsrkrOxxbbcs"
      },
      "source": [
        "traindf.drop(columns=['cat5', 'cat13', 'cont2', 'cont7', 'cont10'], inplace=True)\n",
        "testdf.drop(columns=['cat5', 'cat13', 'cont2', 'cont7', 'cont10'], inplace=True)"
      ],
      "execution_count": 25,
      "outputs": []
    },
    {
      "cell_type": "code",
      "metadata": {
        "id": "Fhufhh_FcHKi"
      },
      "source": [
        "numcols = [col for col in traindf.columns if traindf[col].dtype != 'object']\n",
        "catcols = [col for col in traindf.columns if col not in numcols]"
      ],
      "execution_count": 11,
      "outputs": []
    },
    {
      "cell_type": "code",
      "metadata": {
        "colab": {
          "base_uri": "https://localhost:8080/"
        },
        "id": "31dW4Gd7cnKp",
        "outputId": "00bef80d-9e1f-4885-96c9-ed17eb0365b9"
      },
      "source": [
        "for col in catcols:\n",
        "    print(col, \"\\t\", traindf[col].nunique())"
      ],
      "execution_count": 13,
      "outputs": [
        {
          "output_type": "stream",
          "text": [
            "cat0 \t 2\n",
            "cat1 \t 15\n",
            "cat2 \t 19\n",
            "cat3 \t 13\n",
            "cat4 \t 20\n",
            "cat6 \t 16\n",
            "cat7 \t 51\n",
            "cat8 \t 61\n",
            "cat9 \t 19\n",
            "cat10 \t 299\n",
            "cat11 \t 2\n",
            "cat12 \t 2\n",
            "cat14 \t 2\n",
            "cat15 \t 4\n",
            "cat16 \t 4\n",
            "cat17 \t 4\n",
            "cat18 \t 4\n"
          ],
          "name": "stdout"
        }
      ]
    },
    {
      "cell_type": "code",
      "metadata": {
        "id": "Nn5L0UficyPo"
      },
      "source": [
        "catcols2 = ['cat0', 'cat11', 'cat12', 'cat14', 'cat15', 'cat16', 'cat17', 'cat18']\n",
        "catcols3 = [col for col in catcols if col not in catcols2]"
      ],
      "execution_count": 30,
      "outputs": []
    },
    {
      "cell_type": "code",
      "metadata": {
        "id": "LftEpeBMfCM3"
      },
      "source": [
        "X = traindf.drop(columns=['target'])\n",
        "y = traindf['target']"
      ],
      "execution_count": 36,
      "outputs": []
    },
    {
      "cell_type": "code",
      "metadata": {
        "colab": {
          "base_uri": "https://localhost:8080/"
        },
        "id": "AHpouCi_drYe",
        "outputId": "9ce4cd99-516f-46f3-db15-236de8966753"
      },
      "source": [
        "from category_encoders.one_hot import OneHotEncoder\n",
        "onehot = OneHotEncoder(cols = catcols2, return_df=True, handle_unknown=0, drop_invariant=True)\n",
        "X = onehot.fit_transform(X)\n",
        "testdf = onehot.transform(testdf)"
      ],
      "execution_count": 27,
      "outputs": [
        {
          "output_type": "stream",
          "text": [
            "/usr/local/lib/python3.7/dist-packages/category_encoders/utils.py:21: FutureWarning: is_categorical is deprecated and will be removed in a future version.  Use is_categorical_dtype instead\n",
            "  elif pd.api.types.is_categorical(cols):\n"
          ],
          "name": "stderr"
        }
      ]
    },
    {
      "cell_type": "code",
      "metadata": {
        "id": "bz6_eCUjhPAf"
      },
      "source": [
        "kf = StratifiedKFold(shuffle=True, random_state=42)"
      ],
      "execution_count": 32,
      "outputs": []
    },
    {
      "cell_type": "code",
      "metadata": {
        "id": "KYgGSml_ix1C"
      },
      "source": [
        "from category_encoders.target_encoder import TargetEncoder"
      ],
      "execution_count": 33,
      "outputs": []
    },
    {
      "cell_type": "code",
      "metadata": {
        "colab": {
          "base_uri": "https://localhost:8080/"
        },
        "id": "PYJOONtThUZD",
        "outputId": "bb159517-9d84-4c89-fd99-0c36f97defc4"
      },
      "source": [
        "ind = kf.split(X=np.zeros(300000), y=y)\n",
        "scores = []\n",
        "\n",
        "for tr_ind, val_ind in ind:\n",
        "    X_tr, X_val = X.iloc[tr_ind], X.iloc[val_ind]\n",
        "    y_tr, y_val = y.iloc[tr_ind], y.iloc[val_ind]\n",
        "\n",
        "    enc = TargetEncoder(cols=catcols3, return_df=True, handle_unknown=y.mean())\n",
        "    X_tr = enc.fit_transform(X_tr, y_tr)\n",
        "    X_val = enc.transform(X_val)\n",
        "\n",
        "    lgbm = LGBMClassifier()\n",
        "    lgbm.fit(X_tr, y_tr)\n",
        "    pred = lgbm.predict_proba(X_val)[:, 1]\n",
        "    scores.append(roc_auc_score(y_val, pred))"
      ],
      "execution_count": 46,
      "outputs": [
        {
          "output_type": "stream",
          "text": [
            "/usr/local/lib/python3.7/dist-packages/category_encoders/utils.py:21: FutureWarning: is_categorical is deprecated and will be removed in a future version.  Use is_categorical_dtype instead\n",
            "  elif pd.api.types.is_categorical(cols):\n",
            "/usr/local/lib/python3.7/dist-packages/category_encoders/utils.py:21: FutureWarning: is_categorical is deprecated and will be removed in a future version.  Use is_categorical_dtype instead\n",
            "  elif pd.api.types.is_categorical(cols):\n",
            "/usr/local/lib/python3.7/dist-packages/category_encoders/utils.py:21: FutureWarning: is_categorical is deprecated and will be removed in a future version.  Use is_categorical_dtype instead\n",
            "  elif pd.api.types.is_categorical(cols):\n",
            "/usr/local/lib/python3.7/dist-packages/category_encoders/utils.py:21: FutureWarning: is_categorical is deprecated and will be removed in a future version.  Use is_categorical_dtype instead\n",
            "  elif pd.api.types.is_categorical(cols):\n",
            "/usr/local/lib/python3.7/dist-packages/category_encoders/utils.py:21: FutureWarning: is_categorical is deprecated and will be removed in a future version.  Use is_categorical_dtype instead\n",
            "  elif pd.api.types.is_categorical(cols):\n"
          ],
          "name": "stderr"
        }
      ]
    },
    {
      "cell_type": "code",
      "metadata": {
        "colab": {
          "base_uri": "https://localhost:8080/"
        },
        "id": "TT7yKoPwhURH",
        "outputId": "c6c7c21c-10f4-412f-8445-ef0c21d74362"
      },
      "source": [
        "scores"
      ],
      "execution_count": 47,
      "outputs": [
        {
          "output_type": "execute_result",
          "data": {
            "text/plain": [
              "[0.8876715063004289,\n",
              " 0.888103496894598,\n",
              " 0.8894566805749728,\n",
              " 0.8881404017678868,\n",
              " 0.8899232154608159]"
            ]
          },
          "metadata": {
            "tags": []
          },
          "execution_count": 47
        }
      ]
    },
    {
      "cell_type": "code",
      "metadata": {
        "colab": {
          "base_uri": "https://localhost:8080/"
        },
        "id": "t_FXcvU2lyEy",
        "outputId": "1fa126d4-c646-4c32-e80a-a3583249ea6e"
      },
      "source": [
        "enc = TargetEncoder(cols=catcols3, return_df=True, handle_unknown=y.mean())\n",
        "X = enc.fit_transform(X, y)\n",
        "testdf = enc.transform(testdf)\n",
        "lgbm.fit(X, y)"
      ],
      "execution_count": 49,
      "outputs": [
        {
          "output_type": "stream",
          "text": [
            "/usr/local/lib/python3.7/dist-packages/category_encoders/utils.py:21: FutureWarning: is_categorical is deprecated and will be removed in a future version.  Use is_categorical_dtype instead\n",
            "  elif pd.api.types.is_categorical(cols):\n"
          ],
          "name": "stderr"
        },
        {
          "output_type": "execute_result",
          "data": {
            "text/plain": [
              "LGBMClassifier(boosting_type='gbdt', class_weight=None, colsample_bytree=1.0,\n",
              "               importance_type='split', learning_rate=0.1, max_depth=-1,\n",
              "               min_child_samples=20, min_child_weight=0.001, min_split_gain=0.0,\n",
              "               n_estimators=100, n_jobs=-1, num_leaves=31, objective=None,\n",
              "               random_state=None, reg_alpha=0.0, reg_lambda=0.0, silent=True,\n",
              "               subsample=1.0, subsample_for_bin=200000, subsample_freq=0)"
            ]
          },
          "metadata": {
            "tags": []
          },
          "execution_count": 49
        }
      ]
    },
    {
      "cell_type": "code",
      "metadata": {
        "id": "2RaTm1JamJMD"
      },
      "source": [
        ""
      ],
      "execution_count": null,
      "outputs": []
    },
    {
      "cell_type": "markdown",
      "metadata": {
        "id": "ao_bfaoWmYhC"
      },
      "source": [
        "# Submission"
      ]
    },
    {
      "cell_type": "code",
      "metadata": {
        "id": "5HZzyd3Gma7P"
      },
      "source": [
        "submission['target'] = lgbm.predict_proba(testdf)[:, 1]"
      ],
      "execution_count": 50,
      "outputs": []
    },
    {
      "cell_type": "code",
      "metadata": {
        "id": "22J4L8CpmdCo"
      },
      "source": [
        "submission.to_csv(\"submission.csv\")"
      ],
      "execution_count": 52,
      "outputs": []
    },
    {
      "cell_type": "code",
      "metadata": {
        "id": "sEKRtEpdpDlh"
      },
      "source": [
        ""
      ],
      "execution_count": null,
      "outputs": []
    }
  ]
}